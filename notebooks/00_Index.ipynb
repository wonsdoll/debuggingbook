{
  "cells": [
    {
      "cell_type": "markdown",
      "metadata": {
        "tags": [
          "1"
        ]
      },
      "source": [
        "# Index"
      ]
    },
    {
      "cell_type": "markdown",
      "metadata": {
        "tags": [
          "2"
        ]
      },
      "source": [
        "## A - E"
      ]
    },
    {
      "cell_type": "markdown",
      "metadata": {
        "tags": [
          "3"
        ]
      },
      "source": [
        "### A\n",
        "\n",
        "* `addDebug()` &mdash; [Railroad Diagrams (Excursion: Railroad diagrams implementation)](RailroadDiagrams.ipynb#Excursion:-Railroad-diagrams-implementation)\n",
        "* `addTo()` &mdash; [Railroad Diagrams (Excursion: Railroad diagrams implementation)](RailroadDiagrams.ipynb#Excursion:-Railroad-diagrams-implementation)\n",
        "* `add_calls()` &mdash; [Control Flow Graph (CFGNode)](ControlFlow.ipynb#CFGNode)\n",
        "* `add_child()` &mdash; [Control Flow Graph (CFGNode)](ControlFlow.ipynb#CFGNode)\n",
        "* `add_parent()` &mdash; [Control Flow Graph (CFGNode)](ControlFlow.ipynb#CFGNode)\n",
        "* `add_parents()` &mdash; [Control Flow Graph (CFGNode)](ControlFlow.ipynb#CFGNode)\n",
        "* `AlternatingSequence` class &mdash; [Railroad Diagrams (Excursion: Railroad diagrams implementation)](RailroadDiagrams.ipynb#Excursion:-Railroad-diagrams-implementation)\n",
        "* `arc()` &mdash; [Railroad Diagrams (Excursion: Railroad diagrams implementation)](RailroadDiagrams.ipynb#Excursion:-Railroad-diagrams-implementation)\n",
        "* `arc_8()` &mdash; [Railroad Diagrams (Excursion: Railroad diagrams implementation)](RailroadDiagrams.ipynb#Excursion:-Railroad-diagrams-implementation)\n",
        "* `AR` &mdash; [Railroad Diagrams (Excursion: Railroad diagrams implementation)](RailroadDiagrams.ipynb#Excursion:-Railroad-diagrams-implementation)\n"
      ]
    },
    {
      "cell_type": "markdown",
      "metadata": {
        "tags": [
          "4"
        ]
      },
      "source": [
        "### B\n",
        "\n",
        "* blog post &mdash; [Control Flow Graph (Example: Maze)](ControlFlow.ipynb#Example:-Maze)\n"
      ]
    },
    {
      "cell_type": "markdown",
      "metadata": {
        "tags": [
          "5"
        ]
      },
      "source": [
        "### C\n",
        "\n",
        "* `callgraph()` &mdash; [Control Flow Graph (Call Graph Helpers)](ControlFlow.ipynb#Call-Graph-Helpers)\n",
        "* `cancel()` &mdash; [Error Handling (Catching Timeouts)](ExpectError.ipynb#Catching-Timeouts)\n",
        "* `CFGNode` class &mdash; [Control Flow Graph (CFGNode)](ControlFlow.ipynb#CFGNode)\n",
        "* `cgi_decode()` &mdash; [Control Flow Graph (cgi_decode)](ControlFlow.ipynb#cgi_decode)\n",
        "* `CHAR_WIDTH` &mdash; [Railroad Diagrams (Excursion: Railroad diagrams implementation)](RailroadDiagrams.ipynb#Excursion:-Railroad-diagrams-implementation)\n",
        "* `check_time()` &mdash; [Error Handling (Catching Timeouts)](ExpectError.ipynb#Catching-Timeouts)\n",
        "* `check_triangle()` &mdash; [Control Flow Graph (check_triangle)](ControlFlow.ipynb#check_triangle)\n",
        "* `Choice` class &mdash; [Railroad Diagrams (Excursion: Railroad diagrams implementation)](RailroadDiagrams.ipynb#Excursion:-Railroad-diagrams-implementation)\n",
        "* `clock()` &mdash; [Timer (Measuring Time)](Timer.ipynb#Measuring-Time)\n",
        "* `COMMENT_CHAR_WIDTH` &mdash; [Railroad Diagrams (Excursion: Railroad diagrams implementation)](RailroadDiagrams.ipynb#Excursion:-Railroad-diagrams-implementation)\n",
        "* `Comment` class &mdash; [Railroad Diagrams (Excursion: Railroad diagrams implementation)](RailroadDiagrams.ipynb#Excursion:-Railroad-diagrams-implementation)\n",
        "* comparison node &mdash; [Control Flow Graph (fib)](ControlFlow.ipynb#fib)\n",
        "* `compute_dominator()` &mdash; [Control Flow Graph (Supporting Functions)](ControlFlow.ipynb#Supporting-Functions)\n",
        "* `compute_flow()` &mdash; [Control Flow Graph (Supporting Functions)](ControlFlow.ipynb#Supporting-Functions)\n",
        "* `compute_gcd()` &mdash; [Control Flow Graph (gcd)](ControlFlow.ipynb#gcd)\n",
        "* `construct_callgraph()` &mdash; [Control Flow Graph (Call Graph Helpers)](ControlFlow.ipynb#Call-Graph-Helpers)\n",
        "* `C` class &mdash; [Railroad Diagrams (Excursion: Railroad diagrams implementation)](RailroadDiagrams.ipynb#Excursion:-Railroad-diagrams-implementation)\n"
      ]
    },
    {
      "cell_type": "markdown",
      "metadata": {
        "tags": [
          "6"
        ]
      },
      "source": [
        "### D\n",
        "\n",
        "* `DEBUG` &mdash; [Railroad Diagrams (Excursion: Railroad diagrams implementation)](RailroadDiagrams.ipynb#Excursion:-Railroad-diagrams-implementation)\n",
        "* `DEFAULT_STYLE` &mdash; [Railroad Diagrams (Excursion: Railroad diagrams implementation)](RailroadDiagrams.ipynb#Excursion:-Railroad-diagrams-implementation)\n",
        "* `determineGaps()` &mdash; [Railroad Diagrams (Excursion: Railroad diagrams implementation)](RailroadDiagrams.ipynb#Excursion:-Railroad-diagrams-implementation)\n",
        "* `DiagramItem` class &mdash; [Railroad Diagrams (Excursion: Railroad diagrams implementation)](RailroadDiagrams.ipynb#Excursion:-Railroad-diagrams-implementation)\n",
        "* `DIAGRAM_CLASS` &mdash; [Railroad Diagrams (Excursion: Railroad diagrams implementation)](RailroadDiagrams.ipynb#Excursion:-Railroad-diagrams-implementation)\n",
        "* `Diagram` class &mdash; [Railroad Diagrams (Excursion: Railroad diagrams implementation)](RailroadDiagrams.ipynb#Excursion:-Railroad-diagrams-implementation)\n",
        "* `doubleenumerate()` &mdash; [Railroad Diagrams (Excursion: Railroad diagrams implementation)](RailroadDiagrams.ipynb#Excursion:-Railroad-diagrams-implementation)\n",
        "* `down()` &mdash; [Railroad Diagrams (Excursion: Railroad diagrams implementation)](RailroadDiagrams.ipynb#Excursion:-Railroad-diagrams-implementation)\n"
      ]
    },
    {
      "cell_type": "markdown",
      "metadata": {
        "tags": [
          "7"
        ]
      },
      "source": [
        "### E\n",
        "\n",
        "* `e()` &mdash; [Railroad Diagrams (Excursion: Railroad diagrams implementation)](RailroadDiagrams.ipynb#Excursion:-Railroad-diagrams-implementation)\n",
        "* `elapsed_time()` &mdash; [Timer (Measuring Time)](Timer.ipynb#Measuring-Time)\n",
        "* `End` class &mdash; [Railroad Diagrams (Excursion: Railroad diagrams implementation)](RailroadDiagrams.ipynb#Excursion:-Railroad-diagrams-implementation)\n",
        "* `__enter__()` &mdash; [Error Handling (Catching Errors)](ExpectError.ipynb#Catching-Errors), [Error Handling (Catching Timeouts)](ExpectError.ipynb#Catching-Timeouts), [Timer (Measuring Time)](Timer.ipynb#Measuring-Time)\n",
        "* `__eq__()` &mdash; [Control Flow Graph (CFGNode)](ControlFlow.ipynb#CFGNode), [Railroad Diagrams (Excursion: Railroad diagrams implementation)](RailroadDiagrams.ipynb#Excursion:-Railroad-diagrams-implementation)\n",
        "* excellent library from Tab Atkins jr. &mdash; [Railroad Diagrams](RailroadDiagrams.ipynb#Railroad-Diagrams)\n",
        "* `__exit__()` &mdash; [Error Handling (Catching Errors)](ExpectError.ipynb#Catching-Errors), [Error Handling (Catching Timeouts)](ExpectError.ipynb#Catching-Timeouts), [Timer (Measuring Time)](Timer.ipynb#Measuring-Time)\n",
        "* `ExpectError` class &mdash; [Error Handling (Catching Errors)](ExpectError.ipynb#Catching-Errors)\n",
        "* `ExpectTimeout` class &mdash; [Error Handling (Catching Timeouts)](ExpectError.ipynb#Catching-Timeouts)\n"
      ]
    },
    {
      "cell_type": "markdown",
      "metadata": {
        "tags": [
          "8"
        ]
      },
      "source": [
        "## F - L"
      ]
    },
    {
      "cell_type": "markdown",
      "metadata": {
        "tags": [
          "9"
        ]
      },
      "source": [
        "### F\n",
        "\n",
        "* `fail_test()` &mdash; [Error Handling (Catching Errors)](ExpectError.ipynb#Catching-Errors)\n",
        "* `fib()` &mdash; [Control Flow Graph (fib)](ControlFlow.ipynb#fib)\n",
        "* for-loop &mdash; [Control Flow Graph (fib)](ControlFlow.ipynb#fib)\n",
        "* `format()` &mdash; [Railroad Diagrams (Excursion: Railroad diagrams implementation)](RailroadDiagrams.ipynb#Excursion:-Railroad-diagrams-implementation), [Railroad Diagrams (Excursion: Railroad diagrams implementation)](RailroadDiagrams.ipynb#Excursion:-Railroad-diagrams-implementation), [Railroad Diagrams (Excursion: Railroad diagrams implementation)](RailroadDiagrams.ipynb#Excursion:-Railroad-diagrams-implementation), [Railroad Diagrams (Excursion: Railroad diagrams implementation)](RailroadDiagrams.ipynb#Excursion:-Railroad-diagrams-implementation), [Railroad Diagrams (Excursion: Railroad diagrams implementation)](RailroadDiagrams.ipynb#Excursion:-Railroad-diagrams-implementation), [Railroad Diagrams (Excursion: Railroad diagrams implementation)](RailroadDiagrams.ipynb#Excursion:-Railroad-diagrams-implementation), [Railroad Diagrams (Excursion: Railroad diagrams implementation)](RailroadDiagrams.ipynb#Excursion:-Railroad-diagrams-implementation), [Railroad Diagrams (Excursion: Railroad diagrams implementation)](RailroadDiagrams.ipynb#Excursion:-Railroad-diagrams-implementation), [Railroad Diagrams (Excursion: Railroad diagrams implementation)](RailroadDiagrams.ipynb#Excursion:-Railroad-diagrams-implementation), [Railroad Diagrams (Excursion: Railroad diagrams implementation)](RailroadDiagrams.ipynb#Excursion:-Railroad-diagrams-implementation), [Railroad Diagrams (Excursion: Railroad diagrams implementation)](RailroadDiagrams.ipynb#Excursion:-Railroad-diagrams-implementation), [Railroad Diagrams (Excursion: Railroad diagrams implementation)](RailroadDiagrams.ipynb#Excursion:-Railroad-diagrams-implementation), [Railroad Diagrams (Excursion: Railroad diagrams implementation)](RailroadDiagrams.ipynb#Excursion:-Railroad-diagrams-implementation), [Railroad Diagrams (Excursion: Railroad diagrams implementation)](RailroadDiagrams.ipynb#Excursion:-Railroad-diagrams-implementation), [Railroad Diagrams (Excursion: Railroad diagrams implementation)](RailroadDiagrams.ipynb#Excursion:-Railroad-diagrams-implementation), [Railroad Diagrams (Excursion: Railroad diagrams implementation)](RailroadDiagrams.ipynb#Excursion:-Railroad-diagrams-implementation), [Railroad Diagrams (Excursion: Railroad diagrams implementation)](RailroadDiagrams.ipynb#Excursion:-Railroad-diagrams-implementation), [Railroad Diagrams (Excursion: Railroad diagrams implementation)](RailroadDiagrams.ipynb#Excursion:-Railroad-diagrams-implementation)\n"
      ]
    },
    {
      "cell_type": "markdown",
      "metadata": {
        "tags": [
          "10"
        ]
      },
      "source": [
        "### G\n",
        "\n",
        "* `gcd()` &mdash; [Control Flow Graph (gcd)](ControlFlow.ipynb#gcd)\n",
        "* `generate_good_tile()` &mdash; [Control Flow Graph (Example: Maze)](ControlFlow.ipynb#Example:-Maze)\n",
        "* `generate_maze_code()` &mdash; [Control Flow Graph (Example: Maze)](ControlFlow.ipynb#Example:-Maze)\n",
        "* `generate_print_maze()` &mdash; [Control Flow Graph (Example: Maze)](ControlFlow.ipynb#Example:-Maze)\n",
        "* `generate_target_tile()` &mdash; [Control Flow Graph (Example: Maze)](ControlFlow.ipynb#Example:-Maze)\n",
        "* `generate_trap_tile()` &mdash; [Control Flow Graph (Example: Maze)](ControlFlow.ipynb#Example:-Maze)\n",
        "* `gen_cfg()` &mdash; [Control Flow Graph (PyCFG)](ControlFlow.ipynb#PyCFG), [Control Flow Graph (Supporting Functions)](ControlFlow.ipynb#Supporting-Functions)\n",
        "* `get_callgraph()` &mdash; [Control Flow Graph (Call Graph Helpers)](ControlFlow.ipynb#Call-Graph-Helpers)\n",
        "* `get_cfg()` &mdash; [Control Flow Graph (Supporting Functions)](ControlFlow.ipynb#Supporting-Functions)\n",
        "* `get_defining_function()` &mdash; [Control Flow Graph (PyCFG)](ControlFlow.ipynb#PyCFG)\n",
        "* `get_func()` &mdash; [Control Flow Graph (PyCFG)](ControlFlow.ipynb#PyCFG)\n",
        "* `get_registry()` &mdash; [Control Flow Graph (Registry)](ControlFlow.ipynb#Registry)\n",
        "* `get_registry_idx()` &mdash; [Control Flow Graph (Registry)](ControlFlow.ipynb#Registry), [Control Flow Graph (CFGNode)](ControlFlow.ipynb#CFGNode)\n"
      ]
    },
    {
      "cell_type": "markdown",
      "metadata": {
        "tags": [
          "11"
        ]
      },
      "source": [
        "### H\n",
        "\n",
        "* `h()` &mdash; [Railroad Diagrams (Excursion: Railroad diagrams implementation)](RailroadDiagrams.ipynb#Excursion:-Railroad-diagrams-implementation)\n",
        "* `HorizontalChoice` class &mdash; [Railroad Diagrams (Excursion: Railroad diagrams implementation)](RailroadDiagrams.ipynb#Excursion:-Railroad-diagrams-implementation)\n"
      ]
    },
    {
      "cell_type": "markdown",
      "metadata": {
        "tags": [
          "12"
        ]
      },
      "source": [
        "### I\n",
        "\n",
        "* `i()` &mdash; [Control Flow Graph (CFGNode)](ControlFlow.ipynb#CFGNode)\n",
        "* `__init__()` &mdash; [Error Handling (Catching Errors)](ExpectError.ipynb#Catching-Errors), [Error Handling (Catching Timeouts)](ExpectError.ipynb#Catching-Timeouts), [Error Handling (Catching Timeouts)](ExpectError.ipynb#Catching-Timeouts), [Control Flow Graph (CFGNode)](ControlFlow.ipynb#CFGNode), [Control Flow Graph (PyCFG)](ControlFlow.ipynb#PyCFG), [Railroad Diagrams (Excursion: Railroad diagrams implementation)](RailroadDiagrams.ipynb#Excursion:-Railroad-diagrams-implementation), [Railroad Diagrams (Excursion: Railroad diagrams implementation)](RailroadDiagrams.ipynb#Excursion:-Railroad-diagrams-implementation), [Railroad Diagrams (Excursion: Railroad diagrams implementation)](RailroadDiagrams.ipynb#Excursion:-Railroad-diagrams-implementation), [Railroad Diagrams (Excursion: Railroad diagrams implementation)](RailroadDiagrams.ipynb#Excursion:-Railroad-diagrams-implementation), [Railroad Diagrams (Excursion: Railroad diagrams implementation)](RailroadDiagrams.ipynb#Excursion:-Railroad-diagrams-implementation), [Railroad Diagrams (Excursion: Railroad diagrams implementation)](RailroadDiagrams.ipynb#Excursion:-Railroad-diagrams-implementation), [Railroad Diagrams (Excursion: Railroad diagrams implementation)](RailroadDiagrams.ipynb#Excursion:-Railroad-diagrams-implementation), [Railroad Diagrams (Excursion: Railroad diagrams implementation)](RailroadDiagrams.ipynb#Excursion:-Railroad-diagrams-implementation), [Railroad Diagrams (Excursion: Railroad diagrams implementation)](RailroadDiagrams.ipynb#Excursion:-Railroad-diagrams-implementation), [Railroad Diagrams (Excursion: Railroad diagrams implementation)](RailroadDiagrams.ipynb#Excursion:-Railroad-diagrams-implementation), [Railroad Diagrams (Excursion: Railroad diagrams implementation)](RailroadDiagrams.ipynb#Excursion:-Railroad-diagrams-implementation), [Railroad Diagrams (Excursion: Railroad diagrams implementation)](RailroadDiagrams.ipynb#Excursion:-Railroad-diagrams-implementation), [Railroad Diagrams (Excursion: Railroad diagrams implementation)](RailroadDiagrams.ipynb#Excursion:-Railroad-diagrams-implementation), [Railroad Diagrams (Excursion: Railroad diagrams implementation)](RailroadDiagrams.ipynb#Excursion:-Railroad-diagrams-implementation), [Railroad Diagrams (Excursion: Railroad diagrams implementation)](RailroadDiagrams.ipynb#Excursion:-Railroad-diagrams-implementation), [Railroad Diagrams (Excursion: Railroad diagrams implementation)](RailroadDiagrams.ipynb#Excursion:-Railroad-diagrams-implementation), [Railroad Diagrams (Excursion: Railroad diagrams implementation)](RailroadDiagrams.ipynb#Excursion:-Railroad-diagrams-implementation), [Railroad Diagrams (Excursion: Railroad diagrams implementation)](RailroadDiagrams.ipynb#Excursion:-Railroad-diagrams-implementation)\n",
        "* `INTERNAL_ALIGNMENT` &mdash; [Railroad Diagrams (Excursion: Railroad diagrams implementation)](RailroadDiagrams.ipynb#Excursion:-Railroad-diagrams-implementation)\n",
        "* `int_fuzzer()` &mdash; [Title (_Section 3_)](Intro_Debugging.ipynb#_Section-3_)\n"
      ]
    },
    {
      "cell_type": "markdown",
      "metadata": {
        "tags": [
          "13"
        ]
      },
      "source": [
        "### L\n",
        "\n",
        "* `left()` &mdash; [Railroad Diagrams (Excursion: Railroad diagrams implementation)](RailroadDiagrams.ipynb#Excursion:-Railroad-diagrams-implementation)\n",
        "* `lineno()` &mdash; [Control Flow Graph (CFGNode)](ControlFlow.ipynb#CFGNode)\n",
        "* `link_functions()` &mdash; [Control Flow Graph (PyCFG)](ControlFlow.ipynb#PyCFG)\n",
        "* `ll()` &mdash; [Railroad Diagrams (Excursion: Railroad diagrams implementation)](RailroadDiagrams.ipynb#Excursion:-Railroad-diagrams-implementation)\n",
        "* `long_running_test()` &mdash; [Error Handling (Catching Timeouts)](ExpectError.ipynb#Catching-Timeouts)\n"
      ]
    },
    {
      "cell_type": "markdown",
      "metadata": {
        "tags": [
          "14"
        ]
      },
      "source": [
        "## M - Q"
      ]
    },
    {
      "cell_type": "markdown",
      "metadata": {
        "tags": [
          "15"
        ]
      },
      "source": [
        "### M\n",
        "\n",
        "* `m()` &mdash; [Railroad Diagrams (Excursion: Railroad diagrams implementation)](RailroadDiagrams.ipynb#Excursion:-Railroad-diagrams-implementation)\n",
        "* `maze()` &mdash; [Control Flow Graph (Example: Maze)](ControlFlow.ipynb#Example:-Maze)\n",
        "* `MultipleChoice` class &mdash; [Railroad Diagrams (Excursion: Railroad diagrams implementation)](RailroadDiagrams.ipynb#Excursion:-Railroad-diagrams-implementation)\n"
      ]
    },
    {
      "cell_type": "markdown",
      "metadata": {
        "tags": [
          "16"
        ]
      },
      "source": [
        "### N\n",
        "\n",
        "* `__neq__()` &mdash; [Control Flow Graph (CFGNode)](ControlFlow.ipynb#CFGNode)\n",
        "* `__new__()` &mdash; [Railroad Diagrams (Excursion: Railroad diagrams implementation)](RailroadDiagrams.ipynb#Excursion:-Railroad-diagrams-implementation), [Railroad Diagrams (Excursion: Railroad diagrams implementation)](RailroadDiagrams.ipynb#Excursion:-Railroad-diagrams-implementation), [Railroad Diagrams (Excursion: Railroad diagrams implementation)](RailroadDiagrams.ipynb#Excursion:-Railroad-diagrams-implementation)\n",
        "* `__ne__()` &mdash; [Railroad Diagrams (Excursion: Railroad diagrams implementation)](RailroadDiagrams.ipynb#Excursion:-Railroad-diagrams-implementation)\n",
        "* `NonTerminal` class &mdash; [Railroad Diagrams (Excursion: Railroad diagrams implementation)](RailroadDiagrams.ipynb#Excursion:-Railroad-diagrams-implementation)\n"
      ]
    },
    {
      "cell_type": "markdown",
      "metadata": {
        "tags": [
          "17"
        ]
      },
      "source": [
        "### O\n",
        "\n",
        "* `OneOrMore` class &mdash; [Railroad Diagrams (Excursion: Railroad diagrams implementation)](RailroadDiagrams.ipynb#Excursion:-Railroad-diagrams-implementation)\n",
        "* `on_annassign()` &mdash; [Control Flow Graph (PyCFG)](ControlFlow.ipynb#PyCFG)\n",
        "* `on_assign()` &mdash; [Control Flow Graph (PyCFG)](ControlFlow.ipynb#PyCFG)\n",
        "* `on_augassign()` &mdash; [Control Flow Graph (PyCFG)](ControlFlow.ipynb#PyCFG)\n",
        "* `on_binop()` &mdash; [Control Flow Graph (PyCFG)](ControlFlow.ipynb#PyCFG)\n",
        "* `on_break()` &mdash; [Control Flow Graph (PyCFG)](ControlFlow.ipynb#PyCFG)\n",
        "* `on_call()` &mdash; [Control Flow Graph (PyCFG)](ControlFlow.ipynb#PyCFG)\n",
        "* `on_compare()` &mdash; [Control Flow Graph (PyCFG)](ControlFlow.ipynb#PyCFG)\n",
        "* `on_continue()` &mdash; [Control Flow Graph (PyCFG)](ControlFlow.ipynb#PyCFG)\n",
        "* `on_expr()` &mdash; [Control Flow Graph (PyCFG)](ControlFlow.ipynb#PyCFG)\n",
        "* `on_for()` &mdash; [Control Flow Graph (PyCFG)](ControlFlow.ipynb#PyCFG)\n",
        "* `on_functiondef()` &mdash; [Control Flow Graph (PyCFG)](ControlFlow.ipynb#PyCFG)\n",
        "* `on_if()` &mdash; [Control Flow Graph (PyCFG)](ControlFlow.ipynb#PyCFG)\n",
        "* `on_module()` &mdash; [Control Flow Graph (PyCFG)](ControlFlow.ipynb#PyCFG)\n",
        "* `on_pass()` &mdash; [Control Flow Graph (PyCFG)](ControlFlow.ipynb#PyCFG)\n",
        "* `on_return()` &mdash; [Control Flow Graph (PyCFG)](ControlFlow.ipynb#PyCFG)\n",
        "* `on_unaryop()` &mdash; [Control Flow Graph (PyCFG)](ControlFlow.ipynb#PyCFG)\n",
        "* `on_while()` &mdash; [Control Flow Graph (PyCFG)](ControlFlow.ipynb#PyCFG)\n",
        "* `Optional()` &mdash; [Railroad Diagrams (Excursion: Railroad diagrams implementation)](RailroadDiagrams.ipynb#Excursion:-Railroad-diagrams-implementation)\n",
        "* `OptionalSequence` class &mdash; [Railroad Diagrams (Excursion: Railroad diagrams implementation)](RailroadDiagrams.ipynb#Excursion:-Railroad-diagrams-implementation)\n"
      ]
    },
    {
      "cell_type": "markdown",
      "metadata": {
        "tags": [
          "18"
        ]
      },
      "source": [
        "### P\n",
        "\n",
        "* `parse()` &mdash; [Control Flow Graph (PyCFG)](ControlFlow.ipynb#PyCFG)\n",
        "* `parseCSSGrammar()` &mdash; [Railroad Diagrams (Excursion: Railroad diagrams implementation)](RailroadDiagrams.ipynb#Excursion:-Railroad-diagrams-implementation)\n",
        "* `Path` class &mdash; [Railroad Diagrams (Excursion: Railroad diagrams implementation)](RailroadDiagrams.ipynb#Excursion:-Railroad-diagrams-implementation)\n",
        "* `print_maze()` &mdash; [Control Flow Graph (Example: Maze)](ControlFlow.ipynb#Example:-Maze)\n",
        "* `PyCFG` class &mdash; [Control Flow Graph (PyCFG)](ControlFlow.ipynb#PyCFG), [Control Flow Graph (PyCFG)](ControlFlow.ipynb#PyCFG), [Control Flow Graph (PyCFG)](ControlFlow.ipynb#PyCFG), [Control Flow Graph (PyCFG)](ControlFlow.ipynb#PyCFG), [Control Flow Graph (PyCFG)](ControlFlow.ipynb#PyCFG), [Control Flow Graph (PyCFG)](ControlFlow.ipynb#PyCFG), [Control Flow Graph (PyCFG)](ControlFlow.ipynb#PyCFG), [Control Flow Graph (PyCFG)](ControlFlow.ipynb#PyCFG), [Control Flow Graph (PyCFG)](ControlFlow.ipynb#PyCFG), [Control Flow Graph (PyCFG)](ControlFlow.ipynb#PyCFG), [Control Flow Graph (PyCFG)](ControlFlow.ipynb#PyCFG), [Control Flow Graph (PyCFG)](ControlFlow.ipynb#PyCFG), [Control Flow Graph (PyCFG)](ControlFlow.ipynb#PyCFG), [Control Flow Graph (PyCFG)](ControlFlow.ipynb#PyCFG), [Control Flow Graph (PyCFG)](ControlFlow.ipynb#PyCFG), [Control Flow Graph (PyCFG)](ControlFlow.ipynb#PyCFG), [Control Flow Graph (PyCFG)](ControlFlow.ipynb#PyCFG), [Control Flow Graph (PyCFG)](ControlFlow.ipynb#PyCFG), [Control Flow Graph (PyCFG)](ControlFlow.ipynb#PyCFG), [Control Flow Graph (PyCFG)](ControlFlow.ipynb#PyCFG), [Control Flow Graph (PyCFG)](ControlFlow.ipynb#PyCFG), [Control Flow Graph (PyCFG)](ControlFlow.ipynb#PyCFG), [Control Flow Graph (PyCFG)](ControlFlow.ipynb#PyCFG), [Control Flow Graph (PyCFG)](ControlFlow.ipynb#PyCFG), [Control Flow Graph (PyCFG)](ControlFlow.ipynb#PyCFG)\n"
      ]
    },
    {
      "cell_type": "markdown",
      "metadata": {
        "tags": [
          "19"
        ]
      },
      "source": [
        "### Q\n",
        "\n",
        "* `quad_solver()` &mdash; [Control Flow Graph (quad_solver)](ControlFlow.ipynb#quad_solver)\n"
      ]
    },
    {
      "cell_type": "markdown",
      "metadata": {
        "tags": [
          "20"
        ]
      },
      "source": [
        "## R - V"
      ]
    },
    {
      "cell_type": "markdown",
      "metadata": {
        "tags": [
          "21"
        ]
      },
      "source": [
        "### R\n",
        "\n",
        "* `register_node()` &mdash; [Control Flow Graph (Registry)](ControlFlow.ipynb#Registry), [Control Flow Graph (CFGNode)](ControlFlow.ipynb#CFGNode)\n",
        "* `REGISTRY_IDX` &mdash; [Control Flow Graph (Registry)](ControlFlow.ipynb#Registry), [Control Flow Graph (Registry)](ControlFlow.ipynb#Registry), [Control Flow Graph (CFGNode)](ControlFlow.ipynb#CFGNode), [Control Flow Graph (CFGNode)](ControlFlow.ipynb#CFGNode)\n",
        "* `REGISTRY` &mdash; [Control Flow Graph (Registry)](ControlFlow.ipynb#Registry), [Control Flow Graph (Registry)](ControlFlow.ipynb#Registry), [Control Flow Graph (CFGNode)](ControlFlow.ipynb#CFGNode), [Control Flow Graph (CFGNode)](ControlFlow.ipynb#CFGNode)\n",
        "* `__repr__()` &mdash; [Control Flow Graph (CFGNode)](ControlFlow.ipynb#CFGNode), [Railroad Diagrams (Excursion: Railroad diagrams implementation)](RailroadDiagrams.ipynb#Excursion:-Railroad-diagrams-implementation), [Railroad Diagrams (Excursion: Railroad diagrams implementation)](RailroadDiagrams.ipynb#Excursion:-Railroad-diagrams-implementation), [Railroad Diagrams (Excursion: Railroad diagrams implementation)](RailroadDiagrams.ipynb#Excursion:-Railroad-diagrams-implementation), [Railroad Diagrams (Excursion: Railroad diagrams implementation)](RailroadDiagrams.ipynb#Excursion:-Railroad-diagrams-implementation), [Railroad Diagrams (Excursion: Railroad diagrams implementation)](RailroadDiagrams.ipynb#Excursion:-Railroad-diagrams-implementation), [Railroad Diagrams (Excursion: Railroad diagrams implementation)](RailroadDiagrams.ipynb#Excursion:-Railroad-diagrams-implementation), [Railroad Diagrams (Excursion: Railroad diagrams implementation)](RailroadDiagrams.ipynb#Excursion:-Railroad-diagrams-implementation), [Railroad Diagrams (Excursion: Railroad diagrams implementation)](RailroadDiagrams.ipynb#Excursion:-Railroad-diagrams-implementation), [Railroad Diagrams (Excursion: Railroad diagrams implementation)](RailroadDiagrams.ipynb#Excursion:-Railroad-diagrams-implementation), [Railroad Diagrams (Excursion: Railroad diagrams implementation)](RailroadDiagrams.ipynb#Excursion:-Railroad-diagrams-implementation), [Railroad Diagrams (Excursion: Railroad diagrams implementation)](RailroadDiagrams.ipynb#Excursion:-Railroad-diagrams-implementation), [Railroad Diagrams (Excursion: Railroad diagrams implementation)](RailroadDiagrams.ipynb#Excursion:-Railroad-diagrams-implementation), [Railroad Diagrams (Excursion: Railroad diagrams implementation)](RailroadDiagrams.ipynb#Excursion:-Railroad-diagrams-implementation), [Railroad Diagrams (Excursion: Railroad diagrams implementation)](RailroadDiagrams.ipynb#Excursion:-Railroad-diagrams-implementation), [Railroad Diagrams (Excursion: Railroad diagrams implementation)](RailroadDiagrams.ipynb#Excursion:-Railroad-diagrams-implementation), [Railroad Diagrams (Excursion: Railroad diagrams implementation)](RailroadDiagrams.ipynb#Excursion:-Railroad-diagrams-implementation)\n",
        "* `reset_registry()` &mdash; [Control Flow Graph (Registry)](ControlFlow.ipynb#Registry), [Control Flow Graph (CFGNode)](ControlFlow.ipynb#CFGNode)\n",
        "* `right()` &mdash; [Railroad Diagrams (Excursion: Railroad diagrams implementation)](RailroadDiagrams.ipynb#Excursion:-Railroad-diagrams-implementation)\n"
      ]
    },
    {
      "cell_type": "markdown",
      "metadata": {
        "tags": [
          "22"
        ]
      },
      "source": [
        "### S\n",
        "\n",
        "* `Sequence` class &mdash; [Railroad Diagrams (Excursion: Railroad diagrams implementation)](RailroadDiagrams.ipynb#Excursion:-Railroad-diagrams-implementation)\n",
        "* `set_parents()` &mdash; [Control Flow Graph (CFGNode)](ControlFlow.ipynb#CFGNode)\n",
        "* `show_diagram()` &mdash; [Railroad Diagrams (Excursion: Railroad diagrams implementation)](RailroadDiagrams.ipynb#Excursion:-Railroad-diagrams-implementation)\n",
        "* `Skip` class &mdash; [Railroad Diagrams (Excursion: Railroad diagrams implementation)](RailroadDiagrams.ipynb#Excursion:-Railroad-diagrams-implementation)\n",
        "* `some_long_running_function()` &mdash; [Timer (Measuring Time)](Timer.ipynb#Measuring-Time)\n",
        "* `source()` &mdash; [Control Flow Graph (CFGNode)](ControlFlow.ipynb#CFGNode)\n",
        "* `Stack` class &mdash; [Railroad Diagrams (Excursion: Railroad diagrams implementation)](RailroadDiagrams.ipynb#Excursion:-Railroad-diagrams-implementation)\n",
        "* `Start` class &mdash; [Railroad Diagrams (Excursion: Railroad diagrams implementation)](RailroadDiagrams.ipynb#Excursion:-Railroad-diagrams-implementation)\n",
        "* `STROKE_ODD_PIXEL_LENGTH` &mdash; [Railroad Diagrams (Excursion: Railroad diagrams implementation)](RailroadDiagrams.ipynb#Excursion:-Railroad-diagrams-implementation)\n",
        "* `__str__()` &mdash; [Error Handling (Catching Timeouts)](ExpectError.ipynb#Catching-Timeouts), [Control Flow Graph (CFGNode)](ControlFlow.ipynb#CFGNode)\n",
        "* `Style` class &mdash; [Railroad Diagrams (Excursion: Railroad diagrams implementation)](RailroadDiagrams.ipynb#Excursion:-Railroad-diagrams-implementation)\n"
      ]
    },
    {
      "cell_type": "markdown",
      "metadata": {
        "tags": [
          "23"
        ]
      },
      "source": [
        "### T\n",
        "\n",
        "* `target_tile()` &mdash; [Control Flow Graph (Example: Maze)](ControlFlow.ipynb#Example:-Maze)\n",
        "* `Terminal` class &mdash; [Railroad Diagrams (Excursion: Railroad diagrams implementation)](RailroadDiagrams.ipynb#Excursion:-Railroad-diagrams-implementation)\n",
        "* `tile_()` &mdash; [Control Flow Graph (Example: Maze)](ControlFlow.ipynb#Example:-Maze), [Control Flow Graph (Example: Maze)](ControlFlow.ipynb#Example:-Maze), [Control Flow Graph (Example: Maze)](ControlFlow.ipynb#Example:-Maze)\n",
        "* `Timer` class &mdash; [Timer (Measuring Time)](Timer.ipynb#Measuring-Time)\n",
        "* `to_graph()` &mdash; [Control Flow Graph (Supporting Functions)](ControlFlow.ipynb#Supporting-Functions)\n",
        "* `to_json()` &mdash; [Control Flow Graph (CFGNode)](ControlFlow.ipynb#CFGNode)\n"
      ]
    },
    {
      "cell_type": "markdown",
      "metadata": {
        "tags": [
          "24"
        ]
      },
      "source": [
        "### U\n",
        "\n",
        "* `unhack()` &mdash; [Control Flow Graph (Supporting Functions)](ControlFlow.ipynb#Supporting-Functions)\n",
        "* `up()` &mdash; [Railroad Diagrams (Excursion: Railroad diagrams implementation)](RailroadDiagrams.ipynb#Excursion:-Railroad-diagrams-implementation)\n",
        "* `update_children()` &mdash; [Control Flow Graph (CFGNode)](ControlFlow.ipynb#CFGNode), [Control Flow Graph (PyCFG)](ControlFlow.ipynb#PyCFG)\n",
        "* `update_functions()` &mdash; [Control Flow Graph (PyCFG)](ControlFlow.ipynb#PyCFG)\n"
      ]
    },
    {
      "cell_type": "markdown",
      "metadata": {
        "tags": [
          "25"
        ]
      },
      "source": [
        "### V\n",
        "\n",
        "* `v()` &mdash; [Railroad Diagrams (Excursion: Railroad diagrams implementation)](RailroadDiagrams.ipynb#Excursion:-Railroad-diagrams-implementation)\n",
        "* `VS` &mdash; [Railroad Diagrams (Excursion: Railroad diagrams implementation)](RailroadDiagrams.ipynb#Excursion:-Railroad-diagrams-implementation)\n"
      ]
    },
    {
      "cell_type": "markdown",
      "metadata": {
        "tags": [
          "26"
        ]
      },
      "source": [
        "## W - Z"
      ]
    },
    {
      "cell_type": "markdown",
      "metadata": {
        "tags": [
          "27"
        ]
      },
      "source": [
        "### W\n",
        "\n",
        "* `walk()` &mdash; [Control Flow Graph (PyCFG)](ControlFlow.ipynb#PyCFG)\n",
        "* `wrapString()` &mdash; [Railroad Diagrams (Excursion: Railroad diagrams implementation)](RailroadDiagrams.ipynb#Excursion:-Railroad-diagrams-implementation)\n",
        "* `writeSvg()` &mdash; [Railroad Diagrams (Excursion: Railroad diagrams implementation)](RailroadDiagrams.ipynb#Excursion:-Railroad-diagrams-implementation), [Railroad Diagrams (Excursion: Railroad diagrams implementation)](RailroadDiagrams.ipynb#Excursion:-Railroad-diagrams-implementation), [Railroad Diagrams (Excursion: Railroad diagrams implementation)](RailroadDiagrams.ipynb#Excursion:-Railroad-diagrams-implementation)\n"
      ]
    },
    {
      "cell_type": "markdown",
      "metadata": {
        "tags": [
          "28"
        ]
      },
      "source": [
        "### Z\n",
        "\n",
        "* `ZeroOrMore()` &mdash; [Railroad Diagrams (Excursion: Railroad diagrams implementation)](RailroadDiagrams.ipynb#Excursion:-Railroad-diagrams-implementation)\n"
      ]
    }
  ],
  "metadata": {
    "kernelspec": {
      "display_name": "Python 3",
      "language": "python",
      "name": "python3"
    },
    "language_info": {
      "codemirror_mode": {
        "name": "ipython",
        "version": 3
      },
      "file_extension": ".py",
      "mimetype": "text/x-python",
      "name": "python",
      "nbconvert_exporter": "python",
      "pygments_lexer": "ipython3",
      "version": "3.6.10"
    },
    "toc-autonumbering": false
  },
  "nbformat": 4,
  "nbformat_minor": 4
}