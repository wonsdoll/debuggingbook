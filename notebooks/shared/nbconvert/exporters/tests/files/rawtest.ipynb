{
  "cells": [
    {
      "cell_type": "raw",
      "metadata": {
        "raw_mimetype": "text/html",
        "tags": [
          "1"
        ]
      },
      "source": [
        "<b>raw html</b>"
      ]
    },
    {
      "cell_type": "raw",
      "metadata": {
        "raw_mimetype": "text/markdown",
        "tags": [
          "2"
        ]
      },
      "source": [
        "* raw markdown\n",
        "* bullet\n",
        "* list"
      ]
    },
    {
      "cell_type": "raw",
      "metadata": {
        "raw_mimetype": "text/restructuredtext",
        "tags": [
          "3"
        ]
      },
      "source": [
        "``raw rst``\n",
        "\n",
        ".. sourcecode:: python\n",
        "\n",
        "    def foo(): pass\n"
      ]
    },
    {
      "cell_type": "raw",
      "metadata": {
        "raw_mimetype": "text/x-python",
        "tags": [
          "4"
        ]
      },
      "source": [
        "def bar():\n",
        "    \"\"\"raw python\"\"\"\n",
        "    pass"
      ]
    },
    {
      "cell_type": "raw",
      "metadata": {
        "raw_mimetype": "text/latex",
        "tags": [
          "5"
        ]
      },
      "source": [
        "\\LaTeX\n",
        "% raw latex"
      ]
    },
    {
      "cell_type": "raw",
      "metadata": {
        "tags": [
          "6"
        ]
      },
      "source": [
        "# no raw_mimetype metadata, should be included by default"
      ]
    },
    {
      "cell_type": "raw",
      "metadata": {
        "raw_mimetype": "doesnotexist",
        "tags": [
          "7"
        ]
      },
      "source": [
        "garbage format defined, should never be included"
      ]
    }
  ],
  "metadata": {},
  "nbformat": 4,
  "nbformat_minor": 0
}