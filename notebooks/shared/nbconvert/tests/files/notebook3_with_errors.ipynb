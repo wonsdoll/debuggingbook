{
  "cells": [
    {
      "cell_type": "markdown",
      "metadata": {
        "tags": [
          "1"
        ]
      },
      "source": [
        "# Notebook with errors"
      ]
    },
    {
      "cell_type": "markdown",
      "metadata": {
        "tags": [
          "2"
        ]
      },
      "source": [
        "This notebook contains a cell which deliberately throws an exception. This is to test if `nbconvert` stops conversion if the flag `--execute` is given without `--allow-errors`. In the cells before and after the one which raises the exception we compute a couple of numbers. If they exist in the output we know that the respective cells were executed."
      ]
    },
    {
      "cell_type": "code",
      "execution_count": null,
      "metadata": {
        "tags": [
          "3"
        ]
      },
      "outputs": [],
      "source": [
        "print(\"Hello world, my number is {}\".format(24 - 1))"
      ]
    },
    {
      "cell_type": "code",
      "execution_count": null,
      "metadata": {
        "tags": [
          "4"
        ]
      },
      "outputs": [],
      "source": [
        "print(\"Some text before the error\")\n",
        "raise RuntimeError(\"This is a deliberate exception\")"
      ]
    },
    {
      "cell_type": "code",
      "execution_count": null,
      "metadata": {
        "tags": [
          "5"
        ]
      },
      "outputs": [],
      "source": [
        "print(\"The answer to the question about life, the universe and everything is: {}\".format(43 - 1))"
      ]
    }
  ],
  "metadata": {},
  "nbformat": 4,
  "nbformat_minor": 0
}