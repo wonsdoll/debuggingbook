{
  "cells": [
    {
      "cell_type": "code",
      "execution_count": null,
      "metadata": {
        "tags": [
          "1"
        ]
      },
      "outputs": [],
      "source": [
        "# \u00fc\u00f1\u00ee\u00e7\u00f8\u2202\u00e9\n",
        "raise Exception(\"message\")"
      ]
    },
    {
      "cell_type": "code",
      "execution_count": null,
      "metadata": {
        "tags": [
          "2"
        ]
      },
      "outputs": [],
      "source": [
        "print('ok')"
      ]
    }
  ],
  "metadata": {},
  "nbformat": 4,
  "nbformat_minor": 0
}