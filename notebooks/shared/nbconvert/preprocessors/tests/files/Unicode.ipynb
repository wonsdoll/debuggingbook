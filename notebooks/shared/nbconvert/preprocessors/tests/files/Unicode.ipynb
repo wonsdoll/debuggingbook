{
  "cells": [
    {
      "cell_type": "code",
      "execution_count": null,
      "metadata": {
        "tags": [
          "1"
        ]
      },
      "outputs": [],
      "source": [
        "print('\u2603')"
      ]
    }
  ],
  "metadata": {},
  "nbformat": 4,
  "nbformat_minor": 0
}