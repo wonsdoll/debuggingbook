{
  "cells": [
    {
      "cell_type": "code",
      "execution_count": null,
      "metadata": {
        "tags": [
          "1"
        ]
      },
      "outputs": [],
      "source": [
        "print(\"Hello World\")"
      ]
    }
  ],
  "metadata": {},
  "nbformat": 4,
  "nbformat_minor": 0
}