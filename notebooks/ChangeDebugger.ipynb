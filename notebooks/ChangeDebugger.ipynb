{
  "cells": [
    {
      "cell_type": "markdown",
      "metadata": {
        "button": false,
        "new_sheet": false,
        "run_control": {
          "read_only": false
        },
        "tags": [
          "1"
        ]
      },
      "source": [
        "# Isolating Failure-Inducing Changes\n",
        "\n",
        "\"Yesterday, my program worked. Today, it does not. Why?\" In debugging, as elsewhere in software development, code keeps on changing. Thus, it can happen that a piece of code that yesterday was working perfectly, today no longer runs \u2013\u00a0because we (or others) have made some changes to it that cause it to fail. The good news is that for debugging, we can actually _exploit_ this version history to narrow down _the changes that caused the failure_ \u2013 be it by us or by others."
      ]
    },
    {
      "cell_type": "code",
      "execution_count": null,
      "metadata": {
        "tags": [
          "2"
        ]
      },
      "outputs": [],
      "source": [
        "from bookutils import YouTubeVideo\n",
        "YouTubeVideo(\"hX9ViNEXGL8\")"
      ]
    },
    {
      "cell_type": "markdown",
      "metadata": {
        "button": false,
        "new_sheet": false,
        "run_control": {
          "read_only": false
        },
        "tags": [
          "3"
        ]
      },
      "source": [
        "**Prerequisites**\n",
        "\n",
        "* You should have read the [Chapter on Delta Debugging](DeltaDebugger.ipynb).\n",
        "* Knowledge on version control systems (notably git) will be useful."
      ]
    },
    {
      "cell_type": "code",
      "execution_count": null,
      "metadata": {
        "button": false,
        "new_sheet": false,
        "run_control": {
          "read_only": false
        },
        "slideshow": {
          "slide_type": "skip"
        },
        "tags": [
          "4"
        ]
      },
      "outputs": [],
      "source": [
        "import bookutils.setup"
      ]
    },
    {
      "cell_type": "code",
      "execution_count": null,
      "metadata": {
        "tags": [
          "5"
        ]
      },
      "outputs": [],
      "source": [
        "from bookutils import quiz, print_file, print_content"
      ]
    },
    {
      "cell_type": "code",
      "execution_count": null,
      "metadata": {
        "tags": [
          "6"
        ]
      },
      "outputs": [],
      "source": [
        "# ignore\n",
        "from typing import Dict, Callable, TextIO, List, Tuple, Set, Any, Type, Optional"
      ]
    },
    {
      "cell_type": "markdown",
      "metadata": {
        "slideshow": {
          "slide_type": "skip"
        },
        "tags": [
          "7"
        ]
      },
      "source": [
        "## Synopsis\n",
        "<!-- Automatically generated. Do not edit. -->\n",
        "\n",
        "To [use the code provided in this chapter](Importing.ipynb), write\n",
        "\n",
        "```python\n",
        ">>> from debuggingbook.ChangeDebugger import <identifier>\n",
        "```\n",
        "\n",
        "and then make use of the following features.\n",
        "\n",
        "\n",
        "This chapter introduces a class `ChangeDebugger` that automatically determines failure-inducing code changes.\n",
        "\n",
        "### High-Level Interface\n",
        "\n",
        "You are given two Python source codes `source_pass` and `source_fail`, and a function `test()` that works using the definitions in `source_pass`, but raises an exception using the definitions in `source_fail`. Then, you can use `ChangeDebugger` as follows:\n",
        "\n",
        "```python\n",
        "with ChangeDebugger(source_pass, source_fail) as cd:\n",
        "    test()\n",
        "cd\n",
        "```\n",
        "\n",
        "This will produce the failure-inducing change between `source_pass` and `source_fail`, using [Delta Debugging](DeltaDebugger.ipynb) to determine minimal differences in patches applied.\n",
        "\n",
        "Here is an example. The function `test()` passes (raises no exception) if `remove_html_markup()` is defined as follows:\n",
        "\n",
        "```python\n",
        ">>> print_content(source_pass, '.py')\n",
        ">>> def test() -> None:\n",
        ">>>     assert remove_html_markup('\"foo\"') == '\"foo\"'\n",
        ">>> exec(source_pass)\n",
        ">>> test()\n",
        "```\n",
        "If `remove_html_markup()` is changed as follows, though, then\n",
        "`test()` raises an exception and fails:\n",
        "\n",
        "```python\n",
        ">>> print_content(source_fail, '.py')\n",
        ">>> exec(source_fail)\n",
        ">>> with ExpectError(AssertionError):\n",
        ">>>     test()\n",
        "```\n",
        "We can use `ChangeDebugger` to automatically identify the failure-inducing difference:\n",
        "\n",
        "```python\n",
        ">>> with ChangeDebugger(source_pass, source_fail) as cd:\n",
        ">>>     test()\n",
        ">>> cd\n",
        "```\n",
        "The lines prefixed with `+` from are the ones in `source_fail` that cause the failure when added. (They also are the ones that should be fixed.)\n",
        "\n",
        "### Programmatic Interface\n",
        "\n",
        "For more details or more automation, use the programmatic interface. The method `min_patches()` returns a triple (`pass_patches`, `fail_patches`, `diffs`) where\n",
        "\n",
        "* applying `pass_patches` still make the call pass\n",
        "* applying `fail_patches` causes the call to fail\n",
        "* `diffs` is the (minimal) difference between the two.\n",
        "\n",
        "The patches come as list of `patch_obj` objects, as defined by Google's [diff-match-patch library](https://github.com/google/diff-match-patch).\n",
        "\n",
        "```python\n",
        ">>> pass_patches, fail_patches, diffs = cd.min_patches()\n",
        "```\n",
        "One can apply all patches in `pass_patches` and still not cause the test to fail:\n",
        "\n",
        "```python\n",
        ">>> for p in pass_patches:\n",
        ">>>     print_patch(p)\n",
        "```\n",
        "However, as soon as we also apply the patches in `diffs`, we get the failure. (This is also what is shown when we output a `ChangeDebugger`.)\n",
        "\n",
        "```python\n",
        ">>> for p in diffs:\n",
        ">>>     print_patch(p)\n",
        "```\n",
        "The full set of methods in `ChangeDebugger` is shown below.\n",
        "\n",
        "### Supporting Functions\n",
        "\n",
        "`ChangeDebugger` relies on lower level `patch()` and `diff()` functions.\n",
        "\n",
        "To apply patch objects on source code, use the `patch()` function. It takes a source code and a list of patches to be applied.\n",
        "\n",
        "```python\n",
        ">>> print_content(patch(source_pass, diffs), '.py')\n",
        "```\n",
        "Conversely, the `diff()` function computes patches between two texts. It returns a list of patch objects that can be applied on text.\n",
        "\n",
        "```python\n",
        ">>> for p in diff(source_pass, source_fail):\n",
        ">>>     print_patch(p)\n",
        "```\n"
      ]
    },
    {
      "cell_type": "markdown",
      "metadata": {
        "tags": [
          "8"
        ]
      },
      "source": [
        "## Changes and Bugs\n",
        "\n",
        "When you develop software, it is unlikely that you will be able to produce a fully working piece of software right from the beginning \u2013\u00a0hence the need for debugging. It is just as unlikely, though, that your software will stay _unchanged_ forever. Evolving requirements, the introduction of new technology, changes in the environment all induce software changes \u2013\u00a0and every such change brings the risk of introducing new bugs.\n",
        "\n",
        "To detect such bugs introduced by changes, systematic (and best automatic) _testing_, notably _regression testing_, can be a big help; in fact, the more comprehensive and the more automated your testing strategy is, the more it actually _enables_ evolving your software, because every new test lowers the risk of a change introducing a bug. Extensive testing is what enables agile development \u2013\u00a0and we're happy to point to our [sibling book on test generation](https://www.fuzzingbook.org) to give you some inspiration on how to do this.\n",
        "\n",
        "However, a test can only _detect_ failures, not _fix_ them. The more you change, the more you may need to fix, too. The good news is that there are a number of debugging techniques, manual and automated, that can actually _exploit_ the presence of older, working software versions to effectively narrow down the causes of failure in a new, failing software."
      ]
    },
    {
      "cell_type": "markdown",
      "metadata": {
        "button": false,
        "new_sheet": true,
        "run_control": {
          "read_only": false
        },
        "tags": [
          "9"
        ]
      },
      "source": [
        "## Leveraging Version Histories\n",
        "\n",
        "The fundamental prerequisite for exploiting older, working software versions is to have such older, working versions in the first place. If your software _always_ failed, then you will have to resort to conventional debugging. But if there is an older _working_ version, you can make use of it.\n",
        "\n",
        "We assume that you do have a _version repository_ such as git or SVN, which you use to organize software development and keep older software versions.  (If you do _not_ use version control for your project, you are in [debugging hell](Intro_Debugging.ipynb). Go and set it up now, and come back once you're done.)\n",
        "\n",
        "If you have a version history, an older working version, and a new failing version, your situation is roughly as depicted in this diagram:"
      ]
    },
    {
      "cell_type": "code",
      "execution_count": null,
      "metadata": {
        "ipub": {
          "ignore": true
        },
        "tags": [
          "10"
        ]
      },
      "outputs": [],
      "source": [
        "from graphviz import Digraph, nohtml"
      ]
    },
    {
      "cell_type": "code",
      "execution_count": null,
      "metadata": {
        "ipub": {
          "ignore": true
        },
        "tags": [
          "11"
        ]
      },
      "outputs": [],
      "source": [
        "from IPython.display import display"
      ]
    },
    {
      "cell_type": "code",
      "execution_count": null,
      "metadata": {
        "ipub": {
          "ignore": true
        },
        "tags": [
          "12"
        ]
      },
      "outputs": [],
      "source": [
        "# ignore\n",
        "PASS = \"\u2714\"\n",
        "FAIL = \"\u2718\"\n",
        "UNRESOLVED = \"?\"\n",
        "\n",
        "PASS_COLOR = 'darkgreen'  # '#006400' # darkgreen\n",
        "FAIL_COLOR = 'red4'  # '#8B0000' # darkred\n",
        "\n",
        "STEP_COLOR = 'peachpuff'\n",
        "FONT_NAME = 'Raleway'"
      ]
    },
    {
      "cell_type": "code",
      "execution_count": null,
      "metadata": {
        "ipub": {
          "ignore": true
        },
        "tags": [
          "13"
        ]
      },
      "outputs": [],
      "source": [
        "# ignore\n",
        "def graph(comment: str = \"default\") -> Digraph:\n",
        "    return Digraph(name='', comment=comment,\n",
        "                   graph_attr={\n",
        "                       'rankdir': 'LR',\n",
        "                   },\n",
        "                   node_attr={\n",
        "                       'style': 'filled',\n",
        "                       'shape': 'box',\n",
        "                       'fillcolor': STEP_COLOR,\n",
        "                       'fontname': FONT_NAME,\n",
        "                   },\n",
        "                   edge_attr={\n",
        "                       'fontname': FONT_NAME,\n",
        "                   })"
      ]
    },
    {
      "cell_type": "code",
      "execution_count": null,
      "metadata": {
        "ipub": {
          "ignore": true
        },
        "tags": [
          "14"
        ]
      },
      "outputs": [],
      "source": [
        "# ignore\n",
        "VERSIONS = 8\n",
        "\n",
        "\n",
        "def display_versions(outcomes: Dict[int, str]) -> Digraph:\n",
        "    state_machine = graph()\n",
        "    for version_number in range(1, VERSIONS + 1):\n",
        "        id = f'v{version_number}'\n",
        "        label = f' {outcomes [version_number]}' \\\n",
        "            if version_number in outcomes else ''\n",
        "        state_machine.node(id, label=f'{id}{label}')\n",
        "        if version_number > 1:\n",
        "            last_id = f'v{version_number - 1}'\n",
        "            state_machine.edge(last_id, id)\n",
        "\n",
        "    display(state_machine)"
      ]
    },
    {
      "cell_type": "code",
      "execution_count": null,
      "metadata": {
        "tags": [
          "15"
        ]
      },
      "outputs": [],
      "source": [
        "# ignore\n",
        "display_versions({1: PASS, 8: FAIL})"
      ]
    },
    {
      "cell_type": "markdown",
      "metadata": {
        "tags": [
          "16"
        ]
      },
      "source": [
        "Somewhere between the old version \"v1\" (\"yesterday\") and the current version \"v8\" (\"today\"), the software stopped working. But when exactly? And which change was it that caused the failure?\n",
        "\n",
        "You may think that this is an easy task: We simply manually test one version after another, thus determining the exact version that first failed. However, \n",
        "\n",
        "* this can take a long time (notably in the presence of dozens or even hundreds of versions);\n",
        "* this may still leave you with _dozens of changes_ applied from one version to another; and\n",
        "* this is actually a task that can be _fully automated_.\n",
        "\n",
        "And these \"automated\" debugging techniques are what we explore in this chapter."
      ]
    },
    {
      "cell_type": "markdown",
      "metadata": {
        "button": false,
        "new_sheet": true,
        "run_control": {
          "read_only": false
        },
        "tags": [
          "17"
        ]
      },
      "source": [
        "## An Example Version History\n",
        "\n",
        "As our ongoing example, we start with creating a little version history, using the git version management system. We follow the evolution of the `remove_html_markup()` versions from [the introduction to debugging](Intro_Debugging.ipynb) and [the chapter on assertions](Assertions.ipynb)."
      ]
    },
    {
      "cell_type": "markdown",
      "metadata": {
        "tags": [
          "18"
        ]
      },
      "source": [
        "### Create a Working Directory\n",
        "\n",
        "We start with creating a working folder (aptly named `my_project`) in which we will do our work. (Note: should you have a folder of that name, it will be deleted and re-initialized)."
      ]
    },
    {
      "cell_type": "code",
      "execution_count": null,
      "metadata": {
        "tags": [
          "19"
        ]
      },
      "outputs": [],
      "source": [
        "PROJECT = 'my_project'"
      ]
    },
    {
      "cell_type": "code",
      "execution_count": null,
      "metadata": {
        "tags": [
          "20"
        ]
      },
      "outputs": [],
      "source": [
        "import os\n",
        "import shutil"
      ]
    },
    {
      "cell_type": "code",
      "execution_count": null,
      "metadata": {
        "tags": [
          "21"
        ]
      },
      "outputs": [],
      "source": [
        "try:\n",
        "    shutil.rmtree(PROJECT)\n",
        "except FileNotFoundError:\n",
        "    pass\n",
        "os.mkdir(PROJECT)"
      ]
    },
    {
      "cell_type": "markdown",
      "metadata": {
        "tags": [
          "22"
        ]
      },
      "source": [
        "We choose the project folder as our working directory. Any file we create will be created in that folder."
      ]
    },
    {
      "cell_type": "code",
      "execution_count": null,
      "metadata": {
        "tags": [
          "23"
        ]
      },
      "outputs": [],
      "source": [
        "import sys"
      ]
    },
    {
      "cell_type": "code",
      "execution_count": null,
      "metadata": {
        "tags": [
          "24"
        ]
      },
      "outputs": [],
      "source": [
        "sys.path.append(os.getcwd())\n",
        "os.chdir(PROJECT)"
      ]
    },
    {
      "cell_type": "markdown",
      "metadata": {
        "tags": [
          "25"
        ]
      },
      "source": [
        "### Initialize Git\n",
        "\n",
        "We set up a local Git repository in our local project folder."
      ]
    },
    {
      "cell_type": "code",
      "execution_count": null,
      "metadata": {
        "tags": [
          "26"
        ]
      },
      "outputs": [],
      "source": [
        "!git init"
      ]
    },
    {
      "cell_type": "code",
      "execution_count": null,
      "metadata": {
        "tags": [
          "27"
        ]
      },
      "outputs": [],
      "source": [
        "!git config user.name \"Demo User\""
      ]
    },
    {
      "cell_type": "code",
      "execution_count": null,
      "metadata": {
        "tags": [
          "28"
        ]
      },
      "outputs": [],
      "source": [
        "!git config user.email \"demo-user@example.com\""
      ]
    },
    {
      "cell_type": "code",
      "execution_count": null,
      "metadata": {
        "tags": [
          "29"
        ]
      },
      "outputs": [],
      "source": [
        "!git config advice.detachedHead False"
      ]
    },
    {
      "cell_type": "markdown",
      "metadata": {
        "tags": [
          "30"
        ]
      },
      "source": [
        "We are now ready to commit our first version. Here's the initial definition of `remove_html_markup()` from [the introduction to debugging](Intro_Debugging.ipynb)."
      ]
    },
    {
      "cell_type": "code",
      "execution_count": null,
      "metadata": {
        "tags": [
          "31"
        ]
      },
      "outputs": [],
      "source": [
        "def remove_html_markup(s):  # type: ignore\n",
        "    tag = False\n",
        "    out = \"\"\n",
        "\n",
        "    for c in s:\n",
        "        if c == '<':    # start of markup\n",
        "            tag = True\n",
        "        elif c == '>':  # end of markup\n",
        "            tag = False\n",
        "        elif not tag:\n",
        "            out = out + c\n",
        "\n",
        "    return out"
      ]
    },
    {
      "cell_type": "markdown",
      "metadata": {
        "tags": [
          "32"
        ]
      },
      "source": [
        "The function `write_source()` takes a function `fun` and writes its source code into a file of the same name \u2013 in our case, `remove_html_markup.py`:"
      ]
    },
    {
      "cell_type": "code",
      "execution_count": null,
      "metadata": {
        "tags": [
          "33"
        ]
      },
      "outputs": [],
      "source": [
        "import inspect"
      ]
    },
    {
      "cell_type": "code",
      "execution_count": null,
      "metadata": {
        "tags": [
          "34"
        ]
      },
      "outputs": [],
      "source": [
        "def write_source(fun: Callable, filename: Optional[str] = None) -> None:\n",
        "    if filename is None:\n",
        "        filename = fun.__name__ + '.py'\n",
        "    with open(filename, 'w') as fh:\n",
        "        fh.write(inspect.getsource(fun))"
      ]
    },
    {
      "cell_type": "markdown",
      "metadata": {
        "tags": [
          "35"
        ]
      },
      "source": [
        "Here is `write_source()` in action:"
      ]
    },
    {
      "cell_type": "code",
      "execution_count": null,
      "metadata": {
        "tags": [
          "36"
        ]
      },
      "outputs": [],
      "source": [
        "write_source(remove_html_markup)"
      ]
    },
    {
      "cell_type": "code",
      "execution_count": null,
      "metadata": {
        "tags": [
          "37"
        ]
      },
      "outputs": [],
      "source": [
        "print_file('remove_html_markup.py')"
      ]
    },
    {
      "cell_type": "markdown",
      "metadata": {
        "tags": [
          "38"
        ]
      },
      "source": [
        "With `git add` and `git commit`, we add the file to our version repository. The `-m` option defines a _message_ for the commit; this is how we (and potential co-workers) can later retrieve information on what has changed, and why. (The messages we use here are deliberately kept short.)"
      ]
    },
    {
      "cell_type": "code",
      "execution_count": null,
      "metadata": {
        "tags": [
          "39"
        ]
      },
      "outputs": [],
      "source": [
        "!git add remove_html_markup.py"
      ]
    },
    {
      "cell_type": "code",
      "execution_count": null,
      "metadata": {
        "tags": [
          "40"
        ]
      },
      "outputs": [],
      "source": [
        "!git commit -m \"First version\""
      ]
    },
    {
      "cell_type": "markdown",
      "metadata": {
        "tags": [
          "41"
        ]
      },
      "source": [
        "Let us now take the second (buggy) version of `remove_html_markup()` and again write this into our file, thus simulating changing the source code from the first version to the new version:"
      ]
    },
    {
      "cell_type": "code",
      "execution_count": null,
      "metadata": {
        "tags": [
          "42"
        ]
      },
      "outputs": [],
      "source": [
        "def remove_html_markup(s):  # type: ignore\n",
        "    tag = False\n",
        "    quote = False\n",
        "    out = \"\"\n",
        "\n",
        "    for c in s:\n",
        "        if c == '<' and not quote:\n",
        "            tag = True\n",
        "        elif c == '>' and not quote:\n",
        "            tag = False\n",
        "        elif c == '\"' or c == \"'\" and tag:\n",
        "            quote = not quote\n",
        "        elif not tag:\n",
        "            out = out + c\n",
        "\n",
        "    return out"
      ]
    },
    {
      "cell_type": "code",
      "execution_count": null,
      "metadata": {
        "tags": [
          "43"
        ]
      },
      "outputs": [],
      "source": [
        "write_source(remove_html_markup)"
      ]
    },
    {
      "cell_type": "markdown",
      "metadata": {
        "tags": [
          "44"
        ]
      },
      "source": [
        "We can inspect the differences between the previously committed version and the current one. Lines prefixed with `+` are added; lines prefixed with `-` are deleted."
      ]
    },
    {
      "cell_type": "code",
      "execution_count": null,
      "metadata": {
        "tags": [
          "45"
        ]
      },
      "outputs": [],
      "source": [
        "!git diff remove_html_markup.py"
      ]
    },
    {
      "cell_type": "markdown",
      "metadata": {
        "tags": [
          "46"
        ]
      },
      "source": [
        "We can now commit this second version, adding it to our repository."
      ]
    },
    {
      "cell_type": "code",
      "execution_count": null,
      "metadata": {
        "tags": [
          "47"
        ]
      },
      "outputs": [],
      "source": [
        "!git commit -m \"Second version\" remove_html_markup.py"
      ]
    },
    {
      "cell_type": "markdown",
      "metadata": {
        "tags": [
          "48"
        ]
      },
      "source": [
        "We create a few more revisions."
      ]
    },
    {
      "cell_type": "markdown",
      "metadata": {
        "tags": [
          "49"
        ]
      },
      "source": [
        "### Excursion: Adding More Revisions"
      ]
    },
    {
      "cell_type": "markdown",
      "metadata": {
        "tags": [
          "50"
        ]
      },
      "source": [
        "We use the additional definitions for `remove_html_markup()` from [the introduction to debugging](Intro_Debugging.ipynb) as additional versions.\n",
        "\n",
        "These also include \"debugging\" versions with enabled logging statements, as well as \"tentative\" versions that may or may not fix the discussed issues. In a real version history, such transient versions would typically not show up \u2013\u00a0or at least not be made available to co-workers."
      ]
    },
    {
      "cell_type": "code",
      "execution_count": null,
      "metadata": {
        "tags": [
          "51"
        ]
      },
      "outputs": [],
      "source": [
        "def remove_html_markup(s):  # type: ignore\n",
        "    tag = False\n",
        "    quote = False\n",
        "    out = \"\"\n",
        "\n",
        "    for c in s:\n",
        "        print(\"c =\", repr(c), \"tag =\", tag, \"quote =\", quote)\n",
        "\n",
        "        if c == '<' and not quote:\n",
        "            tag = True\n",
        "        elif c == '>' and not quote:\n",
        "            tag = False\n",
        "        elif c == '\"' or c == \"'\" and tag:\n",
        "            quote = not quote\n",
        "        elif not tag:\n",
        "            out = out + c\n",
        "\n",
        "    return out"
      ]
    },
    {
      "cell_type": "code",
      "execution_count": null,
      "metadata": {
        "tags": [
          "52"
        ]
      },
      "outputs": [],
      "source": [
        "write_source(remove_html_markup)"
      ]
    },
    {
      "cell_type": "code",
      "execution_count": null,
      "metadata": {
        "tags": [
          "53"
        ]
      },
      "outputs": [],
      "source": [
        "!git commit -m \"Third version (with debugging output)\" remove_html_markup.py"
      ]
    },
    {
      "cell_type": "code",
      "execution_count": null,
      "metadata": {
        "tags": [
          "54"
        ]
      },
      "outputs": [],
      "source": [
        "def remove_html_markup(s):  # type: ignore\n",
        "    tag = False\n",
        "    quote = False\n",
        "    out = \"\"\n",
        "\n",
        "    for c in s:\n",
        "        if c == '<':  # and not quote:\n",
        "            tag = True\n",
        "        elif c == '>':  # and not quote:\n",
        "            tag = False\n",
        "        elif c == '\"' or c == \"'\" and tag:\n",
        "            quote = not quote\n",
        "        elif not tag:\n",
        "            out = out + c\n",
        "\n",
        "    return out"
      ]
    },
    {
      "cell_type": "code",
      "execution_count": null,
      "metadata": {
        "tags": [
          "55"
        ]
      },
      "outputs": [],
      "source": [
        "write_source(remove_html_markup)"
      ]
    },
    {
      "cell_type": "code",
      "execution_count": null,
      "metadata": {
        "tags": [
          "56"
        ]
      },
      "outputs": [],
      "source": [
        "!git commit -m \"Fourth version (clueless)\" remove_html_markup.py"
      ]
    },
    {
      "cell_type": "code",
      "execution_count": null,
      "metadata": {
        "tags": [
          "57"
        ]
      },
      "outputs": [],
      "source": [
        "def remove_html_markup(s):  # type: ignore\n",
        "    tag = False\n",
        "    quote = False\n",
        "    out = \"\"\n",
        "\n",
        "    for c in s:\n",
        "        assert not tag  # <=== Just added\n",
        "\n",
        "        if c == '<' and not quote:\n",
        "            tag = True\n",
        "        elif c == '>' and not quote:\n",
        "            tag = False\n",
        "        elif c == '\"' or c == \"'\" and tag:\n",
        "            quote = not quote\n",
        "        elif not tag:\n",
        "            out = out + c\n",
        "\n",
        "    return out"
      ]
    },
    {
      "cell_type": "code",
      "execution_count": null,
      "metadata": {
        "tags": [
          "58"
        ]
      },
      "outputs": [],
      "source": [
        "write_source(remove_html_markup)"
      ]
    },
    {
      "cell_type": "code",
      "execution_count": null,
      "metadata": {
        "tags": [
          "59"
        ]
      },
      "outputs": [],
      "source": [
        "!git commit -m \"Fifth version (with assert)\" remove_html_markup.py"
      ]
    },
    {
      "cell_type": "code",
      "execution_count": null,
      "metadata": {
        "tags": [
          "60"
        ]
      },
      "outputs": [],
      "source": [
        "def remove_html_markup(s):  # type: ignore\n",
        "    tag = False\n",
        "    quote = False\n",
        "    out = \"\"\n",
        "\n",
        "    for c in s:\n",
        "        if c == '<' and not quote:\n",
        "            tag = True\n",
        "        elif c == '>' and not quote:\n",
        "            tag = False\n",
        "        elif c == '\"' or c == \"'\" and tag:\n",
        "            assert False  # <=== Just added\n",
        "            quote = not quote\n",
        "        elif not tag:\n",
        "            out = out + c\n",
        "\n",
        "    return out"
      ]
    },
    {
      "cell_type": "code",
      "execution_count": null,
      "metadata": {
        "tags": [
          "61"
        ]
      },
      "outputs": [],
      "source": [
        "write_source(remove_html_markup)"
      ]
    },
    {
      "cell_type": "code",
      "execution_count": null,
      "metadata": {
        "tags": [
          "62"
        ]
      },
      "outputs": [],
      "source": [
        "!git commit -m \"Sixth version (with another assert)\" remove_html_markup.py"
      ]
    },
    {
      "cell_type": "code",
      "execution_count": null,
      "metadata": {
        "tags": [
          "63"
        ]
      },
      "outputs": [],
      "source": [
        "def remove_html_markup(s):  # type: ignore\n",
        "    tag = False\n",
        "    quote = False\n",
        "    out = \"\"\n",
        "\n",
        "    for c in s:\n",
        "        if c == '<' and not quote:\n",
        "            tag = True\n",
        "        elif c == '>' and not quote:\n",
        "            tag = False\n",
        "        elif (c == '\"' or c == \"'\") and tag:  # <-- FIX\n",
        "            quote = not quote\n",
        "        elif not tag:\n",
        "            out = out + c\n",
        "\n",
        "    return out"
      ]
    },
    {
      "cell_type": "code",
      "execution_count": null,
      "metadata": {
        "tags": [
          "64"
        ]
      },
      "outputs": [],
      "source": [
        "write_source(remove_html_markup)"
      ]
    },
    {
      "cell_type": "code",
      "execution_count": null,
      "metadata": {
        "tags": [
          "65"
        ]
      },
      "outputs": [],
      "source": [
        "!git commit -m \"Seventh version (fixed)\" remove_html_markup.py"
      ]
    },
    {
      "cell_type": "markdown",
      "metadata": {
        "tags": [
          "66"
        ]
      },
      "source": [
        "### End of Excursion"
      ]
    },
    {
      "cell_type": "markdown",
      "metadata": {
        "tags": [
          "67"
        ]
      },
      "source": [
        "Here comes the last version of `remove_html_markup()`, this one from [the chapter on assertions](Assertions.ipynb)."
      ]
    },
    {
      "cell_type": "code",
      "execution_count": null,
      "metadata": {
        "tags": [
          "68"
        ]
      },
      "outputs": [],
      "source": [
        "def remove_html_markup(s):  # type: ignore\n",
        "    tag = False\n",
        "    quote = False\n",
        "    out = \"\"\n",
        "\n",
        "    for c in s:\n",
        "        if c == '<' and not quote:\n",
        "            tag = True\n",
        "        elif c == '>' and not quote:\n",
        "            tag = False\n",
        "        elif c == '\"' or c == \"'\" and tag:\n",
        "            quote = not quote\n",
        "        elif not tag:\n",
        "            out = out + c\n",
        "\n",
        "    # postcondition\n",
        "    assert '<' not in out and '>' not in out\n",
        "\n",
        "    return out"
      ]
    },
    {
      "cell_type": "code",
      "execution_count": null,
      "metadata": {
        "tags": [
          "69"
        ]
      },
      "outputs": [],
      "source": [
        "write_source(remove_html_markup)"
      ]
    },
    {
      "cell_type": "code",
      "execution_count": null,
      "metadata": {
        "tags": [
          "70"
        ]
      },
      "outputs": [],
      "source": [
        "!git commit -m \"Eighth version (with proper assertion)\" remove_html_markup.py"
      ]
    },
    {
      "cell_type": "markdown",
      "metadata": {
        "tags": [
          "71"
        ]
      },
      "source": [
        "We finally reached the \"today\" state with the latest version \u2013\u00a0and find that the latest version has an error. This should come to you as no surprise if you have read the earlier chapters. But if you haven't, you will find that when the argument `s` contains double quotes, these are stripped from the output:"
      ]
    },
    {
      "cell_type": "code",
      "execution_count": null,
      "metadata": {
        "tags": [
          "72"
        ]
      },
      "outputs": [],
      "source": [
        "remove_html_markup('\"foo\"')"
      ]
    },
    {
      "cell_type": "markdown",
      "metadata": {
        "tags": [
          "73"
        ]
      },
      "source": [
        "Consequently, this test assertion fails:"
      ]
    },
    {
      "cell_type": "code",
      "execution_count": null,
      "metadata": {
        "tags": [
          "74"
        ]
      },
      "outputs": [],
      "source": [
        "from ExpectError import ExpectError"
      ]
    },
    {
      "cell_type": "code",
      "execution_count": null,
      "metadata": {
        "tags": [
          "75"
        ]
      },
      "outputs": [],
      "source": [
        "with ExpectError():\n",
        "    assert remove_html_markup('\"foo\"') == '\"foo\"'"
      ]
    },
    {
      "cell_type": "markdown",
      "metadata": {
        "tags": [
          "76"
        ]
      },
      "source": [
        "Note that the failure does _not_ occur in the very first version, as introduced above. So the simple question is:\n",
        "\n",
        "* What is the change that caused the failure?"
      ]
    },
    {
      "cell_type": "markdown",
      "metadata": {
        "tags": [
          "77"
        ]
      },
      "source": [
        "## Accessing Versions\n",
        "\n",
        "To find out the failure-inducing change, we first need to be able to access older versions. The command \n",
        "\n",
        "```sh\n",
        "git log\n",
        "```\n",
        "\n",
        "gives us a listing of all commits:"
      ]
    },
    {
      "cell_type": "code",
      "execution_count": null,
      "metadata": {
        "tags": [
          "78"
        ]
      },
      "outputs": [],
      "source": [
        "!git log"
      ]
    },
    {
      "cell_type": "markdown",
      "metadata": {
        "tags": [
          "79"
        ]
      },
      "source": [
        "Using the `subprocess` module, we can run `git log` and access its output."
      ]
    },
    {
      "cell_type": "code",
      "execution_count": null,
      "metadata": {
        "tags": [
          "80"
        ]
      },
      "outputs": [],
      "source": [
        "import subprocess"
      ]
    },
    {
      "cell_type": "code",
      "execution_count": null,
      "metadata": {
        "tags": [
          "81"
        ]
      },
      "outputs": [],
      "source": [
        "def get_output(command: List[str]) -> str:\n",
        "    result = subprocess.run(command, \n",
        "                            stdout=subprocess.PIPE,\n",
        "                            universal_newlines=True)\n",
        "    return result.stdout"
      ]
    },
    {
      "cell_type": "markdown",
      "metadata": {
        "tags": [
          "82"
        ]
      },
      "source": [
        "The output of `git log` contains the ID of the version (the so-called *commit hash*) as well as the message provided during the commit."
      ]
    },
    {
      "cell_type": "code",
      "execution_count": null,
      "metadata": {
        "tags": [
          "83"
        ]
      },
      "outputs": [],
      "source": [
        "log = get_output(['git', 'log', '--pretty=oneline'])\n",
        "print(log)"
      ]
    },
    {
      "cell_type": "markdown",
      "metadata": {
        "tags": [
          "84"
        ]
      },
      "source": [
        "Each hash uniquely identifies a version, and is required to access it. Let us create a list `versions`, where `versions[0]` contains the hash (the id) of the first version, `versions[1]` the second version, and so on."
      ]
    },
    {
      "cell_type": "code",
      "execution_count": null,
      "metadata": {
        "tags": [
          "85"
        ]
      },
      "outputs": [],
      "source": [
        "versions = [line.split()[0] for line in log.split('\\n') if line]\n",
        "versions.reverse()\n",
        "versions[0]"
      ]
    },
    {
      "cell_type": "markdown",
      "metadata": {
        "tags": [
          "86"
        ]
      },
      "source": [
        "We can now check out the first version:"
      ]
    },
    {
      "cell_type": "code",
      "execution_count": null,
      "metadata": {
        "tags": [
          "87"
        ]
      },
      "outputs": [],
      "source": [
        "!git checkout {versions[0]}"
      ]
    },
    {
      "cell_type": "code",
      "execution_count": null,
      "metadata": {
        "tags": [
          "88"
        ]
      },
      "outputs": [],
      "source": [
        "print_file('remove_html_markup.py')"
      ]
    },
    {
      "cell_type": "markdown",
      "metadata": {
        "tags": [
          "89"
        ]
      },
      "source": [
        "If we read in this definition of `remove_html_markup()` from the first version, we will find that the failure was not yet present:"
      ]
    },
    {
      "cell_type": "code",
      "execution_count": null,
      "metadata": {
        "tags": [
          "90"
        ]
      },
      "outputs": [],
      "source": [
        "exec(open('remove_html_markup.py').read())"
      ]
    },
    {
      "cell_type": "code",
      "execution_count": null,
      "metadata": {
        "tags": [
          "91"
        ]
      },
      "outputs": [],
      "source": [
        "remove_html_markup('\"foo\"')"
      ]
    },
    {
      "cell_type": "markdown",
      "metadata": {
        "tags": [
          "92"
        ]
      },
      "source": [
        "However, if we check out the _last_ version of that file ..."
      ]
    },
    {
      "cell_type": "code",
      "execution_count": null,
      "metadata": {
        "tags": [
          "93"
        ]
      },
      "outputs": [],
      "source": [
        "!git checkout {versions[7]}"
      ]
    },
    {
      "cell_type": "code",
      "execution_count": null,
      "metadata": {
        "tags": [
          "94"
        ]
      },
      "outputs": [],
      "source": [
        "print_file('remove_html_markup.py')"
      ]
    },
    {
      "cell_type": "markdown",
      "metadata": {
        "tags": [
          "95"
        ]
      },
      "source": [
        "... we find that this is the version that no longer works."
      ]
    },
    {
      "cell_type": "code",
      "execution_count": null,
      "metadata": {
        "tags": [
          "96"
        ]
      },
      "outputs": [],
      "source": [
        "exec(open('remove_html_markup.py').read())"
      ]
    },
    {
      "cell_type": "code",
      "execution_count": null,
      "metadata": {
        "tags": [
          "97"
        ]
      },
      "outputs": [],
      "source": [
        "remove_html_markup('\"foo\"')"
      ]
    },
    {
      "cell_type": "markdown",
      "metadata": {
        "tags": [
          "98"
        ]
      },
      "source": [
        "## Manual Bisecting\n",
        "\n",
        "As stated above, we could now go and try out one version after another to see with which version the bug was introduced. But again, proceeding in such a _linear_ fashion would be very inefficient. It is much better to proceed by _binary search_: If you know that version $v_n$ passed, and version $v_m$ failed (with $m >n$), then test a version $v' = v_{n + (m - n)/2}$ that is right in the _middle_ between the two.\n",
        "\n",
        "* If $v'$ passes, then repeat the process with $v'$ and $v_m$.\n",
        "* If $v'$ fails, then repeat the process with $v_n$ and $v'$.\n",
        "\n",
        "Such *bisecting* quickly progresses towards the failure-inducing version, as it requires you to take only a logarithmic number of tests. In contrast, progressing linearly through the version history requires a test for each version, which is far more effort."
      ]
    },
    {
      "cell_type": "markdown",
      "metadata": {
        "tags": [
          "99"
        ]
      },
      "source": [
        "If you use the git version control system, such bisecting is actually a _built-in feature_, coming to you through the `git bisect` command. Let us illustrate how `git bisect` quickly identifies the version that introduced the error."
      ]
    },
    {
      "cell_type": "markdown",
      "metadata": {
        "tags": [
          "100"
        ]
      },
      "source": [
        "A bisecting section with `git` starts with the command `bisect start`."
      ]
    },
    {
      "cell_type": "code",
      "execution_count": null,
      "metadata": {
        "tags": [
          "101"
        ]
      },
      "outputs": [],
      "source": [
        "!git bisect start"
      ]
    },
    {
      "cell_type": "markdown",
      "metadata": {
        "tags": [
          "102"
        ]
      },
      "source": [
        "Then, you use `git bisect good` to identify the version that worked, and `git bisect bad` to identify the version that was bad \u2013\u00a0in our case, the hashes of the first and last version."
      ]
    },
    {
      "cell_type": "code",
      "execution_count": null,
      "metadata": {
        "tags": [
          "103"
        ]
      },
      "outputs": [],
      "source": [
        "!git bisect good {versions[0]}"
      ]
    },
    {
      "cell_type": "code",
      "execution_count": null,
      "metadata": {
        "tags": [
          "104"
        ]
      },
      "outputs": [],
      "source": [
        "!git bisect bad {versions[7]}"
      ]
    },
    {
      "cell_type": "markdown",
      "metadata": {
        "tags": [
          "105"
        ]
      },
      "source": [
        "We find that `git bisect` automatically has checked out the _middle_ version between the passing and the failing one \u2013\u00a0in our case, version 4 \u2013\u00a0and now asks us to assess this version."
      ]
    },
    {
      "cell_type": "code",
      "execution_count": null,
      "metadata": {
        "tags": [
          "106"
        ]
      },
      "outputs": [],
      "source": [
        "# ignore\n",
        "display_versions({1: PASS, 4: UNRESOLVED, 8: FAIL})"
      ]
    },
    {
      "cell_type": "markdown",
      "metadata": {
        "tags": [
          "107"
        ]
      },
      "source": [
        "The version is already in our working folder:"
      ]
    },
    {
      "cell_type": "code",
      "execution_count": null,
      "metadata": {
        "tags": [
          "108"
        ]
      },
      "outputs": [],
      "source": [
        "print_file('remove_html_markup.py')"
      ]
    },
    {
      "cell_type": "markdown",
      "metadata": {
        "tags": [
          "109"
        ]
      },
      "source": [
        "We now need to test this version, and let `git bisect` know the outcome \u2013 with\n",
        "\n",
        "```sh\n",
        "git bisect good\n",
        "```\n",
        "\n",
        "if the test passes, and with\n",
        "\n",
        "```sh\n",
        "git bisect bad\n",
        "```\n",
        "\n",
        "if the test fails."
      ]
    },
    {
      "cell_type": "markdown",
      "metadata": {
        "tags": [
          "110"
        ]
      },
      "source": [
        "It turns out that this version fails:"
      ]
    },
    {
      "cell_type": "code",
      "execution_count": null,
      "metadata": {
        "tags": [
          "111"
        ]
      },
      "outputs": [],
      "source": [
        "exec(open('remove_html_markup.py').read())"
      ]
    },
    {
      "cell_type": "code",
      "execution_count": null,
      "metadata": {
        "tags": [
          "112"
        ]
      },
      "outputs": [],
      "source": [
        "remove_html_markup('\"foo\"')"
      ]
    },
    {
      "cell_type": "markdown",
      "metadata": {
        "tags": [
          "113"
        ]
      },
      "source": [
        "So we enter `git bisect bad`:"
      ]
    },
    {
      "cell_type": "code",
      "execution_count": null,
      "metadata": {
        "tags": [
          "114"
        ]
      },
      "outputs": [],
      "source": [
        "!git bisect bad"
      ]
    },
    {
      "cell_type": "markdown",
      "metadata": {
        "tags": [
          "115"
        ]
      },
      "source": [
        "`git bisect` has chosen version 3 to assess \u2013\u00a0again in the middle between a passing and a failing version:"
      ]
    },
    {
      "cell_type": "code",
      "execution_count": null,
      "metadata": {
        "tags": [
          "116"
        ]
      },
      "outputs": [],
      "source": [
        "# ignore\n",
        "display_versions({1: PASS, 3: UNRESOLVED, 4: FAIL, 8: FAIL})"
      ]
    },
    {
      "cell_type": "markdown",
      "metadata": {
        "tags": [
          "117"
        ]
      },
      "source": [
        "So let us test this version and find that it fails, too:"
      ]
    },
    {
      "cell_type": "code",
      "execution_count": null,
      "metadata": {
        "tags": [
          "118"
        ]
      },
      "outputs": [],
      "source": [
        "print_file('remove_html_markup.py')"
      ]
    },
    {
      "cell_type": "code",
      "execution_count": null,
      "metadata": {
        "tags": [
          "119"
        ]
      },
      "outputs": [],
      "source": [
        "exec(open('remove_html_markup.py').read())"
      ]
    },
    {
      "cell_type": "code",
      "execution_count": null,
      "metadata": {
        "tags": [
          "120"
        ]
      },
      "outputs": [],
      "source": [
        "remove_html_markup('\"foo\"')"
      ]
    },
    {
      "cell_type": "markdown",
      "metadata": {
        "tags": [
          "121"
        ]
      },
      "source": [
        "We mark the version as `bad`. `git bisect` then checks out version 2 as the last version to assess."
      ]
    },
    {
      "cell_type": "code",
      "execution_count": null,
      "metadata": {
        "tags": [
          "122"
        ]
      },
      "outputs": [],
      "source": [
        "!git bisect bad"
      ]
    },
    {
      "cell_type": "code",
      "execution_count": null,
      "metadata": {
        "tags": [
          "123"
        ]
      },
      "outputs": [],
      "source": [
        "# ignore\n",
        "display_versions({1: PASS, 2: UNRESOLVED, 3: FAIL, 4: FAIL, 8: FAIL})"
      ]
    },
    {
      "cell_type": "markdown",
      "metadata": {
        "tags": [
          "124"
        ]
      },
      "source": [
        "When we test version 2, we find that it fails as well:"
      ]
    },
    {
      "cell_type": "code",
      "execution_count": null,
      "metadata": {
        "tags": [
          "125"
        ]
      },
      "outputs": [],
      "source": [
        "print_file('remove_html_markup.py')"
      ]
    },
    {
      "cell_type": "code",
      "execution_count": null,
      "metadata": {
        "tags": [
          "126"
        ]
      },
      "outputs": [],
      "source": [
        "exec(open('remove_html_markup.py').read())"
      ]
    },
    {
      "cell_type": "code",
      "execution_count": null,
      "metadata": {
        "tags": [
          "127"
        ]
      },
      "outputs": [],
      "source": [
        "remove_html_markup('\"foo\"')"
      ]
    },
    {
      "cell_type": "markdown",
      "metadata": {
        "tags": [
          "128"
        ]
      },
      "source": [
        "Hence, version 2 is _the version that introduced the error_."
      ]
    },
    {
      "cell_type": "code",
      "execution_count": null,
      "metadata": {
        "tags": [
          "129"
        ]
      },
      "outputs": [],
      "source": [
        "# ignore\n",
        "display_versions({1: PASS, 2: FAIL, 3: FAIL, 4: FAIL, 8: FAIL})"
      ]
    },
    {
      "cell_type": "markdown",
      "metadata": {
        "tags": [
          "130"
        ]
      },
      "source": [
        "When we let `git bisect` know that this version fails, it tells us that this version is indeed the \"first bad commit\":"
      ]
    },
    {
      "cell_type": "code",
      "execution_count": null,
      "metadata": {
        "tags": [
          "131"
        ]
      },
      "outputs": [],
      "source": [
        "!git bisect bad"
      ]
    },
    {
      "cell_type": "markdown",
      "metadata": {
        "tags": [
          "132"
        ]
      },
      "source": [
        "By comparing this version against the older one, we can see the lines it introduced \u2013 namely (buggy) handling of double quotes:"
      ]
    },
    {
      "cell_type": "code",
      "execution_count": null,
      "metadata": {
        "tags": [
          "133"
        ]
      },
      "outputs": [],
      "source": [
        "!git diff HEAD^"
      ]
    },
    {
      "cell_type": "markdown",
      "metadata": {
        "tags": [
          "134"
        ]
      },
      "source": [
        "Now that we have identified the failure-inducing change (\"something is wrong in `remove_html_markup()`, and it has to do with quote handling\"), we can end our `git bisect` session. `git bisect reset` gets us back to the start, such that we can fix the most recent version."
      ]
    },
    {
      "cell_type": "code",
      "execution_count": null,
      "metadata": {
        "tags": [
          "135"
        ]
      },
      "outputs": [],
      "source": [
        "!git bisect reset"
      ]
    },
    {
      "cell_type": "markdown",
      "metadata": {
        "tags": [
          "136"
        ]
      },
      "source": [
        "## Automatic Bisecting"
      ]
    },
    {
      "cell_type": "markdown",
      "metadata": {
        "tags": [
          "137"
        ]
      },
      "source": [
        "Even though manual bisecting can be quick, we can speed things up by writing a _script_ that does the testing for us. With such a script, we can have `git bisect` run fully automatically."
      ]
    },
    {
      "cell_type": "markdown",
      "metadata": {
        "tags": [
          "138"
        ]
      },
      "source": [
        "A test script to automate bisecting does the following:\n",
        "\n",
        "* It (re)builds the program under test for the given version\n",
        "* It tests whether the failure is present.\n",
        "\n",
        "Its exit code indicates the test outcome:\n",
        "\n",
        "* 0 means \"good\" (the failure did not occur)\n",
        "* 1 means \"bad\" (the failure did occur)\n",
        "* 125 means \"undetermined\" (we cannot decide if the failure is present or not)\n",
        "\n",
        "The latter (\"undetermined\") case may occur if the program fails to build, or shows some other behavior."
      ]
    },
    {
      "cell_type": "markdown",
      "metadata": {
        "tags": [
          "139"
        ]
      },
      "source": [
        "We use a Python script `test.py` that reads in `remove_html_markup.py` and then tests for the presence or absence of the failure. (Since this is Python, we don't have to rebuild things.)"
      ]
    },
    {
      "cell_type": "code",
      "execution_count": null,
      "metadata": {
        "tags": [
          "140"
        ]
      },
      "outputs": [],
      "source": [
        "# ignore\n",
        "open('test.py', 'w').write('''\n",
        "#!/usr/bin/env python\n",
        "\n",
        "from remove_html_markup import remove_html_markup\n",
        "import sys\n",
        "\n",
        "result = remove_html_markup('\"foo\"')\n",
        "if result == '\"foo\"':\n",
        "    sys.exit(0)  # good/pass\n",
        "elif result == 'foo':\n",
        "    sys.exit(1)  # bad/fail\n",
        "else:\n",
        "    sys.exit(125)  # unresolved\n",
        "''');"
      ]
    },
    {
      "cell_type": "code",
      "execution_count": null,
      "metadata": {
        "tags": [
          "141"
        ]
      },
      "outputs": [],
      "source": [
        "print_file('test.py')"
      ]
    },
    {
      "cell_type": "markdown",
      "metadata": {
        "tags": [
          "142"
        ]
      },
      "source": [
        "Right now, we are with version 8 and thus in the \"failing\" state \u2013\u00a0our script exits with a code of 1:"
      ]
    },
    {
      "cell_type": "code",
      "execution_count": null,
      "metadata": {
        "tags": [
          "143"
        ]
      },
      "outputs": [],
      "source": [
        "!python ./test.py; echo $?"
      ]
    },
    {
      "cell_type": "markdown",
      "metadata": {
        "tags": [
          "144"
        ]
      },
      "source": [
        "Let us use our test script to bisect automatically. As with manual bisecting, we first have to tell `git bisect` which the good (passing) and bad (failing) versions are:"
      ]
    },
    {
      "cell_type": "code",
      "execution_count": null,
      "metadata": {
        "tags": [
          "145"
        ]
      },
      "outputs": [],
      "source": [
        "!git bisect start"
      ]
    },
    {
      "cell_type": "code",
      "execution_count": null,
      "metadata": {
        "tags": [
          "146"
        ]
      },
      "outputs": [],
      "source": [
        "!git bisect good {versions[0]}"
      ]
    },
    {
      "cell_type": "code",
      "execution_count": null,
      "metadata": {
        "tags": [
          "147"
        ]
      },
      "outputs": [],
      "source": [
        "!git bisect bad {versions[7]}"
      ]
    },
    {
      "cell_type": "markdown",
      "metadata": {
        "tags": [
          "148"
        ]
      },
      "source": [
        "Now, we can make use of our script. `git bisect run <script>` automatically determines the failing version. In our case, `<script>` is `python test.py`, and it produces the failing version in less than a second:"
      ]
    },
    {
      "cell_type": "code",
      "execution_count": null,
      "metadata": {
        "tags": [
          "149"
        ]
      },
      "outputs": [],
      "source": [
        "!git bisect run python test.py"
      ]
    },
    {
      "cell_type": "markdown",
      "metadata": {
        "tags": [
          "150"
        ]
      },
      "source": [
        "Again, we are at version 2, and can investigate the failure-inducing change:"
      ]
    },
    {
      "cell_type": "code",
      "execution_count": null,
      "metadata": {
        "tags": [
          "151"
        ]
      },
      "outputs": [],
      "source": [
        "!git diff HEAD^"
      ]
    },
    {
      "cell_type": "markdown",
      "metadata": {
        "tags": [
          "152"
        ]
      },
      "source": [
        "With `git bisect run` as well, we have to end our bisecting session:"
      ]
    },
    {
      "cell_type": "code",
      "execution_count": null,
      "metadata": {
        "tags": [
          "153"
        ]
      },
      "outputs": [],
      "source": [
        "!git bisect reset"
      ]
    },
    {
      "cell_type": "markdown",
      "metadata": {
        "button": false,
        "new_sheet": false,
        "run_control": {
          "read_only": false
        },
        "tags": [
          "154"
        ]
      },
      "source": [
        "## Computing and Applying Patches\n",
        "\n",
        "Even if a version control system allows us to identify the change that introduced the failure, a single change between versions can still affect multiple locations. The change between version 1 and version 2 of `remove_html_markup()`, above, for instance, affects four separate locations in a single function. In the real world, changes between versions may affect dozens or even hundreds of locations. The question is:\n",
        "\n",
        "* Can we break down changes further down to individual locations?\n",
        "\n",
        "The answer is yes! But for this, we first need a means to break down changes into smaller parts. These parts are called _patches_ \u2013 differences in individual code locations that can be determined and applied individually."
      ]
    },
    {
      "cell_type": "markdown",
      "metadata": {
        "button": false,
        "new_sheet": false,
        "run_control": {
          "read_only": false
        },
        "tags": [
          "155"
        ]
      },
      "source": [
        "To illustrate how to compute and apply patches, let us have an example. We access the source code of the first and second version of `remove_html_markup()`, respectively:"
      ]
    },
    {
      "cell_type": "code",
      "execution_count": null,
      "metadata": {
        "tags": [
          "156"
        ]
      },
      "outputs": [],
      "source": [
        "version_1 = get_output(['git', 'show',\n",
        "                        f'{versions[0]}:remove_html_markup.py'])"
      ]
    },
    {
      "cell_type": "code",
      "execution_count": null,
      "metadata": {
        "tags": [
          "157"
        ]
      },
      "outputs": [],
      "source": [
        "print_content(version_1, '.py')"
      ]
    },
    {
      "cell_type": "code",
      "execution_count": null,
      "metadata": {
        "tags": [
          "158"
        ]
      },
      "outputs": [],
      "source": [
        "version_2 = get_output(['git', 'show',\n",
        "                        f'{versions[1]}:remove_html_markup.py'])"
      ]
    },
    {
      "cell_type": "code",
      "execution_count": null,
      "metadata": {
        "tags": [
          "159"
        ]
      },
      "outputs": [],
      "source": [
        "print_content(version_2, '.py')"
      ]
    },
    {
      "cell_type": "markdown",
      "metadata": {
        "tags": [
          "160"
        ]
      },
      "source": [
        "Patches are what a tool like `diff` produces when comparing two files (or `git diff` when comparing two versions). Here, we see that the difference between the two files consists of four patches, each one affecting a different line in the program."
      ]
    },
    {
      "cell_type": "code",
      "execution_count": null,
      "metadata": {
        "tags": [
          "161"
        ]
      },
      "outputs": [],
      "source": [
        "!git diff {versions[0]} {versions[1]}"
      ]
    },
    {
      "cell_type": "markdown",
      "metadata": {
        "tags": [
          "162"
        ]
      },
      "source": [
        "We'd like to compute and apply such patches without the help of an external program. To this end, we use Google's [diff-match-patch library](https://github.com/google/diff-match-patch)."
      ]
    },
    {
      "cell_type": "code",
      "execution_count": null,
      "metadata": {
        "tags": [
          "163"
        ]
      },
      "outputs": [],
      "source": [
        "from diff_match_patch import diff_match_patch, patch_obj"
      ]
    },
    {
      "cell_type": "markdown",
      "metadata": {
        "tags": [
          "164"
        ]
      },
      "source": [
        "By default, the diff-match-patch library is set up for comparing character strings, not lines; so we have to use a special workaround. Our `diff()` function computes a set of line patches between the two texts `s1` and `s2`:"
      ]
    },
    {
      "cell_type": "code",
      "execution_count": null,
      "metadata": {
        "tags": [
          "165"
        ]
      },
      "outputs": [],
      "source": [
        "def diff(s1: str, s2: str, mode: str = 'lines') -> List[patch_obj]:\n",
        "    \"\"\"Compare s1 and s2 like `diff`; return a list of patches\"\"\"\n",
        "\n",
        "    # Sometimes, we may get bytes instead of strings\n",
        "    # Let's convert these in a conservative way\n",
        "    if not isinstance(s1, str):\n",
        "        s1 = str(s1, 'latin1')\n",
        "    if not isinstance(s2, str):\n",
        "        s2 = str(s2, 'latin1')\n",
        "\n",
        "    dmp = diff_match_patch()\n",
        "    if mode == 'lines':\n",
        "        (text1, text2, linearray) = dmp.diff_linesToChars(s1, s2)\n",
        "\n",
        "        diffs = dmp.diff_main(text1, text2)\n",
        "        dmp.diff_charsToLines(diffs, linearray)\n",
        "        return dmp.patch_make(diffs)\n",
        "\n",
        "    if mode == 'chars':\n",
        "        diffs = dmp.diff_main(s1, s2)\n",
        "        return dmp.patch_make(s1, diffs)\n",
        "\n",
        "    raise ValueError(\"mode must be 'lines' or 'chars'\")"
      ]
    },
    {
      "cell_type": "markdown",
      "metadata": {
        "tags": [
          "166"
        ]
      },
      "source": [
        "We can use our `diff()` function to compare the two versions of `remove_html_markup()`. We obtain four `patch_obj` patch objects:"
      ]
    },
    {
      "cell_type": "code",
      "execution_count": null,
      "metadata": {
        "tags": [
          "167"
        ]
      },
      "outputs": [],
      "source": [
        "patches = diff(version_1, version_2)\n",
        "patches"
      ]
    },
    {
      "cell_type": "markdown",
      "metadata": {
        "tags": [
          "168"
        ]
      },
      "source": [
        "To inspect these patches, one can simply `print()` them; however, their string representation uses URL encoding for special characters. We introduce a `patch_string()` function that decodes them again, and then print out the four patches:"
      ]
    },
    {
      "cell_type": "code",
      "execution_count": null,
      "metadata": {
        "tags": [
          "169"
        ]
      },
      "outputs": [],
      "source": [
        "import urllib"
      ]
    },
    {
      "cell_type": "code",
      "execution_count": null,
      "metadata": {
        "tags": [
          "170"
        ]
      },
      "outputs": [],
      "source": [
        "def patch_string(p: patch_obj) -> str:\n",
        "    return urllib.parse.unquote(str(p).strip())  # type: ignore"
      ]
    },
    {
      "cell_type": "code",
      "execution_count": null,
      "metadata": {
        "tags": [
          "171"
        ]
      },
      "outputs": [],
      "source": [
        "def print_patch(p: patch_obj) -> None:\n",
        "    print_content(patch_string(p), '.py')\n",
        "    print()"
      ]
    },
    {
      "cell_type": "code",
      "execution_count": null,
      "metadata": {
        "tags": [
          "172"
        ]
      },
      "outputs": [],
      "source": [
        "for p in patches:\n",
        "    print_patch(p)"
      ]
    },
    {
      "cell_type": "markdown",
      "metadata": {
        "tags": [
          "173"
        ]
      },
      "source": [
        "Each patch comes with a _location_ (the part between `@@` characters as a character offset into the string) and a _change_ (prefixed by `+` for added lines or `-` for deleted lines) in a particular _context_ (notably, the preceding and following line).\n",
        "\n",
        "This _context_ allows us to _apply_ patches even if the location no longer exactly matches \u2013 the last patch, for instance, introducing `elif c == '\"'...`, for instance, is applied between the lines `tag = False` and the next `elif`."
      ]
    },
    {
      "cell_type": "markdown",
      "metadata": {
        "tags": [
          "174"
        ]
      },
      "source": [
        "We define a `patch()` function that applies a list of patches to a string, again wrapping around the function provided by the diff-match-patch library."
      ]
    },
    {
      "cell_type": "code",
      "execution_count": null,
      "metadata": {
        "tags": [
          "175"
        ]
      },
      "outputs": [],
      "source": [
        "def patch(text: str, patches: List[patch_obj]) -> str:\n",
        "    \"\"\"Apply given patches on given text; return patched text.\"\"\"\n",
        "    dmp = diff_match_patch()\n",
        "    patched_text, success = dmp.patch_apply(patches, text)\n",
        "    assert all(success), \"Could not apply some patch(es)\"\n",
        "    return patched_text"
      ]
    },
    {
      "cell_type": "markdown",
      "metadata": {
        "tags": [
          "176"
        ]
      },
      "source": [
        "Here's how to use `patch()`. First, if we apply _all_ patches between version\u00a01 and version\u00a02 on version\u00a01, we get version\u00a02:"
      ]
    },
    {
      "cell_type": "code",
      "execution_count": null,
      "metadata": {
        "tags": [
          "177"
        ]
      },
      "outputs": [],
      "source": [
        "print_content(patch(version_1, patches), '.py')"
      ]
    },
    {
      "cell_type": "code",
      "execution_count": null,
      "metadata": {
        "tags": [
          "178"
        ]
      },
      "outputs": [],
      "source": [
        "assert patch(version_1, patches) == version_2"
      ]
    },
    {
      "cell_type": "markdown",
      "metadata": {
        "tags": [
          "179"
        ]
      },
      "source": [
        "Applying _no_ patch leaves the content unchanged."
      ]
    },
    {
      "cell_type": "code",
      "execution_count": null,
      "metadata": {
        "tags": [
          "180"
        ]
      },
      "outputs": [],
      "source": [
        "assert patch(version_1, []) == version_1"
      ]
    },
    {
      "cell_type": "markdown",
      "metadata": {
        "tags": [
          "181"
        ]
      },
      "source": [
        "However, one can also apply _partial_ sets of patches. For instance, if we only apply the first patch..."
      ]
    },
    {
      "cell_type": "code",
      "execution_count": null,
      "metadata": {
        "tags": [
          "182"
        ]
      },
      "outputs": [],
      "source": [
        "print(patch_string(patches[0]))"
      ]
    },
    {
      "cell_type": "markdown",
      "metadata": {
        "tags": [
          "183"
        ]
      },
      "source": [
        "... we find that the result includes the added line `quote = False`, but nothing else:"
      ]
    },
    {
      "cell_type": "code",
      "execution_count": null,
      "metadata": {
        "tags": [
          "184"
        ]
      },
      "outputs": [],
      "source": [
        "print_content(patch(version_1, [patches[0]]), '.py')"
      ]
    },
    {
      "cell_type": "markdown",
      "metadata": {
        "tags": [
          "185"
        ]
      },
      "source": [
        "Likewise, we can also apply the second patch individually:"
      ]
    },
    {
      "cell_type": "code",
      "execution_count": null,
      "metadata": {
        "tags": [
          "186"
        ]
      },
      "outputs": [],
      "source": [
        "print_content(patch(version_1, [patches[1]]), '.py')"
      ]
    },
    {
      "cell_type": "code",
      "execution_count": null,
      "metadata": {
        "tags": [
          "187"
        ]
      },
      "outputs": [],
      "source": [
        "quiz(\"What has changed in version 1 after applying the second patch?\",\n",
        "     [\n",
        "         \"The initialization of quote is deleted\",\n",
        "         \"The condition after `if c == '<'` is expanded\",\n",
        "         \"The tag variable gets a different value\",\n",
        "         \"None of the above\"\n",
        "     ], '1 / 1 + 1 ** 1 - 1 % 1 * 1')"
      ]
    },
    {
      "cell_type": "markdown",
      "metadata": {
        "tags": [
          "188"
        ]
      },
      "source": [
        "## Delta Debugging on Patches\n",
        "\n",
        "With the ability to apply arbitrary sets of patches, we can now go and apply [Delta Debugging](DeltaDebugger.ipynb) to identify failure-inducing patches. The idea is simple: If applying _no_ patch makes the test pass, and applying _all_ patches makes the test fail, then we can use Delta Debugging to identify a minimal set of failure-inducing patches."
      ]
    },
    {
      "cell_type": "markdown",
      "metadata": {
        "tags": [
          "189"
        ]
      },
      "source": [
        "Let us write a testing function that checks for the presence of the failure. `test_remove_html_markup_patches()` \n",
        "\n",
        "* takes a list of patches,\n",
        "* applies them on version 1, \n",
        "* reads in the definition of `remove_html_markup()`\n",
        "* and then invokes it to check if the error is present."
      ]
    },
    {
      "cell_type": "code",
      "execution_count": null,
      "metadata": {
        "tags": [
          "190"
        ]
      },
      "outputs": [],
      "source": [
        "def test_remove_html_markup_patches(patches: patch_obj) -> None:\n",
        "    new_version = patch(version_1, patches)\n",
        "    exec(new_version, globals())\n",
        "    assert remove_html_markup('\"foo\"') == '\"foo\"'"
      ]
    },
    {
      "cell_type": "markdown",
      "metadata": {
        "tags": [
          "191"
        ]
      },
      "source": [
        "If no patches are applied, we are at version 1, and the error is not present."
      ]
    },
    {
      "cell_type": "code",
      "execution_count": null,
      "metadata": {
        "tags": [
          "192"
        ]
      },
      "outputs": [],
      "source": [
        "test_remove_html_markup_patches([])"
      ]
    },
    {
      "cell_type": "markdown",
      "metadata": {
        "tags": [
          "193"
        ]
      },
      "source": [
        "If _all_ patches are applied, we are at version 2, and the error _is_ present."
      ]
    },
    {
      "cell_type": "code",
      "execution_count": null,
      "metadata": {
        "tags": [
          "194"
        ]
      },
      "outputs": [],
      "source": [
        "with ExpectError(AssertionError):\n",
        "    test_remove_html_markup_patches(patches)"
      ]
    },
    {
      "cell_type": "markdown",
      "metadata": {
        "tags": [
          "195"
        ]
      },
      "source": [
        "### A Minimal Set of Patches\n",
        "\n",
        "We can now apply delta debugging on the list of patches, simply by invoking a `DeltaDebugger`:"
      ]
    },
    {
      "cell_type": "code",
      "execution_count": null,
      "metadata": {
        "tags": [
          "196"
        ]
      },
      "outputs": [],
      "source": [
        "from DeltaDebugger import DeltaDebugger"
      ]
    },
    {
      "cell_type": "code",
      "execution_count": null,
      "metadata": {
        "tags": [
          "197"
        ]
      },
      "outputs": [],
      "source": [
        "with DeltaDebugger() as dd:\n",
        "    test_remove_html_markup_patches(patches)"
      ]
    },
    {
      "attachments": {},
      "cell_type": "markdown",
      "metadata": {
        "tags": [
          "198"
        ]
      },
      "source": [
        "This is the minimal set of failure-inducing patches:"
      ]
    },
    {
      "cell_type": "code",
      "execution_count": null,
      "metadata": {
        "tags": [
          "199"
        ]
      },
      "outputs": [],
      "source": [
        "reduced_patches = dd.min_args()['patches']"
      ]
    },
    {
      "cell_type": "code",
      "execution_count": null,
      "metadata": {
        "tags": [
          "200"
        ]
      },
      "outputs": [],
      "source": [
        "for p in reduced_patches:\n",
        "    print_patch(p)"
      ]
    },
    {
      "cell_type": "markdown",
      "metadata": {
        "tags": [
          "201"
        ]
      },
      "source": [
        "This is the resulting code. We see that the changes to the conditions (`if c == '<'` and `if c == '>'`) are not necessary to produce the failure \u2013\u00a0our test string has no HTML tags."
      ]
    },
    {
      "cell_type": "code",
      "execution_count": null,
      "metadata": {
        "tags": [
          "202"
        ]
      },
      "outputs": [],
      "source": [
        "print_content(patch(version_1, reduced_patches), '.py')"
      ]
    },
    {
      "cell_type": "markdown",
      "metadata": {
        "tags": [
          "203"
        ]
      },
      "source": [
        "Hence, we have now narrowed down our failure-inducing changes from four patches down to two."
      ]
    },
    {
      "cell_type": "markdown",
      "metadata": {
        "tags": [
          "204"
        ]
      },
      "source": [
        "### A Minimal Difference\n",
        "\n",
        "Can we narrow this down even further? Yes, we can! The idea is to not only search for the minimal set of patches to be applied on the passing version, but to actually seek a minimal _difference_ between two patch sets. That is, we obtain \n",
        "\n",
        "* one set of _passing_ patches that, when applied, still passes;\n",
        "* one set of _failing_ patches that, when applied, fails;\n",
        "\n",
        "with a _minimal difference_ between the two. This minimal difference is what causes the failure."
      ]
    },
    {
      "cell_type": "markdown",
      "metadata": {
        "tags": [
          "205"
        ]
      },
      "source": [
        "We obtain such two sets (as well as their difference) by using the `min_arg_diff()` method of the `DeltaDebugger`."
      ]
    },
    {
      "cell_type": "code",
      "execution_count": null,
      "metadata": {
        "tags": [
          "206"
        ]
      },
      "outputs": [],
      "source": [
        "pass_patches, fail_patches, diffs = \\\n",
        "    tuple(arg['patches'] for arg in dd.min_arg_diff())"
      ]
    },
    {
      "cell_type": "markdown",
      "metadata": {
        "tags": [
          "207"
        ]
      },
      "source": [
        "This is `remove_html_markup[)` with the passing set applied. We see that the variable `quote` is defined at the beginning. This definition is actually a precondition for other patches to result in an executable program; otherwise, the program will fail when the variable `quote` does not exist."
      ]
    },
    {
      "cell_type": "code",
      "execution_count": null,
      "metadata": {
        "tags": [
          "208"
        ]
      },
      "outputs": [],
      "source": [
        "print_content(patch(version_1, pass_patches), '.py')"
      ]
    },
    {
      "cell_type": "markdown",
      "metadata": {
        "tags": [
          "209"
        ]
      },
      "source": [
        "Here's `remove_html_markup()` with the failing set applied. We see that now we also have the check for double quotes:"
      ]
    },
    {
      "cell_type": "code",
      "execution_count": null,
      "metadata": {
        "tags": [
          "210"
        ]
      },
      "outputs": [],
      "source": [
        "print_content(patch(version_1, fail_patches), '.py')"
      ]
    },
    {
      "cell_type": "markdown",
      "metadata": {
        "tags": [
          "211"
        ]
      },
      "source": [
        "The difference is just this one patch:"
      ]
    },
    {
      "cell_type": "code",
      "execution_count": null,
      "metadata": {
        "tags": [
          "212"
        ]
      },
      "outputs": [],
      "source": [
        "for p in diffs:\n",
        "    print_patch(p)"
      ]
    },
    {
      "cell_type": "markdown",
      "metadata": {
        "tags": [
          "213"
        ]
      },
      "source": [
        "And one more time, we are pointed to the buggy line that introduced the error."
      ]
    },
    {
      "cell_type": "markdown",
      "metadata": {
        "tags": [
          "214"
        ]
      },
      "source": [
        "## A ChangeDebugger class\n",
        "\n",
        "Let us put all these steps together in a single class. The `ChangeDebugger` is a derivative of `CallCollector` which takes two source files (one passing, one failing)."
      ]
    },
    {
      "cell_type": "code",
      "execution_count": null,
      "metadata": {
        "tags": [
          "215"
        ]
      },
      "outputs": [],
      "source": [
        "from DeltaDebugger import CallCollector"
      ]
    },
    {
      "cell_type": "code",
      "execution_count": null,
      "metadata": {
        "tags": [
          "216"
        ]
      },
      "outputs": [],
      "source": [
        "class ChangeDebugger(CallCollector):\n",
        "    def __init__(self, pass_source: str, fail_source: str, **ddargs: Any) -> None:\n",
        "        \"\"\"Constructor. Takes a passing source file (`pass_source`)\n",
        "        and a failing source file (`fail_source`).\n",
        "        Additional arguments are passed to `DeltaDebugger` constructor.\n",
        "        \"\"\"\n",
        "        super().__init__()\n",
        "        self._pass_source = pass_source\n",
        "        self._fail_source = fail_source\n",
        "        self._patches = diff(pass_source, fail_source)\n",
        "        self._ddargs = ddargs\n",
        "        self.log = ddargs['log'] if 'log' in ddargs else False\n",
        "\n",
        "    def pass_source(self) -> str:\n",
        "        \"\"\"Return the passing source file.\"\"\"\n",
        "        return self._pass_source\n",
        "\n",
        "    def fail_source(self) -> str:\n",
        "        \"\"\"Return the failing source file.\"\"\"\n",
        "        return self._fail_source\n",
        "\n",
        "    def patches(self) -> List[patch_obj]:\n",
        "        \"\"\"Return the diff between passing and failing source files.\"\"\"\n",
        "        return self._patches"
      ]
    },
    {
      "cell_type": "markdown",
      "metadata": {
        "tags": [
          "217"
        ]
      },
      "source": [
        "From `CallCollector`, it inherits the ability to inspect a single function call..."
      ]
    },
    {
      "cell_type": "code",
      "execution_count": null,
      "metadata": {
        "tags": [
          "218"
        ]
      },
      "outputs": [],
      "source": [
        "def test_remove_html_markup() -> None:\n",
        "    assert remove_html_markup('\"foo\"') == '\"foo\"'"
      ]
    },
    {
      "cell_type": "code",
      "execution_count": null,
      "metadata": {
        "tags": [
          "219"
        ]
      },
      "outputs": [],
      "source": [
        "with ChangeDebugger(version_1, version_2) as cd:\n",
        "    test_remove_html_markup()"
      ]
    },
    {
      "cell_type": "markdown",
      "metadata": {
        "tags": [
          "220"
        ]
      },
      "source": [
        "... and to repeat it at will."
      ]
    },
    {
      "cell_type": "code",
      "execution_count": null,
      "metadata": {
        "tags": [
          "221"
        ]
      },
      "outputs": [],
      "source": [
        "with ExpectError(AssertionError):\n",
        "    cd.call()"
      ]
    },
    {
      "cell_type": "markdown",
      "metadata": {
        "tags": [
          "222"
        ]
      },
      "source": [
        "We can access the passing source, the failing source, and the list of patches:"
      ]
    },
    {
      "cell_type": "code",
      "execution_count": null,
      "metadata": {
        "tags": [
          "223"
        ]
      },
      "outputs": [],
      "source": [
        "print_content(cd.pass_source(), '.py')"
      ]
    },
    {
      "cell_type": "code",
      "execution_count": null,
      "metadata": {
        "tags": [
          "224"
        ]
      },
      "outputs": [],
      "source": [
        "print_content(cd.fail_source(), '.py')"
      ]
    },
    {
      "cell_type": "code",
      "execution_count": null,
      "metadata": {
        "tags": [
          "225"
        ]
      },
      "outputs": [],
      "source": [
        "cd.patches()"
      ]
    },
    {
      "cell_type": "markdown",
      "metadata": {
        "tags": [
          "226"
        ]
      },
      "source": [
        "For testing, we do not apply Delta Debugging on the function under test \u2013\u00a0that would reduce the function's arguments. (It would still be neat, but that's not what we're aiming for here.)\n",
        "\n",
        "Instead, we introduce a method `test_patches()` that gets a set of patches, applies them, reads in the resulting source, and (re-)calls the function."
      ]
    },
    {
      "cell_type": "code",
      "execution_count": null,
      "metadata": {
        "tags": [
          "227"
        ]
      },
      "outputs": [],
      "source": [
        "class ChangeDebugger(ChangeDebugger):\n",
        "    def test_patches(self, patches: List[patch_obj]) -> None:\n",
        "        new_version = patch(self.pass_source(), patches)\n",
        "        exec(new_version, globals())\n",
        "        self.call()"
      ]
    },
    {
      "cell_type": "markdown",
      "metadata": {
        "tags": [
          "228"
        ]
      },
      "source": [
        "For completeness, we ensure that at the beginning of the `with` block, we assume the failing source:"
      ]
    },
    {
      "cell_type": "code",
      "execution_count": null,
      "metadata": {
        "tags": [
          "229"
        ]
      },
      "outputs": [],
      "source": [
        "class ChangeDebugger(ChangeDebugger):\n",
        "    def __enter__(self) -> Any:\n",
        "        \"\"\"Called at begin of a `with` block. Checks if current source fails.\"\"\"\n",
        "        exec(self.fail_source(), globals())\n",
        "        return super().__enter__()"
      ]
    },
    {
      "cell_type": "markdown",
      "metadata": {
        "tags": [
          "230"
        ]
      },
      "source": [
        "Here's `test_patches()` in action. As before, if we apply no patches, the test passes; if we apply all patches, it fails."
      ]
    },
    {
      "cell_type": "code",
      "execution_count": null,
      "metadata": {
        "tags": [
          "231"
        ]
      },
      "outputs": [],
      "source": [
        "with ChangeDebugger(version_1, version_2) as cd:\n",
        "    test_remove_html_markup()"
      ]
    },
    {
      "cell_type": "code",
      "execution_count": null,
      "metadata": {
        "tags": [
          "232"
        ]
      },
      "outputs": [],
      "source": [
        "cd.test_patches([])"
      ]
    },
    {
      "cell_type": "code",
      "execution_count": null,
      "metadata": {
        "tags": [
          "233"
        ]
      },
      "outputs": [],
      "source": [
        "with ExpectError(AssertionError):\n",
        "    cd.test_patches(cd.patches())"
      ]
    },
    {
      "cell_type": "markdown",
      "metadata": {
        "tags": [
          "234"
        ]
      },
      "source": [
        "Now for the actual debugging. We introduce a method `min_patches()` in which we invoke a `DeltaDebugger` on the `test_patches()` method we just defined. Using `min_arg.diff()`, it then computes a minimal failure-inducing difference between the patches. "
      ]
    },
    {
      "cell_type": "code",
      "execution_count": null,
      "metadata": {
        "tags": [
          "235"
        ]
      },
      "outputs": [],
      "source": [
        "class ChangeDebugger(ChangeDebugger):\n",
        "    def min_patches(self) -> Tuple[List[patch_obj], List[patch_obj], List[patch_obj]]:\n",
        "        \"\"\"\n",
        "        Compute a minimal set of patches.\n",
        "        Returns a triple (`pass_patches`, `fail_patches`, `diff_patches`) \n",
        "        where `diff_patches` is the minimal difference between \n",
        "        the set `pass_patches` (which, when applied, make the test pass) and \n",
        "        the set `fail_patches` (which, when applied, make the test fail).\n",
        "        \"\"\"\n",
        "        patches = self.patches()\n",
        "        with DeltaDebugger(**self._ddargs) as dd:\n",
        "            self.test_patches(patches)\n",
        "\n",
        "        args = dd.min_arg_diff()\n",
        "        pass_patches = args[0]['patches']\n",
        "        fail_patches = args[1]['patches']\n",
        "        diff_patches = args[2]['patches']\n",
        "\n",
        "        return (pass_patches, fail_patches, diff_patches)"
      ]
    },
    {
      "cell_type": "markdown",
      "metadata": {
        "tags": [
          "236"
        ]
      },
      "source": [
        "The `__repr__()` method, turning a `ChangeDebugger` into a readable string, computes `min_patches()` and returns a user-readable representation of the patches:"
      ]
    },
    {
      "cell_type": "code",
      "execution_count": null,
      "metadata": {
        "tags": [
          "237"
        ]
      },
      "outputs": [],
      "source": [
        "class ChangeDebugger(ChangeDebugger):\n",
        "    def __repr__(self) -> str:\n",
        "        \"\"\"Return readable list of minimal patches\"\"\"\n",
        "        pass_patches, fail_patches, diff_patches = self.min_patches()\n",
        "        return \"\".join(patch_string(p) for p in diff_patches)"
      ]
    },
    {
      "cell_type": "markdown",
      "metadata": {
        "tags": [
          "238"
        ]
      },
      "source": [
        "Here's how to use these methods. First, we invoke `ChangeDebugger` with the given old and new source code versions on our test function."
      ]
    },
    {
      "cell_type": "code",
      "execution_count": null,
      "metadata": {
        "tags": [
          "239"
        ]
      },
      "outputs": [],
      "source": [
        "with ChangeDebugger(version_1, version_2) as cd:\n",
        "    test_remove_html_markup()"
      ]
    },
    {
      "cell_type": "markdown",
      "metadata": {
        "tags": [
          "240"
        ]
      },
      "source": [
        "These are the patches we determined:"
      ]
    },
    {
      "cell_type": "code",
      "execution_count": null,
      "metadata": {
        "tags": [
          "241"
        ]
      },
      "outputs": [],
      "source": [
        "cd.patches()"
      ]
    },
    {
      "cell_type": "markdown",
      "metadata": {
        "tags": [
          "242"
        ]
      },
      "source": [
        "We invoke `min_patches` to obtain a minimal set of patches:"
      ]
    },
    {
      "cell_type": "code",
      "execution_count": null,
      "metadata": {
        "tags": [
          "243"
        ]
      },
      "outputs": [],
      "source": [
        "pass_patches, fail_patches, diffs = cd.min_patches()\n",
        "diffs"
      ]
    },
    {
      "cell_type": "markdown",
      "metadata": {
        "tags": [
          "244"
        ]
      },
      "source": [
        "We can inspect the failure-inducing patches right away:"
      ]
    },
    {
      "cell_type": "code",
      "execution_count": null,
      "metadata": {
        "tags": [
          "245"
        ]
      },
      "outputs": [],
      "source": [
        "print(patch_string(diffs[0]))"
      ]
    },
    {
      "cell_type": "markdown",
      "metadata": {
        "tags": [
          "246"
        ]
      },
      "source": [
        "Or \u2013\u00a0even simpler \u2013 we can simply print out the `ChangeDebugger` to obtain a readable representation."
      ]
    },
    {
      "cell_type": "code",
      "execution_count": null,
      "metadata": {
        "tags": [
          "247"
        ]
      },
      "outputs": [],
      "source": [
        "cd"
      ]
    },
    {
      "cell_type": "markdown",
      "metadata": {
        "tags": [
          "248"
        ]
      },
      "source": [
        "Success!"
      ]
    },
    {
      "cell_type": "markdown",
      "metadata": {
        "tags": [
          "249"
        ]
      },
      "source": [
        "Does this also work for longer change histories? Let's take the very first and the very last version."
      ]
    },
    {
      "cell_type": "code",
      "execution_count": null,
      "metadata": {
        "tags": [
          "250"
        ]
      },
      "outputs": [],
      "source": [
        "version_8 = get_output(['git', 'show', \n",
        "                            f'{versions[7]}:remove_html_markup.py'])"
      ]
    },
    {
      "cell_type": "code",
      "execution_count": null,
      "metadata": {
        "tags": [
          "251"
        ]
      },
      "outputs": [],
      "source": [
        "with ChangeDebugger(version_1, version_8) as cd:\n",
        "    test_remove_html_markup()"
      ]
    },
    {
      "cell_type": "markdown",
      "metadata": {
        "tags": [
          "252"
        ]
      },
      "source": [
        "We start with 5 patches:"
      ]
    },
    {
      "cell_type": "code",
      "execution_count": null,
      "metadata": {
        "tags": [
          "253"
        ]
      },
      "outputs": [],
      "source": [
        "len(cd.patches())"
      ]
    },
    {
      "cell_type": "markdown",
      "metadata": {
        "tags": [
          "254"
        ]
      },
      "source": [
        "Printing out the debugger again reveals a single failure-inducing change \u2013 it's actually still the same."
      ]
    },
    {
      "cell_type": "code",
      "execution_count": null,
      "metadata": {
        "tags": [
          "255"
        ]
      },
      "outputs": [],
      "source": [
        "cd"
      ]
    },
    {
      "cell_type": "markdown",
      "metadata": {
        "tags": [
          "256"
        ]
      },
      "source": [
        "We close with a bit of housekeeping, ensuring that the preconditions are properly met."
      ]
    },
    {
      "cell_type": "code",
      "execution_count": null,
      "metadata": {
        "tags": [
          "257"
        ]
      },
      "outputs": [],
      "source": [
        "from DeltaDebugger import NoCallError, NotFailingError"
      ]
    },
    {
      "cell_type": "code",
      "execution_count": null,
      "metadata": {
        "tags": [
          "258"
        ]
      },
      "outputs": [],
      "source": [
        "class NotPassingError(ValueError):\n",
        "    pass"
      ]
    },
    {
      "cell_type": "code",
      "execution_count": null,
      "metadata": {
        "tags": [
          "259"
        ]
      },
      "outputs": [],
      "source": [
        "class ChangeDebugger(ChangeDebugger):\n",
        "    def after_collection(self) -> None:\n",
        "        \"\"\"Diagnostics.\"\"\"\n",
        "        if self.function() is None:\n",
        "            raise NoCallError(\"No function call observed\")\n",
        "        if self.exception() is None:\n",
        "            raise NotFailingError(f\"{self.format_call()} did not raise an exception\")\n",
        "\n",
        "        try:\n",
        "            self.test_patches([])\n",
        "        except Exception:\n",
        "            raise NotPassingError(f\"{self.format_call()} raised an exception in its passing version\")\n",
        "\n",
        "        try:\n",
        "            self.test_patches(self.patches())\n",
        "            raise NotFailingError(f\"{self.format_call()} did not raise an exception in failing version\")\n",
        "        except Exception:\n",
        "            pass\n",
        "\n",
        "        if self.log:\n",
        "            print(f\"Observed {self.format_call()}\" +\n",
        "                  f\" raising {self.format_exception(self.exception())}\")  "
      ]
    },
    {
      "cell_type": "code",
      "execution_count": null,
      "metadata": {
        "tags": [
          "260"
        ]
      },
      "outputs": [],
      "source": [
        "with ExpectError(NotPassingError):\n",
        "    with ChangeDebugger(version_1, version_2) as cd:\n",
        "        test_remove_html_markup()"
      ]
    },
    {
      "cell_type": "markdown",
      "metadata": {
        "tags": [
          "261"
        ]
      },
      "source": [
        "With this, we're done. Enjoy debugging changes!"
      ]
    },
    {
      "cell_type": "markdown",
      "metadata": {
        "tags": [
          "262"
        ]
      },
      "source": [
        "## Synopsis"
      ]
    },
    {
      "cell_type": "markdown",
      "metadata": {
        "tags": [
          "263"
        ]
      },
      "source": [
        "This chapter introduces a class `ChangeDebugger` that automatically determines failure-inducing code changes."
      ]
    },
    {
      "cell_type": "markdown",
      "metadata": {
        "tags": [
          "264"
        ]
      },
      "source": [
        "### High-Level Interface\n",
        "\n",
        "You are given two Python source codes `source_pass` and `source_fail`, and a function `test()` that works using the definitions in `source_pass`, but raises an exception using the definitions in `source_fail`. Then, you can use `ChangeDebugger` as follows:\n",
        "\n",
        "```python\n",
        "with ChangeDebugger(source_pass, source_fail) as cd:\n",
        "    test()\n",
        "cd\n",
        "```\n",
        "\n",
        "This will produce the failure-inducing change between `source_pass` and `source_fail`, using [Delta Debugging](DeltaDebugger.ipynb) to determine minimal differences in patches applied."
      ]
    },
    {
      "cell_type": "code",
      "execution_count": null,
      "metadata": {
        "tags": [
          "265"
        ]
      },
      "outputs": [],
      "source": [
        "# ignore\n",
        "source_pass = version_1\n",
        "source_fail = version_2"
      ]
    },
    {
      "cell_type": "markdown",
      "metadata": {
        "tags": [
          "266"
        ]
      },
      "source": [
        "Here is an example. The function `test()` passes (raises no exception) if `remove_html_markup()` is defined as follows:"
      ]
    },
    {
      "cell_type": "code",
      "execution_count": null,
      "metadata": {
        "tags": [
          "267"
        ]
      },
      "outputs": [],
      "source": [
        "print_content(source_pass, '.py')"
      ]
    },
    {
      "cell_type": "code",
      "execution_count": null,
      "metadata": {
        "tags": [
          "268"
        ]
      },
      "outputs": [],
      "source": [
        "def test() -> None:\n",
        "    assert remove_html_markup('\"foo\"') == '\"foo\"'"
      ]
    },
    {
      "cell_type": "code",
      "execution_count": null,
      "metadata": {
        "tags": [
          "269"
        ]
      },
      "outputs": [],
      "source": [
        "exec(source_pass)\n",
        "test()"
      ]
    },
    {
      "cell_type": "markdown",
      "metadata": {
        "tags": [
          "270"
        ]
      },
      "source": [
        "If `remove_html_markup()` is changed as follows, though, then\n",
        "`test()` raises an exception and fails:"
      ]
    },
    {
      "cell_type": "code",
      "execution_count": null,
      "metadata": {
        "tags": [
          "271"
        ]
      },
      "outputs": [],
      "source": [
        "print_content(source_fail, '.py')"
      ]
    },
    {
      "cell_type": "code",
      "execution_count": null,
      "metadata": {
        "tags": [
          "272"
        ]
      },
      "outputs": [],
      "source": [
        "exec(source_fail)\n",
        "with ExpectError(AssertionError):\n",
        "    test()"
      ]
    },
    {
      "cell_type": "markdown",
      "metadata": {
        "tags": [
          "273"
        ]
      },
      "source": [
        "We can use `ChangeDebugger` to automatically identify the failure-inducing difference:"
      ]
    },
    {
      "cell_type": "code",
      "execution_count": null,
      "metadata": {
        "tags": [
          "274"
        ]
      },
      "outputs": [],
      "source": [
        "with ChangeDebugger(source_pass, source_fail) as cd:\n",
        "    test()\n",
        "cd"
      ]
    },
    {
      "cell_type": "markdown",
      "metadata": {
        "tags": [
          "275"
        ]
      },
      "source": [
        "The lines prefixed with `+` from are the ones in `source_fail` that cause the failure when added. (They also are the ones that should be fixed.)"
      ]
    },
    {
      "cell_type": "markdown",
      "metadata": {
        "tags": [
          "276"
        ]
      },
      "source": [
        "### Programmatic Interface\n",
        "\n",
        "For more details or more automation, use the programmatic interface. The method `min_patches()` returns a triple (`pass_patches`, `fail_patches`, `diffs`) where\n",
        "\n",
        "* applying `pass_patches` still make the call pass\n",
        "* applying `fail_patches` causes the call to fail\n",
        "* `diffs` is the (minimal) difference between the two.\n",
        "\n",
        "The patches come as list of `patch_obj` objects, as defined by Google's [diff-match-patch library](https://github.com/google/diff-match-patch)."
      ]
    },
    {
      "cell_type": "code",
      "execution_count": null,
      "metadata": {
        "tags": [
          "277"
        ]
      },
      "outputs": [],
      "source": [
        "pass_patches, fail_patches, diffs = cd.min_patches()"
      ]
    },
    {
      "cell_type": "markdown",
      "metadata": {
        "tags": [
          "278"
        ]
      },
      "source": [
        "One can apply all patches in `pass_patches` and still not cause the test to fail:"
      ]
    },
    {
      "cell_type": "code",
      "execution_count": null,
      "metadata": {
        "tags": [
          "279"
        ]
      },
      "outputs": [],
      "source": [
        "for p in pass_patches:\n",
        "    print_patch(p)"
      ]
    },
    {
      "cell_type": "markdown",
      "metadata": {
        "tags": [
          "280"
        ]
      },
      "source": [
        "However, as soon as we also apply the patches in `diffs`, we get the failure. (This is also what is shown when we output a `ChangeDebugger`.)"
      ]
    },
    {
      "cell_type": "code",
      "execution_count": null,
      "metadata": {
        "tags": [
          "281"
        ]
      },
      "outputs": [],
      "source": [
        "for p in diffs:\n",
        "    print_patch(p)"
      ]
    },
    {
      "cell_type": "markdown",
      "metadata": {
        "tags": [
          "282"
        ]
      },
      "source": [
        "The full set of methods in `ChangeDebugger` is shown below."
      ]
    },
    {
      "cell_type": "code",
      "execution_count": null,
      "metadata": {
        "tags": [
          "283"
        ]
      },
      "outputs": [],
      "source": [
        "# ignore\n",
        "from ClassDiagram import display_class_hierarchy"
      ]
    },
    {
      "cell_type": "code",
      "execution_count": null,
      "metadata": {
        "tags": [
          "284"
        ]
      },
      "outputs": [],
      "source": [
        "# ignore\n",
        "display_class_hierarchy([ChangeDebugger],\n",
        "                        public_methods=[\n",
        "                            CallCollector.__init__,\n",
        "                            CallCollector.__enter__,\n",
        "                            CallCollector.__exit__,\n",
        "                            CallCollector.call,  # type: ignore\n",
        "                            CallCollector.args,\n",
        "                            CallCollector.function,\n",
        "                            CallCollector.exception,\n",
        "                            ChangeDebugger.__init__,\n",
        "                            ChangeDebugger.min_patches,\n",
        "                            ChangeDebugger.patches,\n",
        "                            ChangeDebugger.pass_source,\n",
        "                            ChangeDebugger.fail_source,\n",
        "                            ChangeDebugger.__repr__,\n",
        "                            ChangeDebugger.__enter__\n",
        "                        ],\n",
        "                        project='debuggingbook')"
      ]
    },
    {
      "cell_type": "markdown",
      "metadata": {
        "tags": [
          "285"
        ]
      },
      "source": [
        "### Supporting Functions"
      ]
    },
    {
      "cell_type": "markdown",
      "metadata": {
        "tags": [
          "286"
        ]
      },
      "source": [
        "`ChangeDebugger` relies on lower level `patch()` and `diff()` functions.\n",
        "\n",
        "To apply patch objects on source code, use the `patch()` function. It takes a source code and a list of patches to be applied."
      ]
    },
    {
      "cell_type": "code",
      "execution_count": null,
      "metadata": {
        "tags": [
          "287"
        ]
      },
      "outputs": [],
      "source": [
        "print_content(patch(source_pass, diffs), '.py')"
      ]
    },
    {
      "cell_type": "markdown",
      "metadata": {
        "tags": [
          "288"
        ]
      },
      "source": [
        "Conversely, the `diff()` function computes patches between two texts. It returns a list of patch objects that can be applied on text."
      ]
    },
    {
      "cell_type": "code",
      "execution_count": null,
      "metadata": {
        "tags": [
          "289"
        ]
      },
      "outputs": [],
      "source": [
        "for p in diff(source_pass, source_fail):\n",
        "    print_patch(p)"
      ]
    },
    {
      "cell_type": "markdown",
      "metadata": {
        "button": false,
        "new_sheet": true,
        "run_control": {
          "read_only": false
        },
        "tags": [
          "290"
        ]
      },
      "source": [
        "## Lessons Learned\n",
        "\n",
        "* If one has a version history available, one can use it to determine failure-inducing changes.\n",
        "* Bisecting with git effectively isolates failure-inducing commits, both manually and automatically.\n",
        "* Delta debugging on changes allows further isolating minimal sets of failure-inducing changes."
      ]
    },
    {
      "cell_type": "markdown",
      "metadata": {
        "button": false,
        "new_sheet": false,
        "run_control": {
          "read_only": false
        },
        "tags": [
          "291"
        ]
      },
      "source": [
        "## Next Steps\n",
        "\n",
        "This concludes our applications of Delta Debugging. In the next chapters, we will analyze how to abstract failure-inducing inputs into failure-inducing _input sets_."
      ]
    },
    {
      "cell_type": "markdown",
      "metadata": {
        "tags": [
          "292"
        ]
      },
      "source": [
        "## Background\n",
        "\n",
        "The concept of \"bisecting\" as traversing a version history to identify failure-inducing changes was first described by Brian Ness and Viet Ngo from Cray Research as \"Source change isolation\" \\cite{Ness1997}. The abstract of their paper summarizes the goals and benefits:\n",
        "\n",
        "> Effective regression containment is an important factor in the design of development and testing processes for large software projects, especially when many developers are doing concurrent work on a common set of sources. Source change isolation provides an inexpensive, mechanical alternative to analytical methods for identifying the cause of software regressions. It also provides the advantage of enabling regressions to be eliminated by reversing the effect of source changes that introduced errant behavior, without the need to write new code, and without halting other development work on the same software. Deliverability is also improved.\n",
        "\n",
        "Delta Debugging on changes (and also Delta Debugging) was introduced in \"Yesterday, my program worked. Today, it does not. Why?\" \\cite{Zeller1999}, a paper which would win an ACM SIGSOFT Impact Paper Award ten years later.\n",
        "This paper generalized over \\cite{Ness1997} by identifying failure-inducing differences in arbitrary sets of changes. \\cite{Zeller2002} generalized the algorithm to work on inputs and other collections (including changes); the [chapter on delta debugging](DeltaDebugger), which we use in this chapter, uses the \\cite{Zeller2002} formulation of the `dd` algorithm."
      ]
    },
    {
      "cell_type": "markdown",
      "metadata": {
        "tags": [
          "293"
        ]
      },
      "source": [
        "We're done, so we clean up a bit:"
      ]
    },
    {
      "cell_type": "code",
      "execution_count": null,
      "metadata": {
        "tags": [
          "294"
        ]
      },
      "outputs": [],
      "source": [
        "try:\n",
        "    shutil.rmtree(PROJECT)\n",
        "except FileNotFoundError:\n",
        "    pass"
      ]
    },
    {
      "cell_type": "markdown",
      "metadata": {
        "button": false,
        "new_sheet": true,
        "run_control": {
          "read_only": false
        },
        "tags": [
          "295"
        ]
      },
      "source": [
        "## Exercises\n"
      ]
    },
    {
      "cell_type": "markdown",
      "metadata": {
        "button": false,
        "new_sheet": false,
        "run_control": {
          "read_only": false
        },
        "solution2": "hidden",
        "solution2_first": true,
        "tags": [
          "296"
        ]
      },
      "source": [
        "### Exercise 1: Fine-Grained Changes\n",
        "\n",
        "Instead of computing patches on lines (as we and most `diff` programs do), one can also compute fine-grained diffs, using our `diff()` function with `mode='chars'`. Would this make sense?"
      ]
    },
    {
      "cell_type": "markdown",
      "metadata": {
        "slideshow": {
          "slide_type": "skip"
        },
        "solution2": "hidden",
        "tags": [
          "297"
        ]
      },
      "source": [
        "**Solution.** Let us see what happens if we compute a character `diff` on our two versions:"
      ]
    },
    {
      "cell_type": "code",
      "execution_count": null,
      "metadata": {
        "cell_style": "split",
        "slideshow": {
          "slide_type": "skip"
        },
        "solution2": "hidden",
        "tags": [
          "298"
        ]
      },
      "outputs": [],
      "source": [
        "patches = diff(version_1, version_2, mode='chars')"
      ]
    },
    {
      "cell_type": "code",
      "execution_count": null,
      "metadata": {
        "slideshow": {
          "slide_type": "skip"
        },
        "solution2": "hidden",
        "tags": [
          "299"
        ]
      },
      "outputs": [],
      "source": [
        "for p in patches:\n",
        "    print(patch_string(p))"
      ]
    },
    {
      "cell_type": "markdown",
      "metadata": {
        "slideshow": {
          "slide_type": "skip"
        },
        "solution2": "hidden",
        "tags": [
          "300"
        ]
      },
      "source": [
        "We see that the patches now replace words like `start` to `and`, keeping the `a` common to both words. Such tiny differences may be useful for merging changes in text documents (which is what the Google library was built for), but not necessarily code."
      ]
    },
    {
      "cell_type": "markdown",
      "metadata": {
        "button": false,
        "new_sheet": false,
        "run_control": {
          "read_only": false
        },
        "tags": [
          "301"
        ]
      },
      "source": [
        "### Exercise 2: Failure-Inducing Changes in the Large\n",
        "\n",
        "Our `ChangeDebugger` class works on two versions of one class, function, or module, but not on versions of an entire project. Extend `ChangeDebugger` to a class `DiffDebugger` that can actually take two _directories_ (including differences in subdirectories with added and deleted files) and determine failure-inducing differences between them. This would allow checking out two versions of a project and determine failure-inducing differences.\n",
        "\n",
        "Note that applying delte debugging on large sets of differences is a time-consuming task, since \n",
        "\n",
        "* Every test requires a rebuild and rerun of the code; and\n",
        "* There are many ways to cause inconsistencies by applying random changes.\n",
        "\n",
        "Refer to \\cite{Zeller1999} for some hints on how to make this efficient."
      ]
    },
    {
      "cell_type": "markdown",
      "metadata": {
        "button": false,
        "new_sheet": false,
        "run_control": {
          "read_only": false
        },
        "tags": [
          "302"
        ]
      },
      "source": [
        "### Exercise 3: Hierarchical Change Debugging\n",
        "\n",
        "Rather than running Delta Debugging on _all_ changes between two projects (as with `DiffDebugger`, above), it can be wise to first progress along the change history (as with `git bisect`) and only then run Delta Debugging on the remaining changes. \n",
        "\n",
        "Building on `DiffDebugger`, implement a class `GitDebugger` that takes two version identifiers (= the \"good\" and \"bad\" hashes in `git bisect`) and a test (like `ChangeDebugger`) and then\n",
        "\n",
        "1. runs `git bisect` to narrow down the failure-inducing commit\n",
        "2. runs `ChangeDebugger` to further narrow down the failure-inducing change within the failure-inducing commit."
      ]
    },
    {
      "cell_type": "markdown",
      "metadata": {
        "tags": [
          "303"
        ]
      },
      "source": [
        "This gives you the best of two worlds: The failure-inducing commit is quickly identified; and the additional `ChangeDebugger` run provides even more fine-grained details, albeit at the expense of (potentially several) additional tests."
      ]
    }
  ],
  "metadata": {
    "ipub": {
      "bibliography": "fuzzingbook.bib",
      "toc": true
    },
    "kernelspec": {
      "display_name": "venv",
      "language": "python",
      "name": "python3"
    },
    "language_info": {
      "codemirror_mode": {
        "name": "ipython",
        "version": 3
      },
      "file_extension": ".py",
      "mimetype": "text/x-python",
      "name": "python",
      "nbconvert_exporter": "python",
      "pygments_lexer": "ipython3",
      "version": "3.9.10 (main, Jan 15 2022, 11:48:04) \n[Clang 13.0.0 (clang-1300.0.29.3)]"
    },
    "toc": {
      "base_numbering": 1,
      "nav_menu": {},
      "number_sections": true,
      "sideBar": true,
      "skip_h1_title": true,
      "title_cell": "",
      "title_sidebar": "Contents",
      "toc_cell": false,
      "toc_position": {},
      "toc_section_display": true,
      "toc_window_display": true
    },
    "toc-autonumbering": false,
    "vscode": {
      "interpreter": {
        "hash": "0af4f07dd039d1b4e562c7a7d0340393b1c66f50605ac6af30beb81aa23b7ef5"
      }
    }
  },
  "nbformat": 4,
  "nbformat_minor": 4
}