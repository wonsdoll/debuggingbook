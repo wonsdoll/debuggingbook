{
  "cells": [
    {
      "attachments": {},
      "cell_type": "markdown",
      "metadata": {
        "button": false,
        "new_sheet": false,
        "run_control": {
          "read_only": false
        },
        "tags": [
          "1"
        ]
      },
      "source": [
        "# Generalizing Failure Circumstances\n",
        "\n",
        "One central question in debugging is: _Does this bug occur in other situations, too?_ In this chapter, we present a technique that is set to _generalize_ the circumstances under which a failure occurs. The DDSET algorithm takes a failure-inducing input, breaks it into individual elements. For each element, it tries to find whether it can be replaced by others in the same category, and if so, it _generalizes_ the concrete element to the very category. The result is a _pattern_ that characterizes the failure condition: \"The failure occurs for all inputs of the form `(<expr> * <expr>)`\"."
      ]
    },
    {
      "cell_type": "code",
      "execution_count": null,
      "metadata": {
        "tags": [
          "2"
        ]
      },
      "outputs": [],
      "source": [
        "from bookutils import YouTubeVideo\n",
        "YouTubeVideo(\"PV22XtIQU1s\")"
      ]
    },
    {
      "cell_type": "markdown",
      "metadata": {
        "button": false,
        "new_sheet": false,
        "run_control": {
          "read_only": false
        },
        "tags": [
          "3"
        ]
      },
      "source": [
        "**Prerequisites**\n",
        "\n",
        "* You should have read the [chapter on _delta debugging_](DeltaDebugger.ipynb)."
      ]
    },
    {
      "cell_type": "code",
      "execution_count": null,
      "metadata": {
        "button": false,
        "new_sheet": false,
        "run_control": {
          "read_only": false
        },
        "slideshow": {
          "slide_type": "skip"
        },
        "tags": [
          "4"
        ]
      },
      "outputs": [],
      "source": [
        "import bookutils.setup"
      ]
    },
    {
      "cell_type": "code",
      "execution_count": null,
      "metadata": {
        "tags": [
          "5"
        ]
      },
      "outputs": [],
      "source": [
        "import DeltaDebugger"
      ]
    },
    {
      "cell_type": "markdown",
      "metadata": {
        "slideshow": {
          "slide_type": "skip"
        },
        "tags": [
          "6"
        ]
      },
      "source": [
        "## Synopsis\n",
        "<!-- Automatically generated. Do not edit. -->\n",
        "\n",
        "To [use the code provided in this chapter](Importing.ipynb), write\n",
        "\n",
        "```python\n",
        ">>> from debuggingbook.DDSetDebugger import <identifier>\n",
        "```\n",
        "\n",
        "and then make use of the following features.\n",
        "\n",
        "\n",
        "This chapter provides a class `DDSetDebugger`, implementing the DDSET algorithm for generalizing failure-inducing inputs. The `DDSetDebugger` is used as follows:\n",
        "\n",
        "```python\n",
        "with DDSetDebugger(grammar) as dd:\n",
        "    function(args...)\n",
        "dd\n",
        "```\n",
        "\n",
        "Here, `function(args...)` is a failing function call (= raises an execption) that takes at least one string argument; `grammar` is an [input grammar in fuzzingbook format](https://www.fuzzingbook.org/html/Grammars.html) that matches the format of this argument.\n",
        "\n",
        "The result is a call of `function()` with an _abstract failure-inducing input_ \u2013\u00a0a variant of the conrete input in which parts are replaced by placeholders in the form `<name>`, where `<name>` is a nonterminal in the grammar. The failure has been verified to occur for a number of instantiations of `<name>`.\n",
        "\n",
        "Here is an example of how `DDSetDebugger` works. The concrete failing input `<foo>\"bar</foo>` is generalized to an _abstract failure-inducing input_:\n",
        "\n",
        "```python\n",
        ">>> with DDSetDebugger(SIMPLE_HTML_GRAMMAR) as dd:\n",
        ">>>     remove_html_markup('<foo>\"bar</foo>')\n",
        ">>> dd\n",
        "remove_html_markup(s='<opening-tag>\"<plain-text><closing-tag>')\n",
        "```\n",
        "The abstract input tells us that the failure occurs for whatever opening and closing HTML tags as long as there is a double quote between them.\n",
        "\n",
        "A programmatic interface is available as well. `generalize()` returns a mapping of argument names to (generalized) values:\n",
        "\n",
        "```python\n",
        ">>> dd.generalize()\n",
        "{'s': '<opening-tag>\"<plain-text><closing-tag>'}\n",
        "```\n",
        "Using `fuzz()`, the abstract input can be instantiated to further concrete inputs, all set to produce the failure again:\n",
        "\n",
        "```python\n",
        ">>> for i in range(10):\n",
        ">>>     print(dd.fuzz())\n",
        "remove_html_markup(s='<R W5128555F35xrs=\\'\\'>\"</hmarQ9>')\n",
        "remove_html_markup(s='<K18 s=\"\" g=\\'\\'>\"Y</V0>')\n",
        "remove_html_markup(s='<M0D74 m=\\'\\' R=\\'\\'>\"</xXD01>')\n",
        "remove_html_markup(s='<do>\"</Z>')\n",
        "remove_html_markup(s='<I j=\\'\\'>\"X</r9>')\n",
        "remove_html_markup(s='<I7>\"l </e>')\n",
        "remove_html_markup(s='<o3 B2l4v=\"Z\" P=\"\\t\">\"</X7P>')\n",
        "remove_html_markup(s='<i9 J=\"\" B=\\'\\'>\"</m>')\n",
        "remove_html_markup(s='<V>\"</lM2>')\n",
        "remove_html_markup(s='<P4n>\"</uj1>')\n",
        "\n",
        "```\n",
        "`DDSetDebugger` can be customized by passing a subclass of `TreeGeneralizer`, which does the gist of the work; for details, see its constructor.\n",
        "The full class hierarchy is shown below.\n",
        "\n",
        "![](PICS/DDSetDebugger-synopsis-1.svg)\n",
        "\n"
      ]
    },
    {
      "cell_type": "markdown",
      "metadata": {
        "tags": [
          "7"
        ]
      },
      "source": [
        "## A Failing Program\n",
        "\n",
        "As with previous chapters, we use `remove_html_markup()` as our ongoing example. This function is set to remove HTML markup tags (like `<em>`) from a given string `s`, returning the plain text only. We use the version from [the chapter on asssertions](Assertions.ipynb), using an assertion as postcondition checker."
      ]
    },
    {
      "cell_type": "code",
      "execution_count": null,
      "metadata": {
        "tags": [
          "8"
        ]
      },
      "outputs": [],
      "source": [
        "def remove_html_markup(s):  # type: ignore\n",
        "    tag = False\n",
        "    quote = False\n",
        "    out = \"\"\n",
        "\n",
        "    for c in s:\n",
        "        if c == '<' and not quote:\n",
        "            tag = True\n",
        "        elif c == '>' and not quote:\n",
        "            tag = False\n",
        "        elif c == '\"' or c == \"'\" and tag:\n",
        "            quote = not quote\n",
        "        elif not tag:\n",
        "            out = out + c\n",
        "\n",
        "    # postcondition\n",
        "    assert '<' not in out and '>' not in out\n",
        "\n",
        "    return out"
      ]
    },
    {
      "cell_type": "markdown",
      "metadata": {
        "tags": [
          "9"
        ]
      },
      "source": [
        "For the most inputs, `remove_html_markup()` works just as expected:"
      ]
    },
    {
      "cell_type": "code",
      "execution_count": null,
      "metadata": {
        "tags": [
          "10"
        ]
      },
      "outputs": [],
      "source": [
        "remove_html_markup(\"Be <em>quiet</em>, he said\")"
      ]
    },
    {
      "cell_type": "markdown",
      "metadata": {
        "tags": [
          "11"
        ]
      },
      "source": [
        "There are inputs, however, for which it fails:"
      ]
    },
    {
      "cell_type": "code",
      "execution_count": null,
      "metadata": {
        "tags": [
          "12"
        ]
      },
      "outputs": [],
      "source": [
        "BAD_INPUT = '<foo>\"bar</foo>'"
      ]
    },
    {
      "cell_type": "code",
      "execution_count": null,
      "metadata": {
        "tags": [
          "13"
        ]
      },
      "outputs": [],
      "source": [
        "from ExpectError import ExpectError"
      ]
    },
    {
      "cell_type": "code",
      "execution_count": null,
      "metadata": {
        "tags": [
          "14"
        ]
      },
      "outputs": [],
      "source": [
        "with ExpectError(AssertionError):\n",
        "    remove_html_markup(BAD_INPUT)"
      ]
    },
    {
      "cell_type": "code",
      "execution_count": null,
      "metadata": {
        "tags": [
          "15"
        ]
      },
      "outputs": [],
      "source": [
        "from bookutils import quiz"
      ]
    },
    {
      "cell_type": "markdown",
      "metadata": {
        "tags": [
          "16"
        ]
      },
      "source": [
        "In contrast to the other chapters, our aim now is not to immediately go and debug `remove_html_markup()`. Instead, we focus on another important question: \n",
        "\n",
        "> Under which conditions precisely does `remove_html_markup()` fail?"
      ]
    },
    {
      "cell_type": "markdown",
      "metadata": {
        "tags": [
          "17"
        ]
      },
      "source": [
        "This question can be generalized to\n",
        "\n",
        "> What is the set of inputs for which `remove_html_markup()` fails?"
      ]
    },
    {
      "cell_type": "markdown",
      "metadata": {
        "tags": [
          "18"
        ]
      },
      "source": [
        "Our plan for this is to _generalize_ concrete inputs (such as `BAD_INPUTS`) into an *abstract failure-inducing inputs*. These are patterns formed from a concrete input, but in which specific _placeholders_ indicate sets of inputs that are permitted. In the abstract failure-inducing input\n",
        "\n",
        "```html\n",
        "<opening-tag>\"bar<closing-tag>\n",
        "```\n",
        "\n",
        "for instance, `<opening-tag>` and `<closing-tag>` are placeholders for opening and closing HTML tags, respectively. The pattern indicates that any opening HTML tag and closing HTML tag can be present in the input, as long as the enclosed text reads `\"bar`."
      ]
    },
    {
      "cell_type": "markdown",
      "metadata": {
        "tags": [
          "19"
        ]
      },
      "source": [
        "Given a concrete failure-inducing input, our aim is to _generalize_ it as much as possible to such an abstract failure-inducing input. The resulting pattern should then\n",
        "\n",
        "* capture the _circumstances_ under which the program fails;\n",
        "* allow for _test generation_ by instantiating the placeholders;\n",
        "* help ensuring our fix is as _general as possible_."
      ]
    },
    {
      "cell_type": "code",
      "execution_count": null,
      "metadata": {
        "tags": [
          "20"
        ]
      },
      "outputs": [],
      "source": [
        "quiz(\"If `s = '<foo>\\\"bar</foo>'` (i.e., `BAD_INPUT`), \"\n",
        "     \"what is the value of `out` such that the assertion fails?\",\n",
        "    [\n",
        "        '`bar`',\n",
        "        '`bar</foo>`',\n",
        "        '`\"bar</foo>`',\n",
        "        '`<foo>\"bar</foo>`',\n",
        "    ], '9999999 // 4999999')"
      ]
    },
    {
      "cell_type": "markdown",
      "metadata": {
        "tags": [
          "21"
        ]
      },
      "source": [
        "## Grammars\n",
        "\n",
        "To determine abstract failure-inducing inputs, we need means to determine and characterize _sets of inputs_ \u2013 known in computer science as _languages_. To formally describe languages, the field of *formal languages* has devised a number of *language specifications* that describe a language.  *Regular expressions* represent the simplest class of these languages to denote sets of strings: The regular expression `[a-z]*`, for instance, denotes a (possibly empty) sequence of lowercase letters.  *Automata theory* connects these languages to automata that accept these inputs; *finite state machines*, for instance, can be used to specify the language of regular expressions."
      ]
    },
    {
      "cell_type": "markdown",
      "metadata": {
        "tags": [
          "22"
        ]
      },
      "source": [
        "Regular expressions are great for not-too-complex input formats, and the associated finite state machines have many properties that make them great for reasoning.  To specify more complex inputs, though, they quickly encounter limitations.  At the other end of the language spectrum, we have *universal grammars* that denote the language accepted by *Turing machines*.  A Turing machine can compute anything that can be computed; and with Python being Turing-complete, this means that we can also use a Python program $p$ to specify or even enumerate legal inputs. But then, computer science theory also tells us that each such program has to be written specifically for the input to be considered, which is not the level of automation we want."
      ]
    },
    {
      "cell_type": "markdown",
      "metadata": {
        "tags": [
          "23"
        ]
      },
      "source": [
        "The middle ground between regular expressions and Turing machines is covered by *grammars*.  Grammars are among the most popular (and best understood) formalisms to formally specify input languages.  Using a grammar, one can express a wide range of the properties of an input language.  Grammars are particularly great for expressing the *syntactical structure* of an input, and are the formalism of choice to express nested or recursive inputs.  The grammars we use are so-called *context-free grammars*, one of the easiest and most popular grammar formalisms."
      ]
    },
    {
      "attachments": {},
      "cell_type": "markdown",
      "metadata": {
        "tags": [
          "24"
        ]
      },
      "source": [
        "A grammar is defined as a mapping of _nonterminal_ symbols (denoted in `<angle brackets>`) to lists of alternative _expansions_, which are strings containing _terminal_ symbols and possibly more _nonterminal_ symbols. To make the writing of grammars as simple as possible, we adopt the [fuzzingbook](https://www.fuzzingbook.org/) format that is based on strings and lists."
      ]
    },
    {
      "cell_type": "code",
      "execution_count": null,
      "metadata": {
        "tags": [
          "25"
        ]
      },
      "outputs": [],
      "source": [
        "import fuzzingbook"
      ]
    },
    {
      "cell_type": "markdown",
      "metadata": {
        "tags": [
          "26"
        ]
      },
      "source": [
        "Fuzzingbook grammars take the format of a _mapping_ between symbol names and expansions, where expansions are _lists_ of alternatives."
      ]
    },
    {
      "cell_type": "code",
      "execution_count": null,
      "metadata": {
        "tags": [
          "27"
        ]
      },
      "outputs": [],
      "source": [
        "# ignore\n",
        "from typing import Any, Callable, Optional, Type, Tuple\n",
        "from typing import Dict, Union, List, cast, Generator"
      ]
    },
    {
      "cell_type": "code",
      "execution_count": null,
      "metadata": {
        "tags": [
          "28"
        ]
      },
      "outputs": [],
      "source": [
        "Grammar = Dict[str,  # A grammar maps strings...\n",
        "               List[\n",
        "                   Union[str,  # to list of strings...\n",
        "                         Tuple[str, Dict[str, Any]]  # or to pairs of strings and attributes.\n",
        "                        ]\n",
        "               ]\n",
        "              ]"
      ]
    },
    {
      "cell_type": "markdown",
      "metadata": {
        "tags": [
          "29"
        ]
      },
      "source": [
        "A one-rule grammar for digits thus takes the form"
      ]
    },
    {
      "cell_type": "code",
      "execution_count": null,
      "metadata": {
        "tags": [
          "30"
        ]
      },
      "outputs": [],
      "source": [
        "DIGIT_GRAMMAR: Grammar = {\n",
        "    \"<start>\":\n",
        "        [\"0\", \"1\", \"2\", \"3\", \"4\", \"5\", \"6\", \"7\", \"8\", \"9\"]\n",
        "}"
      ]
    },
    {
      "cell_type": "markdown",
      "metadata": {
        "tags": [
          "31"
        ]
      },
      "source": [
        "which means that the `<start>` symbol can be expanded into any of the digits listed."
      ]
    },
    {
      "cell_type": "markdown",
      "metadata": {
        "tags": [
          "32"
        ]
      },
      "source": [
        "A full grammar for arithmetic expressions looks like this:"
      ]
    },
    {
      "cell_type": "code",
      "execution_count": null,
      "metadata": {
        "tags": [
          "33"
        ]
      },
      "outputs": [],
      "source": [
        "EXPR_GRAMMAR: Grammar = {\n",
        "    \"<start>\":\n",
        "        [\"<expr>\"],\n",
        "\n",
        "    \"<expr>\":\n",
        "        [\"<term> + <expr>\", \"<term> - <expr>\", \"<term>\"],\n",
        "\n",
        "    \"<term>\":\n",
        "        [\"<factor> * <term>\", \"<factor> / <term>\", \"<factor>\"],\n",
        "\n",
        "    \"<factor>\":\n",
        "        [\"+<factor>\",\n",
        "         \"-<factor>\",\n",
        "         \"(<expr>)\",\n",
        "         \"<integer>.<integer>\",\n",
        "         \"<integer>\"],\n",
        "\n",
        "    \"<integer>\":\n",
        "        [\"<digit><integer>\", \"<digit>\"],\n",
        "\n",
        "    \"<digit>\":\n",
        "        [\"0\", \"1\", \"2\", \"3\", \"4\", \"5\", \"6\", \"7\", \"8\", \"9\"]\n",
        "}"
      ]
    },
    {
      "cell_type": "markdown",
      "metadata": {
        "tags": [
          "34"
        ]
      },
      "source": [
        "From such a grammar, one can easily generate inputs that conform to the grammar."
      ]
    },
    {
      "cell_type": "code",
      "execution_count": null,
      "metadata": {
        "tags": [
          "35"
        ]
      },
      "outputs": [],
      "source": [
        "from fuzzingbook.GrammarFuzzer import GrammarFuzzer"
      ]
    },
    {
      "cell_type": "code",
      "execution_count": null,
      "metadata": {
        "tags": [
          "36"
        ]
      },
      "outputs": [],
      "source": [
        "simple_expr_fuzzer = GrammarFuzzer(EXPR_GRAMMAR)"
      ]
    },
    {
      "cell_type": "code",
      "execution_count": null,
      "metadata": {
        "tags": [
          "37"
        ]
      },
      "outputs": [],
      "source": [
        "for i in range(10):\n",
        "    fuzz_expr = simple_expr_fuzzer.fuzz()\n",
        "    print(fuzz_expr)"
      ]
    },
    {
      "cell_type": "markdown",
      "metadata": {
        "tags": [
          "38"
        ]
      },
      "source": [
        "Nonterminals as found in the grammar make natural _placeholders_ in abstract failure-inducing inputs. If we know, for instance, that it is not just the concrete failure-inducing input\n",
        "\n",
        "```python\n",
        "(2 * 3)\n",
        "```\n",
        "\n",
        "but the abstract failure-inducing input\n",
        "\n",
        "```html\n",
        "(<expr> * <expr>)\n",
        "```\n",
        "\n",
        "that causes the failure, we immediately see that the error is due to the multiplication operator rather than its operands."
      ]
    },
    {
      "cell_type": "markdown",
      "metadata": {
        "tags": [
          "39"
        ]
      },
      "source": [
        "Coming back to our `remove_html_markup()` example, let us create a simple grammar for HTML expressions. A `<html>` element is either plain text or tagged text."
      ]
    },
    {
      "cell_type": "code",
      "execution_count": null,
      "metadata": {
        "button": false,
        "new_sheet": false,
        "run_control": {
          "read_only": false
        },
        "slideshow": {
          "slide_type": "subslide"
        },
        "tags": [
          "40"
        ]
      },
      "outputs": [],
      "source": [
        "SIMPLE_HTML_GRAMMAR: Grammar = {\n",
        "    \"<start>\":\n",
        "        [\"<html>\"],\n",
        "\n",
        "    \"<html>\":\n",
        "        [\"<plain-text>\", \"<tagged-text>\"],\n",
        "}"
      ]
    },
    {
      "cell_type": "markdown",
      "metadata": {
        "tags": [
          "41"
        ]
      },
      "source": [
        "Plain text is a simple (possibly empty) sequence of letter, digits, punctuation, and whitespace. (Note how `<plain-text>` is either empty or some character followed by more plain text.) The characters `<` and `>` are not allowed, though."
      ]
    },
    {
      "cell_type": "code",
      "execution_count": null,
      "metadata": {
        "tags": [
          "42"
        ]
      },
      "outputs": [],
      "source": [
        "import string"
      ]
    },
    {
      "cell_type": "code",
      "execution_count": null,
      "metadata": {
        "button": false,
        "new_sheet": false,
        "run_control": {
          "read_only": false
        },
        "slideshow": {
          "slide_type": "subslide"
        },
        "tags": [
          "43"
        ]
      },
      "outputs": [],
      "source": [
        "SIMPLE_HTML_GRAMMAR.update({\n",
        "    \"<plain-text>\":\n",
        "        [\"\", \"<plain-char><plain-text>\"],\n",
        "\n",
        "    \"<plain-char>\":\n",
        "        [\"<letter>\", \"<digit>\", \"<other>\", \"<whitespace>\"],\n",
        "\n",
        "    \"<letter>\": list(string.ascii_letters),\n",
        "    \"<digit>\": list(string.digits),\n",
        "    \"<other>\": list(string.punctuation.replace('<', '').replace('>', '')),\n",
        "    \"<whitespace>\": list(string.whitespace)\n",
        "})"
      ]
    },
    {
      "cell_type": "markdown",
      "metadata": {
        "tags": [
          "44"
        ]
      },
      "source": [
        "Tagged text is a bit more complicated. We have opening tags `<foo>`, followed by some more HTML material, and then closed by a closing tag `</foo>`. (We do not insist that the two tags match.) A self-closing tag has the form `<br/>`. For compatibility reasons, we also allow just opening tags without closing tags, as in `<img>`."
      ]
    },
    {
      "cell_type": "code",
      "execution_count": null,
      "metadata": {
        "button": false,
        "new_sheet": false,
        "run_control": {
          "read_only": false
        },
        "slideshow": {
          "slide_type": "subslide"
        },
        "tags": [
          "45"
        ]
      },
      "outputs": [],
      "source": [
        "SIMPLE_HTML_GRAMMAR.update({\n",
        "    \"<tagged-text>\":\n",
        "        [\"<opening-tag><html><closing-tag>\",\n",
        "         \"<self-closing-tag>\",\n",
        "         \"<opening-tag>\"],\n",
        "})"
      ]
    },
    {
      "cell_type": "markdown",
      "metadata": {
        "tags": [
          "46"
        ]
      },
      "source": [
        "Since the characters `<` and `>` are already reserved for denoting nonterminal symbols, we use the special nonterminal symbols `<lt>` and `<gt>` that expand into `<` and `>`, respectively,"
      ]
    },
    {
      "cell_type": "code",
      "execution_count": null,
      "metadata": {
        "button": false,
        "new_sheet": false,
        "run_control": {
          "read_only": false
        },
        "slideshow": {
          "slide_type": "subslide"
        },
        "tags": [
          "47"
        ]
      },
      "outputs": [],
      "source": [
        "SIMPLE_HTML_GRAMMAR.update({\n",
        "    \"<opening-tag>\":\n",
        "        [\"<lt><id><gt>\",\n",
        "         \"<lt><id><attrs><gt>\"],\n",
        "\n",
        "    \"<lt>\": [\"<\"],\n",
        "    \"<gt>\": [\">\"],\n",
        "\n",
        "    \"<id>\":\n",
        "        [\"<letter>\", \"<id><letter>\", \"<id><digit>\"],\n",
        "\n",
        "    \"<closing-tag>\":\n",
        "        [\"<lt>/<id><gt>\"],\n",
        "\n",
        "    \"<self-closing-tag>\":\n",
        "        [\"<lt><id><attrs>/<gt>\"],\n",
        "})"
      ]
    },
    {
      "cell_type": "markdown",
      "metadata": {
        "tags": [
          "48"
        ]
      },
      "source": [
        "Finally, HTML tags can have attributes, which are enclosed in quotes."
      ]
    },
    {
      "cell_type": "code",
      "execution_count": null,
      "metadata": {
        "button": false,
        "new_sheet": false,
        "run_control": {
          "read_only": false
        },
        "slideshow": {
          "slide_type": "subslide"
        },
        "tags": [
          "49"
        ]
      },
      "outputs": [],
      "source": [
        "SIMPLE_HTML_GRAMMAR.update({\n",
        "    \"<attrs>\":\n",
        "        [\"<attr>\", \"<attr><attrs>\" ],\n",
        "\n",
        "    \"<attr>\":\n",
        "        [\" <id>='<plain-text>'\",\n",
        "         ' <id>=\"<plain-text>\"'],\n",
        "})"
      ]
    },
    {
      "cell_type": "markdown",
      "metadata": {
        "tags": [
          "50"
        ]
      },
      "source": [
        "Again, we can generate inputs from the grammar."
      ]
    },
    {
      "cell_type": "code",
      "execution_count": null,
      "metadata": {
        "tags": [
          "51"
        ]
      },
      "outputs": [],
      "source": [
        "simple_html_fuzzer = GrammarFuzzer(SIMPLE_HTML_GRAMMAR)"
      ]
    },
    {
      "cell_type": "code",
      "execution_count": null,
      "metadata": {
        "tags": [
          "52"
        ]
      },
      "outputs": [],
      "source": [
        "for i in range(10):\n",
        "    fuzz_html = simple_html_fuzzer.fuzz()\n",
        "    print(repr(fuzz_html))"
      ]
    },
    {
      "cell_type": "markdown",
      "metadata": {
        "tags": [
          "53"
        ]
      },
      "source": [
        "Such inputs, of course, are great for systematic testing. Our sister book, [the fuzzing book](https://www.fuzzingbook.org/), covers these and more."
      ]
    },
    {
      "cell_type": "markdown",
      "metadata": {
        "tags": [
          "54"
        ]
      },
      "source": [
        "## Derivation Trees\n",
        "\n",
        "To produce inputs from a grammar, the fuzzingbook `GrammarFuzzer` makes use of a structure called a *derivation tree* (also known as *syntax tree*). A derivation tree encodes the individual expansion steps undertaken while producing the output."
      ]
    },
    {
      "cell_type": "code",
      "execution_count": null,
      "metadata": {
        "tags": [
          "55"
        ]
      },
      "outputs": [],
      "source": [
        "DerivationTree = Tuple[str, Optional[List[Any]]]"
      ]
    },
    {
      "cell_type": "markdown",
      "metadata": {
        "tags": [
          "56"
        ]
      },
      "source": [
        "Let us illustrate derivation trees by example, using the last HTML output we produced."
      ]
    },
    {
      "cell_type": "code",
      "execution_count": null,
      "metadata": {
        "tags": [
          "57"
        ]
      },
      "outputs": [],
      "source": [
        "fuzz_html"
      ]
    },
    {
      "attachments": {},
      "cell_type": "markdown",
      "metadata": {
        "tags": [
          "58"
        ]
      },
      "source": [
        "The `GrammarFuzzer` attribute `derivation_tree` holds the last tree used to produce this input. We can visualize the tree as follows:"
      ]
    },
    {
      "cell_type": "code",
      "execution_count": null,
      "metadata": {
        "tags": [
          "59"
        ]
      },
      "outputs": [],
      "source": [
        "# ignore\n",
        "from graphviz import Digraph"
      ]
    },
    {
      "cell_type": "code",
      "execution_count": null,
      "metadata": {
        "tags": [
          "60"
        ]
      },
      "outputs": [],
      "source": [
        "# ignore\n",
        "def display_tree(tree: DerivationTree) -> Digraph:\n",
        "    def graph_attr(dot: Digraph) -> None:\n",
        "        dot.attr('node', shape='box', color='white', margin='0.0,0.0')\n",
        "        dot.attr('node',\n",
        "                 fontname=\"'Fira Mono', 'Source Code Pro', 'Courier', monospace\")\n",
        "\n",
        "    def node_attr(dot: Digraph, nid: str, symbol: str, ann: str) -> None:\n",
        "        fuzzingbook.GrammarFuzzer.default_node_attr(dot, nid, symbol, ann)\n",
        "        if symbol.startswith('<'):\n",
        "            dot.node(repr(nid), fontcolor='#0060a0')\n",
        "        else:\n",
        "            dot.node(repr(nid), fontcolor='#00a060')\n",
        "        dot.node(repr(nid), scale='2')\n",
        "\n",
        "    return fuzzingbook.GrammarFuzzer.display_tree(tree,\n",
        "        node_attr=node_attr,\n",
        "        graph_attr=graph_attr)"
      ]
    },
    {
      "cell_type": "code",
      "execution_count": null,
      "metadata": {
        "tags": [
          "61"
        ]
      },
      "outputs": [],
      "source": [
        "display_tree(simple_html_fuzzer.derivation_tree)"
      ]
    },
    {
      "cell_type": "markdown",
      "metadata": {
        "tags": [
          "62"
        ]
      },
      "source": [
        "From top to bottom, we see that the input was constructed from a `<start>` symbol, which then expanded into `html`, which then expanded into HTML text, and so on. Multiple children in a tree stand for a concatenation of individual symbols."
      ]
    },
    {
      "cell_type": "markdown",
      "metadata": {
        "tags": [
          "63"
        ]
      },
      "source": [
        "Internally, these trees come as pairs `(symbol, children)`, where `symbol` is the name of a node (say, `<html>`), and `children` is a (possibly empty) list of subtrees. Here are the topmost nodes of the above tree:"
      ]
    },
    {
      "cell_type": "code",
      "execution_count": null,
      "metadata": {
        "tags": [
          "64"
        ]
      },
      "outputs": [],
      "source": [
        "import pprint"
      ]
    },
    {
      "cell_type": "code",
      "execution_count": null,
      "metadata": {
        "tags": [
          "65"
        ]
      },
      "outputs": [],
      "source": [
        "pp = pprint.PrettyPrinter(depth=7)\n",
        "pp.pprint(simple_html_fuzzer.derivation_tree)"
      ]
    },
    {
      "attachments": {},
      "cell_type": "markdown",
      "metadata": {
        "tags": [
          "66"
        ]
      },
      "source": [
        "To produce abstract failure-inducing patterns, we will work on this very structure. The idea is to\n",
        "\n",
        "1. systematically replace subtrees by other, generated, compatible subtrees (e.g. replace one `<html>` subtree in the concrete input by some other generated `<html>` subtree);\n",
        "2. see whether these subtrees also result in failures; and\n",
        "3. if they do, use the nonterminal (`<html>`) as a placeholder in the pattern.\n",
        "\n",
        "This will involve some subtree manipulation, construction, and finally testing. First, though, we need to be able to turn an _existing input_ into a derivation tree."
      ]
    },
    {
      "cell_type": "markdown",
      "metadata": {
        "tags": [
          "67"
        ]
      },
      "source": [
        "## Parsing\n",
        "\n",
        "The activity of creating a structure out of an unstructured input is called _parsing_. Generally speaking, a _parser_ uses a _grammar_ to create a _derivation tree_ (also called *parse tree* in parsing contexts) from a string input."
      ]
    },
    {
      "cell_type": "markdown",
      "metadata": {
        "tags": [
          "68"
        ]
      },
      "source": [
        "Again, there's a whole body of theory (and practice!) around constructing parsers. We make our life simple by using an existing parser (again, from [the fuzzing book](https://www.fuzzingbook.org/Parser.html)), which does just what we want. The `EarleyParser` is instantiated with a grammar such as `SIMPLE_HTML_GRAMMAR`:"
      ]
    },
    {
      "cell_type": "code",
      "execution_count": null,
      "metadata": {
        "tags": [
          "69"
        ]
      },
      "outputs": [],
      "source": [
        "from fuzzingbook.Parser import Parser, EarleyParser  # minor dependency"
      ]
    },
    {
      "cell_type": "code",
      "execution_count": null,
      "metadata": {
        "tags": [
          "70"
        ]
      },
      "outputs": [],
      "source": [
        "simple_html_parser = EarleyParser(SIMPLE_HTML_GRAMMAR)"
      ]
    },
    {
      "cell_type": "markdown",
      "metadata": {
        "tags": [
          "71"
        ]
      },
      "source": [
        "Its method `parse()` returns an iterator over multiple possible derivation trees.  (There can be multiple trees because the grammar could be ambiguous). We are only interested in the first such tree. Let us parse `BAD_INPUT` and inspect the resulting ~parse tree~ ~syntax tree~ derivation tree:"
      ]
    },
    {
      "cell_type": "code",
      "execution_count": null,
      "metadata": {
        "tags": [
          "72"
        ]
      },
      "outputs": [],
      "source": [
        "bad_input_tree = list(simple_html_parser.parse(BAD_INPUT))[0]"
      ]
    },
    {
      "cell_type": "code",
      "execution_count": null,
      "metadata": {
        "tags": [
          "73"
        ]
      },
      "outputs": [],
      "source": [
        "display_tree(bad_input_tree)"
      ]
    },
    {
      "cell_type": "markdown",
      "metadata": {
        "tags": [
          "74"
        ]
      },
      "source": [
        "This derivation tree has the same structure as the one created from our `GrammarFuzzer` above. We see how the `<tagged-text>` is composed of three elements:\n",
        "\n",
        "1. an`<opening-tag>` (`<foo>`);\n",
        "2. a `<html>` element which becomes `<plain-text>` (`\"bar`); and\n",
        "3. a `<closing-tag>` (`</foo>`)."
      ]
    },
    {
      "cell_type": "markdown",
      "metadata": {
        "tags": [
          "75"
        ]
      },
      "source": [
        "We can easily turn the tree back into a string. The method `tree_to_string()` traverses the tree left-to-right and joins all nonterminal symbols."
      ]
    },
    {
      "cell_type": "code",
      "execution_count": null,
      "metadata": {
        "tags": [
          "76"
        ]
      },
      "outputs": [],
      "source": [
        "from fuzzingbook.GrammarFuzzer import tree_to_string, all_terminals"
      ]
    },
    {
      "cell_type": "code",
      "execution_count": null,
      "metadata": {
        "tags": [
          "77"
        ]
      },
      "outputs": [],
      "source": [
        "tree_to_string(bad_input_tree)"
      ]
    },
    {
      "cell_type": "code",
      "execution_count": null,
      "metadata": {
        "tags": [
          "78"
        ]
      },
      "outputs": [],
      "source": [
        "assert tree_to_string(bad_input_tree) == BAD_INPUT"
      ]
    },
    {
      "cell_type": "markdown",
      "metadata": {
        "tags": [
          "79"
        ]
      },
      "source": [
        "With this, we can now\n",
        "\n",
        "* parse an input into a tree structure;\n",
        "* (re-)create parts of the tree structure; and\n",
        "* turn the tree back into an input string."
      ]
    },
    {
      "cell_type": "markdown",
      "metadata": {
        "tags": [
          "80"
        ]
      },
      "source": [
        "## Mutating the Tree\n",
        "\n",
        "We introduce a class `TreeMutator` that is set to mutate a tree. Its constructor takes a grammar and a tree."
      ]
    },
    {
      "cell_type": "code",
      "execution_count": null,
      "metadata": {
        "tags": [
          "81"
        ]
      },
      "outputs": [],
      "source": [
        "from fuzzingbook.Grammars import is_valid_grammar"
      ]
    },
    {
      "cell_type": "code",
      "execution_count": null,
      "metadata": {
        "tags": [
          "82"
        ]
      },
      "outputs": [],
      "source": [
        "class TreeMutator:\n",
        "    \"\"\"Grammar-based mutations of derivation trees.\"\"\"\n",
        "\n",
        "    def __init__(self, grammar: Grammar, tree: DerivationTree,\n",
        "                 fuzzer: Optional[GrammarFuzzer] = None, log: Union[bool, int] = False):\n",
        "        \"\"\"\n",
        "        Constructor. \n",
        "        `grammar` is the underlying grammar; \n",
        "        `tree` is the tree to work on.\n",
        "        `fuzzer` is the grammar fuzzer to use (default: `GrammarFuzzer`)\n",
        "        \"\"\"\n",
        "\n",
        "        assert is_valid_grammar(grammar)\n",
        "        self.grammar = grammar\n",
        "        self.tree = tree\n",
        "        self.log = log\n",
        "\n",
        "        if fuzzer is None:\n",
        "            fuzzer = GrammarFuzzer(grammar)\n",
        "\n",
        "        self.fuzzer = fuzzer"
      ]
    },
    {
      "cell_type": "markdown",
      "metadata": {
        "tags": [
          "83"
        ]
      },
      "source": [
        "### Referencing Subtrees"
      ]
    },
    {
      "cell_type": "markdown",
      "metadata": {
        "tags": [
          "84"
        ]
      },
      "source": [
        "To reference individual elements in the tree, we introduce the concept of a _path_. A path is a list of numbers indicating the children (starting with 0) we should follow. A path `[0, 0, 0, ..., 0]` stands for the leftmost child in a tree."
      ]
    },
    {
      "cell_type": "code",
      "execution_count": null,
      "metadata": {
        "tags": [
          "85"
        ]
      },
      "outputs": [],
      "source": [
        "TreePath = List[int]"
      ]
    },
    {
      "cell_type": "markdown",
      "metadata": {
        "tags": [
          "86"
        ]
      },
      "source": [
        "The method `get_subtree()` returns the subtree for a given path."
      ]
    },
    {
      "cell_type": "code",
      "execution_count": null,
      "metadata": {
        "tags": [
          "87"
        ]
      },
      "outputs": [],
      "source": [
        "class TreeMutator(TreeMutator):\n",
        "    def get_subtree(self, path: TreePath, tree: Optional[DerivationTree] = None) -> DerivationTree:\n",
        "        \"\"\"Access a subtree based on `path` (a list of children numbers)\"\"\"\n",
        "        if tree is None:\n",
        "            tree = self.tree\n",
        "\n",
        "        symbol, children = tree\n",
        "\n",
        "        if not path or children is None:\n",
        "            return tree\n",
        "\n",
        "        return self.get_subtree(path[1:], children[path[0]])"
      ]
    },
    {
      "cell_type": "markdown",
      "metadata": {
        "tags": [
          "88"
        ]
      },
      "source": [
        "Here's `get_subtree()` in action. We instantiate a `TreeMutator` on the `BAD_INPUT` tree as shown above and return the element at the path `[0, 0, 1, 0]` \u2013 i.e. follow the leftmost edge twice, than the second-to-leftmost edge, then the leftmost edge again. This gives us the `<plain-text>` subtree representing the string `\"bar`:"
      ]
    },
    {
      "cell_type": "code",
      "execution_count": null,
      "metadata": {
        "tags": [
          "89"
        ]
      },
      "outputs": [],
      "source": [
        "def bad_input_tree_mutator() -> TreeMutator:\n",
        "    return TreeMutator(SIMPLE_HTML_GRAMMAR, bad_input_tree, log=2)    "
      ]
    },
    {
      "cell_type": "code",
      "execution_count": null,
      "metadata": {
        "tags": [
          "90"
        ]
      },
      "outputs": [],
      "source": [
        "plain_text_subtree = bad_input_tree_mutator().get_subtree([0, 0, 1, 0])\n",
        "pp.pprint(plain_text_subtree)"
      ]
    },
    {
      "cell_type": "code",
      "execution_count": null,
      "metadata": {
        "tags": [
          "91"
        ]
      },
      "outputs": [],
      "source": [
        "tree_to_string(plain_text_subtree)"
      ]
    },
    {
      "cell_type": "code",
      "execution_count": null,
      "metadata": {
        "tags": [
          "92"
        ]
      },
      "outputs": [],
      "source": [
        "# ignore\n",
        "def primes_generator() -> Generator[int, None, None]:\n",
        "    # Adapted from https://www.python.org/ftp/python/doc/nluug-paper.ps\n",
        "    primes = [2]\n",
        "    yield 2\n",
        "    i = 3\n",
        "    while True:\n",
        "        for p in primes:\n",
        "            if i % p == 0 or p * p > i:\n",
        "                break\n",
        "\n",
        "        if i % p != 0:\n",
        "            primes.append(i)\n",
        "            yield i\n",
        "\n",
        "        i += 2"
      ]
    },
    {
      "cell_type": "code",
      "execution_count": null,
      "metadata": {
        "tags": [
          "93"
        ]
      },
      "outputs": [],
      "source": [
        "# ignore\n",
        "prime_numbers = primes_generator()"
      ]
    },
    {
      "cell_type": "code",
      "execution_count": null,
      "metadata": {
        "tags": [
          "94"
        ]
      },
      "outputs": [],
      "source": [
        "quiz(\"In `bad_input_tree`, what is \"\n",
        "     \" the subtree at the path `[0, 0, 2, 1]` as string?\", \n",
        "    [\n",
        "        f\"`{tree_to_string(bad_input_tree_mutator().get_subtree([0, 0, 2, 0]))}`\",\n",
        "        f\"`{tree_to_string(bad_input_tree_mutator().get_subtree([0, 0, 2, 1]))}`\",\n",
        "        f\"`{tree_to_string(bad_input_tree_mutator().get_subtree([0, 0, 2]))}`\",\n",
        "        f\"`{tree_to_string(bad_input_tree_mutator().get_subtree([0, 0, 0]))}`\",\n",
        "    ], 'next(prime_numbers)', globals()\n",
        "    )"
      ]
    },
    {
      "cell_type": "markdown",
      "metadata": {
        "tags": [
          "95"
        ]
      },
      "source": [
        "### Creating new Subtrees\n",
        "\n",
        "The method `new_tree()` creates a new subtree for the given `<start_symbol>` according to the rules of the grammar. It invokes `expand_tree()` on the given `GrammarFuzzer` \u2013\u00a0a method that takes an initial (empty) tree and expands it until no more expansions are left."
      ]
    },
    {
      "cell_type": "code",
      "execution_count": null,
      "metadata": {
        "tags": [
          "96"
        ]
      },
      "outputs": [],
      "source": [
        "class TreeMutator(TreeMutator):\n",
        "    def new_tree(self, start_symbol: str) -> DerivationTree:\n",
        "        \"\"\"Create a new subtree for <start_symbol>.\"\"\"\n",
        "\n",
        "        if self.log >= 2:\n",
        "            print(f\"Creating new tree for {start_symbol}\")\n",
        "\n",
        "        tree = (start_symbol, None)\n",
        "        return self.fuzzer.expand_tree(tree)"
      ]
    },
    {
      "cell_type": "markdown",
      "metadata": {
        "tags": [
          "97"
        ]
      },
      "source": [
        "Here is an example of `new_tree()`:"
      ]
    },
    {
      "cell_type": "code",
      "execution_count": null,
      "metadata": {
        "tags": [
          "98"
        ]
      },
      "outputs": [],
      "source": [
        "plain_text_tree = cast(TreeMutator, bad_input_tree_mutator()).new_tree('<plain-text>')\n",
        "display_tree(plain_text_tree)"
      ]
    },
    {
      "cell_type": "code",
      "execution_count": null,
      "metadata": {
        "tags": [
          "99"
        ]
      },
      "outputs": [],
      "source": [
        "tree_to_string(plain_text_tree)"
      ]
    },
    {
      "cell_type": "markdown",
      "metadata": {
        "tags": [
          "100"
        ]
      },
      "source": [
        "### Mutating the Tree\n",
        "\n",
        "With us now being able to \n",
        "* access a particular path in the tree (`get_subtree()`) and\n",
        "* create a new subtree (`new_tree()`),\n",
        "\n",
        "we can mutate the tree at a given path. This is the task of `mutate()`."
      ]
    },
    {
      "cell_type": "code",
      "execution_count": null,
      "metadata": {
        "tags": [
          "101"
        ]
      },
      "outputs": [],
      "source": [
        "class TreeMutator(TreeMutator):\n",
        "    def mutate(self, path: TreePath, tree: Optional[DerivationTree] = None) -> DerivationTree:\n",
        "        \"\"\"Return a new tree mutated at `path`\"\"\"\n",
        "        if tree is None:\n",
        "            tree = self.tree\n",
        "        assert tree is not None\n",
        "\n",
        "        symbol, children = tree\n",
        "\n",
        "        if not path or children is None:\n",
        "            return self.new_tree(symbol)\n",
        "\n",
        "        head = path[0]\n",
        "        new_children = (children[:head] +\n",
        "                        [self.mutate(path[1:], children[head])] +\n",
        "                        children[head + 1:])\n",
        "        return symbol, new_children"
      ]
    },
    {
      "cell_type": "markdown",
      "metadata": {
        "tags": [
          "102"
        ]
      },
      "source": [
        "Here is an example of `mutate()` in action. We mutate `bad_input_tree` at the path `[0, 0, 1, 0]` \u2013\u00a0that is, `<plain-text>`:"
      ]
    },
    {
      "cell_type": "code",
      "execution_count": null,
      "metadata": {
        "tags": [
          "103"
        ]
      },
      "outputs": [],
      "source": [
        "mutated_tree = cast(TreeMutator, bad_input_tree_mutator()).mutate([0, 0, 1, 0])\n",
        "display_tree(mutated_tree)"
      ]
    },
    {
      "cell_type": "markdown",
      "metadata": {
        "tags": [
          "104"
        ]
      },
      "source": [
        "We see that the `<plain-text>` subtree is now different, which also becomes evident in the string representation."
      ]
    },
    {
      "cell_type": "code",
      "execution_count": null,
      "metadata": {
        "tags": [
          "105"
        ]
      },
      "outputs": [],
      "source": [
        "tree_to_string(mutated_tree)"
      ]
    },
    {
      "cell_type": "markdown",
      "metadata": {
        "tags": [
          "106"
        ]
      },
      "source": [
        "## Generalizing Trees\n",
        "\n",
        "Now for the main part \u2013 finding out which parts of a tree can be generalized. Our idea is to _test_ a finite number of mutations to a subtree (say, 10). If all of these tests fail as well, then we assume we can generalize the subtree to a placeholder."
      ]
    },
    {
      "cell_type": "markdown",
      "metadata": {
        "tags": [
          "107"
        ]
      },
      "source": [
        "We introduce a class `TreeGeneralizer` for this purpose. On top of `grammar` and `tree` already used for the `TreeMutator` constructor, the `TreeGeneralizer` also takes a `test` function."
      ]
    },
    {
      "cell_type": "code",
      "execution_count": null,
      "metadata": {
        "tags": [
          "108"
        ]
      },
      "outputs": [],
      "source": [
        "class TreeGeneralizer(TreeMutator):\n",
        "    \"\"\"Determine which parts of a derivation tree can be generalized.\"\"\"\n",
        "\n",
        "    def __init__(self, grammar: Grammar, tree: DerivationTree, test: Callable,\n",
        "                 max_tries_for_generalization: int = 10, **kwargs: Any) -> None:\n",
        "        \"\"\"\n",
        "        Constructor. `grammar` and `tree` are as in `TreeMutator`.\n",
        "        `test` is a function taking a string that either\n",
        "          * raises an exception, indicating test failure;\n",
        "          * or not, indicating test success.\n",
        "        `max_tries_for_generalization` is the number of times\n",
        "        an instantiation has to fail before it is generalized.\n",
        "        \"\"\"\n",
        "\n",
        "        super().__init__(grammar, tree, **kwargs)\n",
        "        self.test = test\n",
        "        self.max_tries_for_generalization = max_tries_for_generalization"
      ]
    },
    {
      "cell_type": "markdown",
      "metadata": {
        "tags": [
          "109"
        ]
      },
      "source": [
        "The `test` function is used in `test_tree()`, returning `False` if the test fails (raising an exception), and `True` if the test passes (no exception)."
      ]
    },
    {
      "cell_type": "code",
      "execution_count": null,
      "metadata": {
        "tags": [
          "110"
        ]
      },
      "outputs": [],
      "source": [
        "class TreeGeneralizer(TreeGeneralizer):\n",
        "    def test_tree(self, tree: DerivationTree) -> bool:\n",
        "        \"\"\"Return True if testing `tree` passes, else False\"\"\"\n",
        "        s = tree_to_string(tree)\n",
        "        if self.log:\n",
        "            print(f\"Testing {repr(s)}...\", end=\"\")\n",
        "        try:\n",
        "            self.test(s)\n",
        "        except Exception as exc:\n",
        "            if self.log:\n",
        "                print(f\"FAIL ({type(exc).__name__})\")\n",
        "            ret = False\n",
        "        else:\n",
        "            if self.log:\n",
        "                print(f\"PASS\")\n",
        "            ret = True\n",
        "\n",
        "        return ret"
      ]
    },
    {
      "cell_type": "markdown",
      "metadata": {
        "tags": [
          "111"
        ]
      },
      "source": [
        "### Testing for Generalization\n",
        "\n",
        "The `can_generalize()` method brings the above methods together. It creates a number of tree mutations at the given path, and returns True if all of them produce a failure. (Note that this is not as sophisticated as our [delta debugger](DeltaDebugger.ipynb) implementation, which also checks that the _same_ error occurs.)"
      ]
    },
    {
      "cell_type": "code",
      "execution_count": null,
      "metadata": {
        "tags": [
          "112"
        ]
      },
      "outputs": [],
      "source": [
        "class TreeGeneralizer(TreeGeneralizer):\n",
        "    def can_generalize(self, path: TreePath, tree: Optional[DerivationTree] = None) -> bool:\n",
        "        \"\"\"Return True if the subtree at `path` can be generalized.\"\"\"\n",
        "        for i in range(self.max_tries_for_generalization):\n",
        "            mutated_tree = self.mutate(path, tree)\n",
        "            if self.test_tree(mutated_tree):\n",
        "                # Failure no longer occurs; cannot abstract\n",
        "                return False\n",
        "\n",
        "        return True"
      ]
    },
    {
      "cell_type": "markdown",
      "metadata": {
        "tags": [
          "113"
        ]
      },
      "source": [
        "Let us put `TreeGeneralizer` into action. We can directly use `remove_html_markup()` as test function."
      ]
    },
    {
      "cell_type": "code",
      "execution_count": null,
      "metadata": {
        "tags": [
          "114"
        ]
      },
      "outputs": [],
      "source": [
        "def bad_input_tree_generalizer(**kwargs: Any) -> TreeGeneralizer:\n",
        "    return TreeGeneralizer(SIMPLE_HTML_GRAMMAR, bad_input_tree,\n",
        "                           remove_html_markup, **kwargs)"
      ]
    },
    {
      "cell_type": "markdown",
      "metadata": {
        "tags": [
          "115"
        ]
      },
      "source": [
        "On our `BAD_INPUT` (and its tree), can we generalize the root `<html>` node? In other words, does the failure occur for all possible `<html>` inputs?"
      ]
    },
    {
      "cell_type": "code",
      "execution_count": null,
      "metadata": {
        "tags": [
          "116"
        ]
      },
      "outputs": [],
      "source": [
        "bad_input_tree_generalizer(log=True).can_generalize([0])"
      ]
    },
    {
      "cell_type": "markdown",
      "metadata": {
        "tags": [
          "117"
        ]
      },
      "source": [
        "The answer is no. The first alternative passes the test; hence no generalization."
      ]
    },
    {
      "cell_type": "markdown",
      "metadata": {
        "tags": [
          "118"
        ]
      },
      "source": [
        "How about the middle `<plain_text>` part? Can we generalize this?"
      ]
    },
    {
      "cell_type": "code",
      "execution_count": null,
      "metadata": {
        "tags": [
          "119"
        ]
      },
      "outputs": [],
      "source": [
        "bad_input_tree_generalizer(log=True).can_generalize([0, 0, 1, 0])"
      ]
    },
    {
      "cell_type": "markdown",
      "metadata": {
        "tags": [
          "120"
        ]
      },
      "source": [
        "The answer is no \u2013\u00a0just as above."
      ]
    },
    {
      "cell_type": "markdown",
      "metadata": {
        "tags": [
          "121"
        ]
      },
      "source": [
        "How about the closing tag? Can we generalize this one?"
      ]
    },
    {
      "cell_type": "code",
      "execution_count": null,
      "metadata": {
        "tags": [
          "122"
        ]
      },
      "outputs": [],
      "source": [
        "bad_input_tree_generalizer(log=True).can_generalize([0, 0, 2])"
      ]
    },
    {
      "cell_type": "markdown",
      "metadata": {
        "tags": [
          "123"
        ]
      },
      "source": [
        "Yes, we can! All alternate instantiations of `<closing-tag>` result in a failure."
      ]
    },
    {
      "cell_type": "code",
      "execution_count": null,
      "metadata": {
        "tags": [
          "124"
        ]
      },
      "outputs": [],
      "source": [
        "quiz(\"Is this also true for `<opening-tag>`?\",\n",
        "     [\n",
        "         \"Yes\",\n",
        "         \"No\"\n",
        "     ], '(\"Yes\" == \"Yes\") + (\"No\" == \"No\")')"
      ]
    },
    {
      "cell_type": "markdown",
      "metadata": {
        "tags": [
          "125"
        ]
      },
      "source": [
        "Note that the above does not hold for `<opening-tag>`. If the attribute value contains a quote character, it will extend to the end of the input. This is another error, but not caught by our assertion; hence, the input will be flagged as passing:"
      ]
    },
    {
      "cell_type": "code",
      "execution_count": null,
      "metadata": {
        "tags": [
          "126"
        ]
      },
      "outputs": [],
      "source": [
        "BAD_ATTR_INPUT = '<foo attr=\"\\'\">bar</foo>'"
      ]
    },
    {
      "cell_type": "code",
      "execution_count": null,
      "metadata": {
        "tags": [
          "127"
        ]
      },
      "outputs": [],
      "source": [
        "remove_html_markup(BAD_ATTR_INPUT)"
      ]
    },
    {
      "cell_type": "markdown",
      "metadata": {
        "tags": [
          "128"
        ]
      },
      "source": [
        "The effect of this is that there are patterns for `<opening-tag>` which do not cause the failure to occur; hence, `<opening-tag>` is not a fully valid generalization."
      ]
    },
    {
      "cell_type": "markdown",
      "metadata": {
        "tags": [
          "129"
        ]
      },
      "source": [
        "This, however, becomes apparent only if one of our generated tests includes a quote character in the attribute value. Since quote characters are as likely (or as unlikely) to appear as other characters, this effect may not become apparent in our default 10 tests:"
      ]
    },
    {
      "cell_type": "code",
      "execution_count": null,
      "metadata": {
        "tags": [
          "130"
        ]
      },
      "outputs": [],
      "source": [
        "bad_input_tree_generalizer().can_generalize([0, 0, 0])"
      ]
    },
    {
      "cell_type": "markdown",
      "metadata": {
        "tags": [
          "131"
        ]
      },
      "source": [
        "It will become apparent, however, as we increase the number of tests:"
      ]
    },
    {
      "cell_type": "code",
      "execution_count": null,
      "metadata": {
        "tags": [
          "132"
        ]
      },
      "outputs": [],
      "source": [
        "bad_input_tree_generalizer(max_tries_for_generalization=100, log=True).can_generalize([0, 0, 0])"
      ]
    },
    {
      "cell_type": "markdown",
      "metadata": {
        "tags": [
          "133"
        ]
      },
      "source": [
        "We see that our approach may _overgeneralize_ \u2013 producing a generalization that may be too lenient. In practice, this is not too much of a problem, as we would be interested in characterizing cases that trigger the failure, rather than characterizing a small subset that does not trigger the failure."
      ]
    },
    {
      "cell_type": "markdown",
      "metadata": {
        "tags": [
          "134"
        ]
      },
      "source": [
        "### Generalizable Paths\n",
        "\n",
        "Using `can_generalize()`, we can devise a method `generalizable_paths()` that returns all paths in the tree that can be generalized."
      ]
    },
    {
      "cell_type": "code",
      "execution_count": null,
      "metadata": {
        "tags": [
          "135"
        ]
      },
      "outputs": [],
      "source": [
        "class TreeGeneralizer(TreeGeneralizer):\n",
        "    def find_paths(self, \n",
        "                   predicate: Callable[[TreePath, DerivationTree], bool], \n",
        "                   path: Optional[TreePath] = None, \n",
        "                   tree: Optional[DerivationTree] = None) -> List[TreePath]:\n",
        "        \"\"\"\n",
        "        Return a list of all paths for which `predicate` holds.\n",
        "        `predicate` is a function `predicate`(`path`, `tree`), where\n",
        "        `path` denotes a subtree in `tree`. If `predicate()` returns\n",
        "        True, `path` is included in the returned list.\n",
        "        \"\"\"\n",
        "\n",
        "        if path is None:\n",
        "            path = []\n",
        "        assert path is not None\n",
        "\n",
        "        if tree is None:\n",
        "            tree = self.tree\n",
        "        assert tree is not None\n",
        "\n",
        "        symbol, children = self.get_subtree(path)\n",
        "\n",
        "        if predicate(path, tree):\n",
        "            return [path]\n",
        "\n",
        "        paths = []\n",
        "        if children is not None:\n",
        "            for i, child in enumerate(children):\n",
        "                child_symbol, _ = child\n",
        "                if child_symbol in self.grammar:\n",
        "                    paths += self.find_paths(predicate, path + [i])\n",
        "\n",
        "        return paths\n",
        "\n",
        "    def generalizable_paths(self) -> List[TreePath]:\n",
        "        \"\"\"Return a list of all paths whose subtrees can be generalized.\"\"\"\n",
        "        return self.find_paths(self.can_generalize)"
      ]
    },
    {
      "cell_type": "markdown",
      "metadata": {
        "tags": [
          "136"
        ]
      },
      "source": [
        "Here is `generalizable_paths()` in action. We obtain all (paths to) subtrees that can be generalized:"
      ]
    },
    {
      "cell_type": "code",
      "execution_count": null,
      "metadata": {
        "tags": [
          "137"
        ]
      },
      "outputs": [],
      "source": [
        "bad_input_generalizable_paths = \\\n",
        "    cast(TreeGeneralizer, bad_input_tree_generalizer()).generalizable_paths()\n",
        "bad_input_generalizable_paths"
      ]
    },
    {
      "cell_type": "markdown",
      "metadata": {
        "tags": [
          "138"
        ]
      },
      "source": [
        "To convert these subtrees into abstract failure-inducing patterns, the method `generalize_path()` returns a copy of the tree with the subtree replaced by a nonterminal without children:"
      ]
    },
    {
      "cell_type": "code",
      "execution_count": null,
      "metadata": {
        "tags": [
          "139"
        ]
      },
      "outputs": [],
      "source": [
        "class TreeGeneralizer(TreeGeneralizer):\n",
        "    def generalize_path(self, path: TreePath, \n",
        "                        tree: Optional[DerivationTree] = None) -> DerivationTree:\n",
        "        \"\"\"Return a copy of the tree in which the subtree at `path`\n",
        "        is generalized (= replaced by a nonterminal without children)\"\"\"\n",
        "\n",
        "        if tree is None:\n",
        "            tree = self.tree\n",
        "        assert tree is not None\n",
        "\n",
        "        symbol, children = tree\n",
        "\n",
        "        if not path or children is None:\n",
        "            return symbol, None  # Nonterminal without children\n",
        "\n",
        "        head = path[0]\n",
        "        new_children = (children[:head] +\n",
        "                        [self.generalize_path(path[1:], children[head])] +\n",
        "                        children[head + 1:])\n",
        "        return symbol, new_children"
      ]
    },
    {
      "cell_type": "markdown",
      "metadata": {
        "tags": [
          "140"
        ]
      },
      "source": [
        "The function `all_terminals()` expands these placeholders:"
      ]
    },
    {
      "cell_type": "code",
      "execution_count": null,
      "metadata": {
        "tags": [
          "141"
        ]
      },
      "outputs": [],
      "source": [
        "all_terminals(cast(TreeGeneralizer, bad_input_tree_generalizer()).generalize_path([0, 0, 0]))"
      ]
    },
    {
      "cell_type": "markdown",
      "metadata": {
        "tags": [
          "142"
        ]
      },
      "source": [
        "Finally, the method `generalize()` obtains a tree in which all generalizable paths actually are generalized:"
      ]
    },
    {
      "cell_type": "code",
      "execution_count": null,
      "metadata": {
        "tags": [
          "143"
        ]
      },
      "outputs": [],
      "source": [
        "class TreeGeneralizer(TreeGeneralizer):\n",
        "    def generalize(self) -> DerivationTree:\n",
        "        \"\"\"Returns a copy of the tree in which all generalizable subtrees\n",
        "        are generalized (= replaced by nonterminals without children)\"\"\"\n",
        "        tree = self.tree\n",
        "        assert tree is not None\n",
        "\n",
        "        for path in self.generalizable_paths():\n",
        "            tree = self.generalize_path(path, tree)\n",
        "\n",
        "        return tree"
      ]
    },
    {
      "cell_type": "code",
      "execution_count": null,
      "metadata": {
        "tags": [
          "144"
        ]
      },
      "outputs": [],
      "source": [
        "abstract_failure_inducing_input = cast(TreeGeneralizer, bad_input_tree_generalizer()).generalize()"
      ]
    },
    {
      "cell_type": "markdown",
      "metadata": {
        "tags": [
          "145"
        ]
      },
      "source": [
        "This gives us the final generalization of `BAD_INPUT`. In the abstract failure-inducing input, all generalizable elements are generalized."
      ]
    },
    {
      "cell_type": "code",
      "execution_count": null,
      "metadata": {
        "tags": [
          "146"
        ]
      },
      "outputs": [],
      "source": [
        "all_terminals(abstract_failure_inducing_input)"
      ]
    },
    {
      "cell_type": "markdown",
      "metadata": {
        "tags": [
          "147"
        ]
      },
      "source": [
        "We see that to obtain the failure, it suffices to have an `<opening-tag>`, followed by a quote and (any) `<plain-text>` and (any) `<closing-tag>`. Clearly, all that it takes to produce the failure is to have a double quote in the plain text."
      ]
    },
    {
      "cell_type": "markdown",
      "metadata": {
        "tags": [
          "148"
        ]
      },
      "source": [
        "Also note how this diagnosis was reached through _experiments_ only \u2013\u00a0just as with [delta debugging](DeltaDebugger.ipynb), we could treat the program under test as a black box. In contrast to delta debugging, however, we obtain an _abstraction_ that generalizes the circumstances under which a given failure occurs."
      ]
    },
    {
      "cell_type": "markdown",
      "metadata": {
        "tags": [
          "149"
        ]
      },
      "source": [
        "## Fuzzing with Patterns\n",
        "\n",
        "One neat side effect of abstract failure-inducing patterns is that they can be easily instantiated into further test cases, all set to reproduce the failure in question. This gives us a test suite we can later test our fix against."
      ]
    },
    {
      "cell_type": "markdown",
      "metadata": {
        "tags": [
          "150"
        ]
      },
      "source": [
        "The method `fuzz_tree()` takes a tree representing an abstract failure-inducing input and instantiates all missing subtrees."
      ]
    },
    {
      "cell_type": "code",
      "execution_count": null,
      "metadata": {
        "tags": [
          "151"
        ]
      },
      "outputs": [],
      "source": [
        "import copy"
      ]
    },
    {
      "cell_type": "code",
      "execution_count": null,
      "metadata": {
        "tags": [
          "152"
        ]
      },
      "outputs": [],
      "source": [
        "class TreeGeneralizer(TreeGeneralizer):\n",
        "    def fuzz_tree(self, tree: DerivationTree) -> DerivationTree:\n",
        "        \"\"\"Return an instantiated copy of `tree`.\"\"\"\n",
        "        tree = copy.deepcopy(tree)\n",
        "        return self.fuzzer.expand_tree(tree)"
      ]
    },
    {
      "cell_type": "code",
      "execution_count": null,
      "metadata": {
        "tags": [
          "153"
        ]
      },
      "outputs": [],
      "source": [
        "bitg = cast(TreeGeneralizer, bad_input_tree_generalizer())\n",
        "for i in range(10):\n",
        "    print(all_terminals(bitg.fuzz_tree(abstract_failure_inducing_input)))"
      ]
    },
    {
      "cell_type": "markdown",
      "metadata": {
        "tags": [
          "154"
        ]
      },
      "source": [
        "We can take these inputs and see whether they reproduce the failure in question:"
      ]
    },
    {
      "cell_type": "code",
      "execution_count": null,
      "metadata": {
        "tags": [
          "155"
        ]
      },
      "outputs": [],
      "source": [
        "successes = 0\n",
        "failures = 0\n",
        "trials = 1000\n",
        "\n",
        "for i in range(trials):\n",
        "    test_input = all_terminals(\n",
        "        bitg.fuzz_tree(abstract_failure_inducing_input))\n",
        "    try:\n",
        "        remove_html_markup(test_input)\n",
        "    except AssertionError:\n",
        "        successes += 1\n",
        "    else:\n",
        "        failures += 1"
      ]
    },
    {
      "cell_type": "code",
      "execution_count": null,
      "metadata": {
        "tags": [
          "156"
        ]
      },
      "outputs": [],
      "source": [
        "successes, failures"
      ]
    },
    {
      "cell_type": "markdown",
      "metadata": {
        "tags": [
          "157"
        ]
      },
      "source": [
        "We get an overall failure rate of ~98%, which is not bad at all."
      ]
    },
    {
      "cell_type": "code",
      "execution_count": null,
      "metadata": {
        "tags": [
          "158"
        ]
      },
      "outputs": [],
      "source": [
        "failures / 1000"
      ]
    },
    {
      "cell_type": "markdown",
      "metadata": {
        "tags": [
          "159"
        ]
      },
      "source": [
        "In our case, it is _overgeneralization_ (as discussed above) that is responsible for not reaching a 100% rate. (In all generality, we are trying to approximate the behavior of a Turing machine with a context free grammar, which is, well, always an approximation.) However, even a lower rate would still be useful, as any additional test case that reproduces a failure helps in ensuring the final fix is complete."
      ]
    },
    {
      "cell_type": "markdown",
      "metadata": {
        "tags": [
          "160"
        ]
      },
      "source": [
        "## Putting it all Together\n",
        "\n",
        "Let us now put together all this in a more convenient package that does not require the user to parse and unparse derivation trees."
      ]
    },
    {
      "cell_type": "markdown",
      "metadata": {
        "tags": [
          "161"
        ]
      },
      "source": [
        "Our `DDSetDebugger` is modeled after the `DeltaDebugger` from [the chapter on delta debugging](DeltaDebugger.ipynb). It is to be used as\n",
        "\n",
        "```python\n",
        "with DDSetDebugger(grammar) as dd:\n",
        "    some_failing_function(...)\n",
        "```\n",
        "\n",
        "After that, evaluating `dd` yields a generalized abstract failure-inducing input as a string."
      ]
    },
    {
      "cell_type": "markdown",
      "metadata": {
        "tags": [
          "162"
        ]
      },
      "source": [
        "Since `DDSetDebugger` accepts only one grammar, the function to be debugged should have exactly one string argument (besides other arguments); this string must fit the grammar."
      ]
    },
    {
      "cell_type": "markdown",
      "metadata": {
        "tags": [
          "163"
        ]
      },
      "source": [
        "### Constructor"
      ]
    },
    {
      "cell_type": "markdown",
      "metadata": {
        "tags": [
          "164"
        ]
      },
      "source": [
        "The constructor puts together the various components. It allows for customization by subclassing."
      ]
    },
    {
      "cell_type": "code",
      "execution_count": null,
      "metadata": {
        "tags": [
          "165"
        ]
      },
      "outputs": [],
      "source": [
        "from DeltaDebugger import CallCollector"
      ]
    },
    {
      "cell_type": "code",
      "execution_count": null,
      "metadata": {
        "tags": [
          "166"
        ]
      },
      "outputs": [],
      "source": [
        "class DDSetDebugger(CallCollector):\n",
        "    \"\"\"\n",
        "    Debugger implementing the DDSET algorithm for abstracting failure-inducing inputs.\n",
        "    \"\"\"\n",
        "\n",
        "    def __init__(self, grammar: Grammar, \n",
        "                 generalizer_class: Type = TreeGeneralizer,\n",
        "                 parser: Optional[Parser] = None,\n",
        "                 **kwargs: Any) -> None:\n",
        "        \"\"\"Constructor.\n",
        "        `grammar` is an input grammar in fuzzingbook format.\n",
        "        `generalizer_class` is the tree generalizer class to use\n",
        "        (default: `TreeGeneralizer`)\n",
        "        `parser` is the parser to use (default: `EarleyParser(grammar)`).\n",
        "        All other keyword args are passed to the tree generalizer, notably:\n",
        "        `fuzzer` - the fuzzer to use (default: `GrammarFuzzer`), and\n",
        "        `log` - enables debugging output if True.\n",
        "        \"\"\"\n",
        "        super().__init__()\n",
        "        self.grammar = grammar\n",
        "        assert is_valid_grammar(grammar)\n",
        "\n",
        "        self.generalizer_class = generalizer_class\n",
        "\n",
        "        if parser is None:\n",
        "            parser = EarleyParser(grammar)\n",
        "        self.parser = parser\n",
        "        self.kwargs = kwargs\n",
        "\n",
        "        # These save state for further fuzz() calls\n",
        "        self.generalized_args: Dict[str, Any] = {}\n",
        "        self.generalized_trees: Dict[str, DerivationTree] = {}\n",
        "        self.generalizers: Dict[str, TreeGeneralizer] = {}"
      ]
    },
    {
      "cell_type": "markdown",
      "metadata": {
        "tags": [
          "167"
        ]
      },
      "source": [
        "### Generalizing Arguments"
      ]
    },
    {
      "attachments": {},
      "cell_type": "markdown",
      "metadata": {
        "tags": [
          "168"
        ]
      },
      "source": [
        "The method `generalize()` is the main entry point. For all string arguments collected in the first function call, it generalizes the arguments and returns an abstract failure-inducing string."
      ]
    },
    {
      "cell_type": "code",
      "execution_count": null,
      "metadata": {
        "tags": [
          "169"
        ]
      },
      "outputs": [],
      "source": [
        "class DDSetDebugger(DDSetDebugger):\n",
        "    def generalize(self) -> Dict[str, Any]:\n",
        "        \"\"\"\n",
        "        Generalize arguments seen. For each function argument,\n",
        "        produce an abstract failure-inducing input that characterizes\n",
        "        the set of inputs for which the function fails.\n",
        "        \"\"\"\n",
        "        if self.generalized_args:\n",
        "            return self.generalized_args\n",
        "\n",
        "        self.generalized_args = copy.deepcopy(self.args())\n",
        "        self.generalized_trees = {}\n",
        "        self.generalizers = {}\n",
        "\n",
        "        for arg in self.args():\n",
        "            def test(value: Any) -> Any:\n",
        "                return self.call({arg: value})\n",
        "\n",
        "            value = self.args()[arg]\n",
        "            if isinstance(value, str):\n",
        "                tree = list(self.parser.parse(value))[0]\n",
        "                gen = self.generalizer_class(self.grammar, tree, test, \n",
        "                                             **self.kwargs)\n",
        "                generalized_tree = gen.generalize()\n",
        "\n",
        "                self.generalizers[arg] = gen\n",
        "                self.generalized_trees[arg] = generalized_tree\n",
        "                self.generalized_args[arg] = all_terminals(generalized_tree)\n",
        "\n",
        "        return self.generalized_args"
      ]
    },
    {
      "cell_type": "code",
      "execution_count": null,
      "metadata": {
        "tags": [
          "170"
        ]
      },
      "outputs": [],
      "source": [
        "class DDSetDebugger(DDSetDebugger):\n",
        "    def __repr__(self) -> str:\n",
        "        \"\"\"Return a string representation of the generalized call.\"\"\"\n",
        "        return self.format_call(self.generalize())"
      ]
    },
    {
      "cell_type": "markdown",
      "metadata": {
        "tags": [
          "171"
        ]
      },
      "source": [
        "Here is an example of how `DDSetDebugger` would be used on our `BAD_INPUT` example. Simply evaluating the debugger yields a call with a generalized input."
      ]
    },
    {
      "cell_type": "code",
      "execution_count": null,
      "metadata": {
        "tags": [
          "172"
        ]
      },
      "outputs": [],
      "source": [
        "with DDSetDebugger(SIMPLE_HTML_GRAMMAR) as dd:\n",
        "    remove_html_markup(BAD_INPUT)\n",
        "dd"
      ]
    },
    {
      "cell_type": "markdown",
      "metadata": {
        "tags": [
          "173"
        ]
      },
      "source": [
        "### Fuzzing\n",
        "\n",
        "The `fuzz()` method produces instantiations of the abstract failure-inducing pattern."
      ]
    },
    {
      "cell_type": "code",
      "execution_count": null,
      "metadata": {
        "tags": [
          "174"
        ]
      },
      "outputs": [],
      "source": [
        "class DDSetDebugger(DDSetDebugger):\n",
        "    def fuzz_args(self) -> Dict[str, Any]:\n",
        "        \"\"\"\n",
        "        Return arguments randomly instantiated\n",
        "        from the abstract failure-inducing pattern.\n",
        "        \"\"\"\n",
        "        if not self.generalized_trees:\n",
        "            self.generalize()\n",
        "\n",
        "        args = copy.deepcopy(self.generalized_args)\n",
        "        for arg in args:\n",
        "            if arg not in self.generalized_trees:\n",
        "                continue\n",
        "\n",
        "            tree = self.generalized_trees[arg]\n",
        "            gen = self.generalizers[arg]\n",
        "            instantiated_tree = gen.fuzz_tree(tree)\n",
        "            args[arg] = all_terminals(instantiated_tree)\n",
        "\n",
        "        return args\n",
        "\n",
        "    def fuzz(self) -> str:\n",
        "        \"\"\"\n",
        "        Return a call with arguments randomly instantiated\n",
        "        from the abstract failure-inducing pattern.\n",
        "        \"\"\"\n",
        "        return self.format_call(self.fuzz_args())"
      ]
    },
    {
      "cell_type": "markdown",
      "metadata": {
        "tags": [
          "175"
        ]
      },
      "source": [
        "Here are some axamples of `fuzz()` in action:"
      ]
    },
    {
      "cell_type": "code",
      "execution_count": null,
      "metadata": {
        "tags": [
          "176"
        ]
      },
      "outputs": [],
      "source": [
        "with DDSetDebugger(SIMPLE_HTML_GRAMMAR) as dd:\n",
        "    remove_html_markup(BAD_INPUT)"
      ]
    },
    {
      "cell_type": "code",
      "execution_count": null,
      "metadata": {
        "tags": [
          "177"
        ]
      },
      "outputs": [],
      "source": [
        "dd.fuzz()"
      ]
    },
    {
      "cell_type": "code",
      "execution_count": null,
      "metadata": {
        "tags": [
          "178"
        ]
      },
      "outputs": [],
      "source": [
        "dd.fuzz()"
      ]
    },
    {
      "cell_type": "code",
      "execution_count": null,
      "metadata": {
        "tags": [
          "179"
        ]
      },
      "outputs": [],
      "source": [
        "dd.fuzz()"
      ]
    },
    {
      "cell_type": "markdown",
      "metadata": {
        "tags": [
          "180"
        ]
      },
      "source": [
        " These can be fed into `eval()`, set to produce more failing calls."
      ]
    },
    {
      "cell_type": "code",
      "execution_count": null,
      "metadata": {
        "tags": [
          "181"
        ]
      },
      "outputs": [],
      "source": [
        "with ExpectError(AssertionError):\n",
        "    eval(dd.fuzz())"
      ]
    },
    {
      "cell_type": "markdown",
      "metadata": {
        "tags": [
          "182"
        ]
      },
      "source": [
        "## More Examples\n",
        "\n",
        "Let us apply `DDSetDebugger` on more examples."
      ]
    },
    {
      "cell_type": "markdown",
      "metadata": {
        "tags": [
          "183"
        ]
      },
      "source": [
        "### Square Root\n",
        "\n",
        "Our first example is the `square_root()` function from [the chapter on assertions](Assertions.ipynb)."
      ]
    },
    {
      "cell_type": "code",
      "execution_count": null,
      "metadata": {
        "tags": [
          "184"
        ]
      },
      "outputs": [],
      "source": [
        "from Assertions import square_root  # minor dependency"
      ]
    },
    {
      "cell_type": "markdown",
      "metadata": {
        "tags": [
          "185"
        ]
      },
      "source": [
        "The `square_root()` function fails on a value of `-1`:"
      ]
    },
    {
      "cell_type": "code",
      "execution_count": null,
      "metadata": {
        "tags": [
          "186"
        ]
      },
      "outputs": [],
      "source": [
        "with ExpectError(AssertionError):\n",
        "    square_root(-1)"
      ]
    },
    {
      "cell_type": "markdown",
      "metadata": {
        "tags": [
          "187"
        ]
      },
      "source": [
        "We define a grammar for its arguments:"
      ]
    },
    {
      "cell_type": "code",
      "execution_count": null,
      "metadata": {
        "button": false,
        "new_sheet": false,
        "run_control": {
          "read_only": false
        },
        "slideshow": {
          "slide_type": "subslide"
        },
        "tags": [
          "188"
        ]
      },
      "outputs": [],
      "source": [
        "INT_GRAMMAR: Grammar = {\n",
        "    \"<start>\":\n",
        "        [\"<int>\"],\n",
        "\n",
        "    \"<int>\":\n",
        "        [\"<positive-int>\", \"-<positive-int>\"],\n",
        "\n",
        "    \"<positive-int>\":\n",
        "        [\"<digit>\", \"<nonzero-digit><positive-int>\"],\n",
        "\n",
        "    \"<nonzero-digit>\": list(\"123456789\"),\n",
        "    \n",
        "    \"<digit>\": list(string.digits),\n",
        "}"
      ]
    },
    {
      "cell_type": "markdown",
      "metadata": {
        "tags": [
          "189"
        ]
      },
      "source": [
        "The test function takes a string and converts it into an integer:"
      ]
    },
    {
      "cell_type": "code",
      "execution_count": null,
      "metadata": {
        "tags": [
          "190"
        ]
      },
      "outputs": [],
      "source": [
        "def square_root_test(s: str) -> None:\n",
        "    return square_root(int(s))"
      ]
    },
    {
      "cell_type": "markdown",
      "metadata": {
        "tags": [
          "191"
        ]
      },
      "source": [
        "With this, we can go and see whether we can generalize a failing input:"
      ]
    },
    {
      "cell_type": "code",
      "execution_count": null,
      "metadata": {
        "tags": [
          "192"
        ]
      },
      "outputs": [],
      "source": [
        "with DDSetDebugger(INT_GRAMMAR, log=True) as dd_square_root:\n",
        "    square_root_test(\"-1\")"
      ]
    },
    {
      "cell_type": "code",
      "execution_count": null,
      "metadata": {
        "tags": [
          "193"
        ]
      },
      "outputs": [],
      "source": [
        "dd_square_root"
      ]
    },
    {
      "cell_type": "markdown",
      "metadata": {
        "tags": [
          "194"
        ]
      },
      "source": [
        "Success! Using `DDSetDebugger`, we have nicely generalized the failure-inducing input to a pattern `-<positive-int>` that translates into \"any negative number\"."
      ]
    },
    {
      "cell_type": "markdown",
      "metadata": {
        "tags": [
          "195"
        ]
      },
      "source": [
        "### Middle\n",
        "\n",
        "The `middle()` function from [the chapter on statistical debugging](StatisticalDebugger.ipynb) returns the middle of three numerical values `x`, `y`, and `z`."
      ]
    },
    {
      "cell_type": "code",
      "execution_count": null,
      "metadata": {
        "tags": [
          "196"
        ]
      },
      "outputs": [],
      "source": [
        "from StatisticalDebugger import middle  # minor dependency"
      ]
    },
    {
      "cell_type": "markdown",
      "metadata": {
        "tags": [
          "197"
        ]
      },
      "source": [
        "We set up a test function that evaluates a string \u2013 a tuple of three arguments \u2013 and then tests `middle()`:"
      ]
    },
    {
      "cell_type": "code",
      "execution_count": null,
      "metadata": {
        "tags": [
          "198"
        ]
      },
      "outputs": [],
      "source": [
        "def middle_test(s: str) -> None:\n",
        "    x, y, z = eval(s)\n",
        "    assert middle(x, y, z) == sorted([x, y, z])[1]"
      ]
    },
    {
      "cell_type": "markdown",
      "metadata": {
        "tags": [
          "199"
        ]
      },
      "source": [
        "The grammar for the three numbers simply puts three integers together:"
      ]
    },
    {
      "cell_type": "code",
      "execution_count": null,
      "metadata": {
        "button": false,
        "new_sheet": false,
        "run_control": {
          "read_only": false
        },
        "slideshow": {
          "slide_type": "subslide"
        },
        "tags": [
          "200"
        ]
      },
      "outputs": [],
      "source": [
        "XYZ_GRAMMAR: Grammar = {\n",
        "    \"<start>\":\n",
        "        [\"<int>, <int>, <int>\"],\n",
        "\n",
        "    \"<int>\":\n",
        "        [\"<positive-int>\", \"-<positive-int>\"],\n",
        "\n",
        "    \"<positive-int>\":\n",
        "        [\"<digit>\", \"<nonzero-digit><positive-int>\"],\n",
        "\n",
        "    \"<nonzero-digit>\": list(\"123456789\"),\n",
        "    \n",
        "    \"<digit>\": list(string.digits),\n",
        "}"
      ]
    },
    {
      "cell_type": "markdown",
      "metadata": {
        "tags": [
          "201"
        ]
      },
      "source": [
        "Here is an example of `middle()` failing:"
      ]
    },
    {
      "cell_type": "code",
      "execution_count": null,
      "metadata": {
        "tags": [
          "202"
        ]
      },
      "outputs": [],
      "source": [
        "with ExpectError(AssertionError):\n",
        "    middle_test(\"2, 1, 3\")"
      ]
    },
    {
      "cell_type": "markdown",
      "metadata": {
        "tags": [
          "203"
        ]
      },
      "source": [
        "What happens if we debug this with `DDSetDebugger`? We see that there is no abstraction at the syntax level that could characterize this failure:"
      ]
    },
    {
      "cell_type": "code",
      "execution_count": null,
      "metadata": {
        "tags": [
          "204"
        ]
      },
      "outputs": [],
      "source": [
        "with DDSetDebugger(XYZ_GRAMMAR, log=True) as dd_middle:\n",
        "    middle_test(\"2, 1, 3\")"
      ]
    },
    {
      "cell_type": "code",
      "execution_count": null,
      "metadata": {
        "tags": [
          "205"
        ]
      },
      "outputs": [],
      "source": [
        "dd_middle"
      ]
    },
    {
      "cell_type": "markdown",
      "metadata": {
        "tags": [
          "206"
        ]
      },
      "source": [
        "So, while there are failures that can be nicely characterized using abstractions of input elements, `middle()` is not one of them. Which is good, because this means that all our other techniques such as [statistical debugging](StatisticalDebugger.ipynb) and [dynamic invariants](DynamicInvariants.ipynb) still have a use case :-)"
      ]
    },
    {
      "cell_type": "markdown",
      "metadata": {
        "tags": [
          "207"
        ]
      },
      "source": [
        "## Synopsis"
      ]
    },
    {
      "cell_type": "markdown",
      "metadata": {
        "tags": [
          "208"
        ]
      },
      "source": [
        "This chapter provides a class `DDSetDebugger`, implementing the DDSET algorithm for generalizing failure-inducing inputs. The `DDSetDebugger` is used as follows:\n",
        "\n",
        "```python\n",
        "with DDSetDebugger(grammar) as dd:\n",
        "    function(args...)\n",
        "dd\n",
        "```\n",
        "\n",
        "Here, `function(args...)` is a failing function call (= raises an execption) that takes at least one string argument; `grammar` is an [input grammar in fuzzingbook format](https://www.fuzzingbook.org/html/Grammars.html) that matches the format of this argument.\n",
        "\n",
        "The result is a call of `function()` with an _abstract failure-inducing input_ \u2013\u00a0a variant of the conrete input in which parts are replaced by placeholders in the form `<name>`, where `<name>` is a nonterminal in the grammar. The failure has been verified to occur for a number of instantiations of `<name>`."
      ]
    },
    {
      "cell_type": "markdown",
      "metadata": {
        "tags": [
          "209"
        ]
      },
      "source": [
        "Here is an example of how `DDSetDebugger` works. The concrete failing input `<foo>\"bar</foo>` is generalized to an _abstract failure-inducing input_:"
      ]
    },
    {
      "cell_type": "code",
      "execution_count": null,
      "metadata": {
        "tags": [
          "210"
        ]
      },
      "outputs": [],
      "source": [
        "with DDSetDebugger(SIMPLE_HTML_GRAMMAR) as dd:\n",
        "    remove_html_markup('<foo>\"bar</foo>')\n",
        "dd"
      ]
    },
    {
      "cell_type": "markdown",
      "metadata": {
        "tags": [
          "211"
        ]
      },
      "source": [
        "The abstract input tells us that the failure occurs for whatever opening and closing HTML tags as long as there is a double quote between them."
      ]
    },
    {
      "cell_type": "markdown",
      "metadata": {
        "tags": [
          "212"
        ]
      },
      "source": [
        "A programmatic interface is available as well. `generalize()` returns a mapping of argument names to (generalized) values:"
      ]
    },
    {
      "cell_type": "code",
      "execution_count": null,
      "metadata": {
        "tags": [
          "213"
        ]
      },
      "outputs": [],
      "source": [
        "dd.generalize()"
      ]
    },
    {
      "cell_type": "markdown",
      "metadata": {
        "tags": [
          "214"
        ]
      },
      "source": [
        "Using `fuzz()`, the abstract input can be instantiated to further concrete inputs, all set to produce the failure again:"
      ]
    },
    {
      "cell_type": "code",
      "execution_count": null,
      "metadata": {
        "tags": [
          "215"
        ]
      },
      "outputs": [],
      "source": [
        "for i in range(10):\n",
        "    print(dd.fuzz())"
      ]
    },
    {
      "cell_type": "markdown",
      "metadata": {
        "tags": [
          "216"
        ]
      },
      "source": [
        "`DDSetDebugger` can be customized by passing a subclass of `TreeGeneralizer`, which does the gist of the work; for details, see its constructor.\n",
        "The full class hierarchy is shown below."
      ]
    },
    {
      "cell_type": "code",
      "execution_count": null,
      "metadata": {
        "tags": [
          "217"
        ]
      },
      "outputs": [],
      "source": [
        "# ignore\n",
        "from ClassDiagram import display_class_hierarchy"
      ]
    },
    {
      "cell_type": "code",
      "execution_count": null,
      "metadata": {
        "tags": [
          "218"
        ]
      },
      "outputs": [],
      "source": [
        "# ignore\n",
        "display_class_hierarchy([DDSetDebugger, TreeGeneralizer],\n",
        "                        public_methods=[\n",
        "                            CallCollector.__init__,\n",
        "                            CallCollector.__enter__,\n",
        "                            CallCollector.__exit__,\n",
        "                            CallCollector.function,\n",
        "                            CallCollector.args,\n",
        "                            CallCollector.exception,\n",
        "                            CallCollector.call,  # type: ignore\n",
        "                            DDSetDebugger.__init__,\n",
        "                            DDSetDebugger.__repr__,\n",
        "                            DDSetDebugger.fuzz,\n",
        "                            DDSetDebugger.fuzz_args,\n",
        "                            DDSetDebugger.generalize,\n",
        "                        ], project='debuggingbook')"
      ]
    },
    {
      "cell_type": "markdown",
      "metadata": {
        "button": false,
        "new_sheet": true,
        "run_control": {
          "read_only": false
        },
        "tags": [
          "219"
        ]
      },
      "source": [
        "## Lessons Learned\n",
        "\n",
        "* Generalizing failure-inducing inputs can yield important information for which inputs and under which circumstances a failure occurs.\n",
        "* Generalizing failure-inducing inputs is most useful if the input can be split into multiple elements, of which only a part are relevant for producing the error.\n",
        "* As they help in _parsing_ and _producing_ input, _grammars_ can play an important role in testing and debugging."
      ]
    },
    {
      "cell_type": "markdown",
      "metadata": {
        "button": false,
        "new_sheet": false,
        "run_control": {
          "read_only": false
        },
        "tags": [
          "220"
        ]
      },
      "source": [
        "## Next Steps\n",
        "\n",
        "Our [next chapter](Repairer.ipynb) introduces _automated repair_ of programs, building on the fault localization and generalization mechanisms introduced so far."
      ]
    },
    {
      "attachments": {},
      "cell_type": "markdown",
      "metadata": {
        "tags": [
          "221"
        ]
      },
      "source": [
        "## Background\n",
        "\n",
        "Our `DDSetDebugger` class implements the DDSET algorithm as introduced by Gopinath et al. in \\cite{Gopinath2020}. A [full-fledged implementation of DDSET](https://rahul.gopinath.org/post/2020/07/15/ddset/) with plenty of details and experiments is available as a Jupyter Notebook. Our implementation follows the [simplified implementation of DDSET, as described by Gopinath](https://rahul.gopinath.org/post/2020/08/03/simple-ddset/).\n",
        "\n",
        "The potential for determining how input features relate to bugs is not nearly explored yet. \n",
        "The ALHAZEN work by Kampmann et al. \\cite{Kampmann2020} generalizes over DDSET differently, by investigating _semantic_ features of input elements such as their numeric interpretation or length and their correlation with failures. Like DDSET, ALHAZEN also uses a feedback loop to strengthen or refute its hypotheses.\n",
        "\n",
        "In recent work \\cite{Gopinath2021}, Gopinath has extended the concept of DDSET further. His work on _evocative expressions_ introduces a _pattern language_ in which arbitrary DDSET-like patterns can be combined into Boolean formula that even more precisely capture and produce failure circumstances. In particular, evocative expressions can _specialize_ grammars towards Boolean pattern combinations, thus allowing for great flexibility in testing and debugging."
      ]
    },
    {
      "cell_type": "markdown",
      "metadata": {
        "button": false,
        "new_sheet": true,
        "run_control": {
          "read_only": false
        },
        "tags": [
          "222"
        ]
      },
      "source": [
        "## Exercises"
      ]
    },
    {
      "cell_type": "markdown",
      "metadata": {
        "button": false,
        "new_sheet": false,
        "run_control": {
          "read_only": false
        },
        "tags": [
          "223"
        ]
      },
      "source": [
        "### Exercise 1: Generalization and Specialization\n",
        "\n",
        "Consider the abstract failure-inducing input for `BAD_INPUT` we determined:"
      ]
    },
    {
      "cell_type": "code",
      "execution_count": null,
      "metadata": {
        "tags": [
          "224"
        ]
      },
      "outputs": [],
      "source": [
        "all_terminals(abstract_failure_inducing_input)"
      ]
    },
    {
      "cell_type": "markdown",
      "metadata": {
        "button": false,
        "new_sheet": false,
        "run_control": {
          "read_only": false
        },
        "solution2": "hidden",
        "solution2_first": true,
        "tags": [
          "225"
        ]
      },
      "source": [
        "1. How does it change if you increase the number of test runs, using `max_tries_for_generalization`?\n",
        "2. What is the success rate of the new pattern?"
      ]
    },
    {
      "cell_type": "markdown",
      "metadata": {
        "slideshow": {
          "slide_type": "skip"
        },
        "solution2": "hidden",
        "tags": [
          "226"
        ]
      },
      "source": [
        "**Solution.** We can compute this by increasing `max_tries_for_generalization`:"
      ]
    },
    {
      "cell_type": "code",
      "execution_count": null,
      "metadata": {
        "slideshow": {
          "slide_type": "skip"
        },
        "solution2": "hidden",
        "tags": [
          "227"
        ]
      },
      "outputs": [],
      "source": [
        "more_precise_bitg = \\\n",
        "    cast(TreeGeneralizer, bad_input_tree_generalizer(max_tries_for_generalization=100))\n",
        "\n",
        "more_precise_abstract_failure_inducing_input = \\\n",
        "    more_precise_bitg.generalize()"
      ]
    },
    {
      "cell_type": "code",
      "execution_count": null,
      "metadata": {
        "cell_style": "split",
        "slideshow": {
          "slide_type": "skip"
        },
        "solution2": "hidden",
        "tags": [
          "228"
        ]
      },
      "outputs": [],
      "source": [
        "all_terminals(more_precise_abstract_failure_inducing_input)"
      ]
    },
    {
      "cell_type": "markdown",
      "metadata": {
        "slideshow": {
          "slide_type": "skip"
        },
        "solution2": "hidden",
        "tags": [
          "229"
        ]
      },
      "source": [
        "We see that we still have an opening tag; however, it no longer assumes attributes."
      ]
    },
    {
      "cell_type": "markdown",
      "metadata": {
        "slideshow": {
          "slide_type": "skip"
        },
        "solution2": "hidden",
        "tags": [
          "230"
        ]
      },
      "source": [
        "The success rate can be computed as before:"
      ]
    },
    {
      "cell_type": "code",
      "execution_count": null,
      "metadata": {
        "slideshow": {
          "slide_type": "skip"
        },
        "solution2": "hidden",
        "tags": [
          "231"
        ]
      },
      "outputs": [],
      "source": [
        "successes = 0\n",
        "failures = 0\n",
        "trials = 1000\n",
        "\n",
        "for i in range(trials):\n",
        "    test_input = all_terminals(\n",
        "        more_precise_bitg.fuzz_tree(\n",
        "            more_precise_abstract_failure_inducing_input))\n",
        "    try:\n",
        "        remove_html_markup(test_input)\n",
        "    except AssertionError:\n",
        "        successes += 1\n",
        "    else:\n",
        "        failures += 1"
      ]
    },
    {
      "cell_type": "code",
      "execution_count": null,
      "metadata": {
        "slideshow": {
          "slide_type": "skip"
        },
        "solution2": "hidden",
        "tags": [
          "232"
        ]
      },
      "outputs": [],
      "source": [
        "successes, failures"
      ]
    },
    {
      "cell_type": "code",
      "execution_count": null,
      "metadata": {
        "slideshow": {
          "slide_type": "skip"
        },
        "solution2": "hidden",
        "tags": [
          "233"
        ]
      },
      "outputs": [],
      "source": [
        "failures / 1000"
      ]
    },
    {
      "cell_type": "markdown",
      "metadata": {
        "slideshow": {
          "slide_type": "skip"
        },
        "solution2": "hidden",
        "tags": [
          "234"
        ]
      },
      "source": [
        "We see that the success rate is now more than 99%, which is better than before. On the other hand, the pattern is now overly _special_, since there are `<opening-tags>` with attributes such that the failure occurs (but also some that cancel out the error)."
      ]
    }
  ],
  "metadata": {
    "ipub": {
      "bibliography": "fuzzingbook.bib",
      "toc": true
    },
    "kernelspec": {
      "display_name": "venv",
      "language": "python",
      "name": "python3"
    },
    "language_info": {
      "codemirror_mode": {
        "name": "ipython",
        "version": 3
      },
      "file_extension": ".py",
      "mimetype": "text/x-python",
      "name": "python",
      "nbconvert_exporter": "python",
      "pygments_lexer": "ipython3",
      "version": "3.9.10 (main, Jan 15 2022, 11:48:04) \n[Clang 13.0.0 (clang-1300.0.29.3)]"
    },
    "toc": {
      "base_numbering": 1,
      "nav_menu": {},
      "number_sections": true,
      "sideBar": true,
      "skip_h1_title": true,
      "title_cell": "",
      "title_sidebar": "Contents",
      "toc_cell": false,
      "toc_position": {},
      "toc_section_display": true,
      "toc_window_display": true
    },
    "toc-autonumbering": false,
    "vscode": {
      "interpreter": {
        "hash": "0af4f07dd039d1b4e562c7a7d0340393b1c66f50605ac6af30beb81aa23b7ef5"
      }
    }
  },
  "nbformat": 4,
  "nbformat_minor": 4
}