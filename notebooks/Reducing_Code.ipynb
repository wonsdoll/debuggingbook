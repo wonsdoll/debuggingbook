{
  "cells": [
    {
      "cell_type": "markdown",
      "metadata": {
        "tags": [
          "1"
        ]
      },
      "source": [
        "# Second Project"
      ]
    },
    {
      "cell_type": "markdown",
      "metadata": {
        "tags": [
          "2"
        ]
      },
      "source": [
        "In this project, you will implement a debugging reducer able to reduce a Python program containing a specific property down to a syntactically correct Python program that *only* contains said property.\n",
        "To do this, you will be given several Python parsers checking for specific properties as well as Python programs containing these properties.\n",
        "\n",
        "The time frame for this project is **2 weeks**, and the Deadline is **January 15th 23:59**."
      ]
    },
    {
      "cell_type": "code",
      "execution_count": null,
      "metadata": {
        "jupyter": {
          "outputs_hidden": false
        },
        "pycharm": {
          "name": "#%%\n"
        },
        "tags": [
          "3"
        ]
      },
      "outputs": [],
      "source": [
        "import bookutils.setup"
      ]
    },
    {
      "cell_type": "code",
      "execution_count": null,
      "metadata": {
        "pycharm": {
          "name": "#%%\n"
        },
        "tags": [
          "4"
        ]
      },
      "outputs": [],
      "source": [
        "import inspect\n",
        "import ast"
      ]
    },
    {
      "cell_type": "code",
      "execution_count": null,
      "metadata": {
        "tags": [
          "5"
        ]
      },
      "outputs": [],
      "source": [
        "from bookutils import show_ast"
      ]
    },
    {
      "cell_type": "code",
      "execution_count": null,
      "metadata": {
        "jupyter": {
          "outputs_hidden": false
        },
        "pycharm": {
          "name": "#%%\n"
        },
        "tags": [
          "6"
        ]
      },
      "outputs": [],
      "source": [
        "from ExpectError import ExpectError"
      ]
    },
    {
      "cell_type": "code",
      "execution_count": null,
      "metadata": {
        "tags": [
          "7"
        ]
      },
      "outputs": [],
      "source": [
        "# ignore\n",
        "from typing import Any, Optional, Set, cast"
      ]
    },
    {
      "cell_type": "markdown",
      "metadata": {
        "pycharm": {
          "name": "#%% md\n"
        },
        "tags": [
          "8"
        ]
      },
      "source": [
        "## Description\n",
        "\n",
        "Imagine we want to create a new compiler for Python programs which transforms the code into a binary executable.\n",
        "To this end, at first we need to implement a parser that parses a given program into a set of individual statements which can then be converted to the bytecode."
      ]
    },
    {
      "cell_type": "markdown",
      "metadata": {
        "pycharm": {
          "name": "#%% md\n"
        },
        "tags": [
          "9"
        ]
      },
      "source": [
        "### Parsing Python  \n",
        "\n",
        "If we want to parse a programming language like Python, it makes sense to parse the code into an abstract syntax tree (AST) and work with the AST from this point onward.\n",
        "The reason we might want to do this, is to preserve the syntactic integrity of our program.\n",
        "Let's start with parsing a simple Python function (`foo`) into an AST using `ast.parse()` and printing it."
      ]
    },
    {
      "cell_type": "code",
      "execution_count": null,
      "metadata": {
        "tags": [
          "10"
        ]
      },
      "outputs": [],
      "source": [
        "def foo(a, b):    # type: ignore\n",
        "    \"\"\"\n",
        "    Checks whether a and b are true\n",
        "    \"\"\"\n",
        "    if a and b:\n",
        "        return 1\n",
        "    return 0"
      ]
    },
    {
      "cell_type": "markdown",
      "metadata": {
        "pycharm": {
          "name": "#%% md\n"
        },
        "tags": [
          "11"
        ]
      },
      "source": [
        "We take a string representation of `foo()`..."
      ]
    },
    {
      "cell_type": "code",
      "execution_count": null,
      "metadata": {
        "tags": [
          "12"
        ]
      },
      "outputs": [],
      "source": [
        "source = inspect.getsource(foo)"
      ]
    },
    {
      "cell_type": "code",
      "execution_count": null,
      "metadata": {
        "pycharm": {
          "name": "#%%\n"
        },
        "tags": [
          "13"
        ]
      },
      "outputs": [],
      "source": [
        "print(source)"
      ]
    },
    {
      "cell_type": "markdown",
      "metadata": {
        "pycharm": {
          "name": "#%% md\n"
        },
        "tags": [
          "14"
        ]
      },
      "source": [
        "...and convert it to the AST:"
      ]
    },
    {
      "cell_type": "code",
      "execution_count": null,
      "metadata": {
        "jupyter": {
          "outputs_hidden": false
        },
        "pycharm": {
          "name": "#%%\n"
        },
        "tags": [
          "15"
        ]
      },
      "outputs": [],
      "source": [
        "source_ast = ast.parse(source)\n",
        "show_ast(source_ast)"
      ]
    },
    {
      "cell_type": "markdown",
      "metadata": {
        "pycharm": {
          "name": "#%% md\n"
        },
        "tags": [
          "16"
        ]
      },
      "source": [
        "We can see how the code is structured by inspecting the AST shown above."
      ]
    },
    {
      "cell_type": "markdown",
      "metadata": {
        "tags": [
          "17"
        ]
      },
      "source": [
        "To learn the structure of an AST, have a look at the [official Python `ast` reference](http://docs.python.org/3/library/ast) for a list of AST nodes and their attributes.\n",
        "This reference is complete, but a bit terse; the [\"Green Tree Snakes missing Python AST docs\"](https://greentreesnakes.readthedocs.io/en/latest/manipulating.html) provide a good manual on how to modify the tree."
      ]
    },
    {
      "cell_type": "markdown",
      "metadata": {
        "pycharm": {
          "name": "#%% md\n"
        },
        "tags": [
          "18"
        ]
      },
      "source": [
        "If we want to inspect certain elements of the source code, we can now use the `ast.NodeVisitor` to visit every node in the AST.\n",
        "This can be done by extending this class and implementing *visit-methods* for each type of node in the tree we want to inspect.  \n",
        "So, let's implement a parser that first parses the source code into an AST and then visits each node one after another."
      ]
    },
    {
      "cell_type": "code",
      "execution_count": null,
      "metadata": {
        "pycharm": {
          "name": "#%%\n"
        },
        "tags": [
          "19"
        ]
      },
      "outputs": [],
      "source": [
        "class SimpleParser(ast.NodeVisitor):\n",
        "    \"\"\"\n",
        "    A simple parser printing all nodes in order\n",
        "    \"\"\"\n",
        "\n",
        "    def parse(self, file: str) -> None:\n",
        "        \"\"\"\n",
        "        When the parse function is called, we parse the source code\n",
        "        into a tree and then start visiting all nodes.\n",
        "        \"\"\"\n",
        "        tree = ast.parse(source=file)\n",
        "        self.visit(tree)\n",
        "\n",
        "    def visit_FunctionDef(self, node: ast.FunctionDef) -> None:\n",
        "        print(node)\n",
        "        self.generic_visit(node)\n",
        "\n",
        "    def visit_arguments(self, node: ast.arguments) -> None:\n",
        "        print(node)\n",
        "        self.generic_visit(node)\n",
        "\n",
        "    def visit_If(self, node: ast.If) -> None:\n",
        "        print(node)\n",
        "        self.generic_visit(node)\n",
        "\n",
        "    def visit_Return(self, node: ast.Return) -> None:\n",
        "        print(node)\n",
        "        self.generic_visit(node)\n",
        "\n",
        "    def visit_arg(self, node: ast.arg) -> None:\n",
        "        print(node)\n",
        "        self.generic_visit(node)\n",
        "\n",
        "    def visit_Constant(self, node: ast.Constant) -> None:\n",
        "        print(node)\n",
        "        self.generic_visit(node)\n",
        "\n",
        "    def visit_Name(self, node: ast.Name) -> None:\n",
        "        print(node)\n",
        "        self.generic_visit(node)\n",
        "\n",
        "    def visit_BoolOp(self, node: ast.BoolOp) -> None:\n",
        "        print(node)\n",
        "        self.generic_visit(node)"
      ]
    },
    {
      "cell_type": "markdown",
      "metadata": {
        "pycharm": {
          "name": "#%% md\n"
        },
        "tags": [
          "20"
        ]
      },
      "source": [
        "Using this `SimpleParser`, we can visit each node and print the node object itself."
      ]
    },
    {
      "cell_type": "code",
      "execution_count": null,
      "metadata": {
        "pycharm": {
          "name": "#%%\n"
        },
        "tags": [
          "21"
        ]
      },
      "outputs": [],
      "source": [
        "SimpleParser().parse(source)"
      ]
    },
    {
      "cell_type": "markdown",
      "metadata": {
        "pycharm": {
          "name": "#%% md\n"
        },
        "tags": [
          "22"
        ]
      },
      "source": [
        "Now imagine, instead of just parsing the input and printing each node, we start to process the information present in each node.\n",
        "To notify the user if anything breaks, we introduce a `ParserException` that is thrown when we encounter a parsing error."
      ]
    },
    {
      "cell_type": "code",
      "execution_count": null,
      "metadata": {
        "pycharm": {
          "name": "#%%\n"
        },
        "tags": [
          "23"
        ]
      },
      "outputs": [],
      "source": [
        "class ParserException(Exception):\n",
        "    pass"
      ]
    },
    {
      "cell_type": "markdown",
      "metadata": {
        "pycharm": {
          "name": "#%% md\n"
        },
        "tags": [
          "24"
        ]
      },
      "source": [
        "For instance, let's consider our parser has troubles processing boolean operators.\n",
        "We simulate this behavior by extending our parser to throw an exception whenever it encounters a `BoolOp` node.\n"
      ]
    },
    {
      "cell_type": "code",
      "execution_count": null,
      "metadata": {
        "pycharm": {
          "name": "#%%\n"
        },
        "tags": [
          "25"
        ]
      },
      "outputs": [],
      "source": [
        "class SimpleParserPlus(SimpleParser):\n",
        "    \"\"\"\n",
        "    A simple parser printing all nodes in order until it reaches a BoolOp\n",
        "    \"\"\"\n",
        "\n",
        "    def visit_BoolOp(self, node: ast.BoolOp) -> None:\n",
        "        \"\"\"\n",
        "        If a BoolOp is encountered, we throw an exception\n",
        "        \"\"\"\n",
        "        raise ParserException(\"Something went wrong\")"
      ]
    },
    {
      "cell_type": "code",
      "execution_count": null,
      "metadata": {
        "pycharm": {
          "name": "#%%\n"
        },
        "tags": [
          "26"
        ]
      },
      "outputs": [],
      "source": [
        "with ExpectError():\n",
        "    SimpleParserPlus().parse(source)\n"
      ]
    },
    {
      "cell_type": "markdown",
      "metadata": {
        "tags": [
          "27"
        ]
      },
      "source": [
        "As we can see here, as soon as we encounter a boolean operation, an exception is thrown."
      ]
    },
    {
      "cell_type": "markdown",
      "metadata": {
        "pycharm": {
          "name": "#%% md\n"
        },
        "tags": [
          "28"
        ]
      },
      "source": [
        "### Reducing Python\n",
        "\n",
        "Let's get back to our `SimpleParserPlus` example. This parser parses Python code into an AST and then iterates over all nodes. When it reaches a boolean operation, it encounters an error and crashes.  \n",
        "Of course our example is a very small and artificial one. Furthermore, the input triggering our bug is rather small as well.\n",
        "However, in reality a similar situation might present itself to you but with a far less obvious error and a far larger input that causes it.\n",
        "In this case, instead of using the entire input, one might want to reduce the input down to only those parts actually causing the error.  \n",
        "But how do we do that?  \n",
        "We could, for instance, randomly remove some parts of the program.\n",
        "However, this would likely produce syntactically invalid Python code and hence prevent the parser from reaching the desired code location.\n",
        "So instead of just removing random parts of the code itself, we will manipulate the AST to preserve the correct syntax.\n",
        "\n",
        "How do we manipulate an AST produced by `ast.parse`? We can make use of the `ast.NodeTransformer`:"
      ]
    },
    {
      "cell_type": "code",
      "execution_count": null,
      "metadata": {
        "pycharm": {
          "name": "#%%\n"
        },
        "tags": [
          "29"
        ]
      },
      "outputs": [],
      "source": [
        "class NodeReducer(ast.NodeTransformer):\n",
        "\n",
        "    def visit_If(self, node: ast.If) -> ast.AST:\n",
        "        \"\"\"\n",
        "        Instead of the `if` node return just its condition\n",
        "        \"\"\"\n",
        "        # Apply other transformations to the children first\n",
        "        super().generic_visit(node)\n",
        "\n",
        "        # We create an expression around the node test\n",
        "        new_node = ast.Expr(node.test)\n",
        "        return new_node"
      ]
    },
    {
      "cell_type": "markdown",
      "metadata": {
        "pycharm": {
          "name": "#%% md\n"
        },
        "tags": [
          "30"
        ]
      },
      "source": [
        "The `ast.NodeTransformer` again uses the visitor pattern to walk over all nodes.\n",
        "This time, however, we change the resulting AST. In our case, if we encounter an *if-statement* we only return the condition.   \n",
        "\n",
        "(Keep in mind, `NodeReducer` changes the ast in place, so if you want to preserve the original tree, you need to copy it with `copy.deepcopy(tree)`)"
      ]
    },
    {
      "cell_type": "code",
      "execution_count": null,
      "metadata": {
        "pycharm": {
          "name": "#%%\n"
        },
        "tags": [
          "31"
        ]
      },
      "outputs": [],
      "source": [
        "NodeReducer().visit(source_ast)\n",
        "show_ast(source_ast)"
      ]
    },
    {
      "cell_type": "markdown",
      "metadata": {
        "pycharm": {
          "name": "#%% md\n"
        },
        "tags": [
          "32"
        ]
      },
      "source": [
        "As you can see, after running the `NodeReducer` there is no longer an *if-statement*, but only its condition.\n",
        "A more sophisticated NodeReducer is presented in the [Reducing Failure-Inducing Inputs chapter](https://www.debuggingbook.org/beta/html/DeltaDebugger.html) in the debugging book."
      ]
    },
    {
      "cell_type": "markdown",
      "metadata": {
        "pycharm": {
          "name": "#%% md\n"
        },
        "tags": [
          "33"
        ]
      },
      "source": [
        "To learn the structure of an AST, have a look at the [official Python `ast` reference](http://docs.python.org/3/library/ast) for a list of AST nodes and their attributes. This reference is complete, but a bit terse; the [\"Green Tree Snakes missing Python AST docs\"](https://greentreesnakes.readthedocs.io/en/latest/manipulating.html) provide a good manual on how to modify the tree."
      ]
    },
    {
      "cell_type": "markdown",
      "metadata": {
        "tags": [
          "34"
        ]
      },
      "source": [
        "**Pro tip**: You can learn the expected structure of any Python fragment by invoking `ast.dump()` on any (parsed) AST."
      ]
    },
    {
      "cell_type": "code",
      "execution_count": null,
      "metadata": {
        "pycharm": {
          "name": "#%%\n"
        },
        "tags": [
          "35"
        ]
      },
      "outputs": [],
      "source": [
        "demo_ast = ast.parse('''\n",
        "if a == b:\n",
        "    c = d\n",
        "''')"
      ]
    },
    {
      "cell_type": "code",
      "execution_count": null,
      "metadata": {
        "tags": [
          "36"
        ]
      },
      "outputs": [],
      "source": [
        "print(ast.dump(demo_ast, indent=4))"
      ]
    },
    {
      "cell_type": "markdown",
      "metadata": {
        "tags": [
          "37"
        ]
      },
      "source": [
        "The nice thing is that this not only reveals the AST structure, it also tells you how to construct it. If you take the very structure as produced by `ast.dump()` and evaluate it, you obtain the same syntax tree."
      ]
    },
    {
      "cell_type": "code",
      "execution_count": null,
      "metadata": {
        "tags": [
          "38"
        ]
      },
      "outputs": [],
      "source": [
        "from ast import Module, If, Compare, Load, Eq, Assign, Name, Store"
      ]
    },
    {
      "cell_type": "code",
      "execution_count": null,
      "metadata": {
        "pycharm": {
          "name": "#%%\n"
        },
        "tags": [
          "39"
        ]
      },
      "outputs": [],
      "source": [
        "ast_from_scratch = Module(\n",
        "    body=[\n",
        "        If(\n",
        "            test=Compare(\n",
        "                left=Name(id='a', ctx=Load()),\n",
        "                ops=[\n",
        "                    Eq()],\n",
        "                comparators=[\n",
        "                    Name(id='b', ctx=Load())]),\n",
        "            body=[\n",
        "                Assign(\n",
        "                    targets=[\n",
        "                        Name(id='c', ctx=Store())],\n",
        "                    value=Name(id='d', ctx=Load()))],\n",
        "            orelse=[])],\n",
        "    type_ignores=[])"
      ]
    },
    {
      "cell_type": "markdown",
      "metadata": {
        "tags": [
          "40"
        ]
      },
      "source": [
        "You need to invoke `ast.fix_missing_locations()` to add line numbers and other location info that would be normally added during parsing..."
      ]
    },
    {
      "cell_type": "code",
      "execution_count": null,
      "metadata": {
        "tags": [
          "41"
        ]
      },
      "outputs": [],
      "source": [
        "ast_from_scratch = ast.fix_missing_locations(ast_from_scratch)"
      ]
    },
    {
      "cell_type": "markdown",
      "metadata": {
        "tags": [
          "42"
        ]
      },
      "source": [
        "... and with this, you're all set:"
      ]
    },
    {
      "cell_type": "code",
      "execution_count": null,
      "metadata": {
        "pycharm": {
          "name": "#%%\n"
        },
        "tags": [
          "43"
        ]
      },
      "outputs": [],
      "source": [
        "print(ast.unparse(ast_from_scratch))"
      ]
    },
    {
      "cell_type": "markdown",
      "metadata": {
        "pycharm": {
          "name": "#%% md\n"
        },
        "tags": [
          "44"
        ]
      },
      "source": [
        "Hence, if you do not know what kind of AST fragment to produce, just\n",
        "1. parse its text with ``ast.parse()`` \n",
        "2. study the expression produced by `ast.dump()`, and\n",
        "3. build it from the same expression, using `ast.fix_missing_locations()` and `ast.unparse()`"
      ]
    },
    {
      "cell_type": "markdown",
      "metadata": {
        "pycharm": {
          "name": "#%% md\n"
        },
        "tags": [
          "45"
        ]
      },
      "source": [
        "### Implementing a Reducing Debugger\n",
        "\n",
        "Having seen how one can access and transform AST structures using a `NodeReducer` in Python, we can now use that knowledge to implement a `ReducingDebugger`\n",
        "capable of reducing the failure inducing Python code down to only that parts of the code that actually triggers the failure."
      ]
    },
    {
      "cell_type": "code",
      "execution_count": null,
      "metadata": {
        "pycharm": {
          "name": "#%%\n"
        },
        "tags": [
          "46"
        ]
      },
      "outputs": [],
      "source": [
        "class ReducingDebugger:\n",
        "    def __init__(self, parser: SimpleParser) -> None:\n",
        "        \"\"\"\n",
        "        We initialize the DebuggingReducer with a parser,\n",
        "        as this is needed to verify whether the failure \n",
        "        is still triggered after the code transformation\n",
        "        \"\"\"\n",
        "        self.parser = parser\n",
        "        self.node_reducer = NodeReducer()\n",
        "\n",
        "    def minimize(self, code: str) -> str:\n",
        "        \"\"\"\n",
        "        This function takes some Python code as string, reduces\n",
        "        it using the NodeReducer defined earlier and returns the \n",
        "        reduced program.\n",
        "        \"\"\"\n",
        "        # Parse the code to a tree\n",
        "        code_ast = ast.parse(source=code)\n",
        "\n",
        "        # Use the visit-method of the NodeReducer to reduce if nodes down to their condition\n",
        "        new_code_ast = self.node_reducer.visit(code_ast)\n",
        "\n",
        "        # After we've updated nodes, we need to fix the tree\n",
        "        ast.fix_missing_locations(new_code_ast)\n",
        "\n",
        "        # Generate code from the reduced tree\n",
        "        new_code = ast.unparse(new_code_ast)\n",
        "\n",
        "        # Test, whether the error is still triggered by the reduced code\n",
        "        try:\n",
        "            self.parser.parse(new_code)\n",
        "            # No exception is thrown. This means the new_code does not \n",
        "            # trigger an error anymore. Therefore, we failed in\n",
        "            # reduction and return the initial code.\n",
        "            return code\n",
        "        except ParserException:\n",
        "            # The error is still triggered. Return the reduced code\n",
        "            return new_code"
      ]
    },
    {
      "cell_type": "markdown",
      "metadata": {
        "pycharm": {
          "name": "#%% md\n"
        },
        "tags": [
          "47"
        ]
      },
      "source": [
        "The `ReducingDebugger` implemented above takes some Python code as an input and replaces all if-statements with their conditions.\n",
        "Then, it checks whether the newly generated code still triggers the error. If not, it returns the initial code. If the exception is still triggered, it returns the reduced code.\n",
        "Let's apply it to the source code of our `foo` function:"
      ]
    },
    {
      "cell_type": "code",
      "execution_count": null,
      "metadata": {
        "tags": [
          "48"
        ]
      },
      "outputs": [],
      "source": [
        "reducing_debugger = ReducingDebugger(SimpleParserPlus())\n",
        "new_source = reducing_debugger.minimize(source)"
      ]
    },
    {
      "cell_type": "code",
      "execution_count": null,
      "metadata": {
        "pycharm": {
          "name": "#%%\n"
        },
        "tags": [
          "49"
        ]
      },
      "outputs": [],
      "source": [
        "print(new_source)"
      ]
    },
    {
      "cell_type": "code",
      "execution_count": null,
      "metadata": {
        "pycharm": {
          "name": "#%%\n"
        },
        "tags": [
          "50"
        ]
      },
      "outputs": [],
      "source": [
        "with ExpectError():\n",
        "    SimpleParserPlus().parse(new_source)"
      ]
    },
    {
      "cell_type": "markdown",
      "metadata": {
        "pycharm": {
          "name": "#%% md\n"
        },
        "tags": [
          "51"
        ]
      },
      "source": [
        "As we can see, our `ReducingDebugger` reduces the original function to a smaller input, while still preserving the property of the code that triggers the same error as before.\n",
        "However, this reducer is very simple: it applies only one transformation to all `if` nodes at once.\n",
        "Instead, one can consider various transformations of the same node as well as transformations of various node types and apply them one by one (or in batches) to gradually reduce the code."
      ]
    },
    {
      "cell_type": "markdown",
      "metadata": {
        "pycharm": {
          "name": "#%% md\n"
        },
        "tags": [
          "52"
        ]
      },
      "source": [
        "Keep in mind, that the changes should be made in a way that the code is still accepted by a regular Python interpreter.\n",
        "Besides, the goal is to obtain a minimal program that still triggers the error.\n",
        "So, your debugging reducer should not simply reduce all possible nodes, but also regularly check whether the reduced code still triggers the failure."
      ]
    },
    {
      "cell_type": "markdown",
      "metadata": {
        "pycharm": {
          "name": "#%% md\n"
        },
        "tags": [
          "53"
        ]
      },
      "source": [
        "Therefore, you are required to implement certain modifications that can be done to the AST. In general, these transformations can be one of the following:   \n",
        "\n",
        "1. Delete a node,\n",
        "2. Substitute a node with the new node (e.g., _pass_ node),\n",
        "3. Substitute a node with all of its children,\n",
        "4. Substitute a node with one of its children."
      ]
    },
    {
      "cell_type": "markdown",
      "metadata": {
        "pycharm": {
          "name": "#%% md\n"
        },
        "tags": [
          "54"
        ]
      },
      "source": [
        "More detailed, one can consider, for instance:\n",
        "\n",
        "1. Replacing a `BoolOp` node by `True`.\n",
        "2. Replacing a `BoolOp` node by `False`.\n",
        "3. Replacing a `BoolOp` node by its left operand.\n",
        "4. Replacing a `BoolOp` node by its right operand.\n",
        "5. Replacing an `If` node by its \"then\" body.\n",
        "6. Replacing an `If` node by its condition.\n",
        "7. Replacing an `If` node by its \"else\" body.\n",
        "8. Replacing all instances of a variable by a constant.\n",
        "9. Replacing expressions by a constant.\n",
        "10. etc.\n",
        "\n",
        "Please, refer to the [official Python `ast` reference](http://docs.python.org/3/library/ast) for a full list of node types."
      ]
    },
    {
      "cell_type": "markdown",
      "metadata": {
        "pycharm": {
          "name": "#%% md\n"
        },
        "tags": [
          "55"
        ]
      },
      "source": [
        "## Implementation\n",
        "\n",
        "To succeed in this project, you need to complete the `MyReducer` class."
      ]
    },
    {
      "cell_type": "code",
      "execution_count": null,
      "metadata": {
        "pycharm": {
          "name": "#%%\n"
        },
        "tags": [
          "56"
        ]
      },
      "outputs": [],
      "source": [
        "class MyReducer(ReducingDebugger):\n",
        "\n",
        "    def minimize(self, code: str) -> str:\n",
        "        # TODO: implement this!\n",
        "        return code"
      ]
    },
    {
      "cell_type": "markdown",
      "metadata": {
        "pycharm": {
          "name": "#%% md\n"
        },
        "tags": [
          "57"
        ]
      },
      "source": [
        "To this end, you will need to extend the `NodeReducer` with additional transformations and implement a reducer strategy\n",
        "which collects all possible transformations and applies them to the AST until it is exhaustively minimized.\n",
        "Feel free to make your own implementation or extend the `DeltaDebugger` from the [Reducing Failure-Inducing Inputs chapter](https://www.debuggingbook.org/beta/html/DeltaDebugger.html) with\n",
        "the proper strategy."
      ]
    },
    {
      "cell_type": "markdown",
      "metadata": {
        "pycharm": {
          "name": "#%% md\n"
        },
        "tags": [
          "58"
        ]
      },
      "source": [
        "## Evaluation\n",
        "\n",
        "We evaluate your project based on public as well as secret tests. In this section, we present **five** different Python parsers as well as **five** Python input programs, which should be minified.\n",
        "These parsers check for a specific property in the code and fail the execution if the property exists. The input programs and parsers in this section make up the public test cases.\n",
        "If you pass all of those tests **without hardcoding the modifications** you are guaranteed to score 15 points in this project. You can get more points for passing secret tests."
      ]
    },
    {
      "cell_type": "markdown",
      "metadata": {
        "pycharm": {
          "name": "#%% md\n"
        },
        "tags": [
          "59"
        ]
      },
      "source": [
        "### Parsers"
      ]
    },
    {
      "cell_type": "code",
      "execution_count": null,
      "metadata": {
        "pycharm": {
          "name": "#%%\n"
        },
        "tags": [
          "60"
        ]
      },
      "outputs": [],
      "source": [
        "class Parser(ast.NodeVisitor):\n",
        "    \"\"\"The base class for a parser\"\"\"\n",
        "\n",
        "    def parse_tree(self, tree: ast.AST) -> None:\n",
        "        self.visit(tree)\n",
        "\n",
        "    def parse(self, source: str) -> str:\n",
        "        tree = ast.parse(source=source)\n",
        "        self.parse_tree(tree)\n",
        "        return \"The input was successfully parsed.\""
      ]
    },
    {
      "cell_type": "markdown",
      "metadata": {
        "pycharm": {
          "name": "#%% md\n"
        },
        "tags": [
          "61"
        ]
      },
      "source": [
        "`Parser` is the base class for a parser from which all other parsers are derived. It works the same way as the `SimpleParser` introduced earlier."
      ]
    },
    {
      "cell_type": "markdown",
      "metadata": {
        "pycharm": {
          "name": "#%% md\n"
        },
        "tags": [
          "62"
        ]
      },
      "source": [
        "Let's define a couple of parsers which model a failure during processing of a certain code feature."
      ]
    },
    {
      "cell_type": "code",
      "execution_count": null,
      "metadata": {
        "pycharm": {
          "name": "#%%\n"
        },
        "tags": [
          "63"
        ]
      },
      "outputs": [],
      "source": [
        "class Parser1(Parser):\n",
        "    \"\"\"\n",
        "    Contains a boolean operation\n",
        "    \"\"\"\n",
        "\n",
        "    def visit_BoolOp(self, node: ast.BoolOp) -> None:\n",
        "        raise ParserException(f\"Something went wrong\")"
      ]
    },
    {
      "cell_type": "markdown",
      "metadata": {
        "tags": [
          "64"
        ]
      },
      "source": [
        "If we feed this parser with an input program which contains a boolean operation, it fails:"
      ]
    },
    {
      "cell_type": "code",
      "execution_count": null,
      "metadata": {
        "jupyter": {
          "outputs_hidden": false
        },
        "pycharm": {
          "name": "#%%\n"
        },
        "tags": [
          "65"
        ]
      },
      "outputs": [],
      "source": [
        "parser1 = Parser1()\n",
        "input_program = '''\n",
        "a = True and False'''\n",
        "with ExpectError():\n",
        "    parser1.parse(input_program)"
      ]
    },
    {
      "cell_type": "markdown",
      "metadata": {
        "pycharm": {
          "name": "#%% md\n"
        },
        "tags": [
          "66"
        ]
      },
      "source": [
        "In contrast to the above, an input program _without_ a boolean operation is parsed correctly."
      ]
    },
    {
      "cell_type": "code",
      "execution_count": null,
      "metadata": {
        "jupyter": {
          "outputs_hidden": false
        },
        "pycharm": {
          "name": "#%%\n"
        },
        "tags": [
          "67"
        ]
      },
      "outputs": [],
      "source": [
        "parser1 = Parser1()\n",
        "input_program = '''\n",
        "a = 1\n",
        "b = True\n",
        "'''\n",
        "\n",
        "parser1.parse(input_program)"
      ]
    },
    {
      "cell_type": "markdown",
      "metadata": {
        "pycharm": {
          "name": "#%% md\n"
        },
        "tags": [
          "68"
        ]
      },
      "source": [
        "The other parsers are"
      ]
    },
    {
      "cell_type": "code",
      "execution_count": null,
      "metadata": {
        "pycharm": {
          "name": "#%%\n"
        },
        "tags": [
          "69"
        ]
      },
      "outputs": [],
      "source": [
        "class Parser2(Parser):\n",
        "    \"\"\"\n",
        "    Fails if an input program contains `if` statement\n",
        "    \"\"\"\n",
        "    def visit_If(self, node: ast.If) -> None:\n",
        "        raise ParserException(f\"Something went wrong\")"
      ]
    },
    {
      "cell_type": "code",
      "execution_count": null,
      "metadata": {
        "jupyter": {
          "outputs_hidden": false
        },
        "pycharm": {
          "name": "#%%\n"
        },
        "tags": [
          "70"
        ]
      },
      "outputs": [],
      "source": [
        "parser2 = Parser2()\n",
        "input_program = '''\n",
        "if a:\n",
        "    b = 1\n",
        "else:\n",
        "    b = 2\n",
        "'''\n",
        "with ExpectError():\n",
        "    parser2.parse(input_program)"
      ]
    },
    {
      "cell_type": "code",
      "execution_count": null,
      "metadata": {
        "pycharm": {
          "name": "#%%\n"
        },
        "tags": [
          "71"
        ]
      },
      "outputs": [],
      "source": [
        "class Parser3(Parser):\n",
        "    \"\"\"\n",
        "    Fails if an input program contains a special unicode character\n",
        "    \"\"\"\n",
        "\n",
        "    def __init__(self) -> None:\n",
        "        self.assignment = False\n",
        "        self.steps = 0\n",
        "\n",
        "    def check_unicode(self, string: str) -> bool:\n",
        "        return string == u'\\u0426'\n",
        "\n",
        "    def generic_visit(self, node: ast.AST) -> None:\n",
        "        self.steps += 1\n",
        "        super().generic_visit(node)\n",
        "\n",
        "    def visit_Assign(self, node: ast.Assign) -> None:\n",
        "        self.assignment = True\n",
        "        self.steps = 0\n",
        "        self.generic_visit(node)\n",
        "\n",
        "    def visit_Constant(self, node: ast.Constant) -> None:\n",
        "        if self.assignment and self.steps == 3:\n",
        "            if isinstance(node.value, str):\n",
        "                if self.check_unicode(node.value):\n",
        "                    raise ParserException(f\"Something went wrong\")"
      ]
    },
    {
      "cell_type": "code",
      "execution_count": null,
      "metadata": {
        "jupyter": {
          "outputs_hidden": false
        },
        "pycharm": {
          "name": "#%%\n"
        },
        "tags": [
          "72"
        ]
      },
      "outputs": [],
      "source": [
        "parser3 = Parser3()\n",
        "input_program = '''\n",
        "a = u'\\u0426'\n",
        "'''\n",
        "with ExpectError(ParserException):\n",
        "    parser3.parse(input_program)"
      ]
    },
    {
      "cell_type": "code",
      "execution_count": null,
      "metadata": {
        "tags": [
          "73"
        ]
      },
      "outputs": [],
      "source": [
        "class Parser4(Parser):\n",
        "    \"\"\"\n",
        "    Fails if an input program contains a variable which is not defined\n",
        "    \"\"\"\n",
        "\n",
        "    def __init__(self) -> None:\n",
        "        self.assignment = False\n",
        "        self.steps = 0\n",
        "        self.variables: Set[str] = set()\n",
        "\n",
        "    def generic_visit(self, node: ast.AST) -> None:\n",
        "        self.steps += 1\n",
        "        super().generic_visit(node)\n",
        "\n",
        "    def visit_Name(self, node: ast.Name) -> None:\n",
        "        if self.assignment and self.steps == 1:\n",
        "            self.variables.add(node.id)\n",
        "            self.assignment = False\n",
        "            self.generic_visit(node)\n",
        "        elif node.id in self.variables:\n",
        "            self.generic_visit(node)\n",
        "        else:\n",
        "            raise ParserException(f\"Something went wrong\")\n",
        "\n",
        "    def visit_Assign(self, node: ast.Assign) -> None:\n",
        "        self.assignment = True\n",
        "        self.steps = 0\n",
        "        self.generic_visit(node)"
      ]
    },
    {
      "cell_type": "code",
      "execution_count": null,
      "metadata": {
        "jupyter": {
          "outputs_hidden": false
        },
        "pycharm": {
          "name": "#%%\n"
        },
        "tags": [
          "74"
        ]
      },
      "outputs": [],
      "source": [
        "parser4 = Parser4()\n",
        "input_program = '''\n",
        "a = 1\n",
        "b = c\n",
        "'''\n",
        "with ExpectError(ParserException):\n",
        "    parser4.parse(input_program)"
      ]
    },
    {
      "cell_type": "code",
      "execution_count": null,
      "metadata": {
        "pycharm": {
          "name": "#%%\n"
        },
        "tags": [
          "75"
        ]
      },
      "outputs": [],
      "source": [
        "class Parser5(Parser):\n",
        "    \"\"\"\n",
        "    Fails if an input program contains a list\n",
        "    \"\"\"\n",
        "\n",
        "    def visit_List(self, node: ast.List) -> None:\n",
        "        raise ParserException(f\"Something went wrong\") "
      ]
    },
    {
      "cell_type": "code",
      "execution_count": null,
      "metadata": {
        "jupyter": {
          "outputs_hidden": false
        },
        "pycharm": {
          "name": "#%%\n"
        },
        "tags": [
          "76"
        ]
      },
      "outputs": [],
      "source": [
        "parser5 = Parser5()\n",
        "input_program = '''\n",
        "a = {x * 2 for x in map(int, ['1', '2', '3'])}\n",
        "'''\n",
        "with ExpectError(ParserException):\n",
        "    parser5.parse(input_program)"
      ]
    },
    {
      "cell_type": "markdown",
      "metadata": {
        "tags": [
          "77"
        ]
      },
      "source": [
        "For secret tests we may use other parsers crafted in the same way."
      ]
    },
    {
      "cell_type": "markdown",
      "metadata": {
        "pycharm": {
          "name": "#%% md\n"
        },
        "tags": [
          "78"
        ]
      },
      "source": [
        "### Input Programs"
      ]
    },
    {
      "cell_type": "markdown",
      "metadata": {
        "tags": [
          "79"
        ]
      },
      "source": [
        "Now we present five public tests.\n",
        "Each test case implements a `get_original()` method that returns an input program which your reducer should minify.\n",
        "It also has a `parser` field which stores a parser used for a respective input program.\n",
        "Besides, `get_minimized()` method provides a reference solution."
      ]
    },
    {
      "cell_type": "code",
      "execution_count": null,
      "metadata": {
        "jupyter": {
          "outputs_hidden": false
        },
        "pycharm": {
          "name": "#%%\n"
        },
        "tags": [
          "80"
        ]
      },
      "outputs": [],
      "source": [
        "class Test1:\n",
        "    parser = Parser1()\n",
        "\n",
        "    def get_original(self) -> str:\n",
        "        return '''\n",
        "def original():\n",
        "    a = True\n",
        "    b = not False\n",
        "    c = 30\n",
        "    for i in range(c):\n",
        "        if i == 15:\n",
        "            if a and b:\n",
        "                return 1\n",
        "    return 0\n",
        "'''\n",
        "\n",
        "    def get_minimized(self) -> str:\n",
        "        return '''\n",
        "True and True'''"
      ]
    },
    {
      "cell_type": "code",
      "execution_count": null,
      "metadata": {
        "jupyter": {
          "outputs_hidden": false
        },
        "pycharm": {
          "name": "#%%\n"
        },
        "tags": [
          "81"
        ]
      },
      "outputs": [],
      "source": [
        "class Test2:\n",
        "    parser = Parser2()\n",
        "    def get_original(self) -> str:\n",
        "        return '''\n",
        "def original():\n",
        "    a = True\n",
        "    b = not False\n",
        "    c = 30\n",
        "    for i in range(c):\n",
        "        if i == 15:\n",
        "            if a and b:\n",
        "                return 1\n",
        "    return 0\n",
        "    '''\n",
        "\n",
        "    def get_minimized(self) -> str:\n",
        "        return '''\n",
        "if True:\n",
        "    return\n",
        "'''"
      ]
    },
    {
      "cell_type": "code",
      "execution_count": null,
      "metadata": {
        "jupyter": {
          "outputs_hidden": false
        },
        "pycharm": {
          "name": "#%%\n"
        },
        "tags": [
          "82"
        ]
      },
      "outputs": [],
      "source": [
        "class Test3:\n",
        "    parser = Parser3()\n",
        "    def get_original(self) -> str:\n",
        "        return '''\n",
        "def original():\n",
        "    a = 1\n",
        "    b = a\n",
        "    c = a - b\n",
        "    if c < a:\n",
        "        d = ''\n",
        "        while a == b:\n",
        "            d = u'\\u0426'\n",
        "            a += 1\n",
        "        return d\n",
        "    return ''\n",
        "'''\n",
        "\n",
        "    def get_minimized(self) -> str:\n",
        "        return '''\n",
        "d = u'\\u0426'\n",
        "'''"
      ]
    },
    {
      "cell_type": "code",
      "execution_count": null,
      "metadata": {
        "jupyter": {
          "outputs_hidden": false
        },
        "pycharm": {
          "name": "#%%\n"
        },
        "tags": [
          "83"
        ]
      },
      "outputs": [],
      "source": [
        "class Test4:\n",
        "    parser = Parser4()\n",
        "    def get_original(self) -> str:\n",
        "        return '''\n",
        "def original():\n",
        "    a = 1\n",
        "    b = a\n",
        "    c = a - b\n",
        "    if c < a:\n",
        "        while a == b:\n",
        "            a += 1\n",
        "        return d\n",
        "    return ''\n",
        "'''\n",
        "\n",
        "    def get_minimized(self) -> str:\n",
        "        return '''\n",
        "d\n",
        "'''"
      ]
    },
    {
      "cell_type": "code",
      "execution_count": null,
      "metadata": {
        "jupyter": {
          "outputs_hidden": false
        },
        "pycharm": {
          "name": "#%%\n"
        },
        "tags": [
          "84"
        ]
      },
      "outputs": [],
      "source": [
        "class Test5:\n",
        "    parser = Parser5()\n",
        "\n",
        "    def get_original(self) -> str:\n",
        "        return '''\n",
        "def original():\n",
        "    a = 1\n",
        "    b = 0\n",
        "    while True:\n",
        "        if a < b:\n",
        "            return [1, 2, 3]\n",
        "        else:\n",
        "            return []\n",
        "'''\n",
        "\n",
        "    def get_minimized(self) -> str:\n",
        "        return '''\n",
        "[]\n",
        "'''"
      ]
    },
    {
      "cell_type": "markdown",
      "metadata": {
        "pycharm": {
          "name": "#%% md\n"
        },
        "tags": [
          "85"
        ]
      },
      "source": [
        "For instance, let's take the input program of `Test1`:"
      ]
    },
    {
      "cell_type": "code",
      "execution_count": null,
      "metadata": {
        "jupyter": {
          "outputs_hidden": false
        },
        "pycharm": {
          "name": "#%%\n"
        },
        "tags": [
          "86"
        ]
      },
      "outputs": [],
      "source": [
        "test = Test1()\n",
        "source = test.get_original()\n",
        "print(source)"
      ]
    },
    {
      "cell_type": "markdown",
      "metadata": {
        "tags": [
          "87"
        ]
      },
      "source": [
        "And parse it with the provided parser:"
      ]
    },
    {
      "cell_type": "code",
      "execution_count": null,
      "metadata": {
        "jupyter": {
          "outputs_hidden": false
        },
        "pycharm": {
          "name": "#%%\n"
        },
        "tags": [
          "88"
        ]
      },
      "outputs": [],
      "source": [
        "with ExpectError():\n",
        "    test.parser.parse(source)"
      ]
    },
    {
      "cell_type": "markdown",
      "metadata": {
        "tags": [
          "89"
        ]
      },
      "source": [
        "The parser failed."
      ]
    },
    {
      "cell_type": "markdown",
      "metadata": {
        "tags": [
          "90"
        ]
      },
      "source": [
        "### Testing Infrastructure\n",
        "\n",
        "The following section introduces the testing infrastructure, which is used to assess your performance in the project. Passing all tests will be enough to complete the project successfully."
      ]
    },
    {
      "cell_type": "markdown",
      "metadata": {
        "pycharm": {
          "name": "#%% md\n"
        },
        "tags": [
          "91"
        ]
      },
      "source": [
        "We are not going to directly compare a minimized program with the reference solution (as two strings). Instead, we again transform the code into AST and count the number of nodes in both trees.\n",
        "If the difference between them is lower than a `THRESHOLD` (and a parser still produces an error), the test is passed.\n",
        "To count the number of nodes in the AST, we need a helper class `NodeCounter`."
      ]
    },
    {
      "cell_type": "code",
      "execution_count": null,
      "metadata": {
        "pycharm": {
          "name": "#%%\n"
        },
        "tags": [
          "92"
        ]
      },
      "outputs": [],
      "source": [
        "class NodeCounter(ast.NodeVisitor):\n",
        "    \"\"\"\n",
        "    This node counter is used to assess\n",
        "    the amount of reductions performed by your reducer.\n",
        "    It counts the number of nodes in the AST.\n",
        "    \"\"\"\n",
        "\n",
        "    def __init__(self) -> None:\n",
        "        self.num_nodes = 0\n",
        "\n",
        "    def visit(self, node: ast.AST) -> None:\n",
        "        self.num_nodes += 1\n",
        "        self.generic_visit(node)\n",
        "\n",
        "    def count(self, source: str) -> int:\n",
        "        tree = ast.parse(source=source)\n",
        "        self.visit(tree)\n",
        "        return self.num_nodes"
      ]
    },
    {
      "cell_type": "markdown",
      "metadata": {
        "pycharm": {
          "name": "#%% md\n"
        },
        "tags": [
          "93"
        ]
      },
      "source": [
        "The AST of the input program is as follows:"
      ]
    },
    {
      "cell_type": "code",
      "execution_count": null,
      "metadata": {
        "jupyter": {
          "outputs_hidden": false
        },
        "pycharm": {
          "name": "#%%\n"
        },
        "tags": [
          "94"
        ]
      },
      "outputs": [],
      "source": [
        "show_ast(ast.parse(source))\n",
        "print(f\"The number of nodes is {NodeCounter().count(source)}\")"
      ]
    },
    {
      "cell_type": "markdown",
      "metadata": {
        "tags": [
          "95"
        ]
      },
      "source": [
        "As you can see, the input program of `Test1` has 42 nodes."
      ]
    },
    {
      "cell_type": "markdown",
      "metadata": {
        "tags": [
          "96"
        ]
      },
      "source": [
        "The testing framework takes a reducer and allows executing a single test or all tests at once."
      ]
    },
    {
      "cell_type": "code",
      "execution_count": null,
      "metadata": {
        "pycharm": {
          "name": "#%%\n"
        },
        "tags": [
          "97"
        ]
      },
      "outputs": [],
      "source": [
        "class TestingFramework:\n",
        "    THRESHOLD = 3\n",
        "    test_cases = {\n",
        "        'test1': Test1(),\n",
        "        'test2': Test2(),\n",
        "        'test3': Test3(),\n",
        "        'test4': Test4(),\n",
        "        'test5': Test5()\n",
        "    }\n",
        "\n",
        "    def __init__(self, reducer: Any) -> None:\n",
        "        self.reducer = reducer\n",
        "\n",
        "    def count_nodes(self, source: Optional[str]) -> int:\n",
        "        if source is None:\n",
        "            return 100000\n",
        "        return NodeCounter().count(source)\n",
        "\n",
        "    def run_test(self, test: Any) -> bool:\n",
        "        \"\"\"\n",
        "        run a single test\n",
        "        \"\"\"\n",
        "        print(f'Running test {test.__class__.__name__}')\n",
        "        reducer = self.reducer(test.parser)\n",
        "        reduced_code = reducer.minimize(test.get_original())\n",
        "        return (self.has_property(reduced_code, test.parser) and \n",
        "                self.is_minimized(reduced_code, test.get_minimized()))\n",
        "\n",
        "    def run_tests(self) -> None:\n",
        "        \"\"\"\n",
        "        run all public tests\n",
        "        \"\"\"\n",
        "        passed_tests = 0\n",
        "        for test in self.test_cases.values():\n",
        "            success = self.run_test(test)\n",
        "            if success:\n",
        "                passed_tests += 1\n",
        "\n",
        "        print(f\"In total {passed_tests} tests passed\")\n",
        "\n",
        "    def has_property(self, source: str, parser: Any) -> bool:\n",
        "        \"\"\"returns True if the parser fails to parse the source\"\"\"\n",
        "        try:\n",
        "            parser.parse(source)\n",
        "            print(f'HAS PROPERTY: FAIL')\n",
        "            return False\n",
        "        except ParserException:\n",
        "            print(f'HAS PROPERTY: OK')\n",
        "            return True\n",
        "        except Exception as e:\n",
        "            print(f'HAS PROPERTY: FAIL {e}')\n",
        "            return False\n",
        "\n",
        "    def is_minimized(self, reduced: str, reference: str) -> bool:\n",
        "        \"\"\"\n",
        "        Returns True if the AST of the reduced code contains \n",
        "        no more then the number of nodes in the reference + a THRESHOLD\n",
        "        \"\"\"\n",
        "        count_minimized = self.count_nodes(reduced)\n",
        "        count_reference = self.count_nodes(reference)\n",
        "        if count_minimized <= count_reference + self.THRESHOLD:\n",
        "            print(f'IS MINIMIZED: OK')\n",
        "            return True\n",
        "        else:\n",
        "            print(f'IS MINIMIZED: FAIL')\n",
        "            return False"
      ]
    },
    {
      "cell_type": "markdown",
      "metadata": {
        "pycharm": {
          "name": "#%% md\n"
        },
        "tags": [
          "98"
        ]
      },
      "source": [
        "Let's test our `ReducingDebugger` with the following test:"
      ]
    },
    {
      "cell_type": "code",
      "execution_count": null,
      "metadata": {
        "jupyter": {
          "outputs_hidden": false
        },
        "pycharm": {
          "name": "#%%\n"
        },
        "tags": [
          "99"
        ]
      },
      "outputs": [],
      "source": [
        "class Test0:\n",
        "    parser = Parser1()\n",
        "\n",
        "    def get_original(self) -> str:\n",
        "        return '''\n",
        "if a and b:\n",
        "    c = 1\n",
        "else:\n",
        "    c = 2\n",
        "'''\n",
        "\n",
        "    def get_minimized(self) -> str:\n",
        "        return '''\n",
        "a and b'''"
      ]
    },
    {
      "cell_type": "code",
      "execution_count": null,
      "metadata": {
        "jupyter": {
          "outputs_hidden": false
        },
        "pycharm": {
          "name": "#%%\n"
        },
        "tags": [
          "100"
        ]
      },
      "outputs": [],
      "source": [
        "tf = TestingFramework(ReducingDebugger)\n",
        "if tf.run_test(Test0()):\n",
        "    print(\"Success!\")"
      ]
    },
    {
      "cell_type": "markdown",
      "metadata": {
        "tags": [
          "101"
        ]
      },
      "source": [
        "The input program was successfully minimized."
      ]
    },
    {
      "cell_type": "markdown",
      "metadata": {
        "pycharm": {
          "name": "#%% md\n"
        },
        "tags": [
          "102"
        ]
      },
      "source": [
        "What if we run all public tests?"
      ]
    },
    {
      "cell_type": "code",
      "execution_count": null,
      "metadata": {
        "pycharm": {
          "name": "#%%\n"
        },
        "tags": [
          "103"
        ]
      },
      "outputs": [],
      "source": [
        "tf.run_tests()"
      ]
    },
    {
      "cell_type": "markdown",
      "metadata": {
        "tags": [
          "104"
        ]
      },
      "source": [
        "Unfortunately, our parser failed to minimize all input programs from the public test suite."
      ]
    },
    {
      "cell_type": "markdown",
      "metadata": {
        "tags": [
          "105"
        ]
      },
      "source": [
        "## Grading"
      ]
    },
    {
      "cell_type": "markdown",
      "metadata": {
        "tags": [
          "106"
        ]
      },
      "source": [
        "For this project, you can get a total of 30 Points:\n",
        "\n",
        "* 15 Points will be awarded for passing the public test (**without hardcoding the minimized solution or the sequence of transformations**) presented in this notebook.\n",
        "These 15 points mean that you successfully implemented the must-have implementation.\n",
        "* 5 Points will be awarded for passing secret tests.\n",
        "* 10 Points will be awarded for efficient implementation (see may-have implementation)."
      ]
    },
    {
      "cell_type": "markdown",
      "metadata": {
        "tags": [
          "107"
        ]
      },
      "source": [
        "### Must-have Features\n",
        "\n",
        "Implement a reducer which minifies a given program so that its parser still produces an error.\n",
        "To this end, collect all possible transformations over the nodes of an AST tree and then apply one change at a time.\n",
        "These modifications should be repeated until no further updates can be made without triggering a parser exception.\n",
        "If your reducer passes secret test you are awarded additional 5 points.\n",
        "\n",
        "*Note: Implementing the given modifications should be sufficient to successfully complete this project.*"
      ]
    },
    {
      "cell_type": "markdown",
      "metadata": {
        "pycharm": {
          "name": "#%% md\n"
        },
        "tags": [
          "108"
        ]
      },
      "source": [
        "### May-have Features\n",
        "\n",
        "An implementation only of the must-have features aims for correctness but can be inefficient (if transformations are applied one at a time). So, it can be optimized, for instance, with help of the Delta Debugging approach.\n",
        "\n",
        "Implement an AST Delta Debugger which efficiently prunes the nodes.\n",
        "If your reducer can beat the runtime of our reference implementation (which simply collects all possible transformations and applies them randomly one at a time) you can get up to 10 points (depending on the margin).\n",
        "\n",
        "Hint: The [Reducing Failure-Inducing Inputs chapter](https://www.debuggingbook.org/beta/html/DeltaDebugger.html) already tries to optimize the reduction of the AST with help of Delta Debugging.  \n",
        "Hint: For instance, you can find useful _Hierarchical Delta Debugging_ paper from the Background section of **Reducing Failure-Inducing Inputs** Chapter."
      ]
    }
  ],
  "metadata": {
    "ipub": {
      "bibliography": "fuzzingbook.bib"
    },
    "kernelspec": {
      "display_name": "Python 3 (ipykernel)",
      "language": "python",
      "name": "python3"
    },
    "language_info": {
      "codemirror_mode": {
        "name": "ipython",
        "version": 3
      },
      "file_extension": ".py",
      "mimetype": "text/x-python",
      "name": "python",
      "nbconvert_exporter": "python",
      "pygments_lexer": "ipython3",
      "version": "3.9.7"
    },
    "toc": {
      "base_numbering": 1,
      "nav_menu": {},
      "number_sections": true,
      "sideBar": true,
      "skip_h1_title": true,
      "title_cell": "",
      "title_sidebar": "Contents",
      "toc_cell": false,
      "toc_position": {},
      "toc_section_display": true,
      "toc_window_display": true
    },
    "toc-autonumbering": false
  },
  "nbformat": 4,
  "nbformat_minor": 4
}