{
  "cells": [
    {
      "cell_type": "markdown",
      "metadata": {
        "pycharm": {
          "name": "#%% md\n"
        },
        "tags": [
          "1"
        ]
      },
      "source": [
        "# Project: Time Travel Debugger\n",
        "\n",
        "In this project you will build your own **Time Travel Debugger** for Python. Please read the [Chapter on Debuggers](https://www.debuggingbook.org/beta/html/Debugger.html) beforehand, notably Exercise 1."
      ]
    },
    {
      "cell_type": "markdown",
      "metadata": {
        "tags": [
          "2"
        ]
      },
      "source": [
        "**Update\\[26.11.2020\\]**: the project description was amended to include answers to most of the student's questions.  \n",
        "Clarifications are highlighted with <span style=\"color:blue\">blue</span> color.\n",
        "Changes/additions are highlighted with <span style=\"color:red\">red</span> color."
      ]
    },
    {
      "cell_type": "markdown",
      "metadata": {
        "pycharm": {
          "name": "#%% md\n"
        },
        "tags": [
          "3"
        ]
      },
      "source": [
        "A time travel debugger records a log of the process execution (including call stack and values of all variables at each step), so that it is possible to run it later\n",
        "with both forward and backward commands. The interactive session does not execute the code statements, but just replays all actions taken from the recorded execution.\n",
        "A time travel debugger can restore a full snapshot of each program state at any point in time and either continue the execution from then on, or run the program backward.\n",
        "As normal execution changes values of variables along the run, the backward execution reverts variables to the previous values and \"un-executes\" functions."
      ]
    },
    {
      "cell_type": "markdown",
      "metadata": {
        "pycharm": {
          "name": "#%% md\n"
        },
        "tags": [
          "4"
        ]
      },
      "source": [
        "The project can be approached in two ways: either as a single-person project or a pair project.\n",
        "The single-person project comprises the implementation of a command line interface, whereas the pair project requires the implementation of a graphical user interface."
      ]
    },
    {
      "cell_type": "markdown",
      "metadata": {
        "pycharm": {
          "name": "#%% md\n"
        },
        "tags": [
          "5"
        ]
      },
      "source": [
        "To be successful, you must obtain at least 15 points by implementing features listed in \"Must-have Requirements\"; otherwise, you will not be awarded any points for the project.\n",
        "\n",
        "To fully enjoy coding (and get maximum points) feel free to additionally implement some (or all) features from the \"May-Have Requirements\"."
      ]
    },
    {
      "cell_type": "markdown",
      "metadata": {
        "pycharm": {
          "name": "#%% md\n"
        },
        "tags": [
          "6"
        ]
      },
      "source": [
        "## Submission details\n",
        "\n",
        "The deadline for this project is on **the 18th of December, 2020 at 11:59pm CET**\n",
        "All files packaged in a zip archive must be uploaded via the CMS system.\n",
        "The project should be a self-contained bundle with the `TimeTravelDebugger.ipynb` Jupyter notebook and supplementary files."
      ]
    },
    {
      "cell_type": "markdown",
      "metadata": {
        "pycharm": {
          "name": "#%% md\n"
        },
        "tags": [
          "7"
        ]
      },
      "source": [
        "## General Requirements\n",
        "\n",
        "The project should be implemented in a Jupyter notebook with a step-by-step explanation of the implemented features (like the notebooks from the lecture).\n",
        "The notebook should also include a \"Presentation\" section containing **demo interactions** which show how to use each feature."
      ]
    },
    {
      "cell_type": "markdown",
      "metadata": {
        "pycharm": {
          "name": "#%% md\n"
        },
        "tags": [
          "8"
        ]
      },
      "source": [
        "Your project should come with a working environment via either `virtualenv` (*requirements.txt* file) or `pipenv` (*Pipfile.lock* file) tools."
      ]
    },
    {
      "cell_type": "markdown",
      "metadata": {
        "pycharm": {
          "name": "#%% md\n"
        },
        "tags": [
          "9"
        ]
      },
      "source": [
        "Your code should follow PEP 8 style conventions. You can use `%%pycodestyle` command from the [pycodestyle](https://pycodestyle.readthedocs.io) package to check files for PEP 8 compliance."
      ]
    },
    {
      "cell_type": "markdown",
      "metadata": {
        "pycharm": {
          "name": "#%% md\n"
        },
        "tags": [
          "10"
        ]
      },
      "source": [
        "The time travel debugger should be implemented as a class that can be executed as follows:\n",
        "```\n",
        "with TimeTravelDebugger():\n",
        "    foo(args)\n",
        "```\n",
        "where `foo(args)` can be an arbitrary function under debugging, implemented either in the same notebook or imported from another file.\n",
        "**Do not let the debugger escape the context and also debug commands outside the `with` block (e.g., methods of the Jupyter framework).**"
      ]
    },
    {
      "cell_type": "markdown",
      "metadata": {
        "pycharm": {
          "name": "#%% md\n"
        },
        "tags": [
          "11"
        ]
      },
      "source": [
        "## Part 1: Command-Line Debugger\n",
        "\n",
        "If you work as a **single-person**, this is the part you will have to build."
      ]
    },
    {
      "cell_type": "markdown",
      "metadata": {
        "pycharm": {
          "name": "#%% md\n"
        },
        "tags": [
          "12"
        ]
      },
      "source": [
        "The implementation should include an interactive command line interface like the one presented in the [Chapter on Debugging](https://www.debuggingbook.org/beta/html/Debugger.html). Make use of the `Debugger` class, notably its `execute()` infrastructure, to easily tie commands to methods."
      ]
    },
    {
      "cell_type": "markdown",
      "metadata": {
        "pycharm": {
          "name": "#%% md\n"
        },
        "tags": [
          "13"
        ]
      },
      "source": [
        "### Must-Have Requirements (20 Points)\n",
        "\n",
        "Your time travel debugger should support the following features:"
      ]
    },
    {
      "cell_type": "markdown",
      "metadata": {
        "pycharm": {
          "name": "#%% md\n"
        },
        "tags": [
          "14"
        ]
      },
      "source": [
        "#### Basics\n",
        "\n",
        "* /R1/ `quit` \n",
        "Exit the interactive session (or resume execution until function return)\n",
        "\n",
        "* /R2/ `help` \n",
        "Prints all available commands and their description and arguments\n",
        "\n",
        "* /R3/ Missing or bad arguments should result in specific error messages."
      ]
    },
    {
      "cell_type": "markdown",
      "metadata": {
        "pycharm": {
          "name": "#%% md\n"
        },
        "tags": [
          "15"
        ]
      },
      "source": [
        "#### Navigation Commands\n",
        "\n",
        "After each navigation command, the current line should be printed.\n",
        "* /R4/ `step` Step to the next executed line.\n",
        "Execute a program until it reaches the next executable statement.\n",
        "If the current line has a list comprehension statement, it should step into it, but remain at the current line (do not show `<listcomp>` source).\n",
        "If the current source line includes a function call, step into the called function and stop at the beginning of this function.\n",
        "\n",
        "* /R5/ `backstep` Step to the previous executed line.\n",
        "Execute a program until it reaches the previous executable statement.\n",
        "If the current line has a list comprehension statement, it should step into it, but remain at the current line.\n",
        "If the current source line includes a function call, step into the called function and stop at the last statement invoked in this function (usually a return statement)\n",
        "\n",
        "* /R6/ `next` Step over function calls going to the next line.\n",
        "Execute a program until it reaches the next source line. Any function calls (and list comprehension) in the current line should be executed without stopping.\n",
        "Starting from the last line of a function, this command should take you to its call site.\n",
        "\n",
        "* /R7/ `previous` Step over function calls going to the previous line.\n",
        "Execute a program until it reaches the previous source line.\n",
        "If the line contains a function call, it should be \u201cun-executed\u201d restoring previous values of global variables.\n",
        "Starting from the first line of a function, `previous` should take you back to the caller of that function, before the function was called.\n",
        "Hint: The difference between `step` and `next` is that `step` will go inside a called function, while `next` stops at the next line of the **current** function.\n",
        "\n",
        "* /R8/ `finish` Execute until return.\n",
        "Takes you forward to the point where the current function returns.  \n",
        "<span style=\"color:blue\">If finish is executed at the last line of a function, it should stay at that line and print it again.</span>\n",
        "\n",
        "* /R9/ `start` Execute backwards until a function start.\n",
        "Takes you backwards to the first instruction of the function.  \n",
        "<span style=\"color:blue\">If start is executed at the first line of a function, it should stay at that line and print it again.</span>\n",
        "\n",
        "* /R10/ Execute forwards until a certain point:\n",
        "    * /R100/ `until <line_number>`\n",
        "    Resume execution until a line greater than `<line_number>` is reached.\n",
        "    If `<line_number>` is not given, resume execution until a line greater than the current is reached. This is useful to avoid stepping through multiple loop iterations.\n",
        "    <span style=\"color:blue\">If 'line_number' is not given and</span> the execution jumps to another function, act as `next`\n",
        "    * /R101/ `until <filename>:<line_number>`\n",
        "    Execute a program forward until it reaches the line with the number `<line_number>` in the file `<filename>`.\n",
        "    * /R102/ `until <function_name>`\n",
        "    Execute a program forward until it reaches the line with a call to the function named `<function_name>` <span style=\"color:blue\">declared</span> in the current file.\n",
        "    * /R103/ `until <filename>:<function_name>`\n",
        "    Execute a program forward until it reaches the line with a call to the function named `<function_name>` <span style=\"color:blue\">declared</span> in the file `<filename>`.\n",
        "    * <span style=\"color:blue\">Expl: If the execution is already at the specified line/function, it should look for the next occurrence or run till the end.</span>\n",
        "* /R11/ Execute backwards until a certain point:\n",
        "    * /R110/ `backuntil <line_number>`\n",
        "    Resume execution backwards until a line lower than `<line_number>` in the current file is reached.\n",
        "    If `<line_number>` is not given, resume execution backwards until a line lower than the current is reached.\n",
        "    <span style=\"color:blue\">If 'line_number' is not given and</span> the execution jumps to another function, act as `previous`\n",
        "    * /R111/ `backuntil <filename>:<line_number>`\n",
        "    Execute a program backward until it reaches the line with the number `<line_number>` in the `<filename>`.\n",
        "    * /R112/ `backuntil <function_name>`\n",
        "    Execute a program backward until it reaches the line with a call to the function named `<function_name>` <span style=\"color:blue\">declared</span> in the current file.\n",
        "    * /R113/ `backuntil <filename>:<function_name>`\n",
        "    Execute a program backward until it reaches the line with a call to the function named `<function_name>` <span style=\"color:blue\">declared</span> in the `<filename>`.\n",
        "    * <span style=\"color:blue\">Expl: If the execution is already at the specified line/function, it should look for the next occurrence or run till the start.</span>\n",
        "\n",
        "* /R12/ `continue` Continue execution _forward_ until a breakpoint is hit, or the program finishes.  \n",
        "\n",
        "* /R13/ `reverse` Continue execution _backward_ until a breakpoint is hit, or the program starts.\n",
        "* <span style=\"color:red\">Hint: Ignore the command if the debugger reaches start/end of the execution and cannot go further. (Optionally: print an appropriate message.)</span>"
      ]
    },
    {
      "cell_type": "markdown",
      "metadata": {
        "pycharm": {
          "name": "#%% md\n"
        },
        "tags": [
          "16"
        ]
      },
      "source": [
        "#### Call Stack\n",
        "\n",
        "* /R14/ Print call stack:\n",
        "    * /R141/ `where`\n",
        "    Print the whole call stack\n",
        "    * /R142/ `where <number>`\n",
        "    Print the `<number>` of leading and trailing lines from the call stack surrounding the current frame if any.\n",
        "\n",
        "* /R15/ Navigate the call stack\n",
        "    * `up` and `down`\n",
        "    Move up (and down) the call stack towards callers (and callees): print the code of the previous (next) frame and mark the currently executed line."
      ]
    },
    {
      "cell_type": "markdown",
      "metadata": {
        "pycharm": {
          "name": "#%% md\n"
        },
        "tags": [
          "17"
        ]
      },
      "source": [
        "#### Inspecting Code and Variables\n",
        "\n",
        "* /R16/ Print the source code around the current line (with the current line marked)\n",
        "    * /R161/ `list`\n",
        "    Print 2 lines before and 2 lines after the current line\n",
        "    * /R162/ `list <number>`\n",
        "    Print `<number>` lines before and `<number>` lines after the current line\n",
        "    * /R163/ `list <above> <below>`\n",
        "    Print `<above>` lines before and `<below>` lines after the current line\n",
        "    * <span style=\"color:blue\">Expl: Lines are limited to the current function body</span>\n",
        "* /R17/ Inspect the value of a variable\n",
        "    * /R171/ `print`\n",
        "    Print values of _all_ local variables <span style=\"color:blue\">(including values of member variables)</span>\n",
        "    * /R172/ `print <var_name>`\n",
        "    Print the value of a variable with name `<var_name>`. If the variable `<var_name>` is not defined, print an error message.\n",
        "\n",
        "* /R18/ `print <expr>`\n",
        "    * Like `print <var_name>`, but allow for arbitrary Python expressions\n",
        "    * The code expression should be evaluated in the current environment of the code being debugged.\n",
        "    * Keep in mind that this requires to evaluate the expression during the interactive session, which may produce exceptions."
      ]
    },
    {
      "cell_type": "markdown",
      "metadata": {
        "tags": [
          "18"
        ]
      },
      "source": [
        "#### Watchpoints"
      ]
    },
    {
      "cell_type": "markdown",
      "metadata": {
        "pycharm": {
          "name": "#%% md\n"
        },
        "tags": [
          "19"
        ]
      },
      "source": [
        "* /R19/ Watchpoints:\n",
        "    * /R190/ `watch <var_name>` Creates a numbered watchpoint for the given variable: If its value changes after a navigation command, its value should be printed.\n",
        "    * /R191/ `watch`\n",
        "Show all watchpoints and associated variables.\n",
        "    * /R192/ `unwatch <watch_id>`\n",
        "Remove a watchpoint."
      ]
    },
    {
      "cell_type": "markdown",
      "metadata": {
        "pycharm": {
          "name": "#%% md\n"
        },
        "tags": [
          "20"
        ]
      },
      "source": [
        "#### Breakpoints\n",
        "\n",
        "* /R20/ Breakpoints:\n",
        "    * /R201/ `break <line_number>`\n",
        "    Create a numbered breakpoint at line with number `<line_number>`\n",
        "    * /R202/ `break <function_name>`\n",
        "    Set a breakpoint which hits when a function with the name `<function_name>` is called (or returned in case of backward execution).\n",
        "    The execution should stop at the beginning (or the end) of the function.\n",
        "    * /R203/ `break <file_name>:<function_name>`\n",
        "    Set a breakpoint which hits when a function with the name `<function_name>` in file `<file_name>` is called (or returned in case of backward execution).\n",
        "    The execution should stop at the beginning (or the end) of the function.\n",
        "    * /R204/ `breakpoints`\n",
        "    Display all available breakpoints  \n",
        "    <span style=\"color:red\">Depending on the type of the breakpoint the output can be the following:</span>  \n",
        "    `breakpoint_id line file_name:line_number is_active`  \n",
        "    `breakpoint_id func file_name:func_name is_active`  \n",
        "    `breakpoint_id cond file_name:line_number is_active cond_expression`  \n",
        "    * /R205/ `delete <breakpoint_id>`\n",
        "    Delete a breakpoint with the index `<breakpoint_id>` from the list of breakpoints\n",
        "    * /R206/ `disable <breakpoint_id>`\n",
        "    Suspend a breakpoint with the index `<breakpoint_id>` from the list of breakpoints\n",
        "    * /R207/ `enable <breakpoint_id>`\n",
        "    Re-enable a breakpoint with the index `<breakpoint_id>` from the list of breakpoints\n",
        "    * /R208/ `cond <line> <condition>`. Conditional breakpoints.\n",
        "    Set a breakpoint at which the execution is stopped at line `<line>` if a condition `<condition>` is true.\n",
        "    A condition can include local variables (e.g., `tag == \"b\"` or `tag.startswith(b)`), but not function calls from a debugged program.\n",
        "    * **Hint: keep in mind that breakpoints may be set in different modules (files) and sometimes cannot be set (e.g., in for comment lines).**\n",
        "    * <span style=\"color:blue\">Expl: The execution should stop at each active breakpoint despite the command (until \\<line\\>, continue, etc.)</span>"
      ]
    },
    {
      "cell_type": "markdown",
      "metadata": {
        "pycharm": {
          "name": "#%% md\n"
        },
        "tags": [
          "21"
        ]
      },
      "source": [
        "### May-Have Requirements (10 Points)\n",
        "\n",
        "Fulfilling these additional requirements gains extra points."
      ]
    },
    {
      "cell_type": "markdown",
      "metadata": {
        "pycharm": {
          "name": "#%% md\n"
        },
        "tags": [
          "22"
        ]
      },
      "source": [
        "#### Extended Watchpoints\n",
        "\n",
        "* `watch <expression>`\n",
        "Like `watch <variable>`, but allow for arbitrary expressions."
      ]
    },
    {
      "cell_type": "markdown",
      "metadata": {
        "pycharm": {
          "name": "#%% md\n"
        },
        "tags": [
          "23"
        ]
      },
      "source": [
        "#### Extended Breakpoints\n",
        "\n",
        "* `cond <line> <expression_code>` Conditional-breakpoints with complex expressions (see _conditional-breakpoints_ from **Must-haves** and _expression_)\n",
        "* `bpafter <breakpoint_id> <line_number>` Disable a breakpoint after hitting another specified breakpoint\n",
        "* `bpuntil <breakpoint_id> <line_number>` Disable a breakpoint until hitting another specified breakpoint\n",
        "* Step into my code: inspect function calls only if they are defined in modules located in the current folder\n",
        "* Inspect members of complex objects\n",
        "* `bpwrite <variable_name>` Write access breakpoints\n",
        "  A breakpoint hits each time a certain variable `<variable_name>` is changed\n",
        "* `alias <breakpoint_id> <breakpoint_name>` Create aliases for breakpoints (refer to a breakpoint by name instead of an index)  \n",
        "<span style=\"color:blue\">The 'breakpoints' command should then output breakpoint names instead of breakpoint ids when available</span>\n",
        "* Support for inline breakpoints (e.g., for lambda functions, list comprehension) if a line contains multiple statements such as `filter(lambda x: x % 2 == 0, [x**2 for x in range(10)])`"
      ]
    },
    {
      "cell_type": "markdown",
      "metadata": {
        "pycharm": {
          "name": "#%% md\n"
        },
        "tags": [
          "24"
        ]
      },
      "source": [
        "#### More Features\n",
        "\n",
        "* Watch I/O interaction\n",
        "* Stand-alone command line debugger, which can be used outside Jupyter notebooks\n",
        "* Some other cool feature of your own design"
      ]
    },
    {
      "cell_type": "markdown",
      "metadata": {
        "tags": [
          "25"
        ]
      },
      "source": [
        "### Assessing Requirements\n",
        "\n",
        "Your command line debugger will be evaluated by _well-documented functionality_ as listed above.\n",
        "\n",
        "A \"well-documented\" functionality has readable code whose effect is illustrated by at least one example in the notebook.\n",
        "\n",
        "The functionality itself will be validated by a set of _tests_ consisting of a series of commands with expected results. Here is an example of how to run your debugger with predefined commands; you can also use this in your notebook to demonstrate features."
      ]
    },
    {
      "cell_type": "code",
      "execution_count": null,
      "metadata": {
        "tags": [
          "26"
        ]
      },
      "outputs": [],
      "source": [
        "import bookutils.setup"
      ]
    },
    {
      "cell_type": "code",
      "execution_count": null,
      "metadata": {
        "pycharm": {
          "name": "#%%\n"
        },
        "tags": [
          "27"
        ]
      },
      "outputs": [],
      "source": [
        "def remove_html_markup(s):  # type: ignore\n",
        "    tag = False\n",
        "    quote = False\n",
        "    out = \"\"\n",
        "\n",
        "    for c in s:\n",
        "        if c == '<' and not quote:\n",
        "            tag = True\n",
        "        elif c == '>' and not quote:\n",
        "            tag = False\n",
        "        elif c == '\"' or c == \"'\" and tag:\n",
        "            quote = not quote\n",
        "        elif not tag:\n",
        "            out = out + c\n",
        "\n",
        "    return out"
      ]
    },
    {
      "cell_type": "code",
      "execution_count": null,
      "metadata": {
        "tags": [
          "28"
        ]
      },
      "outputs": [],
      "source": [
        "from Debugger import Debugger\n",
        "from bookutils import next_inputs"
      ]
    },
    {
      "cell_type": "code",
      "execution_count": null,
      "metadata": {
        "pycharm": {
          "name": "#%%\n"
        },
        "tags": [
          "29"
        ]
      },
      "outputs": [],
      "source": [
        "class TimeTravelDebugger(Debugger):\n",
        "    pass"
      ]
    },
    {
      "cell_type": "code",
      "execution_count": null,
      "metadata": {
        "tags": [
          "30"
        ]
      },
      "outputs": [],
      "source": [
        "next_inputs([\"step\", \"step\", \"step\", \"print s\", \"continue\"])"
      ]
    },
    {
      "cell_type": "code",
      "execution_count": null,
      "metadata": {
        "pycharm": {
          "name": "#%%\n"
        },
        "tags": [
          "31"
        ]
      },
      "outputs": [],
      "source": [
        "with TimeTravelDebugger():\n",
        "    remove_html_markup(\"foo\")"
      ]
    },
    {
      "cell_type": "markdown",
      "metadata": {
        "pycharm": {
          "name": "#%% md\n"
        },
        "tags": [
          "32"
        ]
      },
      "source": [
        "### Example Interaction\n",
        "\n",
        "In this section, we give you some sample interactions."
      ]
    },
    {
      "cell_type": "code",
      "execution_count": null,
      "metadata": {
        "tags": [
          "33"
        ]
      },
      "outputs": [],
      "source": [
        "next_inputs([\"break 8\", \"break 16\", \"step\", \"continue\", \"print c\", \"continue\", \"quit\"])"
      ]
    },
    {
      "cell_type": "code",
      "execution_count": null,
      "metadata": {
        "tags": [
          "34"
        ]
      },
      "outputs": [],
      "source": [
        "with TimeTravelDebugger():\n",
        "    remove_html_markup(\"foo\")"
      ]
    },
    {
      "cell_type": "code",
      "execution_count": null,
      "metadata": {
        "tags": [
          "35"
        ]
      },
      "outputs": [],
      "source": [
        "next_inputs([\"break 6\", \"watch out\", \"continue\", \"continue\", \"continue\", \"continue\", \"continue\"])"
      ]
    },
    {
      "cell_type": "code",
      "execution_count": null,
      "metadata": {
        "tags": [
          "36"
        ]
      },
      "outputs": [],
      "source": [
        "with TimeTravelDebugger():\n",
        "    remove_html_markup(\"foo\")"
      ]
    },
    {
      "cell_type": "code",
      "execution_count": null,
      "metadata": {
        "tags": [
          "37"
        ]
      },
      "outputs": [],
      "source": [
        "next_inputs([\"break 16\", \"watch out\", \"continue\", \"start\", \"continue\", \"continue\"])"
      ]
    },
    {
      "cell_type": "code",
      "execution_count": null,
      "metadata": {
        "tags": [
          "38"
        ]
      },
      "outputs": [],
      "source": [
        "with TimeTravelDebugger():\n",
        "    remove_html_markup(\"foo\")"
      ]
    },
    {
      "cell_type": "code",
      "execution_count": null,
      "metadata": {
        "tags": [
          "39"
        ]
      },
      "outputs": [],
      "source": [
        "next_inputs([\"until 16\", \"print out\", \"continue\", \"quit\"])"
      ]
    },
    {
      "cell_type": "code",
      "execution_count": null,
      "metadata": {
        "tags": [
          "40"
        ]
      },
      "outputs": [],
      "source": [
        "with TimeTravelDebugger():\n",
        "    remove_html_markup(\"foo\")"
      ]
    },
    {
      "cell_type": "code",
      "execution_count": null,
      "metadata": {
        "tags": [
          "41"
        ]
      },
      "outputs": [],
      "source": [
        "next_inputs([\"break 6\", \"watch out\", \"continue\", \"where\", \"up\", \"list\", \"delete 0\", \"continue\", \"quit\"])"
      ]
    },
    {
      "cell_type": "code",
      "execution_count": null,
      "metadata": {
        "tags": [
          "42"
        ]
      },
      "outputs": [],
      "source": [
        "with TimeTravelDebugger():\n",
        "    remove_html_markup(\"foo\")"
      ]
    },
    {
      "cell_type": "markdown",
      "metadata": {
        "pycharm": {
          "name": "#%% md\n"
        },
        "tags": [
          "43"
        ]
      },
      "source": [
        "## Part 2: GUI-Based Debugger\n",
        "\n",
        "If you work as a **team of two**, this is the part you will _also_ have to build.\n",
        "\n",
        "To create a GUI in Jupyter notebooks, one can follow two paths:\n",
        "\n",
        "1. Use embeddings of plain HTML/JS into the notebook (see Exercise 3 in the [chapter on interactive debuggers](Debugger.ipynb). This has the advantage of not requiring Python in the final result; your time travel debugger can execute in any browser. You may follow this path if you already have experience with Web design and programming.\n",
        "2. Use [Jupyter widgets](https://ipywidgets.readthedocs.io/en/stable/index.html) to create a user interface. This has the advantage that you can use Python all along the way. Your debugger, however, can only be run in the notebook; not in, say, a Web page.\n",
        "\n",
        "Your GUI-based time travel debugger should implement similar features as the command line debugger, but its functionality should be accessible via a graphical user interface (instead of typing in the commands).\n",
        "\n",
        "For instance, a user may be able to step backward by clicking a \u25c0 button, or set a breakpoint by clicking on a line in the code view.\n",
        "\n",
        "The \"Presentation\" section should include a video/YouTube (up to 1 min each) embedded in Jupyter Notebook, which shows a demo of each implemented feature."
      ]
    },
    {
      "cell_type": "markdown",
      "metadata": {
        "pycharm": {
          "name": "#%% md\n"
        },
        "tags": [
          "44"
        ]
      },
      "source": [
        "### Must-Have Requirements (20 Points):\n",
        "\n",
        "Note that your GUI need not implement _all_ features of your command-line debugger; _ease of use_ and _discoverability_ have priority. Choose wisely!"
      ]
    },
    {
      "cell_type": "markdown",
      "metadata": {
        "pycharm": {
          "name": "#%% md\n"
        },
        "tags": [
          "45"
        ]
      },
      "source": [
        "* The GUI-based debugger should allow inspecting and navigating through\n",
        "\n",
        "    * /R31/ The source code currently being executed, where the current line and breakpoints are highlighted.\n",
        "    * /R32/ Users should be able to scroll through the code of the current module.\n",
        "    * /R33/ Variables.\n",
        "    * /R34/ The list of watchpoints (if any).\n",
        "    * /R35/ The call stack.\n",
        "    * /R36/ The list of breakpoints (if any).\n",
        "\n",
        "* The debugger should provide the following controls:\n",
        "    * /R37/ An interactive timeline (e.g., a slider) which allows moving along the execution back and forth.\n",
        "    * /R38/ Automatic execution replay (forward and backward) at various speed\n",
        "    * /R39/ Search for specific events in the timeline (a breakpoint hit, a variable changed etc.)\n",
        "    * /R40/ Search results should be selectable by the user, moving the timeline to the associated event"
      ]
    },
    {
      "cell_type": "markdown",
      "metadata": {
        "pycharm": {
          "name": "#%% md\n"
        },
        "tags": [
          "46"
        ]
      },
      "source": [
        "Here is a demo of how a basic GUI may look like:\n",
        "\n",
        "![Demo](PICS/timetravel_debugger_gui_demo.gif)"
      ]
    },
    {
      "cell_type": "markdown",
      "metadata": {
        "pycharm": {
          "name": "#%% md\n"
        },
        "tags": [
          "47"
        ]
      },
      "source": [
        "### May-Have Requirements (10 Points):\n",
        "\n",
        "Fulfilling these additional requirements gains extra points.\n",
        "\n",
        "* Syntax-highlight the source code\n",
        "* Show values of the variables in the source code.\n",
        "* Show events (e.g., breakpoints) on the timeline.\n",
        "* Visualize and explore data structures.\n",
        "* Produce an interactive session which can be run uniquely with HTML + JavaScript, such that Python is not required (excludes the evaluation of expressions) (worth up to 10 points).\n",
        "* Implement the debugger as a [custom Jupyter widget](https://ipywidgets.readthedocs.io/en/stable/examples/Widget%20Custom.html) (worth up to 10 points).\n",
        "* Some other cool feature of your design."
      ]
    },
    {
      "cell_type": "markdown",
      "metadata": {
        "tags": [
          "48"
        ]
      },
      "source": [
        "### Assessing Requirements\n",
        "\n",
        "Your interactive debugger will be evaluated for _well-documented_ and _discoverable_ functionality as listed above.\n",
        "\n",
        "* A \"well-documented\" functionality has readable code whose effect is described in the notebook (possibly with examples).\n",
        "\n",
        "* A \"discoverable\" functionality can be found quickly by ordinary users by exploring the GUI. Extra functionality (keyboard shortcuts, etc.) should be made available as part of a help screen or as a tutorial in your notebook.\n",
        "\n",
        "The functionality itself will be validated manually by test users."
      ]
    },
    {
      "cell_type": "markdown",
      "metadata": {
        "tags": [
          "49"
        ]
      },
      "source": [
        "## Example Notebook Structure"
      ]
    },
    {
      "cell_type": "markdown",
      "metadata": {
        "tags": [
          "50"
        ]
      },
      "source": [
        "### Personal Information"
      ]
    },
    {
      "cell_type": "markdown",
      "metadata": {
        "tags": [
          "51"
        ]
      },
      "source": [
        "Start with these fields:"
      ]
    },
    {
      "cell_type": "code",
      "execution_count": null,
      "metadata": {
        "tags": [
          "52"
        ]
      },
      "outputs": [],
      "source": [
        "# ignore\n",
        "from typing import Union, List, Set"
      ]
    },
    {
      "cell_type": "code",
      "execution_count": null,
      "metadata": {
        "tags": [
          "53"
        ]
      },
      "outputs": [],
      "source": [
        "PROJECT_TYPE: int\n",
        "NAME: Union[str, List[str]]\n",
        "ID: Union[str, List[str]]\n",
        "IMPLEMENTED: Set[str]"
      ]
    },
    {
      "cell_type": "markdown",
      "metadata": {
        "tags": [
          "54"
        ]
      },
      "source": [
        "As an example:"
      ]
    },
    {
      "cell_type": "code",
      "execution_count": null,
      "metadata": {
        "pycharm": {
          "name": "#%%\n"
        },
        "tags": [
          "55"
        ]
      },
      "outputs": [],
      "source": [
        "PROJECT_TYPE = 1\n",
        "NAME = \"Riad Sattouf\"\n",
        "ID = \"1234567\""
      ]
    },
    {
      "cell_type": "markdown",
      "metadata": {
        "tags": [
          "56"
        ]
      },
      "source": [
        "or"
      ]
    },
    {
      "cell_type": "code",
      "execution_count": null,
      "metadata": {
        "pycharm": {
          "name": "#%%\n"
        },
        "tags": [
          "57"
        ]
      },
      "outputs": [],
      "source": [
        "PROJECT_TYPE = 2\n",
        "NAME = [\"Riad Sattouf\", \"Stan Cispas\"]\n",
        "ID = [\"1234567\", \"1536589\"]"
      ]
    },
    {
      "cell_type": "code",
      "execution_count": null,
      "metadata": {
        "pycharm": {
          "name": "#%%\n"
        },
        "tags": [
          "58"
        ]
      },
      "outputs": [],
      "source": [
        "IMPLEMENTED = set()"
      ]
    },
    {
      "cell_type": "markdown",
      "metadata": {
        "pycharm": {
          "name": "#%% md\n"
        },
        "tags": [
          "59"
        ]
      },
      "source": [
        "### Implementation\n",
        "```\n",
        "Contains the code with comments pointing to requirements\n",
        "```"
      ]
    },
    {
      "cell_type": "code",
      "execution_count": null,
      "metadata": {
        "tags": [
          "60"
        ]
      },
      "outputs": [],
      "source": [
        "import bookutils.setup\n",
        "from Debugger import Debugger"
      ]
    },
    {
      "cell_type": "markdown",
      "metadata": {
        "pycharm": {
          "name": "#%% md\n"
        },
        "tags": [
          "61"
        ]
      },
      "source": [
        "Feature /R17/:"
      ]
    },
    {
      "cell_type": "markdown",
      "metadata": {
        "tags": [
          "62"
        ]
      },
      "source": [
        "/R171/: A `print` command that prints all variables of the current frame."
      ]
    },
    {
      "cell_type": "code",
      "execution_count": null,
      "metadata": {
        "tags": [
          "63"
        ]
      },
      "outputs": [],
      "source": [
        "class TimeTravelDebugger(Debugger):  # type: ignore\n",
        "    def print_command(self, arg: str = \"\") -> None:\n",
        "        vars = self.frame.f_locals\n",
        "        self.log(\"\\n\".join([f\"{var} = {repr(vars[var])}\" for var in vars]))"
      ]
    },
    {
      "cell_type": "code",
      "execution_count": null,
      "metadata": {
        "pycharm": {
          "name": "#%%\n"
        },
        "tags": [
          "64"
        ]
      },
      "outputs": [],
      "source": [
        "IMPLEMENTED.add(\"R171\")"
      ]
    },
    {
      "cell_type": "markdown",
      "metadata": {
        "tags": [
          "65"
        ]
      },
      "source": [
        "### Presentation\n",
        "```\n",
        "Examples (pointing to requirements, e.g. /R1/ /R2/, etc.)\n",
        "```"
      ]
    },
    {
      "cell_type": "code",
      "execution_count": null,
      "metadata": {
        "pycharm": {
          "name": "#%%\n"
        },
        "tags": [
          "66"
        ]
      },
      "outputs": [],
      "source": [
        "from bookutils import next_inputs"
      ]
    },
    {
      "cell_type": "code",
      "execution_count": null,
      "metadata": {
        "pycharm": {
          "name": "#%%\n"
        },
        "tags": [
          "67"
        ]
      },
      "outputs": [],
      "source": [
        "def remove_html_markup(s):  # type: ignore\n",
        "    tag = False\n",
        "    quote = False\n",
        "    out = \"\"\n",
        "\n",
        "    for c in s:\n",
        "        if c == '<' and not quote:\n",
        "            tag = True\n",
        "        elif c == '>' and not quote:\n",
        "            tag = False\n",
        "        elif c == '\"' or c == \"'\" and tag:\n",
        "            quote = not quote\n",
        "        elif not tag:\n",
        "            out = out + c\n",
        "\n",
        "    return out"
      ]
    },
    {
      "cell_type": "markdown",
      "metadata": {
        "tags": [
          "68"
        ]
      },
      "source": [
        "Feature /R17/:"
      ]
    },
    {
      "cell_type": "markdown",
      "metadata": {
        "tags": [
          "69"
        ]
      },
      "source": [
        "/R171/: A `print` command allows printing all variables of the current frame."
      ]
    },
    {
      "cell_type": "markdown",
      "metadata": {
        "tags": [
          "70"
        ]
      },
      "source": [
        "The command sequence \"step\", \"step\", \"step\", \"print\" should print three variables:"
      ]
    },
    {
      "cell_type": "code",
      "execution_count": null,
      "metadata": {
        "tags": [
          "71"
        ]
      },
      "outputs": [],
      "source": [
        "next_inputs([\"step\", \"step\", \"step\", \"print\", \"quit\"])\n",
        "with TimeTravelDebugger():\n",
        "    remove_html_markup(\"foo\")"
      ]
    },
    {
      "cell_type": "markdown",
      "metadata": {
        "tags": [
          "72"
        ]
      },
      "source": [
        "The command sequence \"step\", \"step\", \"print\" should print just two variables:"
      ]
    },
    {
      "cell_type": "code",
      "execution_count": null,
      "metadata": {
        "tags": [
          "73"
        ]
      },
      "outputs": [],
      "source": [
        "next_inputs([\"step\", \"step\", \"print\", \"quit\"])\n",
        "with TimeTravelDebugger():\n",
        "    remove_html_markup(\"foo\")"
      ]
    },
    {
      "cell_type": "markdown",
      "metadata": {
        "tags": [
          "74"
        ]
      },
      "source": [
        "### Summary"
      ]
    },
    {
      "cell_type": "code",
      "execution_count": null,
      "metadata": {
        "pycharm": {
          "name": "#%%\n"
        },
        "tags": [
          "75"
        ]
      },
      "outputs": [],
      "source": [
        "print(f\"Implemented features: {IMPLEMENTED}\")"
      ]
    }
  ],
  "metadata": {
    "ipub": {
      "bibliography": "fuzzingbook.bib"
    },
    "kernelspec": {
      "display_name": "Python 3",
      "language": "python",
      "name": "python3"
    },
    "language_info": {
      "codemirror_mode": {
        "name": "ipython",
        "version": 3
      },
      "file_extension": ".py",
      "mimetype": "text/x-python",
      "name": "python",
      "nbconvert_exporter": "python",
      "pygments_lexer": "ipython3",
      "version": "3.6.10"
    },
    "toc": {
      "base_numbering": 1,
      "nav_menu": {},
      "number_sections": true,
      "sideBar": true,
      "skip_h1_title": true,
      "title_cell": "",
      "title_sidebar": "Contents",
      "toc_cell": false,
      "toc_position": {},
      "toc_section_display": true,
      "toc_window_display": true
    },
    "toc-autonumbering": false
  },
  "nbformat": 4,
  "nbformat_minor": 4
}