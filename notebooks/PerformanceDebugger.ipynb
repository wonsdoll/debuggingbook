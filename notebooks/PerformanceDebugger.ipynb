{
  "cells": [
    {
      "cell_type": "markdown",
      "metadata": {
        "button": false,
        "new_sheet": false,
        "run_control": {
          "read_only": false
        },
        "tags": [
          "1"
        ]
      },
      "source": [
        "# Debugging Performance Issues\n",
        "\n",
        "Most chapters of this book deal with _functional_ issues \u2013 that is, issues related to the _functionality_ (or its absence) of the code in question. However, debugging can also involve _nonfunctional_ issues, however \u2013\u00a0performance, usability, reliability, and more. In this chapter, we give a short introduction on how to debug such nonfunctional issues, notably _performance_ issues."
      ]
    },
    {
      "cell_type": "code",
      "execution_count": null,
      "metadata": {
        "tags": [
          "2"
        ]
      },
      "outputs": [],
      "source": [
        "from bookutils import YouTubeVideo\n",
        "YouTubeVideo(\"0tMeB9G0uUI\")"
      ]
    },
    {
      "cell_type": "markdown",
      "metadata": {
        "button": false,
        "new_sheet": false,
        "run_control": {
          "read_only": false
        },
        "tags": [
          "3"
        ]
      },
      "source": [
        "**Prerequisites**\n",
        "\n",
        "* This chapter leverages visualization capabilities from [the chapter on statistical debugging](StatisticalDebugger.ipynb).\n",
        "* We also show how to debug nonfunctional issues using [delta debugging](DeltaDebugger.ipynb)."
      ]
    },
    {
      "cell_type": "code",
      "execution_count": null,
      "metadata": {
        "button": false,
        "new_sheet": false,
        "run_control": {
          "read_only": false
        },
        "slideshow": {
          "slide_type": "skip"
        },
        "tags": [
          "4"
        ]
      },
      "outputs": [],
      "source": [
        "import bookutils.setup"
      ]
    },
    {
      "cell_type": "code",
      "execution_count": null,
      "metadata": {
        "tags": [
          "5"
        ]
      },
      "outputs": [],
      "source": [
        "import StatisticalDebugger\n",
        "import DeltaDebugger"
      ]
    },
    {
      "cell_type": "markdown",
      "metadata": {
        "slideshow": {
          "slide_type": "skip"
        },
        "tags": [
          "6"
        ]
      },
      "source": [
        "## Synopsis\n",
        "<!-- Automatically generated. Do not edit. -->\n",
        "\n",
        "To [use the code provided in this chapter](Importing.ipynb), write\n",
        "\n",
        "```python\n",
        ">>> from debuggingbook.PerformanceDebugger import <identifier>\n",
        "```\n",
        "\n",
        "and then make use of the following features.\n",
        "\n",
        "\n",
        "This chapter provides a class `PerformanceDebugger` that allows measuring and visualizing the time taken per line in a function.\n",
        "\n",
        "```python\n",
        ">>> with PerformanceDebugger(TimeCollector) as debugger:\n",
        ">>>     for i in range(100):\n",
        ">>>         s = remove_html_markup('<b>foo</b>')\n",
        "```\n",
        "The distribution of executed time within each function can be obtained by printing out the debugger:\n",
        "\n",
        "```python\n",
        ">>> print(debugger)\n",
        " 238   2% def remove_html_markup(s):  # type: ignore\n",
        " 239   1%     tag = False\n",
        " 240   1%     quote = False\n",
        " 241   1%     out = \"\"\n",
        " 242   0%\n",
        " 243  17%     for c in s:\n",
        " 244  15%         assert tag or not quote\n",
        " 245   0%\n",
        " 246  14%         if c == '<' and not quote:\n",
        " 247   3%             tag = True\n",
        " 248  11%         elif c == '>' and not quote:\n",
        " 249   3%             tag = False\n",
        " 250   8%         elif (c == '\"' or c == \"'\") and tag:\n",
        " 251   0%             quote = not quote\n",
        " 252  10%         elif not tag:\n",
        " 253   4%             out = out + c\n",
        " 254   0%\n",
        " 255   3%     return out\n",
        "\n",
        "\n",
        "```\n",
        "The sum of all percentages in a function should always be 100%.\n",
        "\n",
        "These percentages can also be visualized, where darker shades represent higher percentage values:\n",
        "\n",
        "```python\n",
        ">>> debugger\n",
        "```\n",
        "<pre style=\"background-color:hsl(240, 100%, 96.2938290303236%)\"\n",
        "                    title=\"Line 238:   2% 0.0014443709223996848\"> 238 def remove_html_markup(s):  # type: ignore</pre>\n",
        "<pre style=\"background-color:hsl(240, 100%, 97.19986068356216%)\"\n",
        "                    title=\"Line 239:   1% 0.0010912717843893915\"> 239     tag = False</pre>\n",
        "<pre style=\"background-color:hsl(240, 100%, 97.56694908406072%)\"\n",
        "                    title=\"Line 240:   1% 0.0009482098976150155\"> 240     quote = False</pre>\n",
        "<pre style=\"background-color:hsl(240, 100%, 97.38564946475611%)\"\n",
        "                    title=\"Line 241:   1% 0.0010188660817220807\"> 241     out = &quot;&quot;</pre>\n",
        "<pre style=\"background-color:hsl(240, 100%, 100.0%)\"\n",
        "                    title=\"Line 242:   0% 0.0\"> 242 &nbsp;</pre>\n",
        "<pre style=\"background-color:hsl(240, 100%, 75.0%)\"\n",
        "                    title=\"Line 243:  17% 0.009743013302795589\"> 243     for c in s:</pre>\n",
        "<pre style=\"background-color:hsl(240, 100%, 77.60428854856077%)\"\n",
        "                    title=\"Line 244:  15% 0.008728068583877757\"> 244         assert tag or not quote</pre>\n",
        "<pre style=\"background-color:hsl(240, 100%, 100.0%)\"\n",
        "                    title=\"Line 245:   0% 0.0\"> 245 &nbsp;</pre>\n",
        "<pre style=\"background-color:hsl(240, 100%, 78.64714871808242%)\"\n",
        "                    title=\"Line 246:  14% 0.008321644563693553\"> 246         if c == &#x27;&lt;&#x27; and not quote:</pre>\n",
        "<pre style=\"background-color:hsl(240, 100%, 95.08279641623872%)\"\n",
        "                    title=\"Line 247:   3% 0.0019163351971656084\"> 247             tag = True</pre>\n",
        "<pre style=\"background-color:hsl(240, 100%, 82.62699733165167%)\"\n",
        "                    title=\"Line 248:  11% 0.006770615844288841\"> 248         elif c == &#x27;&gt;&#x27; and not quote:</pre>\n",
        "<pre style=\"background-color:hsl(240, 100%, 95.47392314988579%)\"\n",
        "                    title=\"Line 249:   3% 0.0017639050784055144\"> 249             tag = False</pre>\n",
        "<pre style=\"background-color:hsl(240, 100%, 87.56832005093638%)\"\n",
        "                    title=\"Line 250:   8% 0.00484488092479296\"> 250         elif (c == &#x27;&quot;&#x27; or c == &quot;&#x27;&quot;) and tag:</pre>\n",
        "<pre style=\"background-color:hsl(240, 100%, 100.0%)\"\n",
        "                    title=\"Line 251:   0% 0.0\"> 251             quote = not quote</pre>\n",
        "<pre style=\"background-color:hsl(240, 100%, 85.3680029011667%)\"\n",
        "                    title=\"Line 252:  10% 0.00570238969521597\"> 252         elif not tag:</pre>\n",
        "<pre style=\"background-color:hsl(240, 100%, 93.75277700287819%)\"\n",
        "                    title=\"Line 253:   4% 0.002434671070659533\"> 253             out = out + c</pre>\n",
        "<pre style=\"background-color:hsl(240, 100%, 100.0%)\"\n",
        "                    title=\"Line 254:   0% 0.0\"> 254 &nbsp;</pre>\n",
        "<pre style=\"background-color:hsl(240, 100%, 95.3077993666456%)\"\n",
        "                    title=\"Line 255:   3% 0.0018286469276063144\"> 255     return out</pre>\n",
        "\n",
        "\n",
        "The abstract `MetricCollector` class allows subclassing to build more collectors, such as `HitCollector`.\n",
        "\n",
        "![](PICS/PerformanceDebugger-synopsis-1.svg)\n",
        "\n"
      ]
    },
    {
      "cell_type": "markdown",
      "metadata": {
        "tags": [
          "7"
        ]
      },
      "source": [
        "## Measuring Performance\n",
        "\n",
        "The solution to debugging performance issues fits in two simple rules:\n",
        "\n",
        "1. _Measure_ performance\n",
        "2. _Break down_ how individual parts of your code contribute to performance.\n",
        "\n",
        "The first part, actually _measuring_ performance, is key here. Developers often take elaborated guesses on which aspects of their code impact performance, and think about all possible ways to optimize their code \u2013 and at the same time, making it harder to understand, harder to evolve, and harder to maintain. In most cases, such guesses are wrong. Instead, _measure_ performance of your program, _identify_ the very few parts that may need to get improved, and again _measure_ the impact of your changes."
      ]
    },
    {
      "cell_type": "markdown",
      "metadata": {
        "tags": [
          "8"
        ]
      },
      "source": [
        "Almost all programming languages offer a way to measure performance and breaking it down to individual parts of the code \u2013 a means also known as *profiling*. Profiling works by measuring the execution time for each function (or even more fine-grained location) in your program. This can be achieved by\n",
        "\n",
        "1. _Instrumenting_ or _tracing_ code such that the current time at entry and exit of each function (or line), thus determining the time spent. In Python, this is achieved by profilers like [profile or cProfile](https://docs.python.org/3/library/profile.html)\n",
        "\n",
        "2. _Sampling_ the current function call stack at regular intervals, and thus assessing which functions are most active (= take the most time) during execution. For Python, the [scalene](https://github.com/plasma-umass/scalene) profiler works this way.\n",
        "\n",
        "Pretty much all programming languages support profiling, either through measuring, sampling, or both. As a rule of thumb, _interpreted_ languages more frequently support measuring (as it is easy to implement in an interpreter), while _compiled_ languages more frequently support sampling (because instrumentation requires recompilation). Python is lucky to support both methods."
      ]
    },
    {
      "attachments": {},
      "cell_type": "markdown",
      "metadata": {
        "tags": [
          "9"
        ]
      },
      "source": [
        "### Tracing Execution Profiles\n",
        "\n",
        "Let us illustrate profiling in a simple example. The `ChangeCounter` class (which we will encounter in the [chapter on mining version histories](ChangeCounter.ipynb)) reads in a version history from a git repository. Yet, it takes more than a minute to read in the debugging book change history:"
      ]
    },
    {
      "cell_type": "code",
      "execution_count": null,
      "metadata": {
        "tags": [
          "10"
        ]
      },
      "outputs": [],
      "source": [
        "from ChangeCounter import ChangeCounter, debuggingbook_change_counter  # minor dependency"
      ]
    },
    {
      "cell_type": "code",
      "execution_count": null,
      "metadata": {
        "tags": [
          "11"
        ]
      },
      "outputs": [],
      "source": [
        "import Timer"
      ]
    },
    {
      "cell_type": "code",
      "execution_count": null,
      "metadata": {
        "tags": [
          "12"
        ]
      },
      "outputs": [],
      "source": [
        "with Timer.Timer() as t:\n",
        "    change_counter = debuggingbook_change_counter(ChangeCounter)"
      ]
    },
    {
      "cell_type": "code",
      "execution_count": null,
      "metadata": {
        "tags": [
          "13"
        ]
      },
      "outputs": [],
      "source": [
        "t.elapsed_time()"
      ]
    },
    {
      "cell_type": "markdown",
      "metadata": {
        "tags": [
          "14"
        ]
      },
      "source": [
        "The Python `profile` and `cProfile` modules offer a simple way to identify the most time-consuming functions. They are invoked using the `run()` function, whose argument is the command to be profiled. The output reports, for each function encountered:\n",
        "\n",
        "* How often it was called (`ncalls` column)\n",
        "* How much time was spent in the given function, _excluding_ time spent in calls to sub-functions (`tottime` column)\n",
        "* The fraction of `tottime` / `ncalls` (first `percall` column)\n",
        "* How much time was spent in the given function, _including_ time spent in calls to sub-functions (`cumtime` column)\n",
        "* The fraction of `cumtime` / `percall` (second `percall` column)\n",
        "\n",
        "Let us have a look at the profile we obtain:"
      ]
    },
    {
      "cell_type": "code",
      "execution_count": null,
      "metadata": {
        "tags": [
          "15"
        ]
      },
      "outputs": [],
      "source": [
        "import cProfile"
      ]
    },
    {
      "cell_type": "code",
      "execution_count": null,
      "metadata": {
        "tags": [
          "16"
        ]
      },
      "outputs": [],
      "source": [
        "cProfile.run('debuggingbook_change_counter(ChangeCounter)', sort='cumulative')"
      ]
    },
    {
      "attachments": {},
      "cell_type": "markdown",
      "metadata": {
        "tags": [
          "17"
        ]
      },
      "source": [
        "Yes, that's an awful lot of functions, but we can quickly narrow things down. The `cumtime` column is sorted by largest values first. We see that the `debuggingbook_change_counter()` method at the top takes up all the time \u2013 but this is not surprising, since it is the method we called in the first place. This calls a method `mine()` in the `ChangeCounter` class, which does all the work."
      ]
    },
    {
      "cell_type": "markdown",
      "metadata": {
        "tags": [
          "18"
        ]
      },
      "source": [
        "The next places are more interesting: almost all time is spent in a single method, named `modifications()`. This method determines the difference between two versions, which is an expensive operation; this is also supported by the observation that half of the time is spent in a `diff()` method."
      ]
    },
    {
      "cell_type": "markdown",
      "metadata": {
        "tags": [
          "19"
        ]
      },
      "source": [
        "This profile thus already gets us a hint on how to improve performance: Rather than computing the diff between versions for _every_ version, we could do so _on demand_ (and possibly cache results so we don't have to compute them twice). Alas, this (slow) functionality is part of the \n",
        "underlying [PyDriller](https://pydriller.readthedocs.io/) Python package, so we cannot fix this within the `ChangeCounter` class. But we could file a bug with the developers, suggesting a patch to improve performance."
      ]
    },
    {
      "cell_type": "markdown",
      "metadata": {
        "tags": [
          "20"
        ]
      },
      "source": [
        "### Sampling Execution Profiles\n",
        "\n",
        "Instrumenting code is _precise_, but it is also _slow_. An alternate way to measure performance is to _sample_ in regular intervals which functions are currently active \u2013\u00a0for instance, by examining the current function call stack. The more frequently a function is sampled as active, the more time is spent in that function."
      ]
    },
    {
      "cell_type": "markdown",
      "metadata": {
        "tags": [
          "21"
        ]
      },
      "source": [
        "One profiler for Python that implements such sampling is [Scalene](https://github.com/plasma-umass/scalene) \u2013 a high-performance, high-precision CPU, GPU, and memory profiler for Python. We can invoke it on our example as follows:\n",
        "\n",
        "```sh\n",
        "$ scalene --html test.py > scalene-out.html\n",
        "```"
      ]
    },
    {
      "cell_type": "markdown",
      "metadata": {
        "tags": [
          "22"
        ]
      },
      "source": [
        "where `test.py` is a script that again invokes\n",
        "\n",
        "```python\n",
        "debuggingbook_change_counter(ChangeCounter)\n",
        "```"
      ]
    },
    {
      "attachments": {},
      "cell_type": "markdown",
      "metadata": {
        "tags": [
          "23"
        ]
      },
      "source": [
        "The output of `scalene` is sent to a HTML file (here, `scalene-out.html`) which is organized by _lines_ \u2013\u00a0that is, for each line, we see how much it contributed to overall execution time. Opening the output `scalene-out.html` in a HTML browser, we see these lines:"
      ]
    },
    {
      "cell_type": "markdown",
      "metadata": {
        "tags": [
          "24"
        ]
      },
      "source": [
        "![](PICS/scalene-out.png)"
      ]
    },
    {
      "cell_type": "markdown",
      "metadata": {
        "tags": [
          "25"
        ]
      },
      "source": [
        "As with `cProfile`, above, we identify the `mine()` method in the `ChangeCounter` class as the main performance hog \u2013\u00a0and in the `mine()` method, it is the iteration over all modifications that takes all the time. Adding the option `--profile-all` to `scalene` would extend the profile to all executed code, including the `pydriller` third-party library."
      ]
    },
    {
      "cell_type": "markdown",
      "metadata": {
        "tags": [
          "26"
        ]
      },
      "source": [
        "Besides relying on sampling rather that tracing (which is more efficient) and breaking down execution time by line, `scalene` also provides additional information on memory usage and more. If `cProfile` is not sufficient, then `scalene` will bring profiling to the next level."
      ]
    },
    {
      "cell_type": "markdown",
      "metadata": {
        "tags": [
          "27"
        ]
      },
      "source": [
        "## Improving Performance"
      ]
    },
    {
      "cell_type": "markdown",
      "metadata": {
        "tags": [
          "28"
        ]
      },
      "source": [
        "Identifying a culprit is not always that easy. Notably, when the first set of obvious performance hogs is fixed, it becomes more and more difficult to squeeze out additional performance \u2013\u00a0and, as stated above, such optimization may be in conflict with readability and maintainability of your code. Here are some simple ways to improve performance:"
      ]
    },
    {
      "cell_type": "markdown",
      "metadata": {
        "tags": [
          "29"
        ]
      },
      "source": [
        "* **Efficient algorithms**. For many tasks, the simplest algorithm is not always the best performing one. Consider alternatives that may be more efficient, and _measure_ whether they pay off.\n",
        "\n",
        "* **Efficient data types**. Remember that certain operations, such as looking up whether an element is contained, may take different amounts of time depending on the data structure. In Python, a query like `x in xs` takes (mostly) constant time if `xs` is a set, but linear time if `xs` is a list; these differences become significant as the size of `xs` grows.\n",
        "\n",
        "* **Efficient modules**. In Python, most frequently used modules (or at least parts of) are implemented in C, which is way more efficient than plain Python. Rely on existing modules whenever possible. Or implement your own, _after_ having measured that this may pay off."
      ]
    },
    {
      "cell_type": "markdown",
      "metadata": {
        "tags": [
          "30"
        ]
      },
      "source": [
        "These are all things you can already use during programming \u2013 and also set up your code such that exchanging, say, one data type by another will still be possible later. This is best achieved by hiding implementation details (such as the used data types) behind an abstract interface used by your clients."
      ]
    },
    {
      "cell_type": "markdown",
      "metadata": {
        "tags": [
          "31"
        ]
      },
      "source": [
        "But beyond these points, remember the famous words by [Donald E. Knuth](https://en.wikipedia.org/wiki/Donald_Knuth):"
      ]
    },
    {
      "cell_type": "code",
      "execution_count": null,
      "metadata": {
        "tags": [
          "32"
        ]
      },
      "outputs": [],
      "source": [
        "from bookutils import quiz"
      ]
    },
    {
      "cell_type": "code",
      "execution_count": null,
      "metadata": {
        "tags": [
          "33"
        ]
      },
      "outputs": [],
      "source": [
        "quiz('Donald E. Knuth said: \"Premature optimization...\"',\n",
        "    [\n",
        "        \"... is the root of all evil\",\n",
        "        \"... requires lots of experience\",\n",
        "        \"... should be left to assembly programmers\",\n",
        "        \"... is the reason why TeX is so fast\",\n",
        "    ], 'len(\"METAFONT\") - len(\"TeX\") - len(\"CWEB\")')"
      ]
    },
    {
      "cell_type": "markdown",
      "metadata": {
        "tags": [
          "34"
        ]
      },
      "source": [
        "This quote should always remind us that after a good design, you should always _first_ measure and _then_ optimize."
      ]
    },
    {
      "cell_type": "markdown",
      "metadata": {
        "tags": [
          "35"
        ]
      },
      "source": [
        "## Building a Profiler\n",
        "\n",
        "Having discussed profilers from a _user_ perspective, let us now dive into how they are actually implemented. It turns out we can use most of our existing infrastructure to implement a simple tracing profiler with only a few lines of code."
      ]
    },
    {
      "cell_type": "markdown",
      "metadata": {
        "tags": [
          "36"
        ]
      },
      "source": [
        "The program we will apply our profiler on is \u2013 surprise! \u2013\u00a0our ongoing example, `remove_html_markup()`. Our aim is to understand how much time is spent _in each line of the code_ (such that we have a new feature on top of Python `cProfile`)."
      ]
    },
    {
      "cell_type": "code",
      "execution_count": null,
      "metadata": {
        "tags": [
          "37"
        ]
      },
      "outputs": [],
      "source": [
        "from Intro_Debugging import remove_html_markup"
      ]
    },
    {
      "cell_type": "code",
      "execution_count": null,
      "metadata": {
        "tags": [
          "38"
        ]
      },
      "outputs": [],
      "source": [
        "# ignore\n",
        "from typing import Any, Optional, Type, Dict, Tuple, List"
      ]
    },
    {
      "cell_type": "code",
      "execution_count": null,
      "metadata": {
        "tags": [
          "39"
        ]
      },
      "outputs": [],
      "source": [
        "# ignore\n",
        "from bookutils import print_content"
      ]
    },
    {
      "cell_type": "code",
      "execution_count": null,
      "metadata": {
        "tags": [
          "40"
        ]
      },
      "outputs": [],
      "source": [
        "# ignore\n",
        "import inspect"
      ]
    },
    {
      "cell_type": "code",
      "execution_count": null,
      "metadata": {
        "tags": [
          "41"
        ]
      },
      "outputs": [],
      "source": [
        "print_content(inspect.getsource(remove_html_markup), '.py',\n",
        "              start_line_number=238)"
      ]
    },
    {
      "cell_type": "markdown",
      "metadata": {
        "tags": [
          "42"
        ]
      },
      "source": [
        "We introduce a class `PerformanceTracer` that tracks, for each line in the code:\n",
        "\n",
        "* how _often_ it was executed (`hits`), and\n",
        "* _how much time_ was spent during its execution (`time`).\n",
        "\n",
        "To this end, we make use of our `Timer` class, which measures time, and the `Tracer` class from [the chapter on tracing](Tracer.ipynb), which allows us to track every line of the program as it is being executed."
      ]
    },
    {
      "cell_type": "code",
      "execution_count": null,
      "metadata": {
        "tags": [
          "43"
        ]
      },
      "outputs": [],
      "source": [
        "from Tracer import Tracer"
      ]
    },
    {
      "attachments": {},
      "cell_type": "markdown",
      "metadata": {
        "tags": [
          "44"
        ]
      },
      "source": [
        "In `PerformanceTracker`, the attributes `hits` and `time` are mappings indexed by unique locations \u2013\u00a0that is, pairs of function name and line number."
      ]
    },
    {
      "cell_type": "code",
      "execution_count": null,
      "metadata": {
        "tags": [
          "45"
        ]
      },
      "outputs": [],
      "source": [
        "Location = Tuple[str, int]"
      ]
    },
    {
      "cell_type": "code",
      "execution_count": null,
      "metadata": {
        "tags": [
          "46"
        ]
      },
      "outputs": [],
      "source": [
        "class PerformanceTracer(Tracer):\n",
        "    \"\"\"Trace time and #hits for individual program lines\"\"\"\n",
        "\n",
        "    def __init__(self) -> None:\n",
        "        \"\"\"Constructor.\"\"\"\n",
        "        super().__init__()\n",
        "        self.reset_timer()\n",
        "        self.hits: Dict[Location, int] = {}\n",
        "        self.time: Dict[Location, float] = {}\n",
        "\n",
        "    def reset_timer(self) -> None:\n",
        "        self.timer = Timer.Timer()"
      ]
    },
    {
      "cell_type": "markdown",
      "metadata": {
        "tags": [
          "47"
        ]
      },
      "source": [
        "As common in this book, we want to use `PerformanceTracer` in a `with`-block around the function call(s) to be tracked:\n",
        "\n",
        "```python\n",
        "with PerformanceTracer() as perf_tracer:\n",
        "    function(...)\n",
        "```"
      ]
    },
    {
      "cell_type": "markdown",
      "metadata": {
        "tags": [
          "48"
        ]
      },
      "source": [
        "When entering the `with` block (`__enter__()`), we reset all timers. Also, coming from the `__enter__()` method of the superclass `Tracer`, we enable tracing through the `traceit()` method."
      ]
    },
    {
      "cell_type": "code",
      "execution_count": null,
      "metadata": {
        "tags": [
          "49"
        ]
      },
      "outputs": [],
      "source": [
        "from types import FrameType"
      ]
    },
    {
      "cell_type": "code",
      "execution_count": null,
      "metadata": {
        "tags": [
          "50"
        ]
      },
      "outputs": [],
      "source": [
        "class PerformanceTracer(PerformanceTracer):\n",
        "    def __enter__(self) -> Any:\n",
        "        \"\"\"Enter a `with` block.\"\"\"\n",
        "        super().__enter__()\n",
        "        self.reset_timer()\n",
        "        return self"
      ]
    },
    {
      "cell_type": "markdown",
      "metadata": {
        "tags": [
          "51"
        ]
      },
      "source": [
        "The `traceit()` method extracts the current location. It increases the corresponding `hits` value by 1, and adds the elapsed time to the corresponding `time`."
      ]
    },
    {
      "cell_type": "code",
      "execution_count": null,
      "metadata": {
        "tags": [
          "52"
        ]
      },
      "outputs": [],
      "source": [
        "class PerformanceTracer(PerformanceTracer):\n",
        "    def traceit(self, frame: FrameType, event: str, arg: Any) -> None:\n",
        "        \"\"\"Tracing function; called for every line.\"\"\"\n",
        "        t = self.timer.elapsed_time()\n",
        "        location = (frame.f_code.co_name, frame.f_lineno)\n",
        "\n",
        "        self.hits.setdefault(location, 0)\n",
        "        self.time.setdefault(location, 0.0)\n",
        "        self.hits[location] += 1\n",
        "        self.time[location] += t\n",
        "\n",
        "        self.reset_timer()"
      ]
    },
    {
      "cell_type": "markdown",
      "metadata": {
        "tags": [
          "53"
        ]
      },
      "source": [
        "This is it already. We can now determine where most time is spent in `remove_html_markup()`. We invoke it 10,000 times such that we can average over runs:"
      ]
    },
    {
      "cell_type": "code",
      "execution_count": null,
      "metadata": {
        "tags": [
          "54"
        ]
      },
      "outputs": [],
      "source": [
        "with PerformanceTracer() as perf_tracer:\n",
        "    for i in range(10000):\n",
        "        s = remove_html_markup('<b>foo</b>')"
      ]
    },
    {
      "cell_type": "markdown",
      "metadata": {
        "tags": [
          "55"
        ]
      },
      "source": [
        "Here are the hits. For every line executed, we see how often it was executed. The most executed line is the `for` loop with 110,000 hits \u2013 once for each of the 10 characters in `<b>foo</b>`, once for the final check, and all of this 10,000 times."
      ]
    },
    {
      "cell_type": "code",
      "execution_count": null,
      "metadata": {
        "tags": [
          "56"
        ]
      },
      "outputs": [],
      "source": [
        "perf_tracer.hits"
      ]
    },
    {
      "cell_type": "markdown",
      "metadata": {
        "tags": [
          "57"
        ]
      },
      "source": [
        "The `time` attribute collects how much time was spent in each line. Within the loop, again, the `for` statement takes the most time. The other lines show some variability, though."
      ]
    },
    {
      "cell_type": "code",
      "execution_count": null,
      "metadata": {
        "tags": [
          "58"
        ]
      },
      "outputs": [],
      "source": [
        "perf_tracer.time"
      ]
    },
    {
      "cell_type": "markdown",
      "metadata": {
        "tags": [
          "59"
        ]
      },
      "source": [
        "For a full profiler, these numbers would now be sorted and printed in a table, much like `cProfile` does. However, we will borrow some material from previous chapters and annotate our code accordingly."
      ]
    },
    {
      "cell_type": "markdown",
      "metadata": {
        "tags": [
          "60"
        ]
      },
      "source": [
        "## Visualizing Performance Metrics\n",
        "\n",
        "In the [chapter on statistical debugging](StatisticalDebugger.ipynb), we have encountered the `CoverageCollector` class, which collects line and function coverage during execution, using a `collect()` method that is invoked for every line. We will repurpose this class to collect arbitrary _metrics_ on the lines executed, notably time taken."
      ]
    },
    {
      "cell_type": "markdown",
      "metadata": {
        "tags": [
          "61"
        ]
      },
      "source": [
        "### Collecting Time Spent"
      ]
    },
    {
      "cell_type": "code",
      "execution_count": null,
      "metadata": {
        "tags": [
          "62"
        ]
      },
      "outputs": [],
      "source": [
        "from StatisticalDebugger import CoverageCollector, SpectrumDebugger"
      ]
    },
    {
      "cell_type": "markdown",
      "metadata": {
        "tags": [
          "63"
        ]
      },
      "source": [
        "The `MetricCollector` class is an abstract superclass that provides an interface to access a particular metric."
      ]
    },
    {
      "cell_type": "code",
      "execution_count": null,
      "metadata": {
        "tags": [
          "64"
        ]
      },
      "outputs": [],
      "source": [
        "class MetricCollector(CoverageCollector):\n",
        "    \"\"\"Abstract superclass for collecting line-specific metrics\"\"\"\n",
        "\n",
        "    def metric(self, event: Any) -> Optional[float]:\n",
        "        \"\"\"Return a metric for an event, or none.\"\"\"\n",
        "        return None\n",
        "\n",
        "    def all_metrics(self, func: str) -> List[float]:\n",
        "        \"\"\"Return all metric for a function `func`.\"\"\"\n",
        "        return []"
      ]
    },
    {
      "cell_type": "markdown",
      "metadata": {
        "tags": [
          "65"
        ]
      },
      "source": [
        "Given these metrics, we can also compute sums and maxima for a single function."
      ]
    },
    {
      "cell_type": "code",
      "execution_count": null,
      "metadata": {
        "tags": [
          "66"
        ]
      },
      "outputs": [],
      "source": [
        "class MetricCollector(MetricCollector):\n",
        "    def total(self, func: str) -> float:\n",
        "        return sum(self.all_metrics(func))\n",
        "\n",
        "    def maximum(self, func: str) -> float:\n",
        "        return max(self.all_metrics(func))"
      ]
    },
    {
      "cell_type": "markdown",
      "metadata": {
        "tags": [
          "67"
        ]
      },
      "source": [
        "Let us instantiate this superclass into `TimeCollector` \u2013 a subclass that measures time. This is modeled after our `PerformanceTracer` class, above; notably, the `time` attribute serves the same role."
      ]
    },
    {
      "cell_type": "code",
      "execution_count": null,
      "metadata": {
        "tags": [
          "68"
        ]
      },
      "outputs": [],
      "source": [
        "class TimeCollector(MetricCollector):\n",
        "    \"\"\"Collect time executed for each line\"\"\"\n",
        "\n",
        "    def __init__(self) -> None:\n",
        "        \"\"\"Constructor\"\"\"\n",
        "        super().__init__()\n",
        "        self.reset_timer()\n",
        "        self.time: Dict[Location, float] = {}\n",
        "        self.add_items_to_ignore([Timer.Timer, Timer.clock])\n",
        "\n",
        "    def collect(self, frame: FrameType, event: str, arg: Any) -> None:\n",
        "        \"\"\"Invoked for every line executed. Accumulate time spent.\"\"\"\n",
        "        t = self.timer.elapsed_time()\n",
        "        super().collect(frame, event, arg)\n",
        "        location = (frame.f_code.co_name, frame.f_lineno)\n",
        "\n",
        "        self.time.setdefault(location, 0.0)\n",
        "        self.time[location] += t\n",
        "\n",
        "        self.reset_timer()\n",
        "\n",
        "    def reset_timer(self) -> None:\n",
        "        self.timer = Timer.Timer()\n",
        "\n",
        "    def __enter__(self) -> Any:\n",
        "        super().__enter__()\n",
        "        self.reset_timer()\n",
        "        return self"
      ]
    },
    {
      "cell_type": "markdown",
      "metadata": {
        "tags": [
          "69"
        ]
      },
      "source": [
        "The `metric()` and `all_metrics()` methods accumulate the metric (time taken) for an individual function:"
      ]
    },
    {
      "cell_type": "code",
      "execution_count": null,
      "metadata": {
        "tags": [
          "70"
        ]
      },
      "outputs": [],
      "source": [
        "class TimeCollector(TimeCollector):\n",
        "    def metric(self, location: Any) -> Optional[float]:\n",
        "        if location in self.time:\n",
        "            return self.time[location]\n",
        "        else:\n",
        "            return None\n",
        "\n",
        "    def all_metrics(self, func: str) -> List[float]:\n",
        "        return [time\n",
        "                for (func_name, lineno), time in self.time.items()\n",
        "                if func_name == func]"
      ]
    },
    {
      "cell_type": "markdown",
      "metadata": {
        "tags": [
          "71"
        ]
      },
      "source": [
        "Here's how to use `TimeCollector()` \u2013 again, in a `with` block:"
      ]
    },
    {
      "cell_type": "code",
      "execution_count": null,
      "metadata": {
        "tags": [
          "72"
        ]
      },
      "outputs": [],
      "source": [
        "with TimeCollector() as collector:\n",
        "    for i in range(100):\n",
        "        s = remove_html_markup('<b>foo</b>')"
      ]
    },
    {
      "cell_type": "markdown",
      "metadata": {
        "tags": [
          "73"
        ]
      },
      "source": [
        "The `time` attribute holds the time spent in each line:"
      ]
    },
    {
      "cell_type": "code",
      "execution_count": null,
      "metadata": {
        "tags": [
          "74"
        ]
      },
      "outputs": [],
      "source": [
        "for location, time_spent in collector.time.items():\n",
        "    print(location, time_spent)"
      ]
    },
    {
      "cell_type": "markdown",
      "metadata": {
        "tags": [
          "75"
        ]
      },
      "source": [
        "And we can also create a total for an entire function:"
      ]
    },
    {
      "cell_type": "code",
      "execution_count": null,
      "metadata": {
        "tags": [
          "76"
        ]
      },
      "outputs": [],
      "source": [
        "collector.total('remove_html_markup')"
      ]
    },
    {
      "cell_type": "markdown",
      "metadata": {
        "tags": [
          "77"
        ]
      },
      "source": [
        "### Visualizing Time Spent\n",
        "\n",
        "Let us now go and visualize these numbers in a simple form. The idea is to assign each line a _color_ whose saturation indicates the time spent in that line relative to the time spent in the function overall  \u2013\u00a0the higher the fraction, the darker the line. We create a `MetricDebugger` class built as a specialization of `SpectrumDebugger`, in which `suspiciousness()` and `color()` are repurposed to show these metrics."
      ]
    },
    {
      "cell_type": "code",
      "execution_count": null,
      "metadata": {
        "tags": [
          "78"
        ]
      },
      "outputs": [],
      "source": [
        "class MetricDebugger(SpectrumDebugger):\n",
        "    \"\"\"Visualize a metric\"\"\"\n",
        "\n",
        "    def metric(self, location: Location) -> float:\n",
        "        sum = 0.0\n",
        "        for outcome in self.collectors:\n",
        "            for collector in self.collectors[outcome]:\n",
        "                assert isinstance(collector, MetricCollector)\n",
        "                m = collector.metric(location)\n",
        "                if m is not None:\n",
        "                    sum += m  # type: ignore\n",
        "\n",
        "        return sum\n",
        "\n",
        "    def total(self, func_name: str) -> float:\n",
        "        total = 0.0\n",
        "        for outcome in self.collectors:\n",
        "            for collector in self.collectors[outcome]:\n",
        "                assert isinstance(collector, MetricCollector)\n",
        "                total += sum(collector.all_metrics(func_name))\n",
        "\n",
        "        return total\n",
        "\n",
        "    def maximum(self, func_name: str) -> float:\n",
        "        maximum = 0.0\n",
        "        for outcome in self.collectors:\n",
        "            for collector in self.collectors[outcome]:\n",
        "                assert isinstance(collector, MetricCollector)\n",
        "                maximum = max(maximum, \n",
        "                              max(collector.all_metrics(func_name)))\n",
        "\n",
        "        return maximum\n",
        "\n",
        "    def suspiciousness(self, location: Location) -> float:\n",
        "        func_name, _ = location\n",
        "        return self.metric(location) / self.total(func_name)\n",
        "\n",
        "    def color(self, location: Location) -> str:\n",
        "        func_name, _ = location\n",
        "        hue = 240  # blue\n",
        "        saturation = 100  # fully saturated\n",
        "        darkness = self.metric(location) / self.maximum(func_name)\n",
        "        lightness = 100 - darkness * 25\n",
        "        return f\"hsl({hue}, {saturation}%, {lightness}%)\"\n",
        "\n",
        "    def tooltip(self, location: Location) -> str:\n",
        "        return f\"{super().tooltip(location)} {self.metric(location)}\""
      ]
    },
    {
      "cell_type": "markdown",
      "metadata": {
        "tags": [
          "79"
        ]
      },
      "source": [
        "We can now introduce `PerformanceDebugger` as a subclass of `MetricDebugger`, using an arbitrary `MetricCollector` (such as `TimeCollector`) to obtain the metric we want to visualize."
      ]
    },
    {
      "cell_type": "code",
      "execution_count": null,
      "metadata": {
        "tags": [
          "80"
        ]
      },
      "outputs": [],
      "source": [
        "class PerformanceDebugger(MetricDebugger):\n",
        "    \"\"\"Collect and visualize a metric\"\"\"\n",
        "\n",
        "    def __init__(self, collector_class: Type, log: bool = False):\n",
        "        assert issubclass(collector_class, MetricCollector)\n",
        "        super().__init__(collector_class, log=log)"
      ]
    },
    {
      "cell_type": "markdown",
      "metadata": {
        "tags": [
          "81"
        ]
      },
      "source": [
        "With `PerformanceDebugger`, we inherit all the capabilities of `SpectrumDebugger`, such as showing the (relative) percentage of time spent in a table. We see that the `for` condition and the following `assert` take most of the time, followed by the first condition."
      ]
    },
    {
      "cell_type": "code",
      "execution_count": null,
      "metadata": {
        "tags": [
          "82"
        ]
      },
      "outputs": [],
      "source": [
        "with PerformanceDebugger(TimeCollector) as debugger:\n",
        "    for i in range(100):\n",
        "        s = remove_html_markup('<b>foo</b>')"
      ]
    },
    {
      "cell_type": "code",
      "execution_count": null,
      "metadata": {
        "tags": [
          "83"
        ]
      },
      "outputs": [],
      "source": [
        "print(debugger)"
      ]
    },
    {
      "cell_type": "markdown",
      "metadata": {
        "tags": [
          "84"
        ]
      },
      "source": [
        "However, we can also visualize these percentages, using shades of blue to indicate those lines most time spent in:"
      ]
    },
    {
      "cell_type": "code",
      "execution_count": null,
      "metadata": {
        "tags": [
          "85"
        ]
      },
      "outputs": [],
      "source": [
        "debugger"
      ]
    },
    {
      "cell_type": "markdown",
      "metadata": {
        "tags": [
          "86"
        ]
      },
      "source": [
        "### Other Metrics\n",
        "\n",
        "Our framework is flexible enough to collect (and visualize) arbitrary metrics. This `HitCollector` class, for instance, collects how often a line is being executed."
      ]
    },
    {
      "cell_type": "code",
      "execution_count": null,
      "metadata": {
        "tags": [
          "87"
        ]
      },
      "outputs": [],
      "source": [
        "class HitCollector(MetricCollector):\n",
        "    \"\"\"Collect how often a line is executed\"\"\"\n",
        "\n",
        "    def __init__(self) -> None:\n",
        "        super().__init__()\n",
        "        self.hits: Dict[Location, int] = {}\n",
        "\n",
        "    def collect(self, frame: FrameType, event: str, arg: Any) -> None:\n",
        "        super().collect(frame, event, arg)\n",
        "        location = (frame.f_code.co_name, frame.f_lineno)\n",
        "\n",
        "        self.hits.setdefault(location, 0)\n",
        "        self.hits[location] += 1\n",
        "\n",
        "    def metric(self, location: Location) -> Optional[int]:\n",
        "        if location in self.hits:\n",
        "            return self.hits[location]\n",
        "        else:\n",
        "            return None\n",
        "\n",
        "    def all_metrics(self, func: str) -> List[float]:\n",
        "        return [hits\n",
        "                for (func_name, lineno), hits in self.hits.items()\n",
        "                if func_name == func]"
      ]
    },
    {
      "cell_type": "markdown",
      "metadata": {
        "tags": [
          "88"
        ]
      },
      "source": [
        "We can plug in this class into `PerformanceDebugger` to obtain a distribution of lines executed:"
      ]
    },
    {
      "cell_type": "code",
      "execution_count": null,
      "metadata": {
        "tags": [
          "89"
        ]
      },
      "outputs": [],
      "source": [
        "with PerformanceDebugger(HitCollector) as debugger:\n",
        "    for i in range(100):\n",
        "        s = remove_html_markup('<b>foo</b>')"
      ]
    },
    {
      "cell_type": "markdown",
      "metadata": {
        "tags": [
          "90"
        ]
      },
      "source": [
        "In total, during this call to `remove_html_markup()`, there are 6,400 lines executed:"
      ]
    },
    {
      "cell_type": "code",
      "execution_count": null,
      "metadata": {
        "tags": [
          "91"
        ]
      },
      "outputs": [],
      "source": [
        "debugger.total('remove_html_markup')"
      ]
    },
    {
      "cell_type": "markdown",
      "metadata": {
        "tags": [
          "92"
        ]
      },
      "source": [
        "Again, we can visualize the distribution as a table and using colors. We can see how the shade gets lighter in the lower part of the loop as individual conditions have been met."
      ]
    },
    {
      "cell_type": "code",
      "execution_count": null,
      "metadata": {
        "tags": [
          "93"
        ]
      },
      "outputs": [],
      "source": [
        "print(debugger)"
      ]
    },
    {
      "cell_type": "code",
      "execution_count": null,
      "metadata": {
        "tags": [
          "94"
        ]
      },
      "outputs": [],
      "source": [
        "debugger"
      ]
    },
    {
      "cell_type": "markdown",
      "metadata": {
        "tags": [
          "95"
        ]
      },
      "source": [
        "## Integrating with Delta Debugging\n",
        "\n",
        "Besides identifying causes for performance issues in the code, one may also search for causes in the _input_, using [Delta Debugging](DeltaDebugger.ipynb). This can be useful if one does not immediately want to embark into investigating the code, but maybe first determine external influences that are related to performance issues."
      ]
    },
    {
      "cell_type": "markdown",
      "metadata": {
        "tags": [
          "96"
        ]
      },
      "source": [
        "Here is a variant of `remove_html_markup()` that introduces a (rather obvious) performance issue."
      ]
    },
    {
      "cell_type": "code",
      "execution_count": null,
      "metadata": {
        "tags": [
          "97"
        ]
      },
      "outputs": [],
      "source": [
        "import time"
      ]
    },
    {
      "cell_type": "code",
      "execution_count": null,
      "metadata": {
        "tags": [
          "98"
        ]
      },
      "outputs": [],
      "source": [
        "def remove_html_markup_ampersand(s: str) -> str:\n",
        "    tag = False\n",
        "    quote = False\n",
        "    out = \"\"\n",
        "\n",
        "    for c in s:\n",
        "        assert tag or not quote\n",
        "\n",
        "        if c == '&':\n",
        "            time.sleep(0.1)  # <-- the obvious performance issue\n",
        "\n",
        "        if c == '<' and not quote:\n",
        "            tag = True\n",
        "        elif c == '>' and not quote:\n",
        "            tag = False\n",
        "        elif (c == '\"' or c == \"'\") and tag:\n",
        "            quote = not quote\n",
        "        elif not tag:\n",
        "            out = out + c\n",
        "\n",
        "    return out"
      ]
    },
    {
      "cell_type": "markdown",
      "metadata": {
        "tags": [
          "99"
        ]
      },
      "source": [
        "We can easily trigger this issue by measuring time taken:"
      ]
    },
    {
      "cell_type": "code",
      "execution_count": null,
      "metadata": {
        "tags": [
          "100"
        ]
      },
      "outputs": [],
      "source": [
        "with Timer.Timer() as t:\n",
        "    remove_html_markup_ampersand('&&&')\n",
        "t.elapsed_time()"
      ]
    },
    {
      "cell_type": "markdown",
      "metadata": {
        "tags": [
          "101"
        ]
      },
      "source": [
        "Let us set up a test that checks whether the performance issue is present."
      ]
    },
    {
      "cell_type": "code",
      "execution_count": null,
      "metadata": {
        "tags": [
          "102"
        ]
      },
      "outputs": [],
      "source": [
        "def remove_html_test(s: str) -> None:\n",
        "    with Timer.Timer() as t:\n",
        "        remove_html_markup_ampersand(s)\n",
        "    assert t.elapsed_time() < 0.1"
      ]
    },
    {
      "cell_type": "markdown",
      "metadata": {
        "tags": [
          "103"
        ]
      },
      "source": [
        "We can now apply delta debugging to determine a minimum input that causes the failure:"
      ]
    },
    {
      "cell_type": "code",
      "execution_count": null,
      "metadata": {
        "tags": [
          "104"
        ]
      },
      "outputs": [],
      "source": [
        "s_fail = '<b>foo&amp;</b>'"
      ]
    },
    {
      "cell_type": "code",
      "execution_count": null,
      "metadata": {
        "tags": [
          "105"
        ]
      },
      "outputs": [],
      "source": [
        "with DeltaDebugger.DeltaDebugger() as dd:\n",
        "    remove_html_test(s_fail)"
      ]
    },
    {
      "cell_type": "code",
      "execution_count": null,
      "metadata": {
        "tags": [
          "106"
        ]
      },
      "outputs": [],
      "source": [
        "dd.min_args()"
      ]
    },
    {
      "cell_type": "markdown",
      "metadata": {
        "tags": [
          "107"
        ]
      },
      "source": [
        "For performance issues, however, a minimal input is often not enough to highlight the failure cause. This is because short inputs tend to take less processing time than longer inputs, which increases the risks of a spurious diagnosis. A better alternative is to compute a _maximum_ input where the issue does not occur:"
      ]
    },
    {
      "cell_type": "code",
      "execution_count": null,
      "metadata": {
        "tags": [
          "108"
        ]
      },
      "outputs": [],
      "source": [
        "s_pass = dd.max_args()"
      ]
    },
    {
      "cell_type": "code",
      "execution_count": null,
      "metadata": {
        "tags": [
          "109"
        ]
      },
      "outputs": [],
      "source": [
        "s_pass"
      ]
    },
    {
      "cell_type": "markdown",
      "metadata": {
        "tags": [
          "110"
        ]
      },
      "source": [
        "We see that the culprit character (the `&`) is removed. This tells us the failure-inducing difference \u2013\u00a0or, more precisely, the cause for the performance issue."
      ]
    },
    {
      "cell_type": "markdown",
      "metadata": {
        "tags": [
          "111"
        ]
      },
      "source": [
        "## Synopsis"
      ]
    },
    {
      "cell_type": "markdown",
      "metadata": {
        "tags": [
          "112"
        ]
      },
      "source": [
        "This chapter provides a class `PerformanceDebugger` that allows measuring and visualizing the time taken per line in a function."
      ]
    },
    {
      "cell_type": "code",
      "execution_count": null,
      "metadata": {
        "tags": [
          "113"
        ]
      },
      "outputs": [],
      "source": [
        "with PerformanceDebugger(TimeCollector) as debugger:\n",
        "    for i in range(100):\n",
        "        s = remove_html_markup('<b>foo</b>')"
      ]
    },
    {
      "cell_type": "markdown",
      "metadata": {
        "tags": [
          "114"
        ]
      },
      "source": [
        "The distribution of executed time within each function can be obtained by printing out the debugger:"
      ]
    },
    {
      "cell_type": "code",
      "execution_count": null,
      "metadata": {
        "tags": [
          "115"
        ]
      },
      "outputs": [],
      "source": [
        "print(debugger)"
      ]
    },
    {
      "cell_type": "markdown",
      "metadata": {
        "tags": [
          "116"
        ]
      },
      "source": [
        "The sum of all percentages in a function should always be 100%."
      ]
    },
    {
      "cell_type": "markdown",
      "metadata": {
        "tags": [
          "117"
        ]
      },
      "source": [
        "These percentages can also be visualized, where darker shades represent higher percentage values:"
      ]
    },
    {
      "cell_type": "code",
      "execution_count": null,
      "metadata": {
        "tags": [
          "118"
        ]
      },
      "outputs": [],
      "source": [
        "debugger"
      ]
    },
    {
      "cell_type": "markdown",
      "metadata": {
        "tags": [
          "119"
        ]
      },
      "source": [
        "The abstract `MetricCollector` class allows subclassing to build more collectors, such as `HitCollector`."
      ]
    },
    {
      "cell_type": "code",
      "execution_count": null,
      "metadata": {
        "tags": [
          "120"
        ]
      },
      "outputs": [],
      "source": [
        "# ignore\n",
        "from ClassDiagram import display_class_hierarchy"
      ]
    },
    {
      "cell_type": "code",
      "execution_count": null,
      "metadata": {
        "tags": [
          "121"
        ]
      },
      "outputs": [],
      "source": [
        "# ignore\n",
        "display_class_hierarchy([PerformanceDebugger, TimeCollector, HitCollector],\n",
        "                        public_methods=[\n",
        "                            PerformanceDebugger.__init__,\n",
        "                        ],\n",
        "                        project='debuggingbook')"
      ]
    },
    {
      "cell_type": "markdown",
      "metadata": {
        "button": false,
        "new_sheet": true,
        "run_control": {
          "read_only": false
        },
        "tags": [
          "122"
        ]
      },
      "source": [
        "## Lessons Learned\n",
        "\n",
        "* To measure performance,\n",
        "    * instrument the code such that the time taken per function (or line) is collected; or\n",
        "    * sample the execution that at regular intervals, the active call stack is collected.\n",
        "* To make code performant, focus on efficient algorithms, efficient data types, and sufficient abstraction such that you can replace them by alternatives.\n",
        "* Beyond efficient algorithms and data types, do _not_ optimize before measuring."
      ]
    },
    {
      "cell_type": "markdown",
      "metadata": {
        "button": false,
        "new_sheet": false,
        "run_control": {
          "read_only": false
        },
        "tags": [
          "123"
        ]
      },
      "source": [
        "## Next Steps\n",
        "\n",
        "This chapter concludes the part on abstracting failures. The next part will focus on\n",
        "\n",
        "* [repairing code automatically](Repairer.ipynb)"
      ]
    },
    {
      "cell_type": "markdown",
      "metadata": {
        "tags": [
          "124"
        ]
      },
      "source": [
        "## Background\n",
        "\n",
        "[Scalene](https://github.com/plasma-umass/scalene) is a high-performance, high-precision CPU, GPU, and memory profiler for Python. In contrast to the standard Python `cProfile` profiler, it uses _sampling_ instead of instrumentation or relying on Python's tracing facilities; and it also supports line-by-line profiling. Scalene might be the tool of choice if you want to go beyond basic profiling.\n",
        "\n",
        "The Wikipedia articles on [profiling](https://en.wikipedia.org/wiki/Profiling_(computer_programming)) and [performance analysis tools](https://en.wikipedia.org/wiki/List_of_performance_analysis_tools) provide several additional resources on profiling tools and how to apply them in practice."
      ]
    },
    {
      "cell_type": "markdown",
      "metadata": {
        "button": false,
        "new_sheet": true,
        "run_control": {
          "read_only": false
        },
        "tags": [
          "125"
        ]
      },
      "source": [
        "## Exercises"
      ]
    },
    {
      "attachments": {},
      "cell_type": "markdown",
      "metadata": {
        "button": false,
        "new_sheet": false,
        "run_control": {
          "read_only": false
        },
        "tags": [
          "126"
        ]
      },
      "source": [
        "### Exercise 1: Profiling Memory Usage\n",
        "\n",
        "The Python [`tracemalloc` module](https://docs.python.org/3/library/tracemalloc.html) allows tracking memory usage during execution. Between `tracemalloc.start()` and `tracemalloc.end()`, use `tracemalloc.get_traced_memory()` to obtain how much memory is currently being consumed:"
      ]
    },
    {
      "cell_type": "code",
      "execution_count": null,
      "metadata": {
        "tags": [
          "127"
        ]
      },
      "outputs": [],
      "source": [
        "import tracemalloc"
      ]
    },
    {
      "cell_type": "code",
      "execution_count": null,
      "metadata": {
        "tags": [
          "128"
        ]
      },
      "outputs": [],
      "source": [
        "tracemalloc.start()"
      ]
    },
    {
      "cell_type": "code",
      "execution_count": null,
      "metadata": {
        "tags": [
          "129"
        ]
      },
      "outputs": [],
      "source": [
        "current_size, peak_size = tracemalloc.get_traced_memory()\n",
        "current_size"
      ]
    },
    {
      "cell_type": "code",
      "execution_count": null,
      "metadata": {
        "tags": [
          "130"
        ]
      },
      "outputs": [],
      "source": [
        "tracemalloc.stop()"
      ]
    },
    {
      "attachments": {},
      "cell_type": "markdown",
      "metadata": {
        "tags": [
          "131"
        ]
      },
      "source": [
        "Create a subclass of `MetricCollector` named `MemoryCollector`. Make it measure the memory consumption before and after each line executed (0 if negative), and visualize the impact of individual lines on memory. Create an appropriate test program that (temporarily) consumes larger amounts of memory."
      ]
    },
    {
      "attachments": {},
      "cell_type": "markdown",
      "metadata": {
        "tags": [
          "132"
        ]
      },
      "source": [
        "## Exercise 2: Statistical Performance Debugging\n",
        "\n",
        "In a similar way as we integrated a binary \"performance test\" with delta debugging, we can also integrate such a test with other techniques. Combining a performance test with [Statistical Debugging](StatisticalDebugger.ipynb), for instance, will highlight those lines whose execution correlates with low performance. But then, the performance test need not be binary, as with functional pass/fail tests \u2013\u00a0you can also _weight_ individual lines by _how much_ they impact performance. Create a variant of `StatisticalDebugger` that reflects the impact of individual lines on an arbitrary (summarized) performance metric."
      ]
    }
  ],
  "metadata": {
    "ipub": {
      "bibliography": "fuzzingbook.bib",
      "toc": true
    },
    "kernelspec": {
      "display_name": "Python 3 (ipykernel)",
      "language": "python",
      "name": "python3"
    },
    "language_info": {
      "codemirror_mode": {
        "name": "ipython",
        "version": 3
      },
      "file_extension": ".py",
      "mimetype": "text/x-python",
      "name": "python",
      "nbconvert_exporter": "python",
      "pygments_lexer": "ipython3",
      "version": "3.10.2"
    },
    "toc": {
      "base_numbering": 1,
      "nav_menu": {},
      "number_sections": true,
      "sideBar": true,
      "skip_h1_title": true,
      "title_cell": "",
      "title_sidebar": "Contents",
      "toc_cell": false,
      "toc_position": {},
      "toc_section_display": true,
      "toc_window_display": true
    },
    "toc-autonumbering": false
  },
  "nbformat": 4,
  "nbformat_minor": 4
}