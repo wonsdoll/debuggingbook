{
  "cells": [
    {
      "cell_type": "markdown",
      "metadata": {
        "button": false,
        "new_sheet": false,
        "run_control": {
          "read_only": false
        },
        "tags": [
          "1"
        ]
      },
      "source": [
        "# Mining Function Specifications\n",
        "\n",
        "In the [chapter on assertions](Assertions.ipynb), we have seen how important it is to _check_ whether the result is as expected.  In this chapter, we introduce a technique that allows us to _mine_ function specifications from a set of given executions, resulting in abstract and formal _descriptions_ of what the function expects and what it delivers.\n",
        "\n",
        "These so-called _dynamic invariants_ produce pre- and post-conditions over function arguments and variables from a set of executions. Within debugging, the resulting _assertions_ can immediately check whether function behavior has changed, but can also be useful to determine the characteristics of _failing_ runs (as opposed to _passing_ runs). Furthermore, the resulting specifications provide pre- and postconditions for formal program proofs, testing, and verification.\n",
        "\n",
        "This chapter is based on [a chapter with the same name in The Fuzzing Book](https://www.fuzzingbook.org/html/DynamicInvariants.html), which focuses on test generation."
      ]
    },
    {
      "cell_type": "code",
      "execution_count": null,
      "metadata": {
        "tags": [
          "2"
        ]
      },
      "outputs": [],
      "source": [
        "from bookutils import YouTubeVideo\n",
        "YouTubeVideo(\"HDu1olXFvv0\")"
      ]
    },
    {
      "cell_type": "markdown",
      "metadata": {
        "button": false,
        "new_sheet": false,
        "run_control": {
          "read_only": false
        },
        "tags": [
          "3"
        ]
      },
      "source": [
        "**Prerequisites**\n",
        "\n",
        "* You should be familiar with tracing program executions, as in the [chapter on tracing](Tracer.ipynb).\n",
        "* Later in this section, we access the internal _abstract syntax tree_ representations of Python programs and transform them, as in the [chapter on tracking failure origins](Slicer.ipynb)."
      ]
    },
    {
      "cell_type": "code",
      "execution_count": null,
      "metadata": {
        "tags": [
          "4"
        ]
      },
      "outputs": [],
      "source": [
        "import bookutils.setup"
      ]
    },
    {
      "cell_type": "code",
      "execution_count": null,
      "metadata": {
        "tags": [
          "5"
        ]
      },
      "outputs": [],
      "source": [
        "from Tracer import Tracer"
      ]
    },
    {
      "cell_type": "code",
      "execution_count": null,
      "metadata": {
        "tags": [
          "6"
        ]
      },
      "outputs": [],
      "source": [
        "# ignore\n",
        "from typing import Sequence, Any, Callable, Tuple\n",
        "from typing import Dict, Union, Set, List, cast, Optional"
      ]
    },
    {
      "attachments": {},
      "cell_type": "markdown",
      "metadata": {
        "slideshow": {
          "slide_type": "skip"
        },
        "tags": [
          "7"
        ]
      },
      "source": [
        "## Synopsis\n",
        "<!-- Automatically generated. Do not edit. -->\n",
        "\n",
        "To [use the code provided in this chapter](Importing.ipynb), write\n",
        "\n",
        "```python\n",
        ">>> from debuggingbook.DynamicInvariants import <identifier>\n",
        "```\n",
        "\n",
        "and then make use of the following features.\n",
        "\n",
        "\n",
        "This chapter provides two classes that automatically extract specifications from a function and a set of inputs:\n",
        "\n",
        "* `TypeAnnotator` for _types_, and\n",
        "* `InvariantAnnotator` for _pre-_ and _postconditions_.\n",
        "\n",
        "Both work by _observing_ a function and its invocations within a `with` clause.  Here is an example for the type annotator:\n",
        "\n",
        "```python\n",
        ">>> def sum2(a, b):  # type: ignore\n",
        ">>>     return a + b\n",
        ">>> with TypeAnnotator() as type_annotator:\n",
        ">>>     sum2(1, 2)\n",
        ">>>     sum2(-4, -5)\n",
        ">>>     sum2(0, 0)\n",
        "```\n",
        "The `typed_functions()` method will return a representation of `sum2()` annotated with types observed during execution.\n",
        "\n",
        "```python\n",
        ">>> print(type_annotator.typed_functions())\n",
        "def sum2(a: int, b: int) ->int:\n",
        "    return a + b\n",
        "\n",
        "\n",
        "```\n",
        "The invariant annotator works similarly:\n",
        "\n",
        "```python\n",
        ">>> with InvariantAnnotator() as inv_annotator:\n",
        ">>>     sum2(1, 2)\n",
        ">>>     sum2(-4, -5)\n",
        ">>>     sum2(0, 0)\n",
        "```\n",
        "The `functions_with_invariants()` method will return a representation of `sum2()` annotated with inferred pre- and postconditions that all hold for the observed values.\n",
        "\n",
        "```python\n",
        ">>> print(inv_annotator.functions_with_invariants())\n",
        "@precondition(lambda a, b: isinstance(a, int))\n",
        "@precondition(lambda a, b: isinstance(b, int))\n",
        "@postcondition(lambda return_value, a, b: a == return_value - b)\n",
        "@postcondition(lambda return_value, a, b: b == return_value - a)\n",
        "@postcondition(lambda return_value, a, b: isinstance(return_value, int))\n",
        "@postcondition(lambda return_value, a, b: return_value == a + b)\n",
        "@postcondition(lambda return_value, a, b: return_value == b + a)\n",
        "def sum2(a, b):  # type: ignore\n",
        "    return a + b\n",
        "\n",
        "\n",
        "```\n",
        "Such type specifications and invariants can be helpful as _oracles_ (to detect deviations from a given set of runs). The chapter gives details on how to customize the properties checked for.\n",
        "\n"
      ]
    },
    {
      "cell_type": "markdown",
      "metadata": {
        "button": false,
        "new_sheet": true,
        "run_control": {
          "read_only": false
        },
        "tags": [
          "8"
        ]
      },
      "source": [
        "## Specifications and Assertions\n",
        "\n",
        "When implementing a function or program, one usually works against a _specification_ \u2013 a set of documented requirements to be satisfied by the code.  Such specifications can come in natural language.  A formal specification, however, allows the computer to check whether the specification is satisfied.\n",
        "\n",
        "In the [chapter on assertions](Assertions.ipynb), we have seen how _preconditions_ and _postconditions_ can describe what a function does.  Consider the following (simple) square root function:"
      ]
    },
    {
      "cell_type": "code",
      "execution_count": null,
      "metadata": {
        "tags": [
          "9"
        ]
      },
      "outputs": [],
      "source": [
        "def square_root(x):  # type: ignore\n",
        "    assert x >= 0  # Precondition\n",
        "\n",
        "    ...\n",
        "\n",
        "    assert result * result == x  # Postcondition\n",
        "    return result"
      ]
    },
    {
      "cell_type": "markdown",
      "metadata": {
        "tags": [
          "10"
        ]
      },
      "source": [
        "The assertion `assert p` checks the condition `p`; if it does not hold, execution is aborted.  Here, the actual body is not yet written; we use the assertions as a specification of what `square_root()` _expects_, and what it _delivers_.\n",
        "\n",
        "The topmost assertion is the _precondition_, stating the requirements on the function arguments.  The assertion at the end is the _postcondition_, stating the properties of the function result (including its relationship with the original arguments).  Using these pre- and postconditions as a specification, we can now go and implement a square root function that satisfies them.  Once implemented, we can have the assertions check at runtime whether `square_root()` works as expected."
      ]
    },
    {
      "cell_type": "markdown",
      "metadata": {
        "tags": [
          "11"
        ]
      },
      "source": [
        "However, not every piece of code is developed with explicit specifications in the first place; let alone does most code comes with formal pre- and post-conditions.  (Just take a look at the chapters in this book.)  This is a pity: As Ken Thompson famously said, \"Without specifications, there are no bugs \u2013\u00a0only surprises\".  It is also a problem for debugging, since, of course, debugging needs some specification such that we know what is wrong, and how to fix it.  This raises the interesting question: Can we somehow _retrofit_ existing code with \"specifications\" that properly describe their behavior, allowing developers to simply _check_ them rather than having to write them from scratch?  This is what we do in this chapter."
      ]
    },
    {
      "cell_type": "markdown",
      "metadata": {
        "tags": [
          "12"
        ]
      },
      "source": [
        "## Beyond Generic Failures\n",
        "\n",
        "Before we go into _mining_ specifications, let us first discuss why it could be useful to _have_ them.  As a motivating example, consider the full implementation of `square_root()` from the [chapter on assertions](Assertions.ipynb):"
      ]
    },
    {
      "cell_type": "code",
      "execution_count": null,
      "metadata": {
        "tags": [
          "13"
        ]
      },
      "outputs": [],
      "source": [
        "import bookutils.setup"
      ]
    },
    {
      "cell_type": "code",
      "execution_count": null,
      "metadata": {
        "button": false,
        "new_sheet": false,
        "run_control": {
          "read_only": false
        },
        "slideshow": {
          "slide_type": "fragment"
        },
        "tags": [
          "14"
        ]
      },
      "outputs": [],
      "source": [
        "def square_root(x):  # type: ignore\n",
        "    \"\"\"Computes the square root of x, using the Newton-Raphson method\"\"\"\n",
        "    approx = None\n",
        "    guess = x / 2\n",
        "    while approx != guess:\n",
        "        approx = guess\n",
        "        guess = (approx + x / approx) / 2\n",
        "\n",
        "    return approx"
      ]
    },
    {
      "cell_type": "markdown",
      "metadata": {
        "tags": [
          "15"
        ]
      },
      "source": [
        "`square_root()` does not come with any functionality that would check types or values.  Hence, it is easy for callers to make mistakes when calling `square_root()`:"
      ]
    },
    {
      "cell_type": "code",
      "execution_count": null,
      "metadata": {
        "tags": [
          "16"
        ]
      },
      "outputs": [],
      "source": [
        "from ExpectError import ExpectError, ExpectTimeout"
      ]
    },
    {
      "cell_type": "code",
      "execution_count": null,
      "metadata": {
        "tags": [
          "17"
        ]
      },
      "outputs": [],
      "source": [
        "with ExpectError():\n",
        "    square_root(\"foo\")"
      ]
    },
    {
      "cell_type": "code",
      "execution_count": null,
      "metadata": {
        "tags": [
          "18"
        ]
      },
      "outputs": [],
      "source": [
        "with ExpectError():\n",
        "    x = square_root(0.0)"
      ]
    },
    {
      "cell_type": "markdown",
      "metadata": {
        "tags": [
          "19"
        ]
      },
      "source": [
        "At least, the Python system catches these errors at runtime.  The following call, however, simply lets the function enter an infinite loop:"
      ]
    },
    {
      "cell_type": "code",
      "execution_count": null,
      "metadata": {
        "tags": [
          "20"
        ]
      },
      "outputs": [],
      "source": [
        "with ExpectTimeout(1):\n",
        "    x = square_root(-1.0)"
      ]
    },
    {
      "cell_type": "markdown",
      "metadata": {
        "tags": [
          "21"
        ]
      },
      "source": [
        "Our goal is to avoid such errors by _annotating_ functions with information that prevents errors like the above ones.  The idea is to provide a _specification_ of expected properties \u2013\u00a0a specification that can then be checked at runtime or statically."
      ]
    },
    {
      "cell_type": "markdown",
      "metadata": {
        "tags": [
          "22"
        ]
      },
      "source": [
        "\\todo{Introduce the concept of *contract*.}"
      ]
    },
    {
      "cell_type": "markdown",
      "metadata": {
        "tags": [
          "23"
        ]
      },
      "source": [
        "## Mining Data Types\n",
        "\n",
        "For our Python code, one of the most important \"specifications\" we need is *types*.  Python being a \"dynamically\" typed language means that all data types are determined at run time; the code itself does not explicitly state whether a variable is an integer, a string, an array, a dictionary \u2013 or whatever."
      ]
    },
    {
      "attachments": {},
      "cell_type": "markdown",
      "metadata": {
        "tags": [
          "24"
        ]
      },
      "source": [
        "As _writer_ of Python code, omitting explicit type declarations may save time (and allows for some fun hacks).  It is not sure whether a lack of types helps in _reading_ and _understanding_ code for humans.  For a _computer_ trying to analyze code, the lack of explicit types is detrimental.  If, say, a constraint solver, sees `if x:` and cannot know whether `x` is supposed to be a number or a string, this introduces an _ambiguity_.  Such ambiguities may multiply over the entire analysis in a combinatorial explosion \u2013 or in the analysis yielding an overly inaccurate result."
      ]
    },
    {
      "cell_type": "markdown",
      "metadata": {
        "tags": [
          "25"
        ]
      },
      "source": [
        "Python 3.6 and later allow data types as _annotations_ to function arguments (actually, to all variables) and return values.  We can, for instance, state that `square_root()` is a function that accepts a floating-point value and returns one:"
      ]
    },
    {
      "cell_type": "code",
      "execution_count": null,
      "metadata": {
        "button": false,
        "new_sheet": false,
        "run_control": {
          "read_only": false
        },
        "slideshow": {
          "slide_type": "fragment"
        },
        "tags": [
          "26"
        ]
      },
      "outputs": [],
      "source": [
        "def square_root_with_type_annotations(x: float) -> float:\n",
        "    \"\"\"Computes the square root of x, using the Newton-Raphson method\"\"\"\n",
        "    return square_root(x)"
      ]
    },
    {
      "attachments": {},
      "cell_type": "markdown",
      "metadata": {
        "tags": [
          "27"
        ]
      },
      "source": [
        "By default, such annotations are ignored by the Python interpreter.  Therefore, one can still call `square_root_typed()` with a string as an argument and get the exact same result as above.  However, one can make use of special _type checking_ modules that would check types \u2013\u00a0_dynamically_ at runtime or _statically_ by analyzing the code without having to execute it."
      ]
    },
    {
      "cell_type": "markdown",
      "metadata": {
        "tags": [
          "28"
        ]
      },
      "source": [
        "### Excursion: Runtime Type Checking"
      ]
    },
    {
      "cell_type": "markdown",
      "metadata": {
        "tags": [
          "29"
        ]
      },
      "source": [
        "_Please note: `enforce` no longer runs on Python 3.7 and later, so this section is commented out_\n",
        "\n",
        "The Python `enforce` package provides a function decorator that automatically inserts type-checking code that is executed at runtime.  Here is how to use it:"
      ]
    },
    {
      "cell_type": "code",
      "execution_count": null,
      "metadata": {
        "tags": [
          "30"
        ]
      },
      "outputs": [],
      "source": [
        "# import enforce"
      ]
    },
    {
      "cell_type": "code",
      "execution_count": null,
      "metadata": {
        "tags": [
          "31"
        ]
      },
      "outputs": [],
      "source": [
        "# @enforce.runtime_validation\n",
        "# def square_root_with_checked_type_annotations(x: float) -> float:\n",
        "#     \"\"\"Computes the square root of x, using the Newton-Raphson method\"\"\"\n",
        "#     return square_root(x)"
      ]
    },
    {
      "cell_type": "markdown",
      "metadata": {
        "tags": [
          "32"
        ]
      },
      "source": [
        "Now, invoking `square_root_with_checked_type_annotations()` raises an exception when invoked with a type dfferent from the one declared:"
      ]
    },
    {
      "cell_type": "code",
      "execution_count": null,
      "metadata": {
        "tags": [
          "33"
        ]
      },
      "outputs": [],
      "source": [
        "# with ExpectError():\n",
        "#     square_root_with_checked_type_annotations(True)"
      ]
    },
    {
      "cell_type": "markdown",
      "metadata": {
        "tags": [
          "34"
        ]
      },
      "source": [
        "Note that this error is not caught by the \"untyped\" variant, where passing a boolean value happily returns $\\sqrt{1}$ as result. "
      ]
    },
    {
      "cell_type": "code",
      "execution_count": null,
      "metadata": {
        "tags": [
          "35"
        ]
      },
      "outputs": [],
      "source": [
        "# square_root(True)"
      ]
    },
    {
      "cell_type": "markdown",
      "metadata": {
        "tags": [
          "36"
        ]
      },
      "source": [
        "In Python (and other languages), the boolean values `True` and `False` can be implicitly converted to the integers 1 and 0; however, it is hard to think of a call to `sqrt()` where this would not be an error."
      ]
    },
    {
      "cell_type": "code",
      "execution_count": null,
      "metadata": {
        "tags": [
          "37"
        ]
      },
      "outputs": [],
      "source": [
        "from bookutils import quiz"
      ]
    },
    {
      "cell_type": "code",
      "execution_count": null,
      "metadata": {
        "tags": [
          "38"
        ]
      },
      "outputs": [],
      "source": [
        "quiz(\"What happens if we call \"\n",
        "     \"`square_root_with_checked_type_annotations(1)`?\",\n",
        "    [\n",
        "        \"`1` is automatically converted to float. It will pass.\",\n",
        "        \"`1` is a subtype of float. It will pass.\",\n",
        "        \"`1` is an integer, and no float. The type check will fail.\",\n",
        "        \"The function will fail for some other reason.\"\n",
        "    ], '37035 // 12345')"
      ]
    },
    {
      "cell_type": "markdown",
      "metadata": {
        "tags": [
          "39"
        ]
      },
      "source": [
        "\"Prediction is very difficult, especially when the future is concerned\" (Niels Bohr). We can find out by a simple experiment that `float` actually means `float` \u2013 and not `int`:"
      ]
    },
    {
      "cell_type": "code",
      "execution_count": null,
      "metadata": {
        "tags": [
          "40"
        ]
      },
      "outputs": [],
      "source": [
        "# with ExpectError(enforce.exceptions.RuntimeTypeError):\n",
        "#     square_root_with_checked_type_annotations(1)"
      ]
    },
    {
      "cell_type": "markdown",
      "metadata": {
        "tags": [
          "41"
        ]
      },
      "source": [
        "To allow `int` as a type, we need to specify a _union_ of types."
      ]
    },
    {
      "cell_type": "code",
      "execution_count": null,
      "metadata": {
        "tags": [
          "42"
        ]
      },
      "outputs": [],
      "source": [
        "# @enforce.runtime_validation\n",
        "# def square_root_with_union_type(x: Union[int, float]) -> float:\n",
        "#     \"\"\"Computes the square root of x, using the Newton-Raphson method\"\"\"\n",
        "#     return square_root(x)"
      ]
    },
    {
      "cell_type": "code",
      "execution_count": null,
      "metadata": {
        "tags": [
          "43"
        ]
      },
      "outputs": [],
      "source": [
        "# square_root_with_union_type(2)"
      ]
    },
    {
      "cell_type": "code",
      "execution_count": null,
      "metadata": {
        "tags": [
          "44"
        ]
      },
      "outputs": [],
      "source": [
        "# square_root_with_union_type(2.0)"
      ]
    },
    {
      "cell_type": "code",
      "execution_count": null,
      "metadata": {
        "tags": [
          "45"
        ]
      },
      "outputs": [],
      "source": [
        "# with ExpectError(enforce.exceptions.RuntimeTypeError):\n",
        "#     square_root_with_union_type(\"Two dot zero\")"
      ]
    },
    {
      "cell_type": "markdown",
      "metadata": {
        "tags": [
          "46"
        ]
      },
      "source": [
        "### End of Excursion"
      ]
    },
    {
      "cell_type": "markdown",
      "metadata": {
        "tags": [
          "47"
        ]
      },
      "source": [
        "### Static Type Checking\n",
        "\n",
        "Type annotations can also be checked _statically_ \u2013\u00a0that is, without even running the code.  Let us create a simple Python file consisting of the above `square_root_typed()` definition and a bad invocation."
      ]
    },
    {
      "cell_type": "code",
      "execution_count": null,
      "metadata": {
        "tags": [
          "48"
        ]
      },
      "outputs": [],
      "source": [
        "import inspect\n",
        "import tempfile"
      ]
    },
    {
      "cell_type": "code",
      "execution_count": null,
      "metadata": {
        "tags": [
          "49"
        ]
      },
      "outputs": [],
      "source": [
        "f = tempfile.NamedTemporaryFile(mode='w', suffix='.py')\n",
        "f.name"
      ]
    },
    {
      "cell_type": "code",
      "execution_count": null,
      "metadata": {
        "tags": [
          "50"
        ]
      },
      "outputs": [],
      "source": [
        "f.write(inspect.getsource(square_root))\n",
        "f.write('\\n')\n",
        "f.write(inspect.getsource(square_root_with_type_annotations))\n",
        "f.write('\\n')\n",
        "f.write(\"print(square_root_with_type_annotations('123'))\\n\")\n",
        "f.flush()"
      ]
    },
    {
      "cell_type": "markdown",
      "metadata": {
        "tags": [
          "51"
        ]
      },
      "source": [
        "These are the contents of our newly created Python file:"
      ]
    },
    {
      "cell_type": "code",
      "execution_count": null,
      "metadata": {
        "tags": [
          "52"
        ]
      },
      "outputs": [],
      "source": [
        "from bookutils import print_file"
      ]
    },
    {
      "cell_type": "code",
      "execution_count": null,
      "metadata": {
        "tags": [
          "53"
        ]
      },
      "outputs": [],
      "source": [
        "print_file(f.name, start_line_number=1)"
      ]
    },
    {
      "cell_type": "markdown",
      "metadata": {
        "tags": [
          "54"
        ]
      },
      "source": [
        "[Mypy](http://mypy-lang.org) is a type checker for Python programs.  As it checks types statically, types induce no overhead at runtime; plus, a static check can be faster than a lengthy series of tests with runtime type checking enabled.  Let us see what `mypy` produces on the above file:"
      ]
    },
    {
      "cell_type": "code",
      "execution_count": null,
      "metadata": {
        "tags": [
          "55"
        ]
      },
      "outputs": [],
      "source": [
        "import subprocess"
      ]
    },
    {
      "cell_type": "code",
      "execution_count": null,
      "metadata": {
        "tags": [
          "56"
        ]
      },
      "outputs": [],
      "source": [
        "result = subprocess.run([\"mypy\", \"--strict\", f.name],\n",
        "                        universal_newlines=True, stdout=subprocess.PIPE)"
      ]
    },
    {
      "cell_type": "code",
      "execution_count": null,
      "metadata": {
        "tags": [
          "57"
        ]
      },
      "outputs": [],
      "source": [
        "print(result.stdout.replace(f.name + ':', ''))\n",
        "del f  # Delete temporary file"
      ]
    },
    {
      "cell_type": "markdown",
      "metadata": {
        "tags": [
          "58"
        ]
      },
      "source": [
        "We see that `mypy` complains about untyped function definitions such as `square_root()`; most important, however, it finds that the  call to `square_root_with_type_annotations()` in the last line has the wrong type."
      ]
    },
    {
      "cell_type": "markdown",
      "metadata": {
        "tags": [
          "59"
        ]
      },
      "source": [
        "With `mypy`, we can achieve the same type safety with Python as in statically typed languages \u2013 provided that we as programmers also produce the necessary type annotations.  Is there a simple way to obtain these?"
      ]
    },
    {
      "cell_type": "markdown",
      "metadata": {
        "tags": [
          "60"
        ]
      },
      "source": [
        "## Mining Type Specifications\n",
        "\n",
        "Our first task will be to mine type annotations (as part of the code) from _values_ we observe at run time.  These type annotations would be _mined_ from actual function executions, _learning_ from (normal) runs what the expected argument and return types should be.  By observing a series of calls such as these, we could infer that both `x` and the return value are of type `float`:"
      ]
    },
    {
      "cell_type": "code",
      "execution_count": null,
      "metadata": {
        "tags": [
          "61"
        ]
      },
      "outputs": [],
      "source": [
        "y = square_root(25.0)\n",
        "y"
      ]
    },
    {
      "cell_type": "code",
      "execution_count": null,
      "metadata": {
        "tags": [
          "62"
        ]
      },
      "outputs": [],
      "source": [
        "y = square_root(2.0)\n",
        "y"
      ]
    },
    {
      "cell_type": "markdown",
      "metadata": {
        "tags": [
          "63"
        ]
      },
      "source": [
        "How can we mine types from executions?  The answer is simple: \n",
        "\n",
        "1. We _observe_ a function during execution\n",
        "2. We track the _types_ of its arguments\n",
        "3. We include these types as _annotations_ into the code.\n",
        "\n",
        "To do so, we can make use of Python's tracing facility we already observed in the [chapter on tracing executions](Tracer.ipynb).  With every call to a function, we retrieve the arguments, their values, and their types."
      ]
    },
    {
      "cell_type": "markdown",
      "metadata": {
        "tags": [
          "64"
        ]
      },
      "source": [
        "### Tracing Calls\n",
        "\n",
        "To observe argument types at runtime, we define a _tracer function_ that tracks the execution of `square_root()`, checking its arguments and return values.  The `CallTracer` class is set to trace functions in a `with` block as follows:\n",
        "\n",
        "```python\n",
        "with CallTracer() as tracer:\n",
        "    function_to_be_tracked(...)\n",
        "info = tracer.collected_information()\n",
        "```\n",
        "\n",
        "To create the tracer, we build on the `Tracer` superclass as in the [chapter on tracing executions](Tracer.ipynb).  "
      ]
    },
    {
      "cell_type": "code",
      "execution_count": null,
      "metadata": {
        "tags": [
          "65"
        ]
      },
      "outputs": [],
      "source": [
        "from types import FrameType"
      ]
    },
    {
      "cell_type": "markdown",
      "metadata": {
        "tags": [
          "66"
        ]
      },
      "source": [
        "We start with two helper functions. `get_arguments()` returns a list of call arguments in the given call frame."
      ]
    },
    {
      "cell_type": "code",
      "execution_count": null,
      "metadata": {
        "tags": [
          "67"
        ]
      },
      "outputs": [],
      "source": [
        "Arguments = List[Tuple[str, Any]]"
      ]
    },
    {
      "cell_type": "code",
      "execution_count": null,
      "metadata": {
        "tags": [
          "68"
        ]
      },
      "outputs": [],
      "source": [
        "def get_arguments(frame: FrameType) -> Arguments:\n",
        "    \"\"\"Return call arguments in the given frame\"\"\"\n",
        "    # When called, all arguments are local variables\n",
        "    local_variables = dict(frame.f_locals)  # explicit copy\n",
        "    arguments = [(var, frame.f_locals[var]) \n",
        "                 for var in local_variables]\n",
        "\n",
        "    # FIXME: This may be needed for Python < 3.10\n",
        "    # arguments.reverse()  # Want same order as call\n",
        "\n",
        "    return arguments"
      ]
    },
    {
      "cell_type": "markdown",
      "metadata": {
        "tags": [
          "69"
        ]
      },
      "source": [
        "`simple_call_string()` is a helper for logging that prints out calls in a user-friendly manner."
      ]
    },
    {
      "cell_type": "code",
      "execution_count": null,
      "metadata": {
        "tags": [
          "70"
        ]
      },
      "outputs": [],
      "source": [
        "def simple_call_string(function_name: str, argument_list: Arguments,\n",
        "                       return_value : Any = None) -> str:\n",
        "    \"\"\"Return function_name(arg[0], arg[1], ...) as a string\"\"\"\n",
        "    call = function_name + \"(\" + \\\n",
        "        \", \".join([var + \"=\" + repr(value)\n",
        "                   for (var, value) in argument_list]) + \")\"\n",
        "\n",
        "    if return_value is not None:\n",
        "        call += \" = \" + repr(return_value)\n",
        "\n",
        "    return call"
      ]
    },
    {
      "cell_type": "markdown",
      "metadata": {
        "tags": [
          "71"
        ]
      },
      "source": [
        "Now for `CallTracer`. The constructor simply invokes the `Tracer` constructor:"
      ]
    },
    {
      "cell_type": "code",
      "execution_count": null,
      "metadata": {
        "tags": [
          "72"
        ]
      },
      "outputs": [],
      "source": [
        "class CallTracer(Tracer):\n",
        "    def __init__(self, log: bool = False, **kwargs: Any)-> None:\n",
        "        super().__init__(**kwargs)\n",
        "        self._log = log\n",
        "        self.reset()\n",
        "\n",
        "    def reset(self) -> None:\n",
        "        self._calls: Dict[str, List[Tuple[Arguments, Any]]] = {}\n",
        "        self._stack: List[Tuple[str, Arguments]] = []"
      ]
    },
    {
      "cell_type": "markdown",
      "metadata": {
        "tags": [
          "73"
        ]
      },
      "source": [
        "The `traceit()` method does nothing yet; this is done in specialized subclasses.  The `CallTracer` class implements a `traceit()` function that checks for function calls and returns:"
      ]
    },
    {
      "cell_type": "code",
      "execution_count": null,
      "metadata": {
        "tags": [
          "74"
        ]
      },
      "outputs": [],
      "source": [
        "class CallTracer(CallTracer):\n",
        "    def traceit(self, frame: FrameType, event: str, arg: Any) -> None:\n",
        "        \"\"\"Tracking function: Record all calls and all args\"\"\"\n",
        "        if event == \"call\":\n",
        "            self.trace_call(frame, event, arg)\n",
        "        elif event == \"return\":\n",
        "            self.trace_return(frame, event, arg)"
      ]
    },
    {
      "cell_type": "markdown",
      "metadata": {
        "tags": [
          "75"
        ]
      },
      "source": [
        "`trace_call()` is called when a function is called; it retrieves the function name and current arguments, and saves them on a stack."
      ]
    },
    {
      "cell_type": "code",
      "execution_count": null,
      "metadata": {
        "tags": [
          "76"
        ]
      },
      "outputs": [],
      "source": [
        "class CallTracer(CallTracer):\n",
        "    def trace_call(self, frame: FrameType, event: str, arg: Any) -> None:\n",
        "        \"\"\"Save current function name and args on the stack\"\"\"\n",
        "        code = frame.f_code\n",
        "        function_name = code.co_name\n",
        "        arguments = get_arguments(frame)\n",
        "        self._stack.append((function_name, arguments))\n",
        "\n",
        "        if self._log:\n",
        "            print(simple_call_string(function_name, arguments))"
      ]
    },
    {
      "cell_type": "markdown",
      "metadata": {
        "tags": [
          "77"
        ]
      },
      "source": [
        "When the function returns, `trace_return()` is called.  We now also have the return value.  We log the whole call with arguments and return value (if desired) and save it in our list of calls."
      ]
    },
    {
      "cell_type": "code",
      "execution_count": null,
      "metadata": {
        "tags": [
          "78"
        ]
      },
      "outputs": [],
      "source": [
        "class CallTracer(CallTracer):\n",
        "    def trace_return(self, frame: FrameType, event: str, arg: Any) -> None:\n",
        "        \"\"\"Get return value and store complete call with arguments and return value\"\"\"\n",
        "        code = frame.f_code\n",
        "        function_name = code.co_name\n",
        "        return_value = arg\n",
        "        # TODO: Could call get_arguments() here\n",
        "        # to also retrieve _final_ values of argument variables\n",
        "\n",
        "        called_function_name, called_arguments = self._stack.pop()\n",
        "        assert function_name == called_function_name\n",
        "\n",
        "        if self._log:\n",
        "            print(simple_call_string(function_name, called_arguments), \"returns\", return_value)\n",
        "\n",
        "        self.add_call(function_name, called_arguments, return_value)"
      ]
    },
    {
      "cell_type": "markdown",
      "metadata": {
        "tags": [
          "79"
        ]
      },
      "source": [
        "`add_call()` saves the calls in a list; each function name has its own list."
      ]
    },
    {
      "cell_type": "code",
      "execution_count": null,
      "metadata": {
        "tags": [
          "80"
        ]
      },
      "outputs": [],
      "source": [
        "class CallTracer(CallTracer):\n",
        "    def add_call(self, function_name: str, arguments: Arguments,\n",
        "                 return_value: Any = None) -> None:\n",
        "        \"\"\"Add given call to list of calls\"\"\"\n",
        "        if function_name not in self._calls:\n",
        "            self._calls[function_name] = []\n",
        "\n",
        "        self._calls[function_name].append((arguments, return_value))"
      ]
    },
    {
      "cell_type": "markdown",
      "metadata": {
        "tags": [
          "81"
        ]
      },
      "source": [
        "we can retrieve the list of calls, either for a given function name (`calls()`),\n",
        "or for all functions (`all_calls()`)."
      ]
    },
    {
      "cell_type": "code",
      "execution_count": null,
      "metadata": {
        "tags": [
          "82"
        ]
      },
      "outputs": [],
      "source": [
        "class CallTracer(CallTracer):\n",
        "    def calls(self, function_name: str) -> List[Tuple[Arguments, Any]]:\n",
        "        \"\"\"Return list of calls for `function_name`.\"\"\"\n",
        "        return self._calls[function_name]"
      ]
    },
    {
      "cell_type": "code",
      "execution_count": null,
      "metadata": {
        "tags": [
          "83"
        ]
      },
      "outputs": [],
      "source": [
        "class CallTracer(CallTracer):\n",
        "    def all_calls(self) -> Dict[str, List[Tuple[Arguments, Any]]]:\n",
        "        \"\"\"\n",
        "        Return list of calls for function_name, \n",
        "        or a mapping function_name -> calls for all functions tracked\n",
        "        \"\"\"\n",
        "        return self._calls"
      ]
    },
    {
      "cell_type": "markdown",
      "metadata": {
        "tags": [
          "84"
        ]
      },
      "source": [
        "Let us now put this to use.  We turn on logging to track the individual calls and their return values:"
      ]
    },
    {
      "cell_type": "code",
      "execution_count": null,
      "metadata": {
        "tags": [
          "85"
        ]
      },
      "outputs": [],
      "source": [
        "with CallTracer(log=True) as tracer:\n",
        "    y = square_root(25)\n",
        "    y = square_root(2.0)"
      ]
    },
    {
      "cell_type": "markdown",
      "metadata": {
        "tags": [
          "86"
        ]
      },
      "source": [
        "After execution, we can retrieve the individual calls:"
      ]
    },
    {
      "cell_type": "code",
      "execution_count": null,
      "metadata": {
        "tags": [
          "87"
        ]
      },
      "outputs": [],
      "source": [
        "calls = tracer.calls('square_root')\n",
        "calls"
      ]
    },
    {
      "cell_type": "markdown",
      "metadata": {
        "tags": [
          "88"
        ]
      },
      "source": [
        "Each call is a pair (`argument_list`, `return_value`), where `argument_list` is a list of pairs (`parameter_name`, `value`)."
      ]
    },
    {
      "cell_type": "code",
      "execution_count": null,
      "metadata": {
        "tags": [
          "89"
        ]
      },
      "outputs": [],
      "source": [
        "square_root_argument_list, square_root_return_value = calls[0]\n",
        "simple_call_string('square_root', square_root_argument_list, square_root_return_value)"
      ]
    },
    {
      "cell_type": "markdown",
      "metadata": {
        "tags": [
          "90"
        ]
      },
      "source": [
        "If the function does not return a value, `return_value` is `None`."
      ]
    },
    {
      "cell_type": "code",
      "execution_count": null,
      "metadata": {
        "tags": [
          "91"
        ]
      },
      "outputs": [],
      "source": [
        "def hello(name: str) -> None:\n",
        "    print(\"Hello,\", name)"
      ]
    },
    {
      "cell_type": "code",
      "execution_count": null,
      "metadata": {
        "tags": [
          "92"
        ]
      },
      "outputs": [],
      "source": [
        "with CallTracer() as tracer:\n",
        "    hello(\"world\")"
      ]
    },
    {
      "cell_type": "code",
      "execution_count": null,
      "metadata": {
        "tags": [
          "93"
        ]
      },
      "outputs": [],
      "source": [
        "hello_calls = tracer.calls('hello')\n",
        "hello_calls"
      ]
    },
    {
      "cell_type": "code",
      "execution_count": null,
      "metadata": {
        "tags": [
          "94"
        ]
      },
      "outputs": [],
      "source": [
        "hello_argument_list, hello_return_value = hello_calls[0]\n",
        "simple_call_string('hello', hello_argument_list, hello_return_value)"
      ]
    },
    {
      "cell_type": "markdown",
      "metadata": {
        "button": false,
        "new_sheet": false,
        "run_control": {
          "read_only": false
        },
        "tags": [
          "95"
        ]
      },
      "source": [
        "### Getting Types\n",
        "\n",
        "Despite what you may have read or heard, Python actually _is_ a typed language.  It is just that it is _dynamically typed_ \u2013 types are used and checked only at runtime (rather than declared in the code, where they can be _statically checked_ at compile time).  We can thus retrieve types of all values within Python:"
      ]
    },
    {
      "cell_type": "code",
      "execution_count": null,
      "metadata": {
        "tags": [
          "96"
        ]
      },
      "outputs": [],
      "source": [
        "type(4)"
      ]
    },
    {
      "cell_type": "code",
      "execution_count": null,
      "metadata": {
        "tags": [
          "97"
        ]
      },
      "outputs": [],
      "source": [
        "type(2.0)"
      ]
    },
    {
      "cell_type": "code",
      "execution_count": null,
      "metadata": {
        "tags": [
          "98"
        ]
      },
      "outputs": [],
      "source": [
        "type([4])"
      ]
    },
    {
      "cell_type": "markdown",
      "metadata": {
        "tags": [
          "99"
        ]
      },
      "source": [
        "We can retrieve the type of the first argument to `square_root()`:"
      ]
    },
    {
      "cell_type": "code",
      "execution_count": null,
      "metadata": {
        "tags": [
          "100"
        ]
      },
      "outputs": [],
      "source": [
        "parameter, value = square_root_argument_list[0]\n",
        "parameter, type(value)"
      ]
    },
    {
      "cell_type": "markdown",
      "metadata": {
        "tags": [
          "101"
        ]
      },
      "source": [
        "as well as the type of the return value:"
      ]
    },
    {
      "cell_type": "code",
      "execution_count": null,
      "metadata": {
        "tags": [
          "102"
        ]
      },
      "outputs": [],
      "source": [
        "type(square_root_return_value)"
      ]
    },
    {
      "cell_type": "markdown",
      "metadata": {
        "tags": [
          "103"
        ]
      },
      "source": [
        "Hence, we see that (so far), `square_root()` is a function taking (among others) integers and returning floats.  We could declare `square_root()` as:"
      ]
    },
    {
      "cell_type": "code",
      "execution_count": null,
      "metadata": {
        "tags": [
          "104"
        ]
      },
      "outputs": [],
      "source": [
        "def square_root_annotated(x: int) -> float:\n",
        "    return square_root(x)"
      ]
    },
    {
      "cell_type": "markdown",
      "metadata": {
        "tags": [
          "105"
        ]
      },
      "source": [
        "This is a representation we could place in a static type checker, allowing to check whether calls to `square_root()` actually pass a number.  A dynamic type checker could run such checks at runtime."
      ]
    },
    {
      "cell_type": "markdown",
      "metadata": {
        "tags": [
          "106"
        ]
      },
      "source": [
        "By default, Python does not do anything with such annotations.  However, tools can access annotations from functions and other objects:"
      ]
    },
    {
      "cell_type": "code",
      "execution_count": null,
      "metadata": {
        "tags": [
          "107"
        ]
      },
      "outputs": [],
      "source": [
        "square_root_annotated.__annotations__"
      ]
    },
    {
      "cell_type": "markdown",
      "metadata": {
        "tags": [
          "108"
        ]
      },
      "source": [
        "This is how run-time checkers access the annotations to check against."
      ]
    },
    {
      "cell_type": "markdown",
      "metadata": {
        "tags": [
          "109"
        ]
      },
      "source": [
        "### Annotating Functions with Types\n",
        "\n",
        "Our plan is to annotate functions automatically, based on the types we have seen. Our aim is to build a class `TypeAnnotator` that can be used as follows. First, it would track some execution:\n",
        "\n",
        "```python\n",
        "with TypeAnnotator() as annotator:\n",
        "    some_function_call()\n",
        "```\n",
        "\n",
        "After tracking, `TypeAnnotator` would provide appropriate methods to access (type-)annotated versions of the function seen:\n",
        "\n",
        "```python\n",
        "print(annotator.typed_functions())\n",
        "```\n",
        "\n",
        "Let us put the pieces together to build `TypeAnnotator`."
      ]
    },
    {
      "cell_type": "markdown",
      "metadata": {
        "tags": [
          "110"
        ]
      },
      "source": [
        "#### Excursion: Accessing Function Structure"
      ]
    },
    {
      "cell_type": "markdown",
      "metadata": {
        "tags": [
          "111"
        ]
      },
      "source": [
        "To annotate functions, we need to convert a function into a tree representation (called _abstract syntax trees_, or ASTs) and back; we already have seen these in the chapter on [tracking value origins](Slicer.ipynb)."
      ]
    },
    {
      "cell_type": "code",
      "execution_count": null,
      "metadata": {
        "tags": [
          "112"
        ]
      },
      "outputs": [],
      "source": [
        "import ast\n",
        "import inspect"
      ]
    },
    {
      "cell_type": "markdown",
      "metadata": {
        "tags": [
          "113"
        ]
      },
      "source": [
        "We can get the source of a Python function using `inspect.getsource()`.  (Note that this does not work for functions defined in other notebooks.)"
      ]
    },
    {
      "cell_type": "code",
      "execution_count": null,
      "metadata": {
        "tags": [
          "114"
        ]
      },
      "outputs": [],
      "source": [
        "square_root_source = inspect.getsource(square_root)\n",
        "square_root_source"
      ]
    },
    {
      "cell_type": "markdown",
      "metadata": {
        "tags": [
          "115"
        ]
      },
      "source": [
        "To view these in a visually pleasing form, our function `print_content(s, suffix)` formats and highlights the string `s` as if it were a file with ending `suffix`.  We can thus view (and highlight) the source as if it were a Python file:"
      ]
    },
    {
      "cell_type": "code",
      "execution_count": null,
      "metadata": {
        "tags": [
          "116"
        ]
      },
      "outputs": [],
      "source": [
        "from bookutils import print_content"
      ]
    },
    {
      "cell_type": "code",
      "execution_count": null,
      "metadata": {
        "tags": [
          "117"
        ]
      },
      "outputs": [],
      "source": [
        "print_content(square_root_source, '.py')"
      ]
    },
    {
      "cell_type": "markdown",
      "metadata": {
        "tags": [
          "118"
        ]
      },
      "source": [
        "Parsing this gives us an abstract syntax tree (AST) \u2013\u00a0a representation of the program in tree form."
      ]
    },
    {
      "cell_type": "code",
      "execution_count": null,
      "metadata": {
        "tags": [
          "119"
        ]
      },
      "outputs": [],
      "source": [
        "square_root_ast = ast.parse(square_root_source)"
      ]
    },
    {
      "cell_type": "markdown",
      "metadata": {
        "tags": [
          "120"
        ]
      },
      "source": [
        "What does this AST look like?  The helper functions `ast.dump()` (textual output) and `showast.show_ast()` (graphical output with [showast](https://github.com/hchasestevens/show_ast)) allow us to inspect the structure of the tree.  We see that the function starts as a `FunctionDef` with name and arguments, followed by a body, which is a list of statements of type `Expr` (the docstring), type `Assign` (assignments), `While` (while loop with its own body), and finally `Return`."
      ]
    },
    {
      "cell_type": "code",
      "execution_count": null,
      "metadata": {
        "tags": [
          "121"
        ]
      },
      "outputs": [],
      "source": [
        "print(ast.dump(square_root_ast, indent=4))"
      ]
    },
    {
      "cell_type": "markdown",
      "metadata": {
        "tags": [
          "122"
        ]
      },
      "source": [
        "Too much text for you?  This graphical representation may make things simpler."
      ]
    },
    {
      "cell_type": "code",
      "execution_count": null,
      "metadata": {
        "tags": [
          "123"
        ]
      },
      "outputs": [],
      "source": [
        "from bookutils import show_ast"
      ]
    },
    {
      "cell_type": "code",
      "execution_count": null,
      "metadata": {
        "tags": [
          "124"
        ]
      },
      "outputs": [],
      "source": [
        "show_ast(square_root_ast)"
      ]
    },
    {
      "cell_type": "markdown",
      "metadata": {
        "tags": [
          "125"
        ]
      },
      "source": [
        "The function `ast.unparse()` converts such a tree back into the more familiar textual Python code representation.  Comments are gone, and there may be more (or fewer) parentheses than before, but the result has the same semantics:"
      ]
    },
    {
      "cell_type": "code",
      "execution_count": null,
      "metadata": {
        "tags": [
          "126"
        ]
      },
      "outputs": [],
      "source": [
        "print_content(ast.unparse(square_root_ast), '.py')"
      ]
    },
    {
      "cell_type": "markdown",
      "metadata": {
        "tags": [
          "127"
        ]
      },
      "source": [
        "#### End of Excursion"
      ]
    },
    {
      "cell_type": "markdown",
      "metadata": {
        "tags": [
          "128"
        ]
      },
      "source": [
        "#### Excursion: Annotating Functions with Given Types"
      ]
    },
    {
      "cell_type": "markdown",
      "metadata": {
        "tags": [
          "129"
        ]
      },
      "source": [
        "Let us now go and transform ASTs to add type annotations.  We start with a helper function `parse_type(name)` which  parses a type name into an AST."
      ]
    },
    {
      "cell_type": "code",
      "execution_count": null,
      "metadata": {
        "tags": [
          "130"
        ]
      },
      "outputs": [],
      "source": [
        "def parse_type(name: str) -> ast.expr:\n",
        "    class ValueVisitor(ast.NodeVisitor):\n",
        "        def visit_Expr(self, node: ast.Expr) -> None:\n",
        "            self.value_node = node.value\n",
        "\n",
        "    tree = ast.parse(name)\n",
        "    name_visitor = ValueVisitor()\n",
        "    name_visitor.visit(tree)\n",
        "    return name_visitor.value_node"
      ]
    },
    {
      "cell_type": "code",
      "execution_count": null,
      "metadata": {
        "tags": [
          "131"
        ]
      },
      "outputs": [],
      "source": [
        "print(ast.dump(parse_type('int')))"
      ]
    },
    {
      "cell_type": "code",
      "execution_count": null,
      "metadata": {
        "tags": [
          "132"
        ]
      },
      "outputs": [],
      "source": [
        "print(ast.dump(parse_type('[object]')))"
      ]
    },
    {
      "cell_type": "markdown",
      "metadata": {
        "tags": [
          "133"
        ]
      },
      "source": [
        "We now define a helper function that actually adds type annotations to a function AST.  The `TypeTransformer` class builds on the Python standard library `ast.NodeTransformer` infrastructure.  It would be called as\n",
        "\n",
        "```python\n",
        "    TypeTransformer({'x': 'int'}, 'float').visit(ast)\n",
        "```\n",
        "\n",
        "to annotate the arguments of `square_root()`: `x` with `int`, and the return type with `float`.  The returned AST can then be unparsed, compiled or analyzed."
      ]
    },
    {
      "cell_type": "code",
      "execution_count": null,
      "metadata": {
        "tags": [
          "134"
        ]
      },
      "outputs": [],
      "source": [
        "class TypeTransformer(ast.NodeTransformer):\n",
        "    def __init__(self, argument_types: Dict[str, str], return_type: Optional[str] = None):\n",
        "        self.argument_types = argument_types\n",
        "        self.return_type = return_type\n",
        "        super().__init__()"
      ]
    },
    {
      "cell_type": "markdown",
      "metadata": {
        "tags": [
          "135"
        ]
      },
      "source": [
        "The core of `TypeTransformer` is the method `visit_FunctionDef()`, which is called for every function definition in the AST.  Its argument `node` is the subtree of the function definition to be transformed.  Our implementation accesses the individual arguments and invokes `annotate_args()` on them; it also sets the return type in the `returns` attribute of the node."
      ]
    },
    {
      "cell_type": "code",
      "execution_count": null,
      "metadata": {
        "tags": [
          "136"
        ]
      },
      "outputs": [],
      "source": [
        "class TypeTransformer(TypeTransformer):\n",
        "    def visit_FunctionDef(self, node: ast.FunctionDef) -> ast.FunctionDef:\n",
        "        \"\"\"Add annotation to function\"\"\"\n",
        "        # Set argument types\n",
        "        new_args = []\n",
        "        for arg in node.args.args:\n",
        "            new_args.append(self.annotate_arg(arg))\n",
        "\n",
        "        new_arguments = ast.arguments(\n",
        "            node.args.posonlyargs,\n",
        "            new_args,\n",
        "            node.args.vararg,\n",
        "            node.args.kwonlyargs,\n",
        "            node.args.kw_defaults,\n",
        "            node.args.kwarg,\n",
        "            node.args.defaults\n",
        "        )\n",
        "\n",
        "        # Set return type\n",
        "        if self.return_type is not None:\n",
        "            node.returns = parse_type(self.return_type)\n",
        "\n",
        "        return ast.copy_location(\n",
        "            ast.FunctionDef(node.name, new_arguments,\n",
        "                            node.body, node.decorator_list,\n",
        "                            node.returns), node)"
      ]
    },
    {
      "cell_type": "markdown",
      "metadata": {
        "tags": [
          "137"
        ]
      },
      "source": [
        "Each argument gets its own annotation, taken from the types originally passed to the class:"
      ]
    },
    {
      "cell_type": "code",
      "execution_count": null,
      "metadata": {
        "tags": [
          "138"
        ]
      },
      "outputs": [],
      "source": [
        "class TypeTransformer(TypeTransformer):\n",
        "    def annotate_arg(self, arg: ast.arg) -> ast.arg:\n",
        "        \"\"\"Add annotation to single function argument\"\"\"\n",
        "        arg_name = arg.arg\n",
        "        if arg_name in self.argument_types:\n",
        "            arg.annotation = parse_type(self.argument_types[arg_name])\n",
        "\n",
        "        return arg"
      ]
    },
    {
      "cell_type": "markdown",
      "metadata": {
        "tags": [
          "139"
        ]
      },
      "source": [
        "Does this work?  Let us annotate the AST from `square_root()` with types for the arguments and return types:"
      ]
    },
    {
      "cell_type": "code",
      "execution_count": null,
      "metadata": {
        "tags": [
          "140"
        ]
      },
      "outputs": [],
      "source": [
        "new_ast = TypeTransformer({'x': 'int'}, 'float').visit(square_root_ast)"
      ]
    },
    {
      "cell_type": "markdown",
      "metadata": {
        "tags": [
          "141"
        ]
      },
      "source": [
        "When we unparse the new AST, we see that the annotations actually are present:"
      ]
    },
    {
      "cell_type": "code",
      "execution_count": null,
      "metadata": {
        "tags": [
          "142"
        ]
      },
      "outputs": [],
      "source": [
        "print_content(ast.unparse(new_ast), '.py')"
      ]
    },
    {
      "cell_type": "markdown",
      "metadata": {
        "tags": [
          "143"
        ]
      },
      "source": [
        "Similarly, we can annotate the `hello()` function from above:"
      ]
    },
    {
      "cell_type": "code",
      "execution_count": null,
      "metadata": {
        "tags": [
          "144"
        ]
      },
      "outputs": [],
      "source": [
        "hello_source = inspect.getsource(hello)"
      ]
    },
    {
      "cell_type": "code",
      "execution_count": null,
      "metadata": {
        "tags": [
          "145"
        ]
      },
      "outputs": [],
      "source": [
        "hello_ast = ast.parse(hello_source)"
      ]
    },
    {
      "cell_type": "code",
      "execution_count": null,
      "metadata": {
        "tags": [
          "146"
        ]
      },
      "outputs": [],
      "source": [
        "new_ast = TypeTransformer({'name': 'str'}, 'None').visit(hello_ast)"
      ]
    },
    {
      "cell_type": "code",
      "execution_count": null,
      "metadata": {
        "tags": [
          "147"
        ]
      },
      "outputs": [],
      "source": [
        "print_content(ast.unparse(new_ast), '.py')"
      ]
    },
    {
      "cell_type": "markdown",
      "metadata": {
        "tags": [
          "148"
        ]
      },
      "source": [
        "#### End of Excursion"
      ]
    },
    {
      "cell_type": "markdown",
      "metadata": {
        "tags": [
          "149"
        ]
      },
      "source": [
        "#### Excursion: Annotating Functions with Mined Types"
      ]
    },
    {
      "cell_type": "markdown",
      "metadata": {
        "tags": [
          "150"
        ]
      },
      "source": [
        "Let us now annotate functions with types mined at runtime. We start with a simple function `type_string()` that determines \n",
        "the appropriate type of a given value (as a string):"
      ]
    },
    {
      "cell_type": "code",
      "execution_count": null,
      "metadata": {
        "tags": [
          "151"
        ]
      },
      "outputs": [],
      "source": [
        "def type_string(value: Any) -> str:\n",
        "    return type(value).__name__"
      ]
    },
    {
      "cell_type": "code",
      "execution_count": null,
      "metadata": {
        "tags": [
          "152"
        ]
      },
      "outputs": [],
      "source": [
        "type_string(4)"
      ]
    },
    {
      "cell_type": "code",
      "execution_count": null,
      "metadata": {
        "tags": [
          "153"
        ]
      },
      "outputs": [],
      "source": [
        "type_string([])"
      ]
    },
    {
      "cell_type": "markdown",
      "metadata": {
        "tags": [
          "154"
        ]
      },
      "source": [
        "For composite structures, `type_string()` does not examine element types; hence, the type of `[3]` is simply `list` instead of, say, `list[int]`.  For now, `list` will do fine."
      ]
    },
    {
      "cell_type": "code",
      "execution_count": null,
      "metadata": {
        "tags": [
          "155"
        ]
      },
      "outputs": [],
      "source": [
        "type_string([3])"
      ]
    },
    {
      "cell_type": "markdown",
      "metadata": {
        "tags": [
          "156"
        ]
      },
      "source": [
        "`type_string()` will be used to infer the types of argument values found at runtime, as returned by `CallTracer.all_calls()`:"
      ]
    },
    {
      "cell_type": "code",
      "execution_count": null,
      "metadata": {
        "button": false,
        "new_sheet": false,
        "run_control": {
          "read_only": false
        },
        "slideshow": {
          "slide_type": "skip"
        },
        "tags": [
          "157"
        ]
      },
      "outputs": [],
      "source": [
        "with CallTracer() as tracer:\n",
        "    y = square_root(25.0)\n",
        "    y = square_root(2.0)"
      ]
    },
    {
      "cell_type": "code",
      "execution_count": null,
      "metadata": {
        "button": false,
        "code_folding": [],
        "new_sheet": false,
        "run_control": {
          "read_only": false
        },
        "slideshow": {
          "slide_type": "subslide"
        },
        "tags": [
          "158"
        ]
      },
      "outputs": [],
      "source": [
        "tracer.all_calls()"
      ]
    },
    {
      "cell_type": "markdown",
      "metadata": {
        "tags": [
          "159"
        ]
      },
      "source": [
        "The function `annotate_types()` takes such a list of calls and annotates each function listed:"
      ]
    },
    {
      "cell_type": "code",
      "execution_count": null,
      "metadata": {
        "tags": [
          "160"
        ]
      },
      "outputs": [],
      "source": [
        "from StackInspector import StackInspector"
      ]
    },
    {
      "cell_type": "code",
      "execution_count": null,
      "metadata": {
        "tags": [
          "161"
        ]
      },
      "outputs": [],
      "source": [
        "def annotate_types(calls: Dict[str, List[Tuple[Arguments, Any]]]) \\\n",
        "        -> Dict[str, ast.AST]:\n",
        "    annotated_functions = {}\n",
        "    stack_inspector = StackInspector()\n",
        "\n",
        "    for function_name in calls:\n",
        "        function = stack_inspector.search_func(function_name)\n",
        "        if function:\n",
        "            annotated_functions[function_name] = \\\n",
        "                annotate_function_with_types(function, calls[function_name])\n",
        "\n",
        "    return annotated_functions"
      ]
    },
    {
      "cell_type": "markdown",
      "metadata": {
        "tags": [
          "162"
        ]
      },
      "source": [
        "For each function, we get the source and its AST and then get to the actual annotation in `annotate_function_ast_with_types()`:"
      ]
    },
    {
      "cell_type": "code",
      "execution_count": null,
      "metadata": {
        "tags": [
          "163"
        ]
      },
      "outputs": [],
      "source": [
        "def annotate_function_with_types(function: Callable,\n",
        "                                 function_calls: List[Tuple[Arguments, Any]]) -> ast.AST:\n",
        "    function_code = inspect.getsource(function)\n",
        "    function_ast = ast.parse(function_code)\n",
        "    return annotate_function_ast_with_types(function_ast, function_calls)"
      ]
    },
    {
      "cell_type": "markdown",
      "metadata": {
        "tags": [
          "164"
        ]
      },
      "source": [
        "The function `annotate_function_ast_with_types()` invokes the `TypeTransformer` with the calls seen, and for each call, iterate over the arguments, determine their types, and annotate the AST with these.  The universal type `Any` is used when we encounter type conflicts, which we will discuss below."
      ]
    },
    {
      "cell_type": "code",
      "execution_count": null,
      "metadata": {
        "tags": [
          "165"
        ]
      },
      "outputs": [],
      "source": [
        "def annotate_function_ast_with_types(function_ast: ast.AST,\n",
        "                                     function_calls: List[Tuple[Arguments, Any]]) -> ast.AST:\n",
        "    parameter_types: Dict[str, str] = {}\n",
        "    return_type = None\n",
        "\n",
        "    for calls_seen in function_calls:\n",
        "        args, return_value = calls_seen\n",
        "        if return_value:\n",
        "            if return_type and return_type != type_string(return_value):\n",
        "                return_type = 'Any'\n",
        "            else:\n",
        "                return_type = type_string(return_value)\n",
        "\n",
        "        for parameter, value in args:\n",
        "            try:\n",
        "                different_type = (parameter_types[parameter] !=\n",
        "                                  type_string(value))\n",
        "            except KeyError:\n",
        "                different_type = False\n",
        "\n",
        "            if different_type:\n",
        "                parameter_types[parameter] = 'Any'\n",
        "            else:\n",
        "                parameter_types[parameter] = type_string(value)\n",
        "\n",
        "    annotated_function_ast = \\\n",
        "        TypeTransformer(parameter_types, return_type).visit(function_ast)\n",
        "\n",
        "    return annotated_function_ast"
      ]
    },
    {
      "cell_type": "markdown",
      "metadata": {
        "tags": [
          "166"
        ]
      },
      "source": [
        "Here is `square_root()` annotated with the types recorded usign the tracer, above."
      ]
    },
    {
      "cell_type": "code",
      "execution_count": null,
      "metadata": {
        "tags": [
          "167"
        ]
      },
      "outputs": [],
      "source": [
        "print_content(ast.unparse(annotate_types(tracer.all_calls())['square_root']), '.py')"
      ]
    },
    {
      "cell_type": "markdown",
      "metadata": {
        "tags": [
          "168"
        ]
      },
      "source": [
        "#### End of Excursion"
      ]
    },
    {
      "cell_type": "markdown",
      "metadata": {
        "tags": [
          "169"
        ]
      },
      "source": [
        "#### Excursion: A Type Annotator Class"
      ]
    },
    {
      "cell_type": "markdown",
      "metadata": {
        "tags": [
          "170"
        ]
      },
      "source": [
        "Let us bring all of this together in a single class `TypeAnnotator` that first tracks calls of functions and then allows accessing the AST (and the source code form) of the tracked functions annotated with types.  The method `typed_functions()` returns the annotated functions as a string; `typed_functions_ast()` returns their AST."
      ]
    },
    {
      "cell_type": "code",
      "execution_count": null,
      "metadata": {
        "tags": [
          "171"
        ]
      },
      "outputs": [],
      "source": [
        "class TypeTracer(CallTracer):\n",
        "    pass"
      ]
    },
    {
      "cell_type": "code",
      "execution_count": null,
      "metadata": {
        "tags": [
          "172"
        ]
      },
      "outputs": [],
      "source": [
        "class TypeAnnotator(TypeTracer):\n",
        "    def typed_functions_ast(self) -> Dict[str, ast.AST]:\n",
        "        \"\"\"Return a dict name -> AST for all functions observed, annotated with types\"\"\"\n",
        "        return annotate_types(self.all_calls())\n",
        "\n",
        "    def typed_function_ast(self, function_name: str) -> Optional[ast.AST]:\n",
        "        \"\"\"Return an AST for all calls of `function_name` observed, annotated with types\"\"\"\n",
        "        function = self.search_func(function_name)\n",
        "        if not function:\n",
        "            return None\n",
        "        return annotate_function_with_types(function, self.calls(function_name))\n",
        "\n",
        "    def typed_functions(self) -> str:\n",
        "        \"\"\"Return the code for all functions observed, annotated with types\"\"\"\n",
        "        functions = ''\n",
        "        for f_name in self.all_calls():\n",
        "            f_ast = self.typed_function_ast(f_name)\n",
        "            if f_ast:\n",
        "                functions += ast.unparse(f_ast)\n",
        "            else:\n",
        "                functions += '# Could not find function ' + repr(f_name)\n",
        "\n",
        "        return functions\n",
        "\n",
        "    def typed_function(self, function_name: str) -> str:\n",
        "        \"\"\"Return the code for all calls of `function_name` observed, annotated with types\"\"\"\n",
        "        function_ast = self.typed_function_ast(function_name)\n",
        "        if not function_ast:\n",
        "            raise KeyError\n",
        "        return ast.unparse(function_ast)\n",
        "\n",
        "    def __repr__(self) -> str:\n",
        "        \"\"\"String representation, like `typed_functions()`\"\"\"\n",
        "        return self.typed_functions()"
      ]
    },
    {
      "cell_type": "markdown",
      "metadata": {
        "tags": [
          "173"
        ]
      },
      "source": [
        "#### End of Excursion"
      ]
    },
    {
      "cell_type": "markdown",
      "metadata": {
        "tags": [
          "174"
        ]
      },
      "source": [
        "Here is how to use `TypeAnnotator`.  We first track a series of calls:"
      ]
    },
    {
      "cell_type": "code",
      "execution_count": null,
      "metadata": {
        "tags": [
          "175"
        ]
      },
      "outputs": [],
      "source": [
        "with TypeAnnotator() as annotator:\n",
        "    y = square_root(25.0)\n",
        "    y = square_root(2.0)"
      ]
    },
    {
      "cell_type": "markdown",
      "metadata": {
        "tags": [
          "176"
        ]
      },
      "source": [
        "After tracking, we can immediately retrieve an annotated version of the functions tracked:"
      ]
    },
    {
      "cell_type": "code",
      "execution_count": null,
      "metadata": {
        "tags": [
          "177"
        ]
      },
      "outputs": [],
      "source": [
        "print_content(annotator.typed_functions(), '.py')"
      ]
    },
    {
      "cell_type": "markdown",
      "metadata": {
        "tags": [
          "178"
        ]
      },
      "source": [
        "This also works for multiple and diverse functions.  One could go and implement an automatic type annotator for Python files based on the types seen during execution."
      ]
    },
    {
      "cell_type": "code",
      "execution_count": null,
      "metadata": {
        "tags": [
          "179"
        ]
      },
      "outputs": [],
      "source": [
        "with TypeAnnotator() as annotator:\n",
        "    hello('type annotations')\n",
        "    y = square_root(1.0)"
      ]
    },
    {
      "cell_type": "code",
      "execution_count": null,
      "metadata": {
        "tags": [
          "180"
        ]
      },
      "outputs": [],
      "source": [
        "print_content(annotator.typed_functions(), '.py')"
      ]
    },
    {
      "cell_type": "markdown",
      "metadata": {
        "tags": [
          "181"
        ]
      },
      "source": [
        "A content as above could now be sent to a type checker, which would detect any type inconsistency between callers and callees."
      ]
    },
    {
      "cell_type": "markdown",
      "metadata": {
        "tags": [
          "182"
        ]
      },
      "source": [
        "#### Excursion: Handling Multiple Types\n",
        "\n",
        "Let us now resolve the role of the magic `Any` type in `annotate_function_ast_with_types()`.  If we see multiple types for the same argument, we set its type to `Any`.  For `square_root()`, this makes sense, as its arguments can be integers as well as floats:"
      ]
    },
    {
      "cell_type": "code",
      "execution_count": null,
      "metadata": {
        "button": false,
        "new_sheet": false,
        "run_control": {
          "read_only": false
        },
        "slideshow": {
          "slide_type": "skip"
        },
        "tags": [
          "183"
        ]
      },
      "outputs": [],
      "source": [
        "with CallTracer() as tracer:\n",
        "    y = square_root(25.0)\n",
        "    y = square_root(4)"
      ]
    },
    {
      "cell_type": "code",
      "execution_count": null,
      "metadata": {
        "tags": [
          "184"
        ]
      },
      "outputs": [],
      "source": [
        "annotated_square_root_ast = annotate_types(tracer.all_calls())['square_root']\n",
        "print_content(ast.unparse(annotated_square_root_ast), '.py')"
      ]
    },
    {
      "cell_type": "markdown",
      "metadata": {
        "tags": [
          "185"
        ]
      },
      "source": [
        "The following function `sum3()` can be called with floating-point numbers as arguments, resulting in the parameters getting a `float` type:"
      ]
    },
    {
      "cell_type": "code",
      "execution_count": null,
      "metadata": {
        "tags": [
          "186"
        ]
      },
      "outputs": [],
      "source": [
        "def sum3(a, b, c):  # type: ignore\n",
        "    return a + b + c"
      ]
    },
    {
      "cell_type": "code",
      "execution_count": null,
      "metadata": {
        "tags": [
          "187"
        ]
      },
      "outputs": [],
      "source": [
        "with TypeAnnotator() as annotator:\n",
        "    y = sum3(1.0, 2.0, 3.0)\n",
        "y"
      ]
    },
    {
      "cell_type": "code",
      "execution_count": null,
      "metadata": {
        "tags": [
          "188"
        ]
      },
      "outputs": [],
      "source": [
        "print_content(annotator.typed_functions(), '.py')"
      ]
    },
    {
      "cell_type": "markdown",
      "metadata": {
        "tags": [
          "189"
        ]
      },
      "source": [
        "If we call `sum3()` with integers, though, the arguments get an `int` type:"
      ]
    },
    {
      "cell_type": "code",
      "execution_count": null,
      "metadata": {
        "tags": [
          "190"
        ]
      },
      "outputs": [],
      "source": [
        "with TypeAnnotator() as annotator:\n",
        "    y = sum3(1, 2, 3)\n",
        "y"
      ]
    },
    {
      "cell_type": "code",
      "execution_count": null,
      "metadata": {
        "tags": [
          "191"
        ]
      },
      "outputs": [],
      "source": [
        "print_content(annotator.typed_functions(), '.py')"
      ]
    },
    {
      "cell_type": "markdown",
      "metadata": {
        "tags": [
          "192"
        ]
      },
      "source": [
        "And we can also call `sum3()` with strings, which assigns the arguments a `str` type:"
      ]
    },
    {
      "cell_type": "code",
      "execution_count": null,
      "metadata": {
        "tags": [
          "193"
        ]
      },
      "outputs": [],
      "source": [
        "with TypeAnnotator() as annotator:\n",
        "    y = sum3(\"one\", \"two\", \"three\")\n",
        "y"
      ]
    },
    {
      "cell_type": "code",
      "execution_count": null,
      "metadata": {
        "tags": [
          "194"
        ]
      },
      "outputs": [],
      "source": [
        "print_content(annotator.typed_functions(), '.py')"
      ]
    },
    {
      "cell_type": "markdown",
      "metadata": {
        "tags": [
          "195"
        ]
      },
      "source": [
        "If we have multiple calls, but with different types, `TypeAnnotator()` will assign an `Any` type to both arguments and return values:"
      ]
    },
    {
      "cell_type": "code",
      "execution_count": null,
      "metadata": {
        "tags": [
          "196"
        ]
      },
      "outputs": [],
      "source": [
        "with TypeAnnotator() as annotator:\n",
        "    y = sum3(1, 2, 3)\n",
        "    y = sum3(\"one\", \"two\", \"three\")"
      ]
    },
    {
      "cell_type": "code",
      "execution_count": null,
      "metadata": {
        "tags": [
          "197"
        ]
      },
      "outputs": [],
      "source": [
        "typed_sum3_def = annotator.typed_function('sum3')"
      ]
    },
    {
      "cell_type": "code",
      "execution_count": null,
      "metadata": {
        "tags": [
          "198"
        ]
      },
      "outputs": [],
      "source": [
        "print_content(typed_sum3_def, '.py')"
      ]
    },
    {
      "cell_type": "markdown",
      "metadata": {
        "tags": [
          "199"
        ]
      },
      "source": [
        "A type `Any` makes it explicit that an object can, indeed, have any type; it will not be typechecked at runtime or statically.  To some extent, this defeats the power of type checking; but it also preserves some of the type flexibility that many Python programmers enjoy.  Besides `Any`, the `typing` module supports several additional ways to define ambiguous types; we will keep this in mind for a later exercise."
      ]
    },
    {
      "cell_type": "markdown",
      "metadata": {
        "tags": [
          "200"
        ]
      },
      "source": [
        "#### End of Excursion"
      ]
    },
    {
      "cell_type": "markdown",
      "metadata": {
        "tags": [
          "201"
        ]
      },
      "source": [
        "## Mining Invariants\n",
        "\n",
        "Besides basic data types. we can check several further properties from arguments.  We can, for instance, whether an argument can be negative, zero, or positive; or that one argument should be smaller than the second; or that the result should be the sum of two arguments \u2013\u00a0properties that cannot be expressed in a (Python) type.\n",
        "\n",
        "Such properties are called *invariants*, as they hold across all invocations of a function. Specifically, invariants come as _pre_- and _postconditions_ \u2013\u00a0conditions that always hold at the beginning and at the end of a function.  (There are also _data_ and _object_ invariants that express always-holding properties over the state of data or objects, but we do not consider these in this book.)"
      ]
    },
    {
      "cell_type": "markdown",
      "metadata": {
        "tags": [
          "202"
        ]
      },
      "source": [
        "### Annotating Functions with Pre- and Postconditions\n",
        "\n",
        "The classical means to specify pre- and postconditions is via _assertions_, which we have introduced in the [chapter on assertions](Assertions.ipynb).  A precondition checks whether the arguments to a function satisfy the expected properties; a postcondition does the same for the result.  We can express and check both using assertions as follows:"
      ]
    },
    {
      "cell_type": "code",
      "execution_count": null,
      "metadata": {
        "tags": [
          "203"
        ]
      },
      "outputs": [],
      "source": [
        "def square_root_with_invariants(x):  # type: ignore\n",
        "    assert x >= 0  # Precondition\n",
        "\n",
        "    ...\n",
        "\n",
        "    assert result * result == x  # Postcondition\n",
        "    return result"
      ]
    },
    {
      "cell_type": "markdown",
      "metadata": {
        "tags": [
          "204"
        ]
      },
      "source": [
        "A nicer way, however, is to syntactically separate invariants from the function at hand.  Using appropriate decorators, we could specify pre- and postconditions as follows:\n",
        "\n",
        "```python\n",
        "@precondition lambda x: x >= 0\n",
        "@postcondition lambda return_value, x: return_value * return_value == x\n",
        "def square_root_with_invariants(x):\n",
        "    # normal code without assertions\n",
        "    ...\n",
        "```\n",
        "\n",
        "The decorators `@precondition` and `@postcondition` would run the given functions (specified as anonymous `lambda` functions) before and after the decorated function, respectively.  If the functions return `False`, the condition is violated.  `@precondition` gets the function arguments as arguments; `@postcondition` additionally gets the return value as first argument."
      ]
    },
    {
      "cell_type": "markdown",
      "metadata": {
        "tags": [
          "205"
        ]
      },
      "source": [
        "It turns out that implementing such decorators is not hard at all.  Our implementation builds on a [code snippet from StackOverflow](https://stackoverflow.com/questions/12151182/python-precondition-postcondition-for-member-function-how):"
      ]
    },
    {
      "cell_type": "code",
      "execution_count": null,
      "metadata": {
        "tags": [
          "206"
        ]
      },
      "outputs": [],
      "source": [
        "import functools"
      ]
    },
    {
      "cell_type": "code",
      "execution_count": null,
      "metadata": {
        "tags": [
          "207"
        ]
      },
      "outputs": [],
      "source": [
        "def condition(precondition: Optional[Callable] = None,\n",
        "              postcondition: Optional[Callable] = None) -> Callable:\n",
        "    def decorator(func: Callable) -> Callable:\n",
        "        @functools.wraps(func)  # preserves name, docstring, etc\n",
        "        def wrapper(*args: Any, **kwargs: Any) -> Any:\n",
        "            if precondition is not None:\n",
        "                assert precondition(*args, **kwargs), \\\n",
        "                    \"Precondition violated\"\n",
        "\n",
        "            # Call original function or method\n",
        "            retval = func(*args, **kwargs)\n",
        "            if postcondition is not None:\n",
        "                assert postcondition(retval, *args, **kwargs), \\\n",
        "                    \"Postcondition violated\"\n",
        "\n",
        "            return retval\n",
        "        return wrapper\n",
        "    return decorator"
      ]
    },
    {
      "cell_type": "code",
      "execution_count": null,
      "metadata": {
        "tags": [
          "208"
        ]
      },
      "outputs": [],
      "source": [
        "def precondition(check: Callable) -> Callable:\n",
        "    return condition(precondition=check)"
      ]
    },
    {
      "cell_type": "code",
      "execution_count": null,
      "metadata": {
        "tags": [
          "209"
        ]
      },
      "outputs": [],
      "source": [
        "def postcondition(check: Callable) -> Callable:\n",
        "    return condition(postcondition=check)"
      ]
    },
    {
      "cell_type": "markdown",
      "metadata": {
        "tags": [
          "210"
        ]
      },
      "source": [
        "With these, we can now start decorating `square_root()`:"
      ]
    },
    {
      "cell_type": "code",
      "execution_count": null,
      "metadata": {
        "tags": [
          "211"
        ]
      },
      "outputs": [],
      "source": [
        "@precondition(lambda x: x > 0)\n",
        "def square_root_with_precondition(x):  # type: ignore\n",
        "    return square_root(x)"
      ]
    },
    {
      "cell_type": "markdown",
      "metadata": {
        "tags": [
          "212"
        ]
      },
      "source": [
        "This catches arguments violating the precondition:"
      ]
    },
    {
      "cell_type": "code",
      "execution_count": null,
      "metadata": {
        "tags": [
          "213"
        ]
      },
      "outputs": [],
      "source": [
        "with ExpectError():\n",
        "    square_root_with_precondition(-1.0)"
      ]
    },
    {
      "cell_type": "markdown",
      "metadata": {
        "tags": [
          "214"
        ]
      },
      "source": [
        "Likewise, we can provide a postcondition:"
      ]
    },
    {
      "cell_type": "code",
      "execution_count": null,
      "metadata": {
        "tags": [
          "215"
        ]
      },
      "outputs": [],
      "source": [
        "import math"
      ]
    },
    {
      "cell_type": "code",
      "execution_count": null,
      "metadata": {
        "tags": [
          "216"
        ]
      },
      "outputs": [],
      "source": [
        "@postcondition(lambda ret, x: math.isclose(ret * ret, x))\n",
        "def square_root_with_postcondition(x):  # type: ignore\n",
        "    return square_root(x)"
      ]
    },
    {
      "cell_type": "code",
      "execution_count": null,
      "metadata": {
        "tags": [
          "217"
        ]
      },
      "outputs": [],
      "source": [
        "y = square_root_with_postcondition(2.0)\n",
        "y"
      ]
    },
    {
      "cell_type": "markdown",
      "metadata": {
        "tags": [
          "218"
        ]
      },
      "source": [
        "If we have a buggy implementation of $\\sqrt{x}$, this gets caught quickly:"
      ]
    },
    {
      "cell_type": "code",
      "execution_count": null,
      "metadata": {
        "tags": [
          "219"
        ]
      },
      "outputs": [],
      "source": [
        "@postcondition(lambda ret, x: math.isclose(ret * ret, x))\n",
        "def buggy_square_root_with_postcondition(x):  # type: ignore\n",
        "    return square_root(x) + 0.1"
      ]
    },
    {
      "cell_type": "code",
      "execution_count": null,
      "metadata": {
        "tags": [
          "220"
        ]
      },
      "outputs": [],
      "source": [
        "with ExpectError():\n",
        "    y = buggy_square_root_with_postcondition(2.0)"
      ]
    },
    {
      "cell_type": "markdown",
      "metadata": {
        "tags": [
          "221"
        ]
      },
      "source": [
        "While checking pre- and postconditions is a great way to catch errors, specifying them can be cumbersome.  Let us try to see whether we can (again) _mine_ some of them."
      ]
    },
    {
      "cell_type": "markdown",
      "metadata": {
        "tags": [
          "222"
        ]
      },
      "source": [
        "### Mining Invariants\n",
        "\n",
        "To _mine_ invariants, we can use the same tracking functionality as before; instead of saving values for individual variables, though, we now check whether the values satisfy specific _properties_ or not.  For instance, if all values of `x` seen satisfy the condition `x > 0`, then we make `x > 0` an invariant of the function.  If we see positive, zero, and negative values of `x`, though, then there is no property of `x` left to talk about.\n",
        "\n",
        "The general idea is thus:\n",
        "\n",
        "1. Check all variable values observed against a set of predefined properties; and\n",
        "2. Keep only those properties that hold for all runs observed."
      ]
    },
    {
      "cell_type": "markdown",
      "metadata": {
        "tags": [
          "223"
        ]
      },
      "source": [
        "### Defining Properties\n",
        "\n",
        "What precisely do we mean by properties?  Here is a small collection of value properties that would frequently be used in invariants.  All these properties would be evaluated with the _metavariables_ `X`, `Y`, and `Z` (actually, any upper-case identifier) being replaced with the names of function parameters: "
      ]
    },
    {
      "cell_type": "code",
      "execution_count": null,
      "metadata": {
        "tags": [
          "224"
        ]
      },
      "outputs": [],
      "source": [
        "INVARIANT_PROPERTIES = [\n",
        "    \"X < 0\",\n",
        "    \"X <= 0\",\n",
        "    \"X > 0\",\n",
        "    \"X >= 0\",\n",
        "    # \"X == 0\",  # implied by \"X\", below\n",
        "    # \"X != 0\",  # implied by \"not X\", below\n",
        "]"
      ]
    },
    {
      "cell_type": "markdown",
      "metadata": {
        "tags": [
          "225"
        ]
      },
      "source": [
        "When `square_root(x)` is called as, say `square_root(5.0)`, we see that `x = 5.0` holds.  The above properties would then all be checked for `x`.  Only the properties `X > 0`, `X >= 0`, and `not X` hold for the call seen; and hence `x > 0`, `x >= 0`, and `not x` (or better: `x != 0`) would make potential preconditions for `square_root(x)`."
      ]
    },
    {
      "cell_type": "markdown",
      "metadata": {
        "tags": [
          "226"
        ]
      },
      "source": [
        "We can check for many more properties such as relations between two arguments:"
      ]
    },
    {
      "cell_type": "code",
      "execution_count": null,
      "metadata": {
        "tags": [
          "227"
        ]
      },
      "outputs": [],
      "source": [
        "INVARIANT_PROPERTIES += [\n",
        "    \"X == Y\",\n",
        "    \"X > Y\",\n",
        "    \"X < Y\",\n",
        "    \"X >= Y\",\n",
        "    \"X <= Y\",\n",
        "]"
      ]
    },
    {
      "cell_type": "markdown",
      "metadata": {
        "tags": [
          "228"
        ]
      },
      "source": [
        "Types also can be checked using properties.  For any function parameter `X`, only one of these will hold:"
      ]
    },
    {
      "cell_type": "code",
      "execution_count": null,
      "metadata": {
        "tags": [
          "229"
        ]
      },
      "outputs": [],
      "source": [
        "INVARIANT_PROPERTIES += [\n",
        "    \"isinstance(X, bool)\",\n",
        "    \"isinstance(X, int)\",\n",
        "    \"isinstance(X, float)\",\n",
        "    \"isinstance(X, list)\",\n",
        "    \"isinstance(X, dict)\",\n",
        "]"
      ]
    },
    {
      "cell_type": "markdown",
      "metadata": {
        "tags": [
          "230"
        ]
      },
      "source": [
        "We can check for arithmetic properties:"
      ]
    },
    {
      "cell_type": "code",
      "execution_count": null,
      "metadata": {
        "tags": [
          "231"
        ]
      },
      "outputs": [],
      "source": [
        "INVARIANT_PROPERTIES += [\n",
        "    \"X == Y + Z\",\n",
        "    \"X == Y * Z\",\n",
        "    \"X == Y - Z\",\n",
        "    \"X == Y / Z\",\n",
        "]"
      ]
    },
    {
      "cell_type": "markdown",
      "metadata": {
        "tags": [
          "232"
        ]
      },
      "source": [
        "Here's relations over three values, a Python special:"
      ]
    },
    {
      "cell_type": "code",
      "execution_count": null,
      "metadata": {
        "tags": [
          "233"
        ]
      },
      "outputs": [],
      "source": [
        "INVARIANT_PROPERTIES += [\n",
        "    \"X < Y < Z\",\n",
        "    \"X <= Y <= Z\",\n",
        "    \"X > Y > Z\",\n",
        "    \"X >= Y >= Z\",\n",
        "]"
      ]
    },
    {
      "cell_type": "markdown",
      "metadata": {
        "tags": [
          "234"
        ]
      },
      "source": [
        "These Boolean properties also check for other types, as in Python, `None`, an empty list, an empty set, an empty string, and the value zero all evaluate to `False`."
      ]
    },
    {
      "cell_type": "code",
      "execution_count": null,
      "metadata": {
        "tags": [
          "235"
        ]
      },
      "outputs": [],
      "source": [
        "INVARIANT_PROPERTIES += [\n",
        "    \"X\",\n",
        "    \"not X\"\n",
        "]"
      ]
    },
    {
      "cell_type": "markdown",
      "metadata": {
        "tags": [
          "236"
        ]
      },
      "source": [
        "Finally, we can also check for list or string properties.  Again, this is just a tiny selection."
      ]
    },
    {
      "cell_type": "code",
      "execution_count": null,
      "metadata": {
        "tags": [
          "237"
        ]
      },
      "outputs": [],
      "source": [
        "INVARIANT_PROPERTIES += [\n",
        "    \"X == len(Y)\",\n",
        "    \"X == sum(Y)\",\n",
        "    \"X in Y\",\n",
        "    \"X.startswith(Y)\",\n",
        "    \"X.endswith(Y)\",\n",
        "]"
      ]
    },
    {
      "cell_type": "markdown",
      "metadata": {
        "tags": [
          "238"
        ]
      },
      "source": [
        "### Extracting Meta-Variables\n",
        "\n",
        "Let us first introduce a few _helper functions_ before we can get to the actual mining.  `metavars()` extracts the set of meta-variables (`X`, `Y`, `Z`, etc.) from a property.  To this end, we parse the property as a Python expression and then visit the identifiers."
      ]
    },
    {
      "cell_type": "code",
      "execution_count": null,
      "metadata": {
        "tags": [
          "239"
        ]
      },
      "outputs": [],
      "source": [
        "def metavars(prop: str) -> List[str]:\n",
        "    metavar_list = []\n",
        "\n",
        "    class ArgVisitor(ast.NodeVisitor):\n",
        "        def visit_Name(self, node: ast.Name) -> None:\n",
        "            if node.id.isupper():\n",
        "                metavar_list.append(node.id)\n",
        "\n",
        "    ArgVisitor().visit(ast.parse(prop))\n",
        "    return metavar_list"
      ]
    },
    {
      "cell_type": "code",
      "execution_count": null,
      "metadata": {
        "tags": [
          "240"
        ]
      },
      "outputs": [],
      "source": [
        "assert metavars(\"X < 0\") == ['X']"
      ]
    },
    {
      "cell_type": "code",
      "execution_count": null,
      "metadata": {
        "tags": [
          "241"
        ]
      },
      "outputs": [],
      "source": [
        "assert metavars(\"X.startswith(Y)\") == ['X', 'Y']"
      ]
    },
    {
      "cell_type": "code",
      "execution_count": null,
      "metadata": {
        "tags": [
          "242"
        ]
      },
      "outputs": [],
      "source": [
        "assert metavars(\"isinstance(X, str)\") == ['X']"
      ]
    },
    {
      "cell_type": "markdown",
      "metadata": {
        "tags": [
          "243"
        ]
      },
      "source": [
        "### Instantiating Properties\n",
        "\n",
        "To produce a property as invariant, we need to be able to _instantiate_ it with variable names.  The instantiation of `X > 0` with `X` being instantiated to `a`, for instance, gets us `a > 0`.  To this end, the function `instantiate_prop()` takes a property and a collection of variable names and instantiates the meta-variables left-to-right with the corresponding variables names in the collection."
      ]
    },
    {
      "cell_type": "code",
      "execution_count": null,
      "metadata": {
        "tags": [
          "244"
        ]
      },
      "outputs": [],
      "source": [
        "def instantiate_prop_ast(prop: str, var_names: Sequence[str]) -> ast.AST:\n",
        "    class NameTransformer(ast.NodeTransformer):\n",
        "        def visit_Name(self, node: ast.Name) -> ast.Name:\n",
        "            if node.id not in mapping:\n",
        "                return node\n",
        "            return ast.Name(id=mapping[node.id], ctx=ast.Load())\n",
        "\n",
        "    meta_variables = metavars(prop)\n",
        "    assert len(meta_variables) == len(var_names)\n",
        "\n",
        "    mapping = {}\n",
        "    for i in range(0, len(meta_variables)):\n",
        "        mapping[meta_variables[i]] = var_names[i]\n",
        "\n",
        "    prop_ast = ast.parse(prop, mode='eval')\n",
        "    new_ast = NameTransformer().visit(prop_ast)\n",
        "\n",
        "    return new_ast"
      ]
    },
    {
      "cell_type": "code",
      "execution_count": null,
      "metadata": {
        "tags": [
          "245"
        ]
      },
      "outputs": [],
      "source": [
        "def instantiate_prop(prop: str, var_names: Sequence[str]) -> str:\n",
        "    prop_ast = instantiate_prop_ast(prop, var_names)\n",
        "    prop_text = ast.unparse(prop_ast).strip()\n",
        "    while prop_text.startswith('(') and prop_text.endswith(')'):\n",
        "        prop_text = prop_text[1:-1]\n",
        "    return prop_text"
      ]
    },
    {
      "cell_type": "code",
      "execution_count": null,
      "metadata": {
        "tags": [
          "246"
        ]
      },
      "outputs": [],
      "source": [
        "assert instantiate_prop(\"X > Y\", ['a', 'b']) == 'a > b'"
      ]
    },
    {
      "cell_type": "code",
      "execution_count": null,
      "metadata": {
        "tags": [
          "247"
        ]
      },
      "outputs": [],
      "source": [
        "assert instantiate_prop(\"X.startswith(Y)\", ['x', 'y']) == 'x.startswith(y)'"
      ]
    },
    {
      "cell_type": "markdown",
      "metadata": {
        "tags": [
          "248"
        ]
      },
      "source": [
        "### Evaluating Properties\n",
        "\n",
        "To actually _evaluate_ properties, we do not need to instantiate them.  Instead, we simply convert them into a boolean function, using `lambda`:"
      ]
    },
    {
      "cell_type": "code",
      "execution_count": null,
      "metadata": {
        "tags": [
          "249"
        ]
      },
      "outputs": [],
      "source": [
        "def prop_function_text(prop: str) -> str:\n",
        "    return \"lambda \" + \", \".join(metavars(prop)) + \": \" + prop"
      ]
    },
    {
      "cell_type": "markdown",
      "metadata": {
        "tags": [
          "250"
        ]
      },
      "source": [
        "Here is a simple example:"
      ]
    },
    {
      "cell_type": "code",
      "execution_count": null,
      "metadata": {
        "tags": [
          "251"
        ]
      },
      "outputs": [],
      "source": [
        "prop_function_text(\"X > Y\")"
      ]
    },
    {
      "cell_type": "markdown",
      "metadata": {
        "tags": [
          "252"
        ]
      },
      "source": [
        "We can easily evaluate the function:"
      ]
    },
    {
      "cell_type": "code",
      "execution_count": null,
      "metadata": {
        "tags": [
          "253"
        ]
      },
      "outputs": [],
      "source": [
        "def prop_function(prop: str) -> Callable:\n",
        "    return eval(prop_function_text(prop))"
      ]
    },
    {
      "cell_type": "markdown",
      "metadata": {
        "tags": [
          "254"
        ]
      },
      "source": [
        "Here is an example:"
      ]
    },
    {
      "cell_type": "code",
      "execution_count": null,
      "metadata": {
        "tags": [
          "255"
        ]
      },
      "outputs": [],
      "source": [
        "p = prop_function(\"X > Y\")"
      ]
    },
    {
      "cell_type": "code",
      "execution_count": null,
      "metadata": {
        "tags": [
          "256"
        ]
      },
      "outputs": [],
      "source": [
        "quiz(\"What is p(100, 1)?\",\n",
        "     [\n",
        "        \"False\",\n",
        "        \"True\"\n",
        "    ], 'p(100, 1) + 1', globals())"
      ]
    },
    {
      "cell_type": "code",
      "execution_count": null,
      "metadata": {
        "tags": [
          "257"
        ]
      },
      "outputs": [],
      "source": [
        "p(100, 1)"
      ]
    },
    {
      "cell_type": "code",
      "execution_count": null,
      "metadata": {
        "tags": [
          "258"
        ]
      },
      "outputs": [],
      "source": [
        "p(1, 100)"
      ]
    },
    {
      "cell_type": "markdown",
      "metadata": {
        "tags": [
          "259"
        ]
      },
      "source": [
        "### Checking Invariants\n",
        "\n",
        "To extract invariants from an execution, we need to check them on all possible instantiations of arguments.  If the function to be checked has two arguments `a` and `b`, we instantiate the property `X < Y` both as `a < b` and `b < a` and check each of them."
      ]
    },
    {
      "cell_type": "markdown",
      "metadata": {
        "tags": [
          "260"
        ]
      },
      "source": [
        "To get all combinations, we use the Python `permutations()` function:"
      ]
    },
    {
      "cell_type": "code",
      "execution_count": null,
      "metadata": {
        "tags": [
          "261"
        ]
      },
      "outputs": [],
      "source": [
        "import itertools"
      ]
    },
    {
      "cell_type": "code",
      "execution_count": null,
      "metadata": {
        "tags": [
          "262"
        ]
      },
      "outputs": [],
      "source": [
        "for combination in itertools.permutations([1.0, 2.0, 3.0], 2):\n",
        "    print(combination)"
      ]
    },
    {
      "cell_type": "markdown",
      "metadata": {
        "tags": [
          "263"
        ]
      },
      "source": [
        "The function `true_property_instantiations()` takes a property and a list of tuples (`var_name`, `value`).  It then produces all instantiations of the property with the given values and returns those that evaluate to True."
      ]
    },
    {
      "cell_type": "code",
      "execution_count": null,
      "metadata": {
        "tags": [
          "264"
        ]
      },
      "outputs": [],
      "source": [
        "Invariants = Set[Tuple[str, Tuple[str, ...]]]"
      ]
    },
    {
      "cell_type": "code",
      "execution_count": null,
      "metadata": {
        "tags": [
          "265"
        ]
      },
      "outputs": [],
      "source": [
        "def true_property_instantiations(prop: str, vars_and_values: Arguments, \n",
        "                                 log: bool = False) -> Invariants:\n",
        "    instantiations = set()\n",
        "    p = prop_function(prop)\n",
        "\n",
        "    len_metavars = len(metavars(prop))\n",
        "    for combination in itertools.permutations(vars_and_values, len_metavars):\n",
        "        args = [value for var_name, value in combination]\n",
        "        var_names = [var_name for var_name, value in combination]\n",
        "\n",
        "        try:\n",
        "            result = p(*args)\n",
        "        except:\n",
        "            result = None\n",
        "\n",
        "        if log:\n",
        "            print(prop, combination, result)\n",
        "        if result:\n",
        "            instantiations.add((prop, tuple(var_names)))\n",
        "\n",
        "    return instantiations"
      ]
    },
    {
      "cell_type": "markdown",
      "metadata": {
        "tags": [
          "266"
        ]
      },
      "source": [
        "Here is an example.   If `x == -1` and `y == 1`, the property `X < Y` holds for `x < y`, but not for `y < x`:"
      ]
    },
    {
      "cell_type": "code",
      "execution_count": null,
      "metadata": {
        "tags": [
          "267"
        ]
      },
      "outputs": [],
      "source": [
        "invs = true_property_instantiations(\"X < Y\", [('x', -1), ('y', 1)], log=True)\n",
        "invs"
      ]
    },
    {
      "cell_type": "markdown",
      "metadata": {
        "tags": [
          "268"
        ]
      },
      "source": [
        "The instantiation retrieves the short form:"
      ]
    },
    {
      "cell_type": "code",
      "execution_count": null,
      "metadata": {
        "tags": [
          "269"
        ]
      },
      "outputs": [],
      "source": [
        "for prop, var_names in invs:\n",
        "    print(instantiate_prop(prop, var_names))"
      ]
    },
    {
      "cell_type": "markdown",
      "metadata": {
        "tags": [
          "270"
        ]
      },
      "source": [
        "Likewise, with values for `x` and `y` as above, the property `X < 0` only holds for `x`, but not for `y`:"
      ]
    },
    {
      "cell_type": "code",
      "execution_count": null,
      "metadata": {
        "tags": [
          "271"
        ]
      },
      "outputs": [],
      "source": [
        "invs = true_property_instantiations(\"X < 0\", [('x', -1), ('y', 1)], log=True)"
      ]
    },
    {
      "cell_type": "code",
      "execution_count": null,
      "metadata": {
        "tags": [
          "272"
        ]
      },
      "outputs": [],
      "source": [
        "for prop, var_names in invs:\n",
        "    print(instantiate_prop(prop, var_names))"
      ]
    },
    {
      "cell_type": "markdown",
      "metadata": {
        "tags": [
          "273"
        ]
      },
      "source": [
        "### Extracting Invariants\n",
        "\n",
        "Let us now run the above invariant extraction on function arguments and return values as observed during a function execution.  To this end, we extend the `CallTracer` class into an `InvariantTracer` class, which automatically computes invariants for all functions and all calls observed during tracking."
      ]
    },
    {
      "cell_type": "markdown",
      "metadata": {
        "tags": [
          "274"
        ]
      },
      "source": [
        "By default, an `InvariantTracer` uses the `INVARIANT_PROPERTIES` properties as defined above; however, one can specify alternate sets of properties."
      ]
    },
    {
      "cell_type": "code",
      "execution_count": null,
      "metadata": {
        "tags": [
          "275"
        ]
      },
      "outputs": [],
      "source": [
        "class InvariantTracer(CallTracer):\n",
        "    def __init__(self, props: Optional[List[str]] = None, **kwargs: Any) -> None:\n",
        "        if props is None:\n",
        "            props = INVARIANT_PROPERTIES\n",
        "\n",
        "        self.props = props\n",
        "        super().__init__(**kwargs)"
      ]
    },
    {
      "cell_type": "markdown",
      "metadata": {
        "tags": [
          "276"
        ]
      },
      "source": [
        "The key method of the `InvariantTracer` is the `invariants()` method.  This iterates over the calls observed and checks which properties hold.  Only the intersection of properties \u2013 that is, the set of properties that hold for all calls \u2013\u00a0is preserved, and eventually returned.  The special variable `return_value` is set to hold the return value."
      ]
    },
    {
      "cell_type": "code",
      "execution_count": null,
      "metadata": {
        "tags": [
          "277"
        ]
      },
      "outputs": [],
      "source": [
        "RETURN_VALUE = 'return_value'"
      ]
    },
    {
      "cell_type": "code",
      "execution_count": null,
      "metadata": {
        "tags": [
          "278"
        ]
      },
      "outputs": [],
      "source": [
        "class InvariantTracer(InvariantTracer):\n",
        "    def all_invariants(self) -> Dict[str, Invariants]:\n",
        "        return {function_name: self.invariants(function_name)\n",
        "                for function_name in self.all_calls()}\n",
        "\n",
        "    def invariants(self, function_name: str) -> Invariants:\n",
        "        invariants = None\n",
        "        for variables, return_value in self.calls(function_name):\n",
        "            vars_and_values = variables + [(RETURN_VALUE, return_value)]\n",
        "\n",
        "            s = set()\n",
        "            for prop in self.props:\n",
        "                s |= true_property_instantiations(prop, vars_and_values,\n",
        "                                                  self._log)\n",
        "            if invariants is None:\n",
        "                invariants = s\n",
        "            else:\n",
        "                invariants &= s\n",
        "\n",
        "        assert invariants is not None\n",
        "        return invariants"
      ]
    },
    {
      "cell_type": "markdown",
      "metadata": {
        "tags": [
          "279"
        ]
      },
      "source": [
        "Here's an example of how to use `invariants()`.  We run the tracer on a small set of calls."
      ]
    },
    {
      "cell_type": "code",
      "execution_count": null,
      "metadata": {
        "tags": [
          "280"
        ]
      },
      "outputs": [],
      "source": [
        "with InvariantTracer() as tracer:\n",
        "    y = square_root(25.0)\n",
        "    y = square_root(10.0)\n",
        "\n",
        "tracer.all_calls()"
      ]
    },
    {
      "cell_type": "markdown",
      "metadata": {
        "tags": [
          "281"
        ]
      },
      "source": [
        "The `invariants()` method produces a set of properties that hold for the observed runs, together with their instantiations over function arguments."
      ]
    },
    {
      "cell_type": "code",
      "execution_count": null,
      "metadata": {
        "tags": [
          "282"
        ]
      },
      "outputs": [],
      "source": [
        "invs = tracer.invariants('square_root')\n",
        "invs"
      ]
    },
    {
      "cell_type": "markdown",
      "metadata": {
        "tags": [
          "283"
        ]
      },
      "source": [
        "As before, the actual instantiations are easier to read:\n"
      ]
    },
    {
      "cell_type": "code",
      "execution_count": null,
      "metadata": {
        "tags": [
          "284"
        ]
      },
      "outputs": [],
      "source": [
        "def pretty_invariants(invariants: Invariants) -> List[str]:\n",
        "    props = []\n",
        "    for (prop, var_names) in invariants:\n",
        "        props.append(instantiate_prop(prop, var_names))\n",
        "    return sorted(props)"
      ]
    },
    {
      "cell_type": "code",
      "execution_count": null,
      "metadata": {
        "tags": [
          "285"
        ]
      },
      "outputs": [],
      "source": [
        "pretty_invariants(invs)"
      ]
    },
    {
      "cell_type": "markdown",
      "metadata": {
        "tags": [
          "286"
        ]
      },
      "source": [
        "We see that the both `x` and the return value have a `float` type.  We also see that both are always greater than zero.  These are properties that may make useful pre- and postconditions, notably for symbolic analysis."
      ]
    },
    {
      "cell_type": "markdown",
      "metadata": {
        "tags": [
          "287"
        ]
      },
      "source": [
        "However, there's also an invariant which does _not_ universally hold, namely `return_value <= x`, as the following example shows:"
      ]
    },
    {
      "cell_type": "code",
      "execution_count": null,
      "metadata": {
        "tags": [
          "288"
        ]
      },
      "outputs": [],
      "source": [
        "square_root(0.01)"
      ]
    },
    {
      "cell_type": "markdown",
      "metadata": {
        "tags": [
          "289"
        ]
      },
      "source": [
        "Clearly, 0.1 > 0.01 holds.  This is a case of us not learning from sufficiently diverse inputs.  As soon as we have a call including `x = 0.1`, though, the invariant `return_value <= x` is eliminated:"
      ]
    },
    {
      "cell_type": "code",
      "execution_count": null,
      "metadata": {
        "tags": [
          "290"
        ]
      },
      "outputs": [],
      "source": [
        "with InvariantTracer() as tracer:\n",
        "    y = square_root(25.0)\n",
        "    y = square_root(10.0)\n",
        "    y = square_root(0.01)\n",
        "\n",
        "pretty_invariants(tracer.invariants('square_root'))"
      ]
    },
    {
      "cell_type": "markdown",
      "metadata": {
        "tags": [
          "291"
        ]
      },
      "source": [
        "We will discuss later how to ensure sufficient diversity in inputs.  (Hint: This involves test generation.)"
      ]
    },
    {
      "cell_type": "markdown",
      "metadata": {
        "tags": [
          "292"
        ]
      },
      "source": [
        "Let us try out our invariant tracer on `sum3()`.  We see that all types are well-defined; the properties that all arguments are non-zero, however, is specific to the calls observed."
      ]
    },
    {
      "cell_type": "code",
      "execution_count": null,
      "metadata": {
        "tags": [
          "293"
        ]
      },
      "outputs": [],
      "source": [
        "with InvariantTracer() as tracer:\n",
        "    y = sum3(1, 2, 3)\n",
        "    y = sum3(-4, -5, -6)\n",
        "\n",
        "pretty_invariants(tracer.invariants('sum3'))"
      ]
    },
    {
      "cell_type": "markdown",
      "metadata": {
        "tags": [
          "294"
        ]
      },
      "source": [
        "If we invoke `sum3()` with strings instead, we get different invariants.  Notably, we obtain the postcondition that the returned string always starts with the string in the first argument `a` \u2013\u00a0a universal postcondition if strings are used."
      ]
    },
    {
      "cell_type": "code",
      "execution_count": null,
      "metadata": {
        "tags": [
          "295"
        ]
      },
      "outputs": [],
      "source": [
        "with InvariantTracer() as tracer:\n",
        "    y = sum3('a', 'b', 'c')\n",
        "    y = sum3('f', 'e', 'd')\n",
        "\n",
        "pretty_invariants(tracer.invariants('sum3'))"
      ]
    },
    {
      "cell_type": "markdown",
      "metadata": {
        "tags": [
          "296"
        ]
      },
      "source": [
        "If we invoke `sum3()` with both strings and numbers (and zeros, too), there are no properties left that would hold across all calls.  That's the price of flexibility."
      ]
    },
    {
      "cell_type": "code",
      "execution_count": null,
      "metadata": {
        "tags": [
          "297"
        ]
      },
      "outputs": [],
      "source": [
        "with InvariantTracer() as tracer:\n",
        "    y = sum3('a', 'b', 'c')\n",
        "    y = sum3('c', 'b', 'a')\n",
        "    y = sum3(-4, -5, -6)\n",
        "    y = sum3(0, 0, 0)\n",
        "\n",
        "pretty_invariants(tracer.invariants('sum3'))"
      ]
    },
    {
      "cell_type": "markdown",
      "metadata": {
        "tags": [
          "298"
        ]
      },
      "source": [
        "### Converting Mined Invariants to Annotations\n",
        "\n",
        "As with types, above, we would like to have some functionality where we can add the mined invariants as annotations to existing functions.  To this end, we introduce the `InvariantAnnotator` class, extending `InvariantTracer`."
      ]
    },
    {
      "cell_type": "markdown",
      "metadata": {
        "tags": [
          "299"
        ]
      },
      "source": [
        "We start with a helper method.  `params()` returns a comma-separated list of parameter names as observed during calls."
      ]
    },
    {
      "cell_type": "code",
      "execution_count": null,
      "metadata": {
        "tags": [
          "300"
        ]
      },
      "outputs": [],
      "source": [
        "class InvariantAnnotator(InvariantTracer):\n",
        "    def params(self, function_name: str) -> str:\n",
        "        arguments, return_value = self.calls(function_name)[0]\n",
        "        return \", \".join(arg_name for (arg_name, arg_value) in arguments)"
      ]
    },
    {
      "cell_type": "code",
      "execution_count": null,
      "metadata": {
        "tags": [
          "301"
        ]
      },
      "outputs": [],
      "source": [
        "with InvariantAnnotator() as annotator:\n",
        "    y = square_root(25.0)\n",
        "    y = sum3(1, 2, 3)"
      ]
    },
    {
      "cell_type": "code",
      "execution_count": null,
      "metadata": {
        "tags": [
          "302"
        ]
      },
      "outputs": [],
      "source": [
        "annotator.params('square_root')"
      ]
    },
    {
      "cell_type": "code",
      "execution_count": null,
      "metadata": {
        "tags": [
          "303"
        ]
      },
      "outputs": [],
      "source": [
        "annotator.params('sum3')"
      ]
    },
    {
      "attachments": {},
      "cell_type": "markdown",
      "metadata": {
        "tags": [
          "304"
        ]
      },
      "source": [
        "Now for the actual annotation.  `preconditions()` returns the preconditions from the mined invariants (i.e., those properties that do not depend on the return value) as a string with annotations:"
      ]
    },
    {
      "cell_type": "code",
      "execution_count": null,
      "metadata": {
        "tags": [
          "305"
        ]
      },
      "outputs": [],
      "source": [
        "class InvariantAnnotator(InvariantAnnotator):\n",
        "    def preconditions(self, function_name: str) -> List[str]:\n",
        "        \"\"\"Return a list of mined preconditions for `function_name`\"\"\"\n",
        "        conditions = []\n",
        "\n",
        "        for inv in pretty_invariants(self.invariants(function_name)):\n",
        "            if inv.find(RETURN_VALUE) >= 0:\n",
        "                continue  # Postcondition\n",
        "\n",
        "            cond = (\"@precondition(lambda \" + self.params(function_name) +\n",
        "                    \": \" + inv + \")\")\n",
        "            conditions.append(cond)\n",
        "\n",
        "        return conditions"
      ]
    },
    {
      "cell_type": "code",
      "execution_count": null,
      "metadata": {
        "tags": [
          "306"
        ]
      },
      "outputs": [],
      "source": [
        "with InvariantAnnotator() as annotator:\n",
        "    y = square_root(25.0)\n",
        "    y = square_root(0.01)\n",
        "    y = sum3(1, 2, 3)"
      ]
    },
    {
      "cell_type": "code",
      "execution_count": null,
      "metadata": {
        "tags": [
          "307"
        ]
      },
      "outputs": [],
      "source": [
        "annotator.preconditions('square_root')"
      ]
    },
    {
      "cell_type": "markdown",
      "metadata": {
        "tags": [
          "308"
        ]
      },
      "source": [
        "`postconditions()` does the same for postconditions:"
      ]
    },
    {
      "cell_type": "code",
      "execution_count": null,
      "metadata": {
        "tags": [
          "309"
        ]
      },
      "outputs": [],
      "source": [
        "class InvariantAnnotator(InvariantAnnotator):\n",
        "    def postconditions(self, function_name: str) -> List[str]:\n",
        "        \"\"\"Return a list of mined postconditions for `function_name`\"\"\"\n",
        "\n",
        "        conditions = []\n",
        "\n",
        "        for inv in pretty_invariants(self.invariants(function_name)):\n",
        "            if inv.find(RETURN_VALUE) < 0:\n",
        "                continue  # Precondition\n",
        "\n",
        "            cond = (f\"@postcondition(lambda {RETURN_VALUE},\"\n",
        "                    f\" {self.params(function_name)}: {inv})\")\n",
        "            conditions.append(cond)\n",
        "\n",
        "        return conditions"
      ]
    },
    {
      "cell_type": "code",
      "execution_count": null,
      "metadata": {
        "tags": [
          "310"
        ]
      },
      "outputs": [],
      "source": [
        "with InvariantAnnotator() as annotator:\n",
        "    y = square_root(25.0)\n",
        "    y = square_root(0.01)\n",
        "    y = sum3(1, 2, 3)"
      ]
    },
    {
      "cell_type": "code",
      "execution_count": null,
      "metadata": {
        "tags": [
          "311"
        ]
      },
      "outputs": [],
      "source": [
        "annotator.postconditions('square_root')"
      ]
    },
    {
      "cell_type": "markdown",
      "metadata": {
        "tags": [
          "312"
        ]
      },
      "source": [
        "With these, we can take a function and add both pre- and postconditions as annotations:"
      ]
    },
    {
      "cell_type": "code",
      "execution_count": null,
      "metadata": {
        "tags": [
          "313"
        ]
      },
      "outputs": [],
      "source": [
        "class InvariantAnnotator(InvariantAnnotator):\n",
        "    def functions_with_invariants(self) -> str:\n",
        "        \"\"\"Return the code of all observed functions, annotated with invariants\"\"\"\n",
        "\n",
        "        functions = \"\"\n",
        "        for function_name in self.all_invariants():\n",
        "            try:\n",
        "                function = self.function_with_invariants(function_name)\n",
        "            except KeyError:\n",
        "                function = '# Could not find function ' + repr(function_name)\n",
        "\n",
        "            functions += function\n",
        "        return functions\n",
        "\n",
        "    def function_with_invariants(self, function_name: str) -> str:\n",
        "        \"\"\"Return the code of `function_name`, annotated with invariants\"\"\"\n",
        "        function = self.search_func(function_name)\n",
        "        if not function:\n",
        "            raise KeyError\n",
        "        source = inspect.getsource(function)\n",
        "        return '\\n'.join(self.preconditions(function_name) +\n",
        "                         self.postconditions(function_name)) + \\\n",
        "            '\\n' + source\n",
        "\n",
        "    def __repr__(self) -> str:\n",
        "        \"\"\"String representation, like `functions_with_invariants()`\"\"\"\n",
        "        return self.functions_with_invariants()"
      ]
    },
    {
      "cell_type": "markdown",
      "metadata": {
        "tags": [
          "314"
        ]
      },
      "source": [
        "Here comes `function_with_invariants()` in all its glory:"
      ]
    },
    {
      "cell_type": "code",
      "execution_count": null,
      "metadata": {
        "tags": [
          "315"
        ]
      },
      "outputs": [],
      "source": [
        "with InvariantAnnotator() as annotator:\n",
        "    y = square_root(25.0)\n",
        "    y = square_root(0.01)\n",
        "    y = sum3(1, 2, 3)"
      ]
    },
    {
      "cell_type": "code",
      "execution_count": null,
      "metadata": {
        "tags": [
          "316"
        ]
      },
      "outputs": [],
      "source": [
        "print_content(annotator.function_with_invariants('square_root'), '.py')"
      ]
    },
    {
      "cell_type": "markdown",
      "metadata": {
        "tags": [
          "317"
        ]
      },
      "source": [
        "Quite a number of invariants, isn't it?  Further below (and in the exercises), we will discuss on how to focus on the most relevant properties."
      ]
    },
    {
      "cell_type": "markdown",
      "metadata": {
        "tags": [
          "318"
        ]
      },
      "source": [
        "## Avoiding Overspecialization\n",
        "\n",
        "Mined specifications can only be as good as the executions they were mined from. If we only see a single call, for instance, we will be faced with several mined pre- and postconditions that _overspecialize_ towards the values seen."
      ]
    },
    {
      "cell_type": "markdown",
      "metadata": {
        "tags": [
          "319"
        ]
      },
      "source": [
        "Let us illustrate this effect on a simple `sum2()` function which adds two numbers."
      ]
    },
    {
      "cell_type": "code",
      "execution_count": null,
      "metadata": {
        "tags": [
          "320"
        ]
      },
      "outputs": [],
      "source": [
        "def sum2(a, b):  # type: ignore\n",
        "    return a + b"
      ]
    },
    {
      "cell_type": "markdown",
      "metadata": {
        "tags": [
          "321"
        ]
      },
      "source": [
        "If we invoke `sum2()` with a variety of arguments, the invariants all capture the relationship between `a`, `b`, and the return value as `return_value == a + b` in all its variations."
      ]
    },
    {
      "cell_type": "code",
      "execution_count": null,
      "metadata": {
        "tags": [
          "322"
        ]
      },
      "outputs": [],
      "source": [
        "with InvariantAnnotator() as annotator:\n",
        "    sum2(31, 45)\n",
        "    sum2(0, 0)\n",
        "    sum2(-1, -5)"
      ]
    },
    {
      "cell_type": "code",
      "execution_count": null,
      "metadata": {
        "tags": [
          "323"
        ]
      },
      "outputs": [],
      "source": [
        "print_content(annotator.functions_with_invariants(), '.py')"
      ]
    },
    {
      "cell_type": "markdown",
      "metadata": {
        "tags": [
          "324"
        ]
      },
      "source": [
        "If, however, we see only a single call, the invariants will overspecialize to the single call seen:"
      ]
    },
    {
      "cell_type": "code",
      "execution_count": null,
      "metadata": {
        "tags": [
          "325"
        ]
      },
      "outputs": [],
      "source": [
        "with InvariantAnnotator() as annotator:\n",
        "    y = sum2(2, 2)\n",
        "print_content(annotator.functions_with_invariants(), '.py')"
      ]
    },
    {
      "cell_type": "markdown",
      "metadata": {
        "tags": [
          "326"
        ]
      },
      "source": [
        "The mined precondition `a == b`, for instance, only holds for the single call observed; the same holds for the mined postcondition `return_value == a * b`.  Yet, `sum2()` can obviously be successfully called with other values that do not satisfy these conditions."
      ]
    },
    {
      "cell_type": "markdown",
      "metadata": {
        "tags": [
          "327"
        ]
      },
      "source": [
        "To get out of this trap, we have to _learn from more and more diverse runs_. \n",
        "One way to obtain such runs is by _generating_ inputs. Indeed, a simple test generator for calls of `sum2()` will easily resolve the problem."
      ]
    },
    {
      "cell_type": "code",
      "execution_count": null,
      "metadata": {
        "tags": [
          "328"
        ]
      },
      "outputs": [],
      "source": [
        "import random"
      ]
    },
    {
      "cell_type": "code",
      "execution_count": null,
      "metadata": {
        "tags": [
          "329"
        ]
      },
      "outputs": [],
      "source": [
        "with InvariantAnnotator() as annotator:\n",
        "    for i in range(100):\n",
        "        a = random.randrange(-10, +10)\n",
        "        b = random.randrange(-10, +10)\n",
        "        length = sum2(a, b)"
      ]
    },
    {
      "cell_type": "code",
      "execution_count": null,
      "metadata": {
        "tags": [
          "330"
        ]
      },
      "outputs": [],
      "source": [
        "print_content(annotator.function_with_invariants('sum2'), '.py')"
      ]
    },
    {
      "cell_type": "markdown",
      "metadata": {
        "tags": [
          "331"
        ]
      },
      "source": [
        "Note, though, that an API test generator, such as above, will have to be set up such that it actually respects preconditions \u2013\u00a0in our case, we invoke `sum2()` with integers only, already assuming its precondition.  In some way, one thus needs a specification (a model, a grammar) to mine another specification \u2013\u00a0a chicken-and-egg problem."
      ]
    },
    {
      "cell_type": "markdown",
      "metadata": {
        "tags": [
          "332"
        ]
      },
      "source": [
        "However, there is one way out of this problem: If one can automatically generate tests at the system level, then one has an _infinite source of executions_ to learn invariants from.  In each of these executions, all functions would be called with values that satisfy the (implicit) precondition, allowing us to mine invariants for these functions.  This holds, because at the system level, invalid inputs must be rejected by the system in the first place.  The meaningful precondition at the system level, ensuring that only valid inputs get through, thus gets broken down into a multitude of meaningful preconditions (and subsequent postconditions) at the function level."
      ]
    },
    {
      "cell_type": "markdown",
      "metadata": {
        "tags": [
          "333"
        ]
      },
      "source": [
        "The big requirement for all this, though, is that one needs good test generators. This will be the subject of another book, namely [The Fuzzing Book](https://www.fuzzingbook.org/)."
      ]
    },
    {
      "cell_type": "markdown",
      "metadata": {
        "tags": [
          "334"
        ]
      },
      "source": [
        "## Partial Invariants\n",
        "\n",
        "For debugging, it can be helpful to focus on invariants produced only by _failing_ runs, thus characterizing the _circumstances under which a function fails_. Let us illustrate this on an example."
      ]
    },
    {
      "cell_type": "markdown",
      "metadata": {
        "tags": [
          "335"
        ]
      },
      "source": [
        "The `middle()` function from the [chapter on statistical debugging](StatisticalDebugger.ipynb) is supposed to return the middle of three integers `x`, `y`, and `z`."
      ]
    },
    {
      "cell_type": "code",
      "execution_count": null,
      "metadata": {
        "tags": [
          "336"
        ]
      },
      "outputs": [],
      "source": [
        "from StatisticalDebugger import middle  # minor dependency"
      ]
    },
    {
      "cell_type": "code",
      "execution_count": null,
      "metadata": {
        "tags": [
          "337"
        ]
      },
      "outputs": [],
      "source": [
        "with InvariantAnnotator() as annotator:\n",
        "    for i in range(100):\n",
        "        x = random.randrange(-10, +10)\n",
        "        y = random.randrange(-10, +10)\n",
        "        z = random.randrange(-10, +10)\n",
        "        mid = middle(x, y, z) "
      ]
    },
    {
      "cell_type": "markdown",
      "metadata": {
        "tags": [
          "338"
        ]
      },
      "source": [
        "By default, our `InvariantAnnotator()` does not return any particular pre- or postcondition (other than the types observed). That is just fine, as the function indeed imposes no particular precondition; and the postcondition from `middle()` is not covered by the `InvariantAnnotator` patterns."
      ]
    },
    {
      "cell_type": "code",
      "execution_count": null,
      "metadata": {
        "tags": [
          "339"
        ]
      },
      "outputs": [],
      "source": [
        "print_content(annotator.functions_with_invariants(), '.py')"
      ]
    },
    {
      "cell_type": "markdown",
      "metadata": {
        "tags": [
          "340"
        ]
      },
      "source": [
        "Things get more interesting if we focus on a particular subset of runs only, though - say, a set of inputs where `middle()` fails."
      ]
    },
    {
      "cell_type": "code",
      "execution_count": null,
      "metadata": {
        "tags": [
          "341"
        ]
      },
      "outputs": [],
      "source": [
        "from StatisticalDebugger import MIDDLE_FAILING_TESTCASES  # minor dependency"
      ]
    },
    {
      "cell_type": "code",
      "execution_count": null,
      "metadata": {
        "tags": [
          "342"
        ]
      },
      "outputs": [],
      "source": [
        "with InvariantAnnotator() as annotator:\n",
        "    for x, y, z in MIDDLE_FAILING_TESTCASES:\n",
        "        mid = middle(x, y, z) "
      ]
    },
    {
      "cell_type": "code",
      "execution_count": null,
      "metadata": {
        "tags": [
          "343"
        ]
      },
      "outputs": [],
      "source": [
        "print_content(annotator.functions_with_invariants(), '.py')"
      ]
    },
    {
      "cell_type": "markdown",
      "metadata": {
        "tags": [
          "344"
        ]
      },
      "source": [
        "Now that's an intimidating set of pre- and postconditions. However, almost all of the preconditions are implied by the one precondition\n",
        "\n",
        "```python\n",
        "@precondition(lambda x, y, z: y < x < z, doc='y < x < z')\n",
        "```\n",
        "\n",
        "which characterizes the exact condition under which `middle()` fails (which also happens to be the condition under which the erroneous second `return y` is executed). By checking how _invariants for failing runs_ differ from _invariants for passing runs_, we can identify circumstances for function failures."
      ]
    },
    {
      "cell_type": "code",
      "execution_count": null,
      "metadata": {
        "tags": [
          "345"
        ]
      },
      "outputs": [],
      "source": [
        "quiz(\"Could `InvariantAnnotator` also determine a precondition \"\n",
        "     \"that characterizes _passing_ runs?\",\n",
        "     [\n",
        "         \"Yes\",\n",
        "         \"No\"\n",
        "     ], 'int(math.exp(1))', globals())"
      ]
    },
    {
      "cell_type": "markdown",
      "metadata": {
        "tags": [
          "346"
        ]
      },
      "source": [
        "Indeed, it cannot \u2013\u00a0the correct invariant for passing runs would be the _inverse_ of the invariant for failing runs, and `not A < B < C` is not part of our invariant library. We can easily test this:"
      ]
    },
    {
      "cell_type": "code",
      "execution_count": null,
      "metadata": {
        "tags": [
          "347"
        ]
      },
      "outputs": [],
      "source": [
        "from StatisticalDebugger import MIDDLE_PASSING_TESTCASES  # minor dependency"
      ]
    },
    {
      "cell_type": "code",
      "execution_count": null,
      "metadata": {
        "tags": [
          "348"
        ]
      },
      "outputs": [],
      "source": [
        "with InvariantAnnotator() as annotator:\n",
        "    for x, y, z in MIDDLE_PASSING_TESTCASES:\n",
        "        mid = middle(x, y, z) "
      ]
    },
    {
      "cell_type": "code",
      "execution_count": null,
      "metadata": {
        "tags": [
          "349"
        ]
      },
      "outputs": [],
      "source": [
        "print_content(annotator.functions_with_invariants(), '.py')"
      ]
    },
    {
      "cell_type": "markdown",
      "metadata": {
        "tags": [
          "350"
        ]
      },
      "source": [
        "## Some Examples\n",
        "\n",
        "Let us try out the `InvariantAnnotator` on a number of examples."
      ]
    },
    {
      "cell_type": "markdown",
      "metadata": {
        "tags": [
          "351"
        ]
      },
      "source": [
        "### Removing HTML Markup\n",
        "\n",
        "Running `InvariantAnnotator` on our ongoing example `remove_html_markup()` does not provide much, as our invariant properties are tailored towards numerical functions."
      ]
    },
    {
      "cell_type": "code",
      "execution_count": null,
      "metadata": {
        "tags": [
          "352"
        ]
      },
      "outputs": [],
      "source": [
        "from Intro_Debugging import remove_html_markup"
      ]
    },
    {
      "cell_type": "code",
      "execution_count": null,
      "metadata": {
        "tags": [
          "353"
        ]
      },
      "outputs": [],
      "source": [
        "with InvariantAnnotator() as annotator:\n",
        "    remove_html_markup(\"<foo>bar</foo>\")\n",
        "    remove_html_markup(\"bar\")\n",
        "    remove_html_markup('\"bar\"')"
      ]
    },
    {
      "cell_type": "code",
      "execution_count": null,
      "metadata": {
        "tags": [
          "354"
        ]
      },
      "outputs": [],
      "source": [
        "print_content(annotator.functions_with_invariants(), '.py')"
      ]
    },
    {
      "cell_type": "markdown",
      "metadata": {
        "tags": [
          "355"
        ]
      },
      "source": [
        "In the [chapter on DDSet](DDSetDebugger.ipynb), we will see how to express more complex properties for structured inputs."
      ]
    },
    {
      "cell_type": "markdown",
      "metadata": {
        "tags": [
          "356"
        ]
      },
      "source": [
        "### A Recursive Function\n",
        "\n",
        "Here's another example.  `list_length()` recursively computes the length of a Python function.  Let us see whether we can mine its invariants:"
      ]
    },
    {
      "cell_type": "code",
      "execution_count": null,
      "metadata": {
        "tags": [
          "357"
        ]
      },
      "outputs": [],
      "source": [
        "def list_length(elems: List[Any]) -> int:\n",
        "    if elems == []:\n",
        "        length = 0\n",
        "    else:\n",
        "        length = 1 + list_length(elems[1:])\n",
        "    return length"
      ]
    },
    {
      "cell_type": "code",
      "execution_count": null,
      "metadata": {
        "tags": [
          "358"
        ]
      },
      "outputs": [],
      "source": [
        "with InvariantAnnotator() as annotator:\n",
        "    length = list_length([1, 2, 3])\n",
        "\n",
        "print_content(annotator.functions_with_invariants(), '.py')"
      ]
    },
    {
      "cell_type": "markdown",
      "metadata": {
        "tags": [
          "359"
        ]
      },
      "source": [
        "Almost all these properties are relevant.  Of course, the reason the invariants are so neat is that the return value is equal to `len(elems)` is that `X == len(Y)` is part of the list of properties to be checked."
      ]
    },
    {
      "attachments": {},
      "cell_type": "markdown",
      "metadata": {
        "tags": [
          "360"
        ]
      },
      "source": [
        "### Sum of two Numbers\n",
        "\n",
        "The next example is a very simple function: If we have a function without return value, the return value is `None`, and we can only mine preconditions.  (Well, we get a \"postcondition\" `not return_value` that the return value evaluates to False, which holds for `None`)."
      ]
    },
    {
      "cell_type": "code",
      "execution_count": null,
      "metadata": {
        "tags": [
          "361"
        ]
      },
      "outputs": [],
      "source": [
        "def print_sum(a, b):  # type: ignore\n",
        "    print(a + b)"
      ]
    },
    {
      "cell_type": "code",
      "execution_count": null,
      "metadata": {
        "tags": [
          "362"
        ]
      },
      "outputs": [],
      "source": [
        "with InvariantAnnotator() as annotator:\n",
        "    print_sum(31, 45)\n",
        "    print_sum(0, 0)\n",
        "    print_sum(-1, -5)"
      ]
    },
    {
      "cell_type": "code",
      "execution_count": null,
      "metadata": {
        "tags": [
          "363"
        ]
      },
      "outputs": [],
      "source": [
        "print_content(annotator.functions_with_invariants(), '.py')"
      ]
    },
    {
      "cell_type": "markdown",
      "metadata": {
        "tags": [
          "364"
        ]
      },
      "source": [
        "## Checking Specifications\n",
        "\n",
        "A function with invariants, as above, can be fed into the Python interpreter, such that all pre- and postconditions are checked.  We create a function `square_root_annotated()` which includes all the invariants mined above."
      ]
    },
    {
      "cell_type": "code",
      "execution_count": null,
      "metadata": {
        "tags": [
          "365"
        ]
      },
      "outputs": [],
      "source": [
        "with InvariantAnnotator() as annotator:\n",
        "    y = square_root(25.0)\n",
        "    y = square_root(0.01)"
      ]
    },
    {
      "cell_type": "code",
      "execution_count": null,
      "metadata": {
        "tags": [
          "366"
        ]
      },
      "outputs": [],
      "source": [
        "square_root_def = annotator.functions_with_invariants()\n",
        "square_root_def = square_root_def.replace('square_root',\n",
        "                                          'square_root_annotated')"
      ]
    },
    {
      "cell_type": "code",
      "execution_count": null,
      "metadata": {
        "tags": [
          "367"
        ]
      },
      "outputs": [],
      "source": [
        "print_content(square_root_def, '.py')"
      ]
    },
    {
      "cell_type": "code",
      "execution_count": null,
      "metadata": {
        "tags": [
          "368"
        ]
      },
      "outputs": [],
      "source": [
        "exec(square_root_def)"
      ]
    },
    {
      "cell_type": "markdown",
      "metadata": {
        "tags": [
          "369"
        ]
      },
      "source": [
        "The \"annotated\" version checks against invalid arguments \u2013\u00a0or more precisely, against arguments with properties that have not been observed yet:"
      ]
    },
    {
      "cell_type": "code",
      "execution_count": null,
      "metadata": {
        "tags": [
          "370"
        ]
      },
      "outputs": [],
      "source": [
        "with ExpectError():\n",
        "    square_root_annotated(-1.0)  # type: ignore"
      ]
    },
    {
      "cell_type": "markdown",
      "metadata": {
        "tags": [
          "371"
        ]
      },
      "source": [
        "This is in contrast to the original version, which just hangs on negative values:"
      ]
    },
    {
      "cell_type": "code",
      "execution_count": null,
      "metadata": {
        "tags": [
          "372"
        ]
      },
      "outputs": [],
      "source": [
        "with ExpectTimeout(1):\n",
        "    square_root(-1.0)"
      ]
    },
    {
      "cell_type": "markdown",
      "metadata": {
        "tags": [
          "373"
        ]
      },
      "source": [
        "If we make changes to the function definition such that the properties of the return value change, such _regressions_ are caught as violations of the postconditions.  Let us illustrate this by simply inverting the result, and return $-2$ as square root of 4."
      ]
    },
    {
      "cell_type": "code",
      "execution_count": null,
      "metadata": {
        "tags": [
          "374"
        ]
      },
      "outputs": [],
      "source": [
        "square_root_def = square_root_def.replace('square_root_annotated',\n",
        "                                          'square_root_negative')\n",
        "square_root_def = square_root_def.replace('return approx',\n",
        "                                          'return -approx')"
      ]
    },
    {
      "cell_type": "code",
      "execution_count": null,
      "metadata": {
        "tags": [
          "375"
        ]
      },
      "outputs": [],
      "source": [
        "print_content(square_root_def, '.py')"
      ]
    },
    {
      "cell_type": "code",
      "execution_count": null,
      "metadata": {
        "tags": [
          "376"
        ]
      },
      "outputs": [],
      "source": [
        "exec(square_root_def)"
      ]
    },
    {
      "cell_type": "markdown",
      "metadata": {
        "tags": [
          "377"
        ]
      },
      "source": [
        "Technically speaking, $-2$ _is_ a square root of 4, since $(-2)^2 = 4$ holds.  Yet, such a change may be unexpected by callers of `square_root()`, and hence, this would be caught with the first call:"
      ]
    },
    {
      "cell_type": "code",
      "execution_count": null,
      "metadata": {
        "tags": [
          "378"
        ]
      },
      "outputs": [],
      "source": [
        "with ExpectError():\n",
        "    square_root_negative(2.0)  # type: ignore"
      ]
    },
    {
      "cell_type": "markdown",
      "metadata": {
        "tags": [
          "379"
        ]
      },
      "source": [
        "We see how pre- and postconditions, as well as types, can serve as *oracles* during testing.  In particular, once we have mined them for a set of functions, we can check them again and again with test generators \u2013\u00a0especially after code changes.  The more checks we have, and the more specific they are, the more likely it is we can detect unwanted effects of changes."
      ]
    },
    {
      "cell_type": "markdown",
      "metadata": {
        "tags": [
          "380"
        ]
      },
      "source": [
        "## Synopsis\n",
        "\n",
        "This chapter provides two classes that automatically extract specifications from a function and a set of inputs:\n",
        "\n",
        "* `TypeAnnotator` for _types_, and\n",
        "* `InvariantAnnotator` for _pre-_ and _postconditions_.\n",
        "\n",
        "Both work by _observing_ a function and its invocations within a `with` clause.  Here is an example for the type annotator:"
      ]
    },
    {
      "cell_type": "code",
      "execution_count": null,
      "metadata": {
        "tags": [
          "381"
        ]
      },
      "outputs": [],
      "source": [
        "def sum2(a, b):  # type: ignore\n",
        "    return a + b"
      ]
    },
    {
      "cell_type": "code",
      "execution_count": null,
      "metadata": {
        "tags": [
          "382"
        ]
      },
      "outputs": [],
      "source": [
        "with TypeAnnotator() as type_annotator:\n",
        "    sum2(1, 2)\n",
        "    sum2(-4, -5)\n",
        "    sum2(0, 0)"
      ]
    },
    {
      "cell_type": "markdown",
      "metadata": {
        "tags": [
          "383"
        ]
      },
      "source": [
        "The `typed_functions()` method will return a representation of `sum2()` annotated with types observed during execution."
      ]
    },
    {
      "cell_type": "code",
      "execution_count": null,
      "metadata": {
        "tags": [
          "384"
        ]
      },
      "outputs": [],
      "source": [
        "print(type_annotator.typed_functions())"
      ]
    },
    {
      "cell_type": "markdown",
      "metadata": {
        "tags": [
          "385"
        ]
      },
      "source": [
        "As a shortcut, one can also just evaluate the annotator:"
      ]
    },
    {
      "cell_type": "code",
      "execution_count": null,
      "metadata": {
        "tags": [
          "386"
        ]
      },
      "outputs": [],
      "source": [
        "type_annotator"
      ]
    },
    {
      "attachments": {},
      "cell_type": "markdown",
      "metadata": {
        "tags": [
          "387"
        ]
      },
      "source": [
        "The invariant annotator works similarly:"
      ]
    },
    {
      "cell_type": "code",
      "execution_count": null,
      "metadata": {
        "tags": [
          "388"
        ]
      },
      "outputs": [],
      "source": [
        "with InvariantAnnotator() as inv_annotator:\n",
        "    sum2(1, 2)\n",
        "    sum2(-4, -5)\n",
        "    sum2(0, 0)"
      ]
    },
    {
      "cell_type": "markdown",
      "metadata": {
        "tags": [
          "389"
        ]
      },
      "source": [
        "The `functions_with_invariants()` method will return a representation of `sum2()` annotated with inferred pre- and postconditions that all hold for the observed values."
      ]
    },
    {
      "cell_type": "code",
      "execution_count": null,
      "metadata": {
        "tags": [
          "390"
        ]
      },
      "outputs": [],
      "source": [
        "print(inv_annotator.functions_with_invariants())"
      ]
    },
    {
      "cell_type": "markdown",
      "metadata": {
        "tags": [
          "391"
        ]
      },
      "source": [
        "Again, a shortcut is available:"
      ]
    },
    {
      "cell_type": "code",
      "execution_count": null,
      "metadata": {
        "tags": [
          "392"
        ]
      },
      "outputs": [],
      "source": [
        "inv_annotator"
      ]
    },
    {
      "cell_type": "markdown",
      "metadata": {
        "tags": [
          "393"
        ]
      },
      "source": [
        "Such type specifications and invariants can be helpful as _oracles_ (to detect deviations from a given set of runs). The chapter gives details on how to customize the properties checked for."
      ]
    },
    {
      "cell_type": "code",
      "execution_count": null,
      "metadata": {
        "tags": [
          "394"
        ]
      },
      "outputs": [],
      "source": [
        "# ignore\n",
        "from ClassDiagram import display_class_hierarchy"
      ]
    },
    {
      "cell_type": "code",
      "execution_count": null,
      "metadata": {
        "tags": [
          "395"
        ]
      },
      "outputs": [],
      "source": [
        "# ignore\n",
        "display_class_hierarchy([TypeAnnotator, InvariantAnnotator],\n",
        "                        public_methods=[\n",
        "                            TypeAnnotator.typed_function,\n",
        "                            TypeAnnotator.typed_functions,\n",
        "                            TypeAnnotator.typed_function_ast,\n",
        "                            TypeAnnotator.typed_functions_ast,\n",
        "                            TypeAnnotator.__repr__,\n",
        "                            InvariantAnnotator.function_with_invariants,\n",
        "                            InvariantAnnotator.functions_with_invariants,\n",
        "                            InvariantAnnotator.preconditions,\n",
        "                            InvariantAnnotator.postconditions,\n",
        "                            InvariantAnnotator.__repr__,\n",
        "                            InvariantTracer.__init__,\n",
        "                            CallTracer.__init__\n",
        "                        ],\n",
        "                        project='debuggingbook'\n",
        "                       )"
      ]
    },
    {
      "cell_type": "markdown",
      "metadata": {
        "button": false,
        "new_sheet": true,
        "run_control": {
          "read_only": false
        },
        "tags": [
          "396"
        ]
      },
      "source": [
        "## Lessons Learned\n",
        "\n",
        "* Type annotations and explicit invariants allow for _checking_ arguments and results for expected data types and other properties.\n",
        "* One can automatically _mine_ data types and invariants by observing arguments and results at runtime.\n",
        "* The quality of mined invariants depends on the diversity of values observed during executions; this variety can be increased by generating tests."
      ]
    },
    {
      "cell_type": "markdown",
      "metadata": {
        "button": false,
        "new_sheet": false,
        "run_control": {
          "read_only": false
        },
        "tags": [
          "397"
        ]
      },
      "source": [
        "## Next Steps\n",
        "\n",
        "In the next chapter, we will explore [abstracting failure conditions](DDSetDebugger.ipynb)."
      ]
    },
    {
      "cell_type": "markdown",
      "metadata": {
        "tags": [
          "398"
        ]
      },
      "source": [
        "## Background\n",
        "\n",
        "The [DAIKON dynamic invariant detector](https://plse.cs.washington.edu/daikon/) can be considered the mother of function specification miners.  Continuously maintained and extended for more than 20 years, it mines likely invariants in the style of this chapter for a variety of languages, including C, C++, C#, Eiffel, F#, Java, Perl, and Visual Basic.  On top of the functionality discussed above, it holds a rich catalog of patterns for likely invariants, supports data invariants, can eliminate invariants that are implied by others, and determines statistical confidence to disregard unlikely invariants.  The corresponding paper \\cite{Ernst2001} is one of the seminal and most-cited papers of Software Engineering.  A multitude of works have been published based on DAIKON and detecting invariants; see this [curated list](http://plse.cs.washington.edu/daikon/pubs/) for details."
      ]
    },
    {
      "cell_type": "markdown",
      "metadata": {
        "tags": [
          "399"
        ]
      },
      "source": [
        "The interaction between test generators and invariant detection is already discussed in \\cite{Ernst2001} (incidentally also using grammars).  The Eclat tool \\cite{Pacheco2005} is a model example of tight interaction between a unit-level test generator and DAIKON-style invariant mining, where the mined invariants are used to produce oracles and to systematically guide the test generator towards fault-revealing inputs."
      ]
    },
    {
      "attachments": {},
      "cell_type": "markdown",
      "metadata": {
        "tags": [
          "400"
        ]
      },
      "source": [
        "Mining specifications is not restricted to pre- and postconditions.  The paper \"Mining Specifications\" \\cite{Ammons2002} is another classic in the field, learning state protocols from executions.  Grammar mining \\cite{Gopinath2020} can also be seen as a specification mining approach, this time learning specifications for input formats."
      ]
    },
    {
      "cell_type": "markdown",
      "metadata": {
        "tags": [
          "401"
        ]
      },
      "source": [
        "As it comes to adding type annotations to existing code, the blog post [\"The state of type hints in Python\"](https://www.bernat.tech/the-state-of-type-hints-in-python/) gives a great overview on how Python type hints can be used and checked.  To add type annotations, there are two important tools available that also implement our above approach:\n",
        "\n",
        "* [MonkeyType](https://instagram-engineering.com/let-your-code-type-hint-itself-introducing-open-source-monkeytype-a855c7284881) implements the above approach of tracing executions and annotating Python 3 arguments, returns, and variables with type hints.\n",
        "* [PyAnnotate](https://github.com/dropbox/pyannotate) does a similar job, focusing on code in Python 2.  It does not produce Python 3-style annotations, but instead produces annotations as comments that can be processed by static type checkers.\n",
        "\n",
        "These tools have been created by engineers at Facebook and Dropbox, respectively, assisting them in checking millions of lines of code for type issues."
      ]
    },
    {
      "cell_type": "markdown",
      "metadata": {
        "button": false,
        "new_sheet": true,
        "run_control": {
          "read_only": false
        },
        "tags": [
          "402"
        ]
      },
      "source": [
        "## Exercises\n",
        "\n",
        "Our code for mining types and invariants is in no way complete.  There are dozens of ways to extend our implementations, some of which we discuss in exercises."
      ]
    },
    {
      "cell_type": "markdown",
      "metadata": {
        "button": false,
        "new_sheet": true,
        "run_control": {
          "read_only": false
        },
        "tags": [
          "403"
        ]
      },
      "source": [
        "### Exercise 1: Union Types\n",
        "\n",
        "The Python `typing` module allows expressing that an argument can have multiple types.  For `square_root(x)`, this allows expressing that `x` can be an `int` or a `float`:"
      ]
    },
    {
      "cell_type": "code",
      "execution_count": null,
      "metadata": {
        "tags": [
          "404"
        ]
      },
      "outputs": [],
      "source": [
        "def square_root_with_union_type(x: Union[int, float]) -> float:  # type: ignore\n",
        "    ..."
      ]
    },
    {
      "cell_type": "markdown",
      "metadata": {
        "solution2": "hidden",
        "solution2_first": true,
        "tags": [
          "405"
        ]
      },
      "source": [
        "Extend the `TypeAnnotator` such that it supports union types for arguments and return values.  Use `Optional[X]` as a shorthand for `Union[X, None]`."
      ]
    },
    {
      "cell_type": "markdown",
      "metadata": {
        "slideshow": {
          "slide_type": "skip"
        },
        "solution2": "hidden",
        "tags": [
          "406"
        ]
      },
      "source": [
        "**Solution.** Left to the reader. Hint: extend `type_string()`."
      ]
    },
    {
      "cell_type": "markdown",
      "metadata": {
        "tags": [
          "407"
        ]
      },
      "source": [
        "### Exercise 2: Types for Local Variables\n",
        "\n",
        "In Python, one cannot only annotate arguments with types, but actually also local and global variables \u2013 for instance, `approx` and `guess` in our `square_root()` implementation:"
      ]
    },
    {
      "cell_type": "code",
      "execution_count": null,
      "metadata": {
        "button": false,
        "new_sheet": false,
        "run_control": {
          "read_only": false
        },
        "slideshow": {
          "slide_type": "fragment"
        },
        "tags": [
          "408"
        ]
      },
      "outputs": [],
      "source": [
        "def square_root_with_local_types(x: Union[int, float]) -> float:\n",
        "    \"\"\"Computes the square root of x, using the Newton-Raphson method\"\"\"\n",
        "    approx: Optional[float] = None\n",
        "    guess: float = x / 2\n",
        "    while approx != guess:\n",
        "        approx: float = guess  # type: ignore\n",
        "        guess: float = (approx + x / approx) / 2  # type: ignore\n",
        "    return approx"
      ]
    },
    {
      "attachments": {},
      "cell_type": "markdown",
      "metadata": {
        "solution2": "hidden",
        "solution2_first": true,
        "tags": [
          "409"
        ]
      },
      "source": [
        "Extend the `TypeAnnotator` such that it also annotates local variables with types.  Search the function AST for assignments, determine the type of the assigned value, and make it an annotation on the left-hand side."
      ]
    },
    {
      "cell_type": "markdown",
      "metadata": {
        "slideshow": {
          "slide_type": "skip"
        },
        "solution2": "hidden",
        "tags": [
          "410"
        ]
      },
      "source": [
        "**Solution.** Left to the reader."
      ]
    },
    {
      "cell_type": "markdown",
      "metadata": {
        "tags": [
          "411"
        ]
      },
      "source": [
        "### Exercise 3: Verbose Invariant Checkers\n",
        "\n",
        "Our implementation of invariant checkers does not make it clear for the user which pre-/postcondition failed."
      ]
    },
    {
      "cell_type": "code",
      "execution_count": null,
      "metadata": {
        "tags": [
          "412"
        ]
      },
      "outputs": [],
      "source": [
        "@precondition(lambda s: len(s) > 0)\n",
        "def remove_first_char(s: str) -> str:\n",
        "    return s[1:]"
      ]
    },
    {
      "cell_type": "code",
      "execution_count": null,
      "metadata": {
        "tags": [
          "413"
        ]
      },
      "outputs": [],
      "source": [
        "with ExpectError():\n",
        "    remove_first_char('')"
      ]
    },
    {
      "cell_type": "markdown",
      "metadata": {
        "tags": [
          "414"
        ]
      },
      "source": [
        "The following implementation adds an optional `doc` keyword argument which is printed if the invariant is violated:"
      ]
    },
    {
      "cell_type": "code",
      "execution_count": null,
      "metadata": {
        "tags": [
          "415"
        ]
      },
      "outputs": [],
      "source": [
        "def verbose_condition(precondition: Optional[Callable] = None,\n",
        "                      postcondition: Optional[Callable] = None,\n",
        "                      doc: str = 'Unknown') -> Callable:\n",
        "    def decorator(func: Callable) -> Callable:\n",
        "        # Use `functools` to preserve name, docstring, etc\n",
        "        @functools.wraps(func)\n",
        "        def wrapper(*args: Any, **kwargs: Any) -> Any:\n",
        "            if precondition is not None:\n",
        "                assert precondition(*args, **kwargs), \\\n",
        "                    \"Precondition violated: \" + doc\n",
        "\n",
        "            # call original function or method\n",
        "            retval = func(*args, **kwargs)\n",
        "\n",
        "            if postcondition is not None:\n",
        "                assert postcondition(retval, *args, **kwargs), \\\n",
        "                    \"Postcondition violated: \" + doc\n",
        "\n",
        "            return retval\n",
        "\n",
        "        return wrapper\n",
        "    return decorator"
      ]
    },
    {
      "cell_type": "code",
      "execution_count": null,
      "metadata": {
        "tags": [
          "416"
        ]
      },
      "outputs": [],
      "source": [
        "def verbose_precondition(check: Callable, **kwargs: Any) -> Callable:\n",
        "    return verbose_condition(precondition=check,\n",
        "                             doc=kwargs.get('doc', 'Unknown'))"
      ]
    },
    {
      "cell_type": "code",
      "execution_count": null,
      "metadata": {
        "tags": [
          "417"
        ]
      },
      "outputs": [],
      "source": [
        "def verbose_postcondition(check: Callable, **kwargs: Any) -> Callable:\n",
        "    return verbose_condition(postcondition=check,\n",
        "                             doc=kwargs.get('doc', 'Unknown'))"
      ]
    },
    {
      "cell_type": "code",
      "execution_count": null,
      "metadata": {
        "tags": [
          "418"
        ]
      },
      "outputs": [],
      "source": [
        "@verbose_precondition(lambda s: len(s) > 0, doc=\"len(s) > 0\")    # type: ignore\n",
        "def remove_first_char(s: str) -> str:\n",
        "    return s[1:]"
      ]
    },
    {
      "cell_type": "code",
      "execution_count": null,
      "metadata": {
        "tags": [
          "419"
        ]
      },
      "outputs": [],
      "source": [
        "remove_first_char('abc')"
      ]
    },
    {
      "cell_type": "code",
      "execution_count": null,
      "metadata": {
        "tags": [
          "420"
        ]
      },
      "outputs": [],
      "source": [
        "with ExpectError():\n",
        "    remove_first_char('')"
      ]
    },
    {
      "cell_type": "markdown",
      "metadata": {
        "solution2": "hidden",
        "solution2_first": true,
        "tags": [
          "421"
        ]
      },
      "source": [
        "Extend `InvariantAnnotator` into a `VerboseInvariantAnnotator` class that includes the conditions in the generated pre- and postconditions."
      ]
    },
    {
      "cell_type": "markdown",
      "metadata": {
        "slideshow": {
          "slide_type": "skip"
        },
        "solution2": "hidden",
        "tags": [
          "422"
        ]
      },
      "source": [
        "**Solution.** Here's a simple solution:"
      ]
    },
    {
      "cell_type": "code",
      "execution_count": null,
      "metadata": {
        "slideshow": {
          "slide_type": "skip"
        },
        "solution2": "hidden",
        "tags": [
          "423"
        ]
      },
      "outputs": [],
      "source": [
        "class VerboseInvariantAnnotator(InvariantAnnotator):\n",
        "    def preconditions(self, function_name: str) -> List[str]:\n",
        "        conditions = []\n",
        "\n",
        "        for inv in pretty_invariants(self.invariants(function_name)):\n",
        "            if inv.find(RETURN_VALUE) >= 0:\n",
        "                continue  # Postcondition\n",
        "\n",
        "            cond = (\"@verbose_precondition(lambda \" +\n",
        "                    self.params(function_name) + \": \" +\n",
        "                    inv + ', doc=' + repr(inv) + \")\")\n",
        "            conditions.append(cond)\n",
        "\n",
        "        return conditions"
      ]
    },
    {
      "cell_type": "code",
      "execution_count": null,
      "metadata": {
        "slideshow": {
          "slide_type": "skip"
        },
        "solution2": "hidden",
        "tags": [
          "424"
        ]
      },
      "outputs": [],
      "source": [
        "class VerboseInvariantAnnotator(VerboseInvariantAnnotator):\n",
        "    def postconditions(self, function_name: str) -> List[str]:\n",
        "        conditions = []\n",
        "\n",
        "        for inv in pretty_invariants(self.invariants(function_name)):\n",
        "            if inv.find(RETURN_VALUE) < 0:\n",
        "                continue  # Precondition\n",
        "\n",
        "            cond = (\"@verbose_postcondition(lambda \" +\n",
        "                    RETURN_VALUE + \", \" +\n",
        "                    self.params(function_name) + \": \" +\n",
        "                    inv + ', doc=' + repr(inv) + \")\")\n",
        "            conditions.append(cond)\n",
        "\n",
        "        return conditions"
      ]
    },
    {
      "cell_type": "markdown",
      "metadata": {
        "slideshow": {
          "slide_type": "skip"
        },
        "solution2": "hidden",
        "tags": [
          "425"
        ]
      },
      "source": [
        "The resulting annotations are harder to read, but easier to diagnose:"
      ]
    },
    {
      "cell_type": "code",
      "execution_count": null,
      "metadata": {
        "slideshow": {
          "slide_type": "skip"
        },
        "solution2": "hidden",
        "tags": [
          "426"
        ]
      },
      "outputs": [],
      "source": [
        "with VerboseInvariantAnnotator() as annotator:\n",
        "    y = sum2(2, 2)\n",
        "print_content(annotator.functions_with_invariants(), '.py')"
      ]
    },
    {
      "cell_type": "markdown",
      "metadata": {
        "slideshow": {
          "slide_type": "skip"
        },
        "solution2": "hidden",
        "tags": [
          "427"
        ]
      },
      "source": [
        "As an alternative, one may be able to use `inspect.getsource()` on the lambda expression or unparse it.  This is left to the reader."
      ]
    },
    {
      "attachments": {},
      "cell_type": "markdown",
      "metadata": {
        "solution2": "hidden",
        "solution2_first": true,
        "tags": [
          "428"
        ]
      },
      "source": [
        "### Exercise 4: Save Initial Values\n",
        "\n",
        "If the value of an argument changes during function execution, this can easily confuse our implementation: The values are tracked at the beginning of the function, but checked only when it returns.  Extend the `InvariantAnnotator` and the infrastructure it uses such that\n",
        "\n",
        "* it saves argument values both at the beginning and at the end of a function invocation;\n",
        "* postconditions can be expressed over both _initial_ values of arguments and the _final_ values of arguments;\n",
        "* the mined postconditions refer to both these values as well."
      ]
    },
    {
      "cell_type": "markdown",
      "metadata": {
        "button": false,
        "new_sheet": true,
        "run_control": {
          "read_only": false
        },
        "slideshow": {
          "slide_type": "skip"
        },
        "solution2": "hidden",
        "tags": [
          "429"
        ]
      },
      "source": [
        "**Solution.** To be added."
      ]
    },
    {
      "cell_type": "markdown",
      "metadata": {
        "solution2": "hidden",
        "solution2_first": true,
        "tags": [
          "430"
        ]
      },
      "source": [
        "### Exercise 5: Implications\n",
        "\n",
        "Several mined invariant are actually _implied_ by others: If `x > 0` holds, then this implies `x >= 0` and `x != 0`.  Extend the `InvariantAnnotator` such that implications between properties are explicitly encoded, and such that implied properties are no longer listed as invariants.  See \\cite{Ernst2001} for ideas."
      ]
    },
    {
      "cell_type": "markdown",
      "metadata": {
        "slideshow": {
          "slide_type": "skip"
        },
        "solution2": "hidden",
        "tags": [
          "431"
        ]
      },
      "source": [
        "**Solution.** Left to the reader."
      ]
    },
    {
      "cell_type": "markdown",
      "metadata": {
        "solution2": "hidden",
        "solution2_first": true,
        "tags": [
          "432"
        ]
      },
      "source": [
        "### Exercise 6: Local Variables\n",
        "\n",
        "Postconditions may also refer to the values of local variables.  Consider extending `InvariantAnnotator` and its infrastructure such that the values of local variables at the end of the execution are also recorded and made part of the invariant inference mechanism."
      ]
    },
    {
      "cell_type": "markdown",
      "metadata": {
        "slideshow": {
          "slide_type": "skip"
        },
        "solution2": "hidden",
        "tags": [
          "433"
        ]
      },
      "source": [
        "**Solution.** Left to the reader."
      ]
    },
    {
      "cell_type": "markdown",
      "metadata": {
        "button": false,
        "new_sheet": false,
        "run_control": {
          "read_only": false
        },
        "solution": "hidden",
        "solution2": "hidden",
        "solution2_first": true,
        "solution_first": true,
        "tags": [
          "434"
        ]
      },
      "source": [
        "### Exercise 7: Embedding Invariants as Assertions\n",
        "\n",
        "Rather than producing invariants as annotations for pre- and postconditions, insert them as `assert` statements into the function code, as in:\n",
        "\n",
        "```python\n",
        "def square_root(x):\n",
        "    'Computes the square root of x, using the Newton-Raphson method'\n",
        "    assert isinstance(x, int), 'violated precondition'\n",
        "    assert x > 0, 'violated precondition'\n",
        "    approx = None\n",
        "    guess = (x / 2)\n",
        "    while (approx != guess):\n",
        "        approx = guess\n",
        "        guess = ((approx + (x / approx)) / 2)\n",
        "    return_value = approx\n",
        "    assert return_value < x, 'violated postcondition'\n",
        "    assert isinstance(return_value, float), 'violated postcondition'\n",
        "    return approx\n",
        "```\n",
        "\n",
        "Such a formulation may make it easier for test generators and symbolic analysis to access and interpret pre- and postconditions."
      ]
    },
    {
      "cell_type": "markdown",
      "metadata": {
        "button": false,
        "new_sheet": false,
        "run_control": {
          "read_only": false
        },
        "slideshow": {
          "slide_type": "skip"
        },
        "solution": "hidden",
        "solution2": "hidden",
        "tags": [
          "435"
        ]
      },
      "source": [
        "**Solution.** Here is a tentative implementation that inserts invariants into function ASTs."
      ]
    },
    {
      "cell_type": "markdown",
      "metadata": {
        "slideshow": {
          "slide_type": "skip"
        },
        "solution2": "hidden",
        "tags": [
          "436"
        ]
      },
      "source": [
        "Part 1: Embedding Invariants into Functions"
      ]
    },
    {
      "cell_type": "code",
      "execution_count": null,
      "metadata": {
        "slideshow": {
          "slide_type": "skip"
        },
        "solution2": "hidden",
        "tags": [
          "437"
        ]
      },
      "outputs": [],
      "source": [
        "class EmbeddedInvariantAnnotator(InvariantTracer):\n",
        "    def function_with_invariants_ast(self, function_name: str) -> ast.AST:\n",
        "        return annotate_function_with_invariants(function_name, self.invariants(function_name))\n",
        "\n",
        "    def function_with_invariants(self, function_name: str) -> str:\n",
        "        return ast.unparse(self.function_with_invariants_ast(function_name))"
      ]
    },
    {
      "cell_type": "code",
      "execution_count": null,
      "metadata": {
        "slideshow": {
          "slide_type": "skip"
        },
        "solution2": "hidden",
        "tags": [
          "438"
        ]
      },
      "outputs": [],
      "source": [
        "def annotate_invariants(invariants: Dict[str, Invariants]) -> Dict[str, ast.AST]:\n",
        "    annotated_functions = {}\n",
        "\n",
        "    for function_name in invariants:\n",
        "        try:\n",
        "            annotated_functions[function_name] = annotate_function_with_invariants(function_name, invariants[function_name])\n",
        "        except KeyError:\n",
        "            continue\n",
        "\n",
        "    return annotated_functions"
      ]
    },
    {
      "cell_type": "code",
      "execution_count": null,
      "metadata": {
        "slideshow": {
          "slide_type": "skip"
        },
        "solution2": "hidden",
        "tags": [
          "439"
        ]
      },
      "outputs": [],
      "source": [
        "def annotate_function_with_invariants(function_name: str, \n",
        "                                      function_invariants: Invariants) -> ast.AST:\n",
        "    stack_inspector = StackInspector()\n",
        "    function = stack_inspector.search_func(function_name)\n",
        "    if function is None:\n",
        "        raise KeyError\n",
        "\n",
        "    function_code = inspect.getsource(function)\n",
        "    function_ast = ast.parse(function_code)\n",
        "    return annotate_function_ast_with_invariants(function_ast, function_invariants)"
      ]
    },
    {
      "cell_type": "code",
      "execution_count": null,
      "metadata": {
        "slideshow": {
          "slide_type": "skip"
        },
        "solution2": "hidden",
        "tags": [
          "440"
        ]
      },
      "outputs": [],
      "source": [
        "def annotate_function_ast_with_invariants(function_ast: ast.AST,\n",
        "                                          function_invariants: Invariants) -> ast.AST:\n",
        "    annotated_function_ast = EmbeddedInvariantTransformer(function_invariants).visit(function_ast)\n",
        "    return annotated_function_ast"
      ]
    },
    {
      "cell_type": "markdown",
      "metadata": {
        "slideshow": {
          "slide_type": "skip"
        },
        "solution2": "hidden",
        "tags": [
          "441"
        ]
      },
      "source": [
        "Part 2: Preconditions"
      ]
    },
    {
      "cell_type": "code",
      "execution_count": null,
      "metadata": {
        "slideshow": {
          "slide_type": "skip"
        },
        "solution2": "hidden",
        "tags": [
          "442"
        ]
      },
      "outputs": [],
      "source": [
        "class PreconditionTransformer(ast.NodeTransformer):\n",
        "    def __init__(self, invariants: Invariants) -> None:\n",
        "        self.invariants = invariants\n",
        "        super().__init__()\n",
        "\n",
        "    def preconditions(self) -> List[ast.stmt]:\n",
        "        preconditions = []\n",
        "        for (prop, var_names) in self.invariants:\n",
        "            assertion = \"assert \" + instantiate_prop(prop, var_names) + ', \"violated precondition\"'\n",
        "            assertion_ast = ast.parse(assertion)\n",
        "\n",
        "            if assertion.find(RETURN_VALUE) < 0:\n",
        "                preconditions += assertion_ast.body\n",
        "\n",
        "        return preconditions\n",
        "\n",
        "    def insert_assertions(self, body: List[ast.stmt]) -> List[ast.stmt]:\n",
        "        preconditions = self.preconditions()\n",
        "        try:\n",
        "            docstring = cast(ast.Constant, body[0]).value.s\n",
        "        except:\n",
        "            docstring = None\n",
        "\n",
        "        if docstring:\n",
        "            return [body[0]] + preconditions + body[1:]\n",
        "        else:\n",
        "            return preconditions + body\n",
        "\n",
        "    def visit_FunctionDef(self, node: ast.FunctionDef) -> ast.FunctionDef:\n",
        "        \"\"\"Add invariants to function\"\"\"\n",
        "        # print(ast.dump(node))\n",
        "        node.body = self.insert_assertions(node.body)\n",
        "        return node    "
      ]
    },
    {
      "cell_type": "code",
      "execution_count": null,
      "metadata": {
        "slideshow": {
          "slide_type": "skip"
        },
        "solution2": "hidden",
        "tags": [
          "443"
        ]
      },
      "outputs": [],
      "source": [
        "class EmbeddedInvariantTransformer(PreconditionTransformer):\n",
        "    pass"
      ]
    },
    {
      "cell_type": "code",
      "execution_count": null,
      "metadata": {
        "slideshow": {
          "slide_type": "skip"
        },
        "solution2": "hidden",
        "tags": [
          "444"
        ]
      },
      "outputs": [],
      "source": [
        "with EmbeddedInvariantAnnotator() as annotator:\n",
        "    square_root(5)"
      ]
    },
    {
      "cell_type": "code",
      "execution_count": null,
      "metadata": {
        "slideshow": {
          "slide_type": "skip"
        },
        "solution2": "hidden",
        "tags": [
          "445"
        ]
      },
      "outputs": [],
      "source": [
        "print_content(annotator.function_with_invariants('square_root'), '.py')"
      ]
    },
    {
      "cell_type": "code",
      "execution_count": null,
      "metadata": {
        "slideshow": {
          "slide_type": "skip"
        },
        "solution2": "hidden",
        "tags": [
          "446"
        ]
      },
      "outputs": [],
      "source": [
        "with EmbeddedInvariantAnnotator() as annotator:\n",
        "    y = sum3(3, 4, 5)\n",
        "    y = sum3(-3, -4, -5)\n",
        "    y = sum3(0, 0, 0)"
      ]
    },
    {
      "cell_type": "code",
      "execution_count": null,
      "metadata": {
        "slideshow": {
          "slide_type": "skip"
        },
        "solution2": "hidden",
        "tags": [
          "447"
        ]
      },
      "outputs": [],
      "source": [
        "print_content(annotator.function_with_invariants('sum3'), '.py')"
      ]
    },
    {
      "cell_type": "markdown",
      "metadata": {
        "slideshow": {
          "slide_type": "skip"
        },
        "solution2": "hidden",
        "tags": [
          "448"
        ]
      },
      "source": [
        "Part 3: Postconditions\n",
        "\n",
        "We make a few simplifying assumptions: \n",
        "\n",
        "* Variables do not change during execution.\n",
        "* There is a single `return` statement at the end of the function."
      ]
    },
    {
      "cell_type": "code",
      "execution_count": null,
      "metadata": {
        "slideshow": {
          "slide_type": "skip"
        },
        "solution2": "hidden",
        "tags": [
          "449"
        ]
      },
      "outputs": [],
      "source": [
        "class EmbeddedInvariantTransformer(EmbeddedInvariantTransformer):\n",
        "    def postconditions(self) -> List[ast.stmt]:\n",
        "        postconditions = []\n",
        "\n",
        "        for (prop, var_names) in self.invariants:\n",
        "            assertion = (\"assert \" + instantiate_prop(prop, var_names) +\n",
        "                         ', \"violated postcondition\"')\n",
        "            assertion_ast = ast.parse(assertion)\n",
        "\n",
        "            if assertion.find(RETURN_VALUE) >= 0:\n",
        "                postconditions += assertion_ast.body\n",
        "\n",
        "        return postconditions\n",
        "\n",
        "    def insert_assertions(self, body: List[ast.stmt]) -> List[ast.stmt]:\n",
        "        new_body = super().insert_assertions(body)\n",
        "        postconditions = self.postconditions()\n",
        "\n",
        "        body_ends_with_return = isinstance(new_body[-1], ast.Return)\n",
        "        if body_ends_with_return:\n",
        "            ret_val = cast(ast.Return, new_body[-1]).value\n",
        "            saver = RETURN_VALUE + \" = \" + ast.unparse(cast(ast.AST, ret_val))\n",
        "        else:\n",
        "            saver = RETURN_VALUE + \" = None\"\n",
        "\n",
        "        saver_ast = cast(ast.stmt, ast.parse(saver))\n",
        "        postconditions = [saver_ast] + postconditions\n",
        "\n",
        "        if body_ends_with_return:\n",
        "            return new_body[:-1] + postconditions + [new_body[-1]]\n",
        "        else:\n",
        "            return new_body + postconditions"
      ]
    },
    {
      "cell_type": "code",
      "execution_count": null,
      "metadata": {
        "slideshow": {
          "slide_type": "skip"
        },
        "solution2": "hidden",
        "tags": [
          "450"
        ]
      },
      "outputs": [],
      "source": [
        "with EmbeddedInvariantAnnotator() as annotator:\n",
        "    square_root(5)"
      ]
    },
    {
      "cell_type": "code",
      "execution_count": null,
      "metadata": {
        "slideshow": {
          "slide_type": "skip"
        },
        "solution2": "hidden",
        "tags": [
          "451"
        ]
      },
      "outputs": [],
      "source": [
        "square_root_def = annotator.function_with_invariants('square_root')"
      ]
    },
    {
      "cell_type": "markdown",
      "metadata": {
        "slideshow": {
          "slide_type": "skip"
        },
        "solution2": "hidden",
        "tags": [
          "452"
        ]
      },
      "source": [
        "Here's the full definition with included assertions:"
      ]
    },
    {
      "cell_type": "code",
      "execution_count": null,
      "metadata": {
        "slideshow": {
          "slide_type": "skip"
        },
        "solution2": "hidden",
        "tags": [
          "453"
        ]
      },
      "outputs": [],
      "source": [
        "print_content(square_root_def, '.py')"
      ]
    },
    {
      "cell_type": "code",
      "execution_count": null,
      "metadata": {
        "slideshow": {
          "slide_type": "skip"
        },
        "solution2": "hidden",
        "tags": [
          "454"
        ]
      },
      "outputs": [],
      "source": [
        "exec(square_root_def.replace('square_root', 'square_root_annotated'))"
      ]
    },
    {
      "cell_type": "code",
      "execution_count": null,
      "metadata": {
        "slideshow": {
          "slide_type": "skip"
        },
        "solution2": "hidden",
        "tags": [
          "455"
        ]
      },
      "outputs": [],
      "source": [
        "with ExpectError():\n",
        "    square_root_annotated(-1)"
      ]
    },
    {
      "cell_type": "markdown",
      "metadata": {
        "slideshow": {
          "slide_type": "skip"
        },
        "solution2": "hidden",
        "tags": [
          "456"
        ]
      },
      "source": [
        "Here come some more examples:"
      ]
    },
    {
      "cell_type": "code",
      "execution_count": null,
      "metadata": {
        "slideshow": {
          "slide_type": "skip"
        },
        "solution2": "hidden",
        "tags": [
          "457"
        ]
      },
      "outputs": [],
      "source": [
        "with EmbeddedInvariantAnnotator() as annotator:\n",
        "    y = sum3(3, 4, 5)\n",
        "    y = sum3(-3, -4, -5)\n",
        "    y = sum3(0, 0, 0)"
      ]
    },
    {
      "cell_type": "code",
      "execution_count": null,
      "metadata": {
        "slideshow": {
          "slide_type": "skip"
        },
        "solution2": "hidden",
        "tags": [
          "458"
        ]
      },
      "outputs": [],
      "source": [
        "print_content(annotator.function_with_invariants('sum3'), '.py')"
      ]
    },
    {
      "cell_type": "code",
      "execution_count": null,
      "metadata": {
        "slideshow": {
          "slide_type": "skip"
        },
        "solution2": "hidden",
        "tags": [
          "459"
        ]
      },
      "outputs": [],
      "source": [
        "with EmbeddedInvariantAnnotator() as annotator:\n",
        "    length = list_length([1, 2, 3])\n",
        "\n",
        "print_content(annotator.function_with_invariants('list_length'), '.py')"
      ]
    },
    {
      "cell_type": "code",
      "execution_count": null,
      "metadata": {
        "slideshow": {
          "slide_type": "skip"
        },
        "solution2": "hidden",
        "tags": [
          "460"
        ]
      },
      "outputs": [],
      "source": [
        "with EmbeddedInvariantAnnotator() as annotator:\n",
        "    print_sum(31, 45)"
      ]
    },
    {
      "cell_type": "code",
      "execution_count": null,
      "metadata": {
        "slideshow": {
          "slide_type": "skip"
        },
        "solution2": "hidden",
        "tags": [
          "461"
        ]
      },
      "outputs": [],
      "source": [
        "print_content(annotator.function_with_invariants('print_sum'), '.py')"
      ]
    },
    {
      "cell_type": "markdown",
      "metadata": {
        "slideshow": {
          "slide_type": "skip"
        },
        "solution2": "hidden",
        "tags": [
          "462"
        ]
      },
      "source": [
        "And we're done!"
      ]
    },
    {
      "cell_type": "markdown",
      "metadata": {
        "solution2": "hidden",
        "solution2_first": true,
        "tags": [
          "463"
        ]
      },
      "source": [
        "### Exercise 8: Grammar-Generated Properties\n",
        "\n",
        "The larger the set of properties to be checked, the more potential invariants can be discovered.  Create a _grammar_ that systematically produces a large set of properties.  See \\cite{Ernst2001} for possible patterns."
      ]
    },
    {
      "cell_type": "markdown",
      "metadata": {
        "solution2": "hidden",
        "solution2_first": true,
        "tags": [
          "464"
        ]
      },
      "source": [
        "### Exercise 9: Loop Invariants\n",
        "\n",
        "This is not so much a problem in debugging, but rather for _symbolic verification_. A _loop invariant_ is a property that holds for every iteration of a loop, such as\n",
        "\n",
        "```python\n",
        "assert tag or not quote\n",
        "```\n",
        "\n",
        "for `remove_html_markup()`. Create an annotator that determines and adds loop invariants for `for` and `while` loops."
      ]
    },
    {
      "cell_type": "markdown",
      "metadata": {
        "solution2": "hidden",
        "solution2_first": true,
        "tags": [
          "465"
        ]
      },
      "source": [
        "### Exercise 10: Path Invariants\n",
        "\n",
        "A _path invariant_ is a property that holds for taking a particular path, such as\n",
        "\n",
        "```python\n",
        "assert y < x < z\n",
        "```\n",
        "\n",
        "for the second (erroneous) `return y` statement of the `middle()` function. Create an annotator that adds path invariants (expressed over the preconditions that hold when taking this particular branch) for every `if` statement in the code."
      ]
    }
  ],
  "metadata": {
    "ipub": {
      "bibliography": "fuzzingbook.bib",
      "toc": true
    },
    "kernelspec": {
      "display_name": "Python 3 (ipykernel)",
      "language": "python",
      "name": "python3"
    },
    "language_info": {
      "codemirror_mode": {
        "name": "ipython",
        "version": 3
      },
      "file_extension": ".py",
      "mimetype": "text/x-python",
      "name": "python",
      "nbconvert_exporter": "python",
      "pygments_lexer": "ipython3",
      "version": "3.10.2"
    },
    "toc": {
      "base_numbering": 1,
      "nav_menu": {},
      "number_sections": true,
      "sideBar": true,
      "skip_h1_title": true,
      "title_cell": "",
      "title_sidebar": "Contents",
      "toc_cell": false,
      "toc_position": {},
      "toc_section_display": true,
      "toc_window_display": true
    },
    "toc-autonumbering": false
  },
  "nbformat": 4,
  "nbformat_minor": 4
}