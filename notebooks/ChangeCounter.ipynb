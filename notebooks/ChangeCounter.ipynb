{
  "cells": [
    {
      "cell_type": "markdown",
      "metadata": {
        "button": false,
        "new_sheet": false,
        "run_control": {
          "read_only": false
        },
        "tags": [
          "1"
        ]
      },
      "source": [
        "# Where the Bugs are\n",
        "\n",
        "Every time a bug is fixed, developers leave a trace \u2013 in the _version database_ when they commit the fix, or in the _bug database_ when they close the bug. In this chapter, we learn how to _mine these repositories_ for past changes and bugs, and how to _map_ them to individual modules and functions, highlighting those project components that have seen most changes and fixes over time."
      ]
    },
    {
      "cell_type": "code",
      "execution_count": null,
      "metadata": {
        "tags": [
          "2"
        ]
      },
      "outputs": [],
      "source": [
        "from bookutils import YouTubeVideo\n",
        "YouTubeVideo(\"Aifq0JOc1Jc\")"
      ]
    },
    {
      "cell_type": "markdown",
      "metadata": {
        "button": false,
        "new_sheet": false,
        "run_control": {
          "read_only": false
        },
        "tags": [
          "3"
        ]
      },
      "source": [
        "**Prerequisites**\n",
        "\n",
        "* You should have read [the chapter on tracking bugs](Tracking.ipynb)."
      ]
    },
    {
      "cell_type": "code",
      "execution_count": null,
      "metadata": {
        "button": false,
        "new_sheet": false,
        "run_control": {
          "read_only": false
        },
        "slideshow": {
          "slide_type": "skip"
        },
        "tags": [
          "4"
        ]
      },
      "outputs": [],
      "source": [
        "import bookutils.setup"
      ]
    },
    {
      "cell_type": "code",
      "execution_count": null,
      "metadata": {
        "tags": [
          "5"
        ]
      },
      "outputs": [],
      "source": [
        "import Tracking"
      ]
    },
    {
      "cell_type": "markdown",
      "metadata": {
        "slideshow": {
          "slide_type": "skip"
        },
        "tags": [
          "6"
        ]
      },
      "source": [
        "## Synopsis\n",
        "<!-- Automatically generated. Do not edit. -->\n",
        "\n",
        "To [use the code provided in this chapter](Importing.ipynb), write\n",
        "\n",
        "```python\n",
        ">>> from debuggingbook.ChangeCounter import <identifier>\n",
        "```\n",
        "\n",
        "and then make use of the following features.\n",
        "\n",
        "\n",
        "This chapter provides two classes `ChangeCounter` and `FineChangeCounter` that allow mining and visualize the distribution of changes in a given `git` repository.\n",
        "\n",
        "`ChangeCounter` is initialized as\n",
        "\n",
        "```python\n",
        "change_counter = ChangeCounter(repository)\n",
        "```\n",
        "where `repository` is either \n",
        "\n",
        "* a _directory_ containing a `git` clone (i.e., it contains a `.git` directory)\n",
        "* the URL of a `git` repository.\n",
        "\n",
        "Additional arguments are being passed to the underlying `Repository` class from the [PyDriller](https://pydriller.readthedocs.io/) Python package. A `filter` keyword argument, if given, is a predicate that takes a modification (from PyDriller) and returns True if it should be included.\n",
        "\n",
        "In a change counter, all elements in the repository are represented as _nodes_ \u2013 tuples $(f_1, f_2, ..., f_n)$ that denote a _hierarchy_: Each $f_i$ is a directory holding $f_{i+1}$, with $f_n$ being the actual file.\n",
        "\n",
        "A `change_counter` provides a number of attributes. `changes` is a mapping of nodes to the number of changes in that node:\n",
        "\n",
        "```python\n",
        ">>> change_counter.changes.get(('README.md',), None)\n",
        "13\n",
        "```\n",
        "The `messages` attribute holds all commit messages related to that node:\n",
        "\n",
        "```python\n",
        ">>> change_counter.messages.get(('README.md',), None)\n",
        "['Fix: corrected rule for rendered notebooks (#24)\\nNew: strip out any <iframe> tags\\nNew: when rendering .md files, replace videos by proper image',\n",
        " 'Doc update',\n",
        " 'Doc update',\n",
        " 'New: show badges at top of GitHub project page',\n",
        " 'More badges',\n",
        " 'Fix: bad links in CI badges',\n",
        " 'New: prefer Unicode arrows over LaTeX ones',\n",
        " 'Updated README.md',\n",
        " 'Update',\n",
        " 'Doc update',\n",
        " 'Doc update',\n",
        " 'Doc update',\n",
        " 'Doc update']\n",
        "```\n",
        "The `sizes` attribute holds the (last) size of the respective element:\n",
        "\n",
        "```python\n",
        ">>> change_counter.sizes.get(('README.md',), None)\n",
        "13025\n",
        "```\n",
        "`FineChangeCounter` acts like `ChangeCounter`, but also retrieves statistics for elements _within_ the respective files; it has been tested for C, Python, and Jupyter Notebooks and should provide sufficient results for programming languages with similar syntax.\n",
        "\n",
        "The `map()` method of `ChangeCounter` and `FineChangeCounter` produces an interactive tree map that allows exploring the elements of a repository. The redder (darker) a rectangle, the more changes it has seen; the larger a rectangle, the larger its size in bytes.\n",
        "\n",
        "```python\n",
        ">>> fine_change_counter.map()\n",
        "```\n",
        "![](PICS/ChangeCounter-synopsis-1.png)\n",
        "\n",
        "The included classes offer several methods that can be overridden in subclasses to customize what to mine and how to visualize it. See the chapter for details.\n",
        "\n",
        "Here are all the classes defined in this chapter:\n",
        "\n",
        "![](PICS/ChangeCounter-synopsis-2.svg)\n",
        "\n"
      ]
    },
    {
      "cell_type": "markdown",
      "metadata": {
        "button": false,
        "new_sheet": false,
        "run_control": {
          "read_only": false
        },
        "tags": [
          "7"
        ]
      },
      "source": [
        "## Mining Change Histories\n",
        "\n",
        "The history of any software project is a history of change. Any nontrivial project thus comes with a _version database_ to organize and track changes; and possibly also with an [issue database](Tracking.ipynb) to organize and track issues.\n",
        "\n",
        "Over time, these databases hold plenty of information about the project: _Who changed what, when, and why?_ This information can be _mined_ from existing databases and _analyzed_ to answer questions such as\n",
        "\n",
        "* Which parts in my project were most frequently or recently changed?\n",
        "* How many files does the average change touch?\n",
        "* Where in my project were the most bugs fixed?"
      ]
    },
    {
      "cell_type": "markdown",
      "metadata": {
        "tags": [
          "8"
        ]
      },
      "source": [
        "To answer such questions, we can _mine_ change and bug histories for past changes and fixes. This involves digging through version databases such as `git` and [issue trackers such as RedMine or Bugzilla](Tracking.ipynb) and extracting all their information. Fortunately for us, there is ready-made infrastructure for some of this. "
      ]
    },
    {
      "cell_type": "markdown",
      "metadata": {
        "tags": [
          "9"
        ]
      },
      "source": [
        "## Mining with PyDriller"
      ]
    },
    {
      "cell_type": "markdown",
      "metadata": {
        "tags": [
          "10"
        ]
      },
      "source": [
        "[PyDriller](https://pydriller.readthedocs.io/) is a Python package for mining change histories. Its `Repository` class takes a `git` version repository and allows accessing all the individual changes (\"modifications\"), together with committers, affected files, commit messages, and more."
      ]
    },
    {
      "cell_type": "code",
      "execution_count": null,
      "metadata": {
        "tags": [
          "11"
        ]
      },
      "outputs": [],
      "source": [
        "from pydriller import Repository  # https://pydriller.readthedocs.io/"
      ]
    },
    {
      "cell_type": "code",
      "execution_count": null,
      "metadata": {
        "tags": [
          "12"
        ]
      },
      "outputs": [],
      "source": [
        "from pydriller.domain.commit import Commit"
      ]
    },
    {
      "cell_type": "code",
      "execution_count": null,
      "metadata": {
        "tags": [
          "13"
        ]
      },
      "outputs": [],
      "source": [
        "from pydriller.domain.commit import ModifiedFile"
      ]
    },
    {
      "cell_type": "markdown",
      "metadata": {
        "tags": [
          "14"
        ]
      },
      "source": [
        "To use `Repository`, we need to pass it \n",
        "* the URL of a `git` repository; or\n",
        "* the directory name where a cloned `git` repository can be found.\n",
        "\n",
        "In general, cloning a `git` repository locally (with `git clone URL`) and then analyzing it locally will be faster and require less network resources."
      ]
    },
    {
      "cell_type": "markdown",
      "metadata": {
        "tags": [
          "15"
        ]
      },
      "source": [
        "Let us apply `Repository` on the repository of this book. The function `current_repo()` returns the directory in which a `.git` subdirectory is stored \u2013 that is, the root of a cloned `git` repository."
      ]
    },
    {
      "cell_type": "code",
      "execution_count": null,
      "metadata": {
        "tags": [
          "16"
        ]
      },
      "outputs": [],
      "source": [
        "import os"
      ]
    },
    {
      "cell_type": "code",
      "execution_count": null,
      "metadata": {
        "tags": [
          "17"
        ]
      },
      "outputs": [],
      "source": [
        "# ignore\n",
        "from typing import Callable, Optional, Type, Tuple, Any\n",
        "from typing import Dict, Union, Set, List"
      ]
    },
    {
      "cell_type": "code",
      "execution_count": null,
      "metadata": {
        "tags": [
          "18"
        ]
      },
      "outputs": [],
      "source": [
        "def current_repo() -> Optional[str]:\n",
        "    path = os.getcwd()\n",
        "    while True:\n",
        "        if os.path.exists(os.path.join(path, '.git')):\n",
        "            return os.path.normpath(path)\n",
        "\n",
        "        # Go one level up\n",
        "        new_path = os.path.normpath(os.path.join(path, '..'))\n",
        "        if new_path != path:\n",
        "            path = new_path\n",
        "        else:\n",
        "            return None\n",
        "\n",
        "    return None"
      ]
    },
    {
      "cell_type": "code",
      "execution_count": null,
      "metadata": {
        "tags": [
          "19"
        ]
      },
      "outputs": [],
      "source": [
        "current_repo()"
      ]
    },
    {
      "cell_type": "markdown",
      "metadata": {
        "tags": [
          "20"
        ]
      },
      "source": [
        "This gives us a repository miner for the book:"
      ]
    },
    {
      "cell_type": "code",
      "execution_count": null,
      "metadata": {
        "tags": [
          "21"
        ]
      },
      "outputs": [],
      "source": [
        "from datetime import datetime"
      ]
    },
    {
      "cell_type": "code",
      "execution_count": null,
      "metadata": {
        "tags": [
          "22"
        ]
      },
      "outputs": [],
      "source": [
        "book_miner = Repository(current_repo(), to=datetime(2020, 10, 1))"
      ]
    },
    {
      "cell_type": "markdown",
      "metadata": {
        "tags": [
          "23"
        ]
      },
      "source": [
        "The `to` argument limits the range of time we want to look at."
      ]
    },
    {
      "cell_type": "markdown",
      "metadata": {
        "tags": [
          "24"
        ]
      },
      "source": [
        "You can also specify a URL instead, but this will access the repository via the network and generally be much slower."
      ]
    },
    {
      "cell_type": "code",
      "execution_count": null,
      "metadata": {
        "tags": [
          "25"
        ]
      },
      "outputs": [],
      "source": [
        "DEBUGGINGBOOK_REMOTE_REPO = 'https://github.com/uds-se/debuggingbook.git'\n",
        "# book_miner = Repository(DEBUGGINGBOOK_REMOTE_REPO)"
      ]
    },
    {
      "cell_type": "code",
      "execution_count": null,
      "metadata": {
        "tags": [
          "26"
        ]
      },
      "outputs": [],
      "source": [
        "# ignore\n",
        "if 'CI' in os.environ:\n",
        "    # The CI git clone is shallow, so access full repo remotely\n",
        "    book_miner = Repository(DEBUGGINGBOOK_REMOTE_REPO,\n",
        "                            to=datetime(2020, 10, 1))"
      ]
    },
    {
      "cell_type": "markdown",
      "metadata": {
        "tags": [
          "27"
        ]
      },
      "source": [
        "`traverse_commits()` is a generator that returns one commit after another. Let us fetch the very first commit made to the book:"
      ]
    },
    {
      "cell_type": "code",
      "execution_count": null,
      "metadata": {
        "tags": [
          "28"
        ]
      },
      "outputs": [],
      "source": [
        "book_commits = book_miner.traverse_commits()\n",
        "book_first_commit = next(book_commits)"
      ]
    },
    {
      "cell_type": "markdown",
      "metadata": {
        "tags": [
          "29"
        ]
      },
      "source": [
        "Each commit has a number of attributes telling us more about the commit."
      ]
    },
    {
      "cell_type": "code",
      "execution_count": null,
      "metadata": {
        "tags": [
          "30"
        ]
      },
      "outputs": [],
      "source": [
        "[attr for attr in dir(book_first_commit) if not attr.startswith('_')]"
      ]
    },
    {
      "cell_type": "markdown",
      "metadata": {
        "tags": [
          "31"
        ]
      },
      "source": [
        "For instance, the `msg` attribute lets us know about the commit message:"
      ]
    },
    {
      "cell_type": "code",
      "execution_count": null,
      "metadata": {
        "tags": [
          "32"
        ]
      },
      "outputs": [],
      "source": [
        "book_first_commit.msg"
      ]
    },
    {
      "cell_type": "markdown",
      "metadata": {
        "tags": [
          "33"
        ]
      },
      "source": [
        "whereas the `author` attribute gets us the name and email of the person who made the commit:"
      ]
    },
    {
      "cell_type": "code",
      "execution_count": null,
      "metadata": {
        "tags": [
          "34"
        ]
      },
      "outputs": [],
      "source": [
        "[attr for attr in dir(book_first_commit.author) if not attr.startswith('_')]"
      ]
    },
    {
      "cell_type": "code",
      "execution_count": null,
      "metadata": {
        "tags": [
          "35"
        ]
      },
      "outputs": [],
      "source": [
        "book_first_commit.author.name, book_first_commit.author.email"
      ]
    },
    {
      "cell_type": "markdown",
      "metadata": {
        "tags": [
          "36"
        ]
      },
      "source": [
        "A commit consists of multiple _modifications_ to possibly multiple files. The commit `modified_files` attribute returns a list of modifications."
      ]
    },
    {
      "cell_type": "code",
      "execution_count": null,
      "metadata": {
        "tags": [
          "37"
        ]
      },
      "outputs": [],
      "source": [
        "book_first_commit.modified_files"
      ]
    },
    {
      "cell_type": "markdown",
      "metadata": {
        "tags": [
          "38"
        ]
      },
      "source": [
        "For each modification, we can retrieve the files involved as well as several statistics:"
      ]
    },
    {
      "cell_type": "code",
      "execution_count": null,
      "metadata": {
        "tags": [
          "39"
        ]
      },
      "outputs": [],
      "source": [
        "[attr for attr in dir(book_first_commit.modified_files[0]) if not attr.startswith('_')]"
      ]
    },
    {
      "cell_type": "markdown",
      "metadata": {
        "tags": [
          "40"
        ]
      },
      "source": [
        "Let us see which file was created with this modification:"
      ]
    },
    {
      "cell_type": "code",
      "execution_count": null,
      "metadata": {
        "tags": [
          "41"
        ]
      },
      "outputs": [],
      "source": [
        "book_first_commit.modified_files[0].new_path"
      ]
    },
    {
      "cell_type": "markdown",
      "metadata": {
        "tags": [
          "42"
        ]
      },
      "source": [
        "The `content` attribute holds the entire file contents after the modification."
      ]
    },
    {
      "cell_type": "code",
      "execution_count": null,
      "metadata": {
        "tags": [
          "43"
        ]
      },
      "outputs": [],
      "source": [
        "print(book_first_commit.modified_files[0].content)"
      ]
    },
    {
      "cell_type": "markdown",
      "metadata": {
        "tags": [
          "44"
        ]
      },
      "source": [
        "We see that the `debuggingbook` project started with a very simple commit, namely the addition of an (almost empty) `README.md` file."
      ]
    },
    {
      "cell_type": "markdown",
      "metadata": {
        "tags": [
          "45"
        ]
      },
      "source": [
        "The attribute `content_before` holds the previous source code. We see that it is `None` \u2013 the file was just created."
      ]
    },
    {
      "cell_type": "code",
      "execution_count": null,
      "metadata": {
        "tags": [
          "46"
        ]
      },
      "outputs": [],
      "source": [
        "print(book_first_commit.modified_files[0].content_before)"
      ]
    },
    {
      "cell_type": "markdown",
      "metadata": {
        "tags": [
          "47"
        ]
      },
      "source": [
        "Let us have a look at the _second_ commit. We see that it is much more substantial already."
      ]
    },
    {
      "cell_type": "code",
      "execution_count": null,
      "metadata": {
        "tags": [
          "48"
        ]
      },
      "outputs": [],
      "source": [
        "book_second_commit = next(book_commits)"
      ]
    },
    {
      "cell_type": "code",
      "execution_count": null,
      "metadata": {
        "tags": [
          "49"
        ]
      },
      "outputs": [],
      "source": [
        "[m.new_path for m in book_second_commit.modified_files]"
      ]
    },
    {
      "cell_type": "markdown",
      "metadata": {
        "tags": [
          "50"
        ]
      },
      "source": [
        "We fetch the modification for the `README.md` file:"
      ]
    },
    {
      "cell_type": "code",
      "execution_count": null,
      "metadata": {
        "tags": [
          "51"
        ]
      },
      "outputs": [],
      "source": [
        "readme_modification = [m for m in book_second_commit.modified_files if m.new_path == 'README.md'][0]"
      ]
    },
    {
      "cell_type": "markdown",
      "metadata": {
        "tags": [
          "52"
        ]
      },
      "source": [
        "The `content_before` attribute holds the previous version (which we already have seen):"
      ]
    },
    {
      "cell_type": "code",
      "execution_count": null,
      "metadata": {
        "tags": [
          "53"
        ]
      },
      "outputs": [],
      "source": [
        "print(str(readme_modification.content_before, 'utf8'))"
      ]
    },
    {
      "cell_type": "markdown",
      "metadata": {
        "tags": [
          "54"
        ]
      },
      "source": [
        "The `content` attribute holds the new version \u2013 now a complete \"README\" file. (Compare this first version to the [current README text](index.ipynb).)"
      ]
    },
    {
      "cell_type": "code",
      "execution_count": null,
      "metadata": {
        "tags": [
          "55"
        ]
      },
      "outputs": [],
      "source": [
        "print(str(readme_modification.content[:400], 'utf8'))"
      ]
    },
    {
      "cell_type": "markdown",
      "metadata": {
        "tags": [
          "56"
        ]
      },
      "source": [
        "The `diff` attribute holds the differences between the old and the new version."
      ]
    },
    {
      "cell_type": "code",
      "execution_count": null,
      "metadata": {
        "tags": [
          "57"
        ]
      },
      "outputs": [],
      "source": [
        "print(readme_modification.diff[:100])"
      ]
    },
    {
      "cell_type": "markdown",
      "metadata": {
        "tags": [
          "58"
        ]
      },
      "source": [
        "The `diff_parsed` attribute even lists added and deleted lines:"
      ]
    },
    {
      "cell_type": "code",
      "execution_count": null,
      "metadata": {
        "tags": [
          "59"
        ]
      },
      "outputs": [],
      "source": [
        "readme_modification.diff_parsed['added'][:10]"
      ]
    },
    {
      "cell_type": "markdown",
      "metadata": {
        "tags": [
          "60"
        ]
      },
      "source": [
        "With all this information, we can track all commits and modifications and establish statistics over which files were changed (and possibly even fixed) most. This is what we will do in the next section."
      ]
    },
    {
      "cell_type": "code",
      "execution_count": null,
      "metadata": {
        "tags": [
          "61"
        ]
      },
      "outputs": [],
      "source": [
        "# ignore\n",
        "del book_miner  # Save a bit of memory"
      ]
    },
    {
      "cell_type": "markdown",
      "metadata": {
        "tags": [
          "62"
        ]
      },
      "source": [
        "## Counting Changes\n",
        "\n",
        "We start with a simple `ChangeCounter` class that, given a repository, counts for each file how frequently it was changed."
      ]
    },
    {
      "cell_type": "markdown",
      "metadata": {
        "tags": [
          "63"
        ]
      },
      "source": [
        "We represent file names as _nodes_ \u2013\u00a0a tuple $(f_1, f_2, ..., f_n)$ that denotes a _hierarchy_: Each $f_i$ is a directory holding $f_{i+1}$, with $f_n$ being the actual file. Here is what this notebook looks as a node:"
      ]
    },
    {
      "cell_type": "code",
      "execution_count": null,
      "metadata": {
        "tags": [
          "64"
        ]
      },
      "outputs": [],
      "source": [
        "tuple('debuggingbook/notebooks/ChangeCounter.ipynb'.split('/'))"
      ]
    },
    {
      "cell_type": "code",
      "execution_count": null,
      "metadata": {
        "tags": [
          "65"
        ]
      },
      "outputs": [],
      "source": [
        "Node = Tuple"
      ]
    },
    {
      "cell_type": "markdown",
      "metadata": {
        "tags": [
          "66"
        ]
      },
      "source": [
        "The constructor takes the repository to be analyzed and sets the internal counters."
      ]
    },
    {
      "cell_type": "code",
      "execution_count": null,
      "metadata": {
        "tags": [
          "67"
        ]
      },
      "outputs": [],
      "source": [
        "from collections import defaultdict"
      ]
    },
    {
      "cell_type": "code",
      "execution_count": null,
      "metadata": {
        "tags": [
          "68"
        ]
      },
      "outputs": [],
      "source": [
        "import warnings"
      ]
    },
    {
      "cell_type": "code",
      "execution_count": null,
      "metadata": {
        "tags": [
          "69"
        ]
      },
      "outputs": [],
      "source": [
        "from git.exc import GitCommandError  # type: ignore"
      ]
    },
    {
      "cell_type": "code",
      "execution_count": null,
      "metadata": {
        "tags": [
          "70"
        ]
      },
      "outputs": [],
      "source": [
        "class ChangeCounter:\n",
        "    \"\"\"Count the number of changes for a repository.\"\"\"\n",
        "\n",
        "    def __init__(self, repo: str, *, \n",
        "                 filter: Optional[Callable[[Commit], bool]] = None, \n",
        "                 log: bool = False, \n",
        "                 **kwargs: Any) -> None:\n",
        "        \"\"\"\n",
        "        Constructor.\n",
        "        `repo` is a git repository (as URL or directory).\n",
        "        `filter` is a predicate that takes a modification and returns True \n",
        "        if it should be considered (default: consider all).\n",
        "        `log` turns on logging if set.\n",
        "        `kwargs` are passed to the `Repository()` constructor.\n",
        "        \"\"\"\n",
        "        self.repo = repo\n",
        "        self.log = log\n",
        "\n",
        "        if filter is None:\n",
        "            def filter(m: ModifiedFile) -> bool:\n",
        "                return True\n",
        "        assert filter is not None\n",
        "\n",
        "        self.filter = filter\n",
        "\n",
        "        # A node is an tuple (f_1, f_2, f_3, ..., f_n) denoting\n",
        "        # a folder f_1 holding a folder f_2 ... holding a file f_n.\n",
        "\n",
        "        # Mapping node -> #of changes\n",
        "        self.changes: Dict[Node, int] = defaultdict(int)\n",
        "\n",
        "        # Mapping node -> list of commit messages\n",
        "        self.messages: Dict[Node, List[str]] = defaultdict(list)\n",
        "\n",
        "        # Mapping node -> last size seen\n",
        "        self.sizes: Dict[Node, Union[int, float]] = {}\n",
        "\n",
        "        self.mine(**kwargs)"
      ]
    },
    {
      "cell_type": "markdown",
      "metadata": {
        "tags": [
          "71"
        ]
      },
      "source": [
        "The method `mine()` does all the heavy lifting of mining. It retrieves all commits and all modifications from the repository, passing the modifications through the `update_stats()` method."
      ]
    },
    {
      "cell_type": "code",
      "execution_count": null,
      "metadata": {
        "tags": [
          "72"
        ]
      },
      "outputs": [],
      "source": [
        "class ChangeCounter(ChangeCounter):\n",
        "    def mine(self, **kwargs: Any) -> None:\n",
        "        \"\"\"Gather data from repository. To be extended in subclasses.\"\"\"\n",
        "        miner = Repository(self.repo, **kwargs)\n",
        "\n",
        "        for commit in miner.traverse_commits():\n",
        "            try:\n",
        "                self.mine_commit(commit)\n",
        "            except GitCommandError as err:\n",
        "                # Warn about failing git commands, but continue\n",
        "                warnings.warn(\"Cannot mine commit \" + repr(commit.hash) + '\\n' + str(err))\n",
        "            except (ValueError, TypeError) as err:\n",
        "                warnings.warn(\"Cannot mine commit \" + repr(commit.hash) + '\\n' + str(err))\n",
        "                raise err\n",
        "\n",
        "    def mine_commit(self, commit: Commit) -> None:\n",
        "        for m in commit.modified_files:\n",
        "            m.committer = commit.committer\n",
        "            m.committer_date = commit.committer_date\n",
        "            m.msg = commit.msg\n",
        "\n",
        "            if self.include(m):\n",
        "                self.update_stats(m)"
      ]
    },
    {
      "attachments": {},
      "cell_type": "markdown",
      "metadata": {
        "tags": [
          "73"
        ]
      },
      "source": [
        "The `include()` method allows filtering modifications. For simplicity, we copy the most relevant attributes of the commit over to the modification, such that the filter can access them, too."
      ]
    },
    {
      "cell_type": "code",
      "execution_count": null,
      "metadata": {
        "tags": [
          "74"
        ]
      },
      "outputs": [],
      "source": [
        "class ChangeCounter(ChangeCounter):\n",
        "    def include(self, m: ModifiedFile) -> bool:\n",
        "        \"\"\"\n",
        "        Return True if the modification `m` should be included\n",
        "        (default: the `filter` predicate given to the constructor).\n",
        "        To be overloaded in subclasses.\n",
        "        \"\"\"\n",
        "        return self.filter(m)"
      ]
    },
    {
      "cell_type": "markdown",
      "metadata": {
        "tags": [
          "75"
        ]
      },
      "source": [
        "For each such node, `update_stats()` then invokes `update_size()`, `update_changes()`, and `update_elems()`."
      ]
    },
    {
      "cell_type": "code",
      "execution_count": null,
      "metadata": {
        "tags": [
          "76"
        ]
      },
      "outputs": [],
      "source": [
        "class ChangeCounter(ChangeCounter):\n",
        "    def update_stats(self, m: ModifiedFile) -> None:\n",
        "        \"\"\"\n",
        "        Update counters with modification `m`.\n",
        "        Can be extended in subclasses.\n",
        "        \"\"\"\n",
        "        if not m.new_path:\n",
        "            return\n",
        "\n",
        "        node = tuple(m.new_path.split('/'))\n",
        "\n",
        "        self.update_size(node, len(m.content) if m.content else 0)\n",
        "        self.update_changes(node, m.msg)\n",
        "\n",
        "        self.update_elems(node, m)"
      ]
    },
    {
      "cell_type": "markdown",
      "metadata": {
        "tags": [
          "77"
        ]
      },
      "source": [
        "`update_size()` simply saves the last size of the item being modified. Since we progress from first to last commit, this reflects the size of the newest version."
      ]
    },
    {
      "cell_type": "code",
      "execution_count": null,
      "metadata": {
        "tags": [
          "78"
        ]
      },
      "outputs": [],
      "source": [
        "class ChangeCounter(ChangeCounter):\n",
        "    def update_size(self, node: Tuple, size: int) -> None:\n",
        "        \"\"\"\n",
        "        Update counters for `node` with `size`.\n",
        "        Can be extended in subclasses.\n",
        "        \"\"\"\n",
        "        self.sizes[node] = size"
      ]
    },
    {
      "cell_type": "markdown",
      "metadata": {
        "tags": [
          "79"
        ]
      },
      "source": [
        "`update_changes()` increases the counter `changes` for the given node `node`, and adds the current commit message `commit_msg` to its list. This makes\n",
        "\n",
        "* `size` a mapping of nodes to their size\n",
        "* `changes` a mapping of nodes to the number of changes they have seen\n",
        "* `commit_msg` a mapping of nodes to the list of commit messages that have affected them."
      ]
    },
    {
      "cell_type": "code",
      "execution_count": null,
      "metadata": {
        "tags": [
          "80"
        ]
      },
      "outputs": [],
      "source": [
        "class ChangeCounter(ChangeCounter):\n",
        "    def update_changes(self, node: Tuple, commit_msg: str) -> None:\n",
        "        \"\"\"\n",
        "        Update stats for `node` changed with `commit_msg`.\n",
        "        Can be extended in subclasses.\n",
        "        \"\"\"\n",
        "        self.changes[node] += 1\n",
        "\n",
        "        self.messages[node].append(commit_msg)"
      ]
    },
    {
      "cell_type": "markdown",
      "metadata": {
        "tags": [
          "81"
        ]
      },
      "source": [
        "The `update_elems()` method is reserved for later use, when we go and count fine-grained changes."
      ]
    },
    {
      "cell_type": "code",
      "execution_count": null,
      "metadata": {
        "tags": [
          "82"
        ]
      },
      "outputs": [],
      "source": [
        "class ChangeCounter(ChangeCounter):\n",
        "    def update_elems(self, node: Tuple, m: ModifiedFile) -> None:\n",
        "        \"\"\"\n",
        "        Update counters for subelements of `node` with modification `m`.\n",
        "        To be defined in subclasses.\n",
        "        \"\"\"\n",
        "        pass"
      ]
    },
    {
      "cell_type": "markdown",
      "metadata": {
        "tags": [
          "83"
        ]
      },
      "source": [
        "Let us put `ChangeCounter` to action \u2013 on the current (debuggingbook) repository."
      ]
    },
    {
      "cell_type": "code",
      "execution_count": null,
      "metadata": {
        "tags": [
          "84"
        ]
      },
      "outputs": [],
      "source": [
        "DEBUGGINGBOOK_REPO = current_repo()"
      ]
    },
    {
      "cell_type": "code",
      "execution_count": null,
      "metadata": {
        "tags": [
          "85"
        ]
      },
      "outputs": [],
      "source": [
        "DEBUGGINGBOOK_REPO"
      ]
    },
    {
      "cell_type": "markdown",
      "metadata": {
        "tags": [
          "86"
        ]
      },
      "source": [
        "The function `debuggingbook_change_counter` instantiates a `ChangeCounter` class (or any subclass) with the `debuggingbook` repository, mining all the counters as listed above. Since mining _all_ history takes quite some time, its parameter `start_date` allows setting a starting date (default: March 1, 2021); changes before that date will be ignored."
      ]
    },
    {
      "cell_type": "code",
      "execution_count": null,
      "metadata": {
        "tags": [
          "87"
        ]
      },
      "outputs": [],
      "source": [
        "DEBUGGINGBOOK_START_DATE: datetime = datetime(2021, 3, 1)"
      ]
    },
    {
      "cell_type": "code",
      "execution_count": null,
      "metadata": {
        "tags": [
          "88"
        ]
      },
      "outputs": [],
      "source": [
        "NUM_WORKERS = 4  # Number of threads to be run in parallel"
      ]
    },
    {
      "cell_type": "code",
      "execution_count": null,
      "metadata": {
        "tags": [
          "89"
        ]
      },
      "outputs": [],
      "source": [
        "def debuggingbook_change_counter(\n",
        "        cls: Type,\n",
        "        start_date: datetime = DEBUGGINGBOOK_START_DATE) -> Any:\n",
        "    \"\"\"\n",
        "    Instantiate a ChangeCounter (sub)class `cls` with the debuggingbook repo.\n",
        "    Only mines changes after `start_date` (default: DEBUGGINGBOOK_START_DATE)\n",
        "    \"\"\"\n",
        "\n",
        "    def filter(m: ModifiedFile) -> bool:\n",
        "        \"\"\"\n",
        "        Do not include\n",
        "        * the `docs/` directory; it only holds generated Web pages\n",
        "        * the `notebooks/shared/` package; this is infrastructure\n",
        "        * the `synopsis` pictures; these are all generated\n",
        "         \"\"\"\n",
        "        return (m.new_path and\n",
        "                not m.new_path.startswith('docs/') and\n",
        "                not m.new_path.startswith('notebooks/shared/') and\n",
        "                '-synopsis-' not in m.new_path)\n",
        "\n",
        "    return cls(DEBUGGINGBOOK_REPO,\n",
        "               filter=filter,\n",
        "               since=start_date,\n",
        "               num_workers=NUM_WORKERS)"
      ]
    },
    {
      "cell_type": "markdown",
      "metadata": {
        "tags": [
          "90"
        ]
      },
      "source": [
        "Let us set `change_counter` to this `ChangeCounter` instance. This can take a few minutes."
      ]
    },
    {
      "cell_type": "code",
      "execution_count": null,
      "metadata": {
        "tags": [
          "91"
        ]
      },
      "outputs": [],
      "source": [
        "from Timer import Timer"
      ]
    },
    {
      "cell_type": "code",
      "execution_count": null,
      "metadata": {
        "tags": [
          "92"
        ]
      },
      "outputs": [],
      "source": [
        "with Timer() as t:\n",
        "    change_counter = debuggingbook_change_counter(ChangeCounter)\n",
        "\n",
        "t.elapsed_time()"
      ]
    },
    {
      "cell_type": "markdown",
      "metadata": {
        "tags": [
          "93"
        ]
      },
      "source": [
        "The attribute `changes` of our `ChangeCounter` now is a mapping of nodes to the respective number of changes. Here are the first 10 entries:"
      ]
    },
    {
      "cell_type": "code",
      "execution_count": null,
      "metadata": {
        "tags": [
          "94"
        ]
      },
      "outputs": [],
      "source": [
        "list(change_counter.changes.keys())[:10]"
      ]
    },
    {
      "cell_type": "markdown",
      "metadata": {
        "tags": [
          "95"
        ]
      },
      "source": [
        "This is the number of changes to the `Chapters.makefile` file which lists the book chapters:"
      ]
    },
    {
      "cell_type": "code",
      "execution_count": null,
      "metadata": {
        "tags": [
          "outputPrepend",
          "96"
        ]
      },
      "outputs": [],
      "source": [
        "change_counter.changes.get(('Chapters.makefile',), None)"
      ]
    },
    {
      "cell_type": "markdown",
      "metadata": {
        "tags": [
          "97"
        ]
      },
      "source": [
        "The `messages` attribute holds all the messages:"
      ]
    },
    {
      "cell_type": "code",
      "execution_count": null,
      "metadata": {
        "tags": [
          "outputPrepend",
          "98"
        ]
      },
      "outputs": [],
      "source": [
        "change_counter.messages.get(('Chapters.makefile',), None)"
      ]
    },
    {
      "cell_type": "code",
      "execution_count": null,
      "metadata": {
        "tags": [
          "99"
        ]
      },
      "outputs": [],
      "source": [
        "for node in change_counter.changes:\n",
        "    assert len(change_counter.messages[node]) == change_counter.changes[node]"
      ]
    },
    {
      "cell_type": "markdown",
      "metadata": {
        "tags": [
          "100"
        ]
      },
      "source": [
        "The `sizes` attribute holds the final size:"
      ]
    },
    {
      "cell_type": "code",
      "execution_count": null,
      "metadata": {
        "tags": [
          "outputPrepend",
          "101"
        ]
      },
      "outputs": [],
      "source": [
        "change_counter.sizes.get(('Chapters.makefile',), None)"
      ]
    },
    {
      "cell_type": "markdown",
      "metadata": {
        "tags": [
          "102"
        ]
      },
      "source": [
        "## Visualizing Past Changes"
      ]
    },
    {
      "cell_type": "markdown",
      "metadata": {
        "tags": [
          "103"
        ]
      },
      "source": [
        "To explore the number of changes across all project files, we visualize them as a _tree map_. A tree map visualizes hierarchical data using nested rectangles. In our visualization, each directory is shown as a rectangle containing smaller rectangles. The _size_ of a rectangle is relative to its size (in bytes); and the _color_ of a rectangle is relative to the number of changes it has seen."
      ]
    },
    {
      "cell_type": "markdown",
      "metadata": {
        "tags": [
          "104"
        ]
      },
      "source": [
        "We use the [easyplotly](https://github.com/mwouts/easyplotly) package to easily create a treemap."
      ]
    },
    {
      "cell_type": "code",
      "execution_count": null,
      "metadata": {
        "tags": [
          "105"
        ]
      },
      "outputs": [],
      "source": [
        "import easyplotly as ep\n",
        "import plotly.graph_objects as go"
      ]
    },
    {
      "cell_type": "code",
      "execution_count": null,
      "metadata": {
        "tags": [
          "106"
        ]
      },
      "outputs": [],
      "source": [
        "import math"
      ]
    },
    {
      "cell_type": "markdown",
      "metadata": {
        "tags": [
          "107"
        ]
      },
      "source": [
        "The method `map_node_sizes()` returns a size for the node \u2013 any number will do. By default, we use a logarithmic scale, such that smaller files are not totally visually eclipsed by larger files."
      ]
    },
    {
      "cell_type": "code",
      "execution_count": null,
      "metadata": {
        "tags": [
          "108"
        ]
      },
      "outputs": [],
      "source": [
        "class ChangeCounter(ChangeCounter):\n",
        "    def map_node_sizes(self,scale: str = 'log') -> \\\n",
        "        Dict[Node, Union[int, float]]:\n",
        "        \"\"\"\n",
        "        Return a mapping of nodes to sizes.\n",
        "        Can be overloaded in subclasses.\n",
        "        \"\"\"\n",
        "\n",
        "        if scale == 'log':\n",
        "            # Default: use log scale\n",
        "            return {node: math.log(size+1) \n",
        "                    for node, size in self.sizes.items()}\n",
        "\n",
        "        elif scale == 'sqrt':\n",
        "            # Alternative: use sqrt size\n",
        "            return {node: math.sqrt(size)\n",
        "                    for node, size in self.sizes.items()}\n",
        "\n",
        "        elif scale == 'abs':\n",
        "            # Alternative: use absolute size\n",
        "            return self.sizes\n",
        "\n",
        "        else:\n",
        "            raise ValueError(f\"Unknown scale: {scale}; \"\n",
        "                             f\"use one of [log, sqrt, abs]\")"
      ]
    },
    {
      "cell_type": "markdown",
      "metadata": {
        "tags": [
          "109"
        ]
      },
      "source": [
        "The method `map_node_color()` returns a color for the node \u2013 again, as a number. The smallest and largest numbers returned indicate beginning and end in the given color scale, respectively."
      ]
    },
    {
      "cell_type": "code",
      "execution_count": null,
      "metadata": {
        "tags": [
          "110"
        ]
      },
      "outputs": [],
      "source": [
        "class ChangeCounter(ChangeCounter):\n",
        "    def map_node_color(self, node: Node) -> Optional[int]:\n",
        "        \"\"\"\n",
        "        Return a color of the node, as a number.\n",
        "        Can be overloaded in subclasses.\n",
        "        \"\"\"\n",
        "        return self.changes.get(node)"
      ]
    },
    {
      "cell_type": "markdown",
      "metadata": {
        "tags": [
          "111"
        ]
      },
      "source": [
        "The method `map_node_text()` shows a text to be displayed in the rectangle; we set this to the number of changes."
      ]
    },
    {
      "cell_type": "code",
      "execution_count": null,
      "metadata": {
        "tags": [
          "112"
        ]
      },
      "outputs": [],
      "source": [
        "class ChangeCounter(ChangeCounter):\n",
        "    def map_node_text(self, node: Node) -> Optional[str]:\n",
        "        \"\"\"\n",
        "        Return the text to be shown for the node (default: #changes).\n",
        "        Can be overloaded in subclasses.\n",
        "        \"\"\"\n",
        "        change = self.changes.get(node)\n",
        "        return str(change) if change is not None else None"
      ]
    },
    {
      "cell_type": "markdown",
      "metadata": {
        "tags": [
          "113"
        ]
      },
      "source": [
        "The methods `map_hoverinfo()` and `map_colorscale()` set additional map parameters. For details, see the [easyplotly](https://github.com/mwouts/easyplotly) documentation."
      ]
    },
    {
      "cell_type": "code",
      "execution_count": null,
      "metadata": {
        "tags": [
          "114"
        ]
      },
      "outputs": [],
      "source": [
        "class ChangeCounter(ChangeCounter):\n",
        "    def map_hoverinfo(self) -> str:\n",
        "        \"\"\"\n",
        "        Return the text to be shown when hovering over a node.\n",
        "        To be overloaded in subclasses.\n",
        "        \"\"\"\n",
        "        return 'label+text'\n",
        "\n",
        "    def map_colorscale(self) -> str:\n",
        "        \"\"\"\n",
        "        Return the colorscale for the map. To be overloaded in subclasses.\n",
        "        \"\"\"\n",
        "        return 'YlOrRd'"
      ]
    },
    {
      "cell_type": "markdown",
      "metadata": {
        "tags": [
          "115"
        ]
      },
      "source": [
        "With all this, the `map()` function creates a tree map of the repository, using the  [easyplotly](https://github.com/mwouts/easyplotly) `Treemap` constructor."
      ]
    },
    {
      "cell_type": "code",
      "execution_count": null,
      "metadata": {
        "tags": [
          "116"
        ]
      },
      "outputs": [],
      "source": [
        "class ChangeCounter(ChangeCounter):\n",
        "    def map(self) -> go.Figure:\n",
        "        \"\"\"Produce an interactive tree map of the repository.\"\"\"\n",
        "        treemap = ep.Treemap(\n",
        "                     self.map_node_sizes(),\n",
        "                     text=self.map_node_text,\n",
        "                     hoverinfo=self.map_hoverinfo(),\n",
        "                     marker_colors=self.map_node_color,\n",
        "                     marker_colorscale=self.map_colorscale(),\n",
        "                     root_label=self.repo,\n",
        "                     branchvalues='total'\n",
        "                    )\n",
        "\n",
        "        fig = go.Figure(treemap)\n",
        "        fig.update_layout(margin=dict(l=0, r=0, t=30, b=0))\n",
        "\n",
        "        return fig"
      ]
    },
    {
      "attachments": {},
      "cell_type": "markdown",
      "metadata": {
        "tags": [
          "117"
        ]
      },
      "source": [
        "This is what the tree map for `debuggingbook` looks like. \n",
        "\n",
        "* Click on any rectangle to enlarge it.\n",
        "* Click outside the rectangle to return to a wider view.\n",
        "* Hover over a rectangle to get further information."
      ]
    },
    {
      "cell_type": "code",
      "execution_count": null,
      "metadata": {
        "tags": [
          "118"
        ]
      },
      "outputs": [],
      "source": [
        "change_counter = debuggingbook_change_counter(ChangeCounter)"
      ]
    },
    {
      "cell_type": "code",
      "execution_count": null,
      "metadata": {
        "tags": [
          "119"
        ]
      },
      "outputs": [],
      "source": [
        "change_counter.map()"
      ]
    },
    {
      "cell_type": "markdown",
      "metadata": {
        "tags": [
          "120"
        ]
      },
      "source": [
        "We can easily identify the most frequently changed files:"
      ]
    },
    {
      "cell_type": "code",
      "execution_count": null,
      "metadata": {
        "tags": [
          "121"
        ]
      },
      "outputs": [],
      "source": [
        "sorted(change_counter.changes.items(), key=lambda kv: kv[1], reverse=True)[:4]"
      ]
    },
    {
      "cell_type": "code",
      "execution_count": null,
      "metadata": {
        "tags": [
          "122"
        ]
      },
      "outputs": [],
      "source": [
        "# ignore\n",
        "all_notebooks = [node for node in change_counter.changes.keys()\n",
        "                 if len(node) == 2 and node[1].endswith('.ipynb')]\n",
        "all_notebooks.sort(key=lambda node: change_counter.changes[node],\n",
        "                   reverse=True)"
      ]
    },
    {
      "cell_type": "code",
      "execution_count": null,
      "metadata": {
        "tags": [
          "123"
        ]
      },
      "outputs": [],
      "source": [
        "from bookutils import quiz"
      ]
    },
    {
      "cell_type": "code",
      "execution_count": null,
      "metadata": {
        "tags": [
          "124"
        ]
      },
      "outputs": [],
      "source": [
        "quiz(\"Which two notebooks have seen the most changes over time?\",\n",
        "     [\n",
        "         f\"`{all_notebooks[i][1].split('.')[0]}`\"\n",
        "         for i in [0, 3, 1, 2]\n",
        "         if i < len(all_notebooks)\n",
        "     ]\n",
        "     , '[1234 % 3, 3702 / 1234]')"
      ]
    },
    {
      "cell_type": "markdown",
      "metadata": {
        "tags": [
          "125"
        ]
      },
      "source": [
        "Indeed, these two are the two most frequently recently changed notebooks:"
      ]
    },
    {
      "cell_type": "code",
      "execution_count": null,
      "metadata": {
        "tags": [
          "126"
        ]
      },
      "outputs": [],
      "source": [
        "[notebook[1].split('.')[0] for notebook in all_notebooks[:2]]"
      ]
    },
    {
      "cell_type": "markdown",
      "metadata": {
        "tags": [
          "127"
        ]
      },
      "source": [
        "## Counting Past Fixes\n",
        "\n",
        "Knowing which files have been changed most is useful in debugging, because any change increases the chance to introduce a new bug. Even more important, however, is the question of how frequently a file was _fixed_ in the past, as this is an important indicator for its bug-proneness."
      ]
    },
    {
      "cell_type": "markdown",
      "metadata": {
        "tags": [
          "128"
        ]
      },
      "source": [
        "(One may think that fixing several bugs _reduces_ the number of bugs, but unfortunately, a file which has seen several fixes in the past is likely to see fixes in the future, too. This is because the bug-proneness of a software component very much depends on the requirements it has to fulfill, and if these requirements are unclear, complex, or frequently change, this translates into many fixes.)"
      ]
    },
    {
      "cell_type": "markdown",
      "metadata": {
        "tags": [
          "129"
        ]
      },
      "source": [
        "How can we tell _changes_ from _fixes_? \n",
        "\n",
        "* One indicator is _commit messages_:\n",
        "  If they refer to \"bugs\" or \"fixes\", then the change is a fix.\n",
        "* Another indicator is _bug numbers_:\n",
        "  If a commit message contains an issue number from an associated issue database, then we can make use of the issue referred to.\n",
        "    * The issue database may provide us with additional information about the bug, such as its severity, how many people it was assigned to, how long it took to fix it, and more.\n",
        "* A final indicator is _time_:\n",
        "  If a developer first committed a change and in the same time frame marked an issue as \"resolved\", then it is likely that the two refer to each other.\n",
        "\n",
        "The way these two are linked very much depends on the project \u2013 and the discipline of developers as it comes to change messages. _Branches_ and _merges_ bring additional challenges."
      ]
    },
    {
      "cell_type": "markdown",
      "metadata": {
        "tags": [
          "130"
        ]
      },
      "source": [
        "For the `debuggingbook` project, identifying fixes is easy. The discipline is that if a change fixes a bug, it is prefixed with `Fix:`. We can use this to introduce a `FixCounter` class specific to our `debuggingbook` project."
      ]
    },
    {
      "cell_type": "code",
      "execution_count": null,
      "metadata": {
        "tags": [
          "131"
        ]
      },
      "outputs": [],
      "source": [
        "class FixCounter(ChangeCounter):\n",
        "    \"\"\"\n",
        "    Count the fixes for files in the repository.\n",
        "    Fixes are all commits whose message starts with the word 'Fix: '\n",
        "    \"\"\"\n",
        "\n",
        "    def include(self, m: ModifiedFile) -> bool:\n",
        "        \"\"\"Include all modifications whose commit messages start with 'Fix:'\"\"\"\n",
        "        return super().include(m) and m and m.msg.startswith(\"Fix:\")"
      ]
    },
    {
      "cell_type": "markdown",
      "metadata": {
        "tags": [
          "132"
        ]
      },
      "source": [
        "As a twist to our default `ChangeCounter` class, we include the \"fix\" messages in the tree map rectangles."
      ]
    },
    {
      "cell_type": "code",
      "execution_count": null,
      "metadata": {
        "tags": [
          "133"
        ]
      },
      "outputs": [],
      "source": [
        "class FixCounter(FixCounter):\n",
        "    def map_node_text(self, node: Node) -> str:\n",
        "        return \"<br>\".join(self.messages.get(node, []))\n",
        "\n",
        "    def map_hoverinfo(self) -> str:\n",
        "        return 'label'"
      ]
    },
    {
      "cell_type": "markdown",
      "metadata": {
        "tags": [
          "134"
        ]
      },
      "source": [
        "This is the tree map showing fixes. We see that \n",
        "* only those components that actually have seen a fix are shown; and\n",
        "* the fix distribution differs from the change distribution."
      ]
    },
    {
      "cell_type": "code",
      "execution_count": null,
      "metadata": {
        "tags": [
          "135"
        ]
      },
      "outputs": [],
      "source": [
        "fix_counter = debuggingbook_change_counter(FixCounter)"
      ]
    },
    {
      "cell_type": "code",
      "execution_count": null,
      "metadata": {
        "tags": [
          "136"
        ]
      },
      "outputs": [],
      "source": [
        "fix_counter.map()"
      ]
    },
    {
      "cell_type": "markdown",
      "metadata": {
        "tags": [
          "137"
        ]
      },
      "source": [
        "If you want to take a look at the _entire_ fix history, pass an early `start_date` argument to `debugging_change_counter()`. This takes a few extra minutes, so we make it optional:"
      ]
    },
    {
      "cell_type": "code",
      "execution_count": null,
      "metadata": {
        "tags": [
          "138"
        ]
      },
      "outputs": [],
      "source": [
        "# fix_counter = debuggingbook_change_counter(\n",
        "#     FixCounter,\n",
        "#     start_date=datetime(1999, 1, 1)\n",
        "# )\n",
        "# fix_counter.map()"
      ]
    },
    {
      "cell_type": "markdown",
      "metadata": {
        "tags": [
          "139"
        ]
      },
      "source": [
        "## Counting Fine-Grained Changes\n",
        "\n",
        "In programming projects, individual files typically consist of _smaller units_ such as functions, classes, and methods. We want to determine which of these _units_ are frequently changed (and fixed). For this, we need to _break down_ individual files into smaller parts, and then determine which of these parts would be affected by a change."
      ]
    },
    {
      "cell_type": "markdown",
      "metadata": {
        "tags": [
          "140"
        ]
      },
      "source": [
        "### Mapping Elements to Locations\n",
        "\n",
        "Our first task is a simple means to split a (programming) file into smaller parts, each with their own locations. First, we need to know what kind of content a file contains. To this end, we use the Python [magic](https://github.com/ahupp/python-magic) package. (The \"magic\" in the name does not refer to some \"magic\" functionality, but to the practice of having files start with \"magic\" bytes that indicate their type.)"
      ]
    },
    {
      "cell_type": "code",
      "execution_count": null,
      "metadata": {
        "tags": [
          "141"
        ]
      },
      "outputs": [],
      "source": [
        "import magic"
      ]
    },
    {
      "cell_type": "markdown",
      "metadata": {
        "tags": [
          "142"
        ]
      },
      "source": [
        "The `magic` package easily guesses that a file contains C code:"
      ]
    },
    {
      "cell_type": "code",
      "execution_count": null,
      "metadata": {
        "tags": [
          "143"
        ]
      },
      "outputs": [],
      "source": [
        "magic.from_buffer('''\n",
        "#include <stdio.h>\n",
        "\n",
        "int main(int argc, char *argv[]) {\n",
        "    printf(\"Hello, world!\\n\")\n",
        "}\n",
        "''')"
      ]
    },
    {
      "cell_type": "markdown",
      "metadata": {
        "tags": [
          "144"
        ]
      },
      "source": [
        "It also works well for Python code:"
      ]
    },
    {
      "cell_type": "code",
      "execution_count": null,
      "metadata": {
        "tags": [
          "145"
        ]
      },
      "outputs": [],
      "source": [
        "magic.from_buffer('''\n",
        "def foo():\n",
        "    print(\"Hello, world!\")\n",
        "''')"
      ]
    },
    {
      "cell_type": "markdown",
      "metadata": {
        "tags": [
          "146"
        ]
      },
      "source": [
        "Jupyter Notebooks, however, are identified as `JSON` data or `SGML` documents:"
      ]
    },
    {
      "cell_type": "code",
      "execution_count": null,
      "metadata": {
        "tags": [
          "147"
        ]
      },
      "outputs": [],
      "source": [
        "magic.from_buffer(open(os.path.join(current_repo(),   # type: ignore\n",
        "                                    'notebooks',\n",
        "                                    'Assertions.ipynb')).read())"
      ]
    },
    {
      "cell_type": "markdown",
      "metadata": {
        "tags": [
          "148"
        ]
      },
      "source": [
        "We define a set of _delimiters_ for these languages which use _regular expressions_ to identify\n",
        "* the _language_ (matching the `magic` output)\n",
        "* the _beginning of a unit_, and\n",
        "* the _end_ of a unit,\n",
        "\n",
        "For Python, for instance, any line starting with `def` or `class` denotes the start of some unit; any line starting with something else denotes the end of a unit. For Jupyter, the delimiters do the same, yet encoded into JSON. The definitions for C are likely to work for a wide range of languages that all use `{` and `}` to delimit units."
      ]
    },
    {
      "cell_type": "code",
      "execution_count": null,
      "metadata": {
        "tags": [
          "149"
        ]
      },
      "outputs": [],
      "source": [
        "import re"
      ]
    },
    {
      "cell_type": "code",
      "execution_count": null,
      "metadata": {
        "tags": [
          "150"
        ]
      },
      "outputs": [],
      "source": [
        "# ignore\n",
        "from typing import Pattern"
      ]
    },
    {
      "cell_type": "code",
      "execution_count": null,
      "metadata": {
        "tags": [
          "151"
        ]
      },
      "outputs": [],
      "source": [
        "DELIMITERS: List[Tuple[Pattern, Pattern, Pattern]] = [\n",
        "    (\n",
        "        # Python\n",
        "        re.compile(r'^python.*'),\n",
        "\n",
        "        # Beginning of element\n",
        "        re.compile(r'^(async\\s+)?(def|class)\\s+(?P<name>\\w+)\\W.*'),\n",
        "\n",
        "        # End of element\n",
        "        re.compile(r'^[^#\\s]')\n",
        "    ),\n",
        "    (\n",
        "        # Jupyter Notebooks\n",
        "        re.compile(r'^(json|exported sgml|jupyter).*'),\n",
        "        re.compile(r'^\\s+\"(async\\s+)?(def|class)\\s+(?P<name>\\w+)\\W'),\n",
        "        re.compile(r'^(\\s+\"[^#\\s\\\\]|\\s+\\])')\n",
        "    ),\n",
        "    (\n",
        "        # C source code (actually, any { }-delimited language)\n",
        "        re.compile(r'^(c |c\\+\\+|c#|java|perl|php).*'),\n",
        "        re.compile(r'^[^\\s].*\\s+(?P<name>\\w+)\\s*[({].*'),\n",
        "        re.compile(r'^[}]')\n",
        "    )\n",
        "]"
      ]
    },
    {
      "cell_type": "markdown",
      "metadata": {
        "tags": [
          "152"
        ]
      },
      "source": [
        "The function `rxdelim()` returns suitable delimiters for a given content, using `DELIMITERS`."
      ]
    },
    {
      "cell_type": "code",
      "execution_count": null,
      "metadata": {
        "tags": [
          "153"
        ]
      },
      "outputs": [],
      "source": [
        "def rxdelim(content: str) -> Tuple[Optional[Pattern], Optional[Pattern]]:\n",
        "    \"\"\"\n",
        "    Return suitable begin and end delimiters for the content `content`.\n",
        "    If no matching delimiters are found, return `None, None`.\n",
        "    \"\"\"\n",
        "    tp = magic.from_buffer(content).lower()\n",
        "    for rxtp, rxbegin, rxend in DELIMITERS:\n",
        "        if rxtp.match(tp):\n",
        "            return rxbegin, rxend\n",
        "\n",
        "    return None, None"
      ]
    },
    {
      "cell_type": "markdown",
      "metadata": {
        "tags": [
          "154"
        ]
      },
      "source": [
        "The function `elem_mapping()` returns a list of the individual elements as found in the file, indexed by line numbers (starting with 1)."
      ]
    },
    {
      "cell_type": "code",
      "execution_count": null,
      "metadata": {
        "tags": [
          "155"
        ]
      },
      "outputs": [],
      "source": [
        "Mapping = List[Optional[str]]"
      ]
    },
    {
      "cell_type": "code",
      "execution_count": null,
      "metadata": {
        "tags": [
          "156"
        ]
      },
      "outputs": [],
      "source": [
        "def elem_mapping(content: str, log: bool = False) -> Mapping:\n",
        "    \"\"\"Return a list of the elements in `content`, indexed by line number.\"\"\"\n",
        "    rxbegin, rxend = rxdelim(content)\n",
        "    if rxbegin is None:\n",
        "        return []\n",
        "    if rxend is None:\n",
        "        return []\n",
        "\n",
        "    mapping: List[Optional[str]] = [None]\n",
        "    current_elem = None\n",
        "    lineno = 0\n",
        "\n",
        "    for line in content.split('\\n'):\n",
        "        lineno += 1\n",
        "\n",
        "        match = rxbegin.match(line)\n",
        "        if match:\n",
        "            current_elem = match.group('name')\n",
        "        elif rxend.match(line):\n",
        "            current_elem = None\n",
        "\n",
        "        mapping.append(current_elem)\n",
        "\n",
        "        if log:\n",
        "            print(f\"{lineno:3} {str(current_elem):15} {line}\")\n",
        "\n",
        "    return mapping"
      ]
    },
    {
      "cell_type": "markdown",
      "metadata": {
        "tags": [
          "157"
        ]
      },
      "source": [
        "Here is an example of how `elem_mapping()` works. During execution (with `log` set to `True`), we already see the elements associated with individual line numbers."
      ]
    },
    {
      "cell_type": "code",
      "execution_count": null,
      "metadata": {
        "tags": [
          "158"
        ]
      },
      "outputs": [],
      "source": [
        "some_c_source = \"\"\"\n",
        "#include <stdio.h>\n",
        "\n",
        "int foo(int x) {\n",
        "    return x;\n",
        "}\n",
        "\n",
        "struct bar {\n",
        "    int x, y;\n",
        "}\n",
        "\n",
        "int main(int argc, char *argv[]) {\n",
        "    return foo(argc);\n",
        "}\n",
        "\n",
        "\"\"\"\n",
        "some_c_mapping = elem_mapping(some_c_source, log=True)"
      ]
    },
    {
      "cell_type": "markdown",
      "metadata": {
        "tags": [
          "159"
        ]
      },
      "source": [
        "In the actual mapping, we can access the individual units for any line number:"
      ]
    },
    {
      "cell_type": "code",
      "execution_count": null,
      "metadata": {
        "tags": [
          "160"
        ]
      },
      "outputs": [],
      "source": [
        "some_c_mapping[1], some_c_mapping[8]"
      ]
    },
    {
      "cell_type": "markdown",
      "metadata": {
        "tags": [
          "161"
        ]
      },
      "source": [
        "Here's how this works for Python:"
      ]
    },
    {
      "cell_type": "code",
      "execution_count": null,
      "metadata": {
        "tags": [
          "162"
        ]
      },
      "outputs": [],
      "source": [
        "some_python_source = \"\"\"\n",
        "def foo(x):\n",
        "    return x\n",
        "\n",
        "class bar(blue):\n",
        "    x = 25\n",
        "    def f(x):\n",
        "        return 26\n",
        "\n",
        "def main(argc):\n",
        "    return foo(argc)\n",
        "\n",
        "\"\"\"\n",
        "some_python_mapping = elem_mapping(some_python_source, log=True)"
      ]
    },
    {
      "cell_type": "code",
      "execution_count": null,
      "metadata": {
        "tags": [
          "163"
        ]
      },
      "outputs": [],
      "source": [
        "# some_jupyter_source = open(\"Debugger.ipynb\").read()\n",
        "# some_jupyter_mapping = elem_mapping(some_jupyter_source, log=True)"
      ]
    },
    {
      "cell_type": "markdown",
      "metadata": {
        "tags": [
          "164"
        ]
      },
      "source": [
        "### Determining Changed Elements\n",
        "\n",
        "Using a mapping from `elem_mapping()`, we can determine which elements are affected by a change. The `changed_elems_by_mapping()` function returns the set of affected elements."
      ]
    },
    {
      "cell_type": "code",
      "execution_count": null,
      "metadata": {
        "tags": [
          "165"
        ]
      },
      "outputs": [],
      "source": [
        "def changed_elems_by_mapping(mapping: Mapping, start: int, length: int = 0) -> Set[str]:\n",
        "    \"\"\"\n",
        "    Within `mapping`, return the set of elements affected by a change\n",
        "    starting in line `start` and extending over `length` additional lines.\n",
        "    \"\"\"\n",
        "    elems = set()\n",
        "    for line in range(start, start + length + 1):\n",
        "        if line < len(mapping) and mapping[line]:\n",
        "            elem = mapping[line]\n",
        "            assert elem is not None\n",
        "            elems.add(elem)\n",
        "\n",
        "    return elems"
      ]
    },
    {
      "cell_type": "markdown",
      "metadata": {
        "tags": [
          "166"
        ]
      },
      "source": [
        "Here's an example of `changed_elems_by_mapping()`, applied to the Python content, above:"
      ]
    },
    {
      "cell_type": "code",
      "execution_count": null,
      "metadata": {
        "tags": [
          "167"
        ]
      },
      "outputs": [],
      "source": [
        "changed_elems_by_mapping(some_python_mapping, start=2, length=4)"
      ]
    },
    {
      "cell_type": "markdown",
      "metadata": {
        "tags": [
          "168"
        ]
      },
      "source": [
        "The function `elem_size()` returns the size of an element (say, a function)."
      ]
    },
    {
      "cell_type": "code",
      "execution_count": null,
      "metadata": {
        "tags": [
          "169"
        ]
      },
      "outputs": [],
      "source": [
        "def elem_size(elem: str, source: str) -> int:\n",
        "    \"\"\"Within `source`, return the size of `elem`\"\"\"\n",
        "    source_lines = [''] + source.split('\\n')\n",
        "    size = 0\n",
        "    mapping = elem_mapping(source)\n",
        "\n",
        "    for line_no in range(len(mapping)):\n",
        "        if mapping[line_no] == elem or mapping[line_no] is elem:\n",
        "            size += len(source_lines[line_no] + '\\n')\n",
        "\n",
        "    return size"
      ]
    },
    {
      "cell_type": "code",
      "execution_count": null,
      "metadata": {
        "tags": [
          "170"
        ]
      },
      "outputs": [],
      "source": [
        "elem_size('foo', some_python_source)"
      ]
    },
    {
      "cell_type": "code",
      "execution_count": null,
      "metadata": {
        "tags": [
          "171"
        ]
      },
      "outputs": [],
      "source": [
        "assert sum(elem_size(name, some_python_source) \n",
        "           for name in ['foo', 'bar', 'main']) == len(some_python_source)"
      ]
    },
    {
      "cell_type": "markdown",
      "metadata": {
        "tags": [
          "172"
        ]
      },
      "source": [
        "Given an old version and a new version of a (text) file, we can use the `diff_match_patch` module to determine differences, and from these the affected lines:"
      ]
    },
    {
      "cell_type": "code",
      "execution_count": null,
      "metadata": {
        "tags": [
          "173"
        ]
      },
      "outputs": [],
      "source": [
        "from ChangeDebugger import diff  # minor dependency"
      ]
    },
    {
      "cell_type": "code",
      "execution_count": null,
      "metadata": {
        "tags": [
          "174"
        ]
      },
      "outputs": [],
      "source": [
        "from diff_match_patch import diff_match_patch"
      ]
    },
    {
      "cell_type": "code",
      "execution_count": null,
      "metadata": {
        "tags": [
          "175"
        ]
      },
      "outputs": [],
      "source": [
        "def changed_elems(old_source: str, new_source: str) -> Set[str]:\n",
        "    \"\"\"Determine the elements affected by the change from `old_source` to `new_source`\"\"\"\n",
        "    patches = diff(old_source, new_source)\n",
        "\n",
        "    old_mapping = elem_mapping(old_source)\n",
        "    new_mapping = elem_mapping(new_source)\n",
        "\n",
        "    elems = set()\n",
        "\n",
        "    for patch in patches:\n",
        "        old_start_line = patch.start1 + 1\n",
        "        new_start_line = patch.start2 + 1\n",
        "\n",
        "        for (op, data) in patch.diffs:\n",
        "            length = data.count('\\n')\n",
        "\n",
        "            if op == diff_match_patch.DIFF_INSERT:\n",
        "                elems |= changed_elems_by_mapping(old_mapping, old_start_line)\n",
        "                elems |= changed_elems_by_mapping(new_mapping, new_start_line, length)\n",
        "            elif op == diff_match_patch.DIFF_DELETE:\n",
        "                elems |= changed_elems_by_mapping(old_mapping, old_start_line, length)\n",
        "                elems |= changed_elems_by_mapping(new_mapping, new_start_line)\n",
        "\n",
        "            old_start_line += length\n",
        "            new_start_line += length\n",
        "\n",
        "    return elems"
      ]
    },
    {
      "cell_type": "markdown",
      "metadata": {
        "tags": [
          "176"
        ]
      },
      "source": [
        "Here is how `changed_elems()` works. We define a \"new\" version of `some_python_source`:"
      ]
    },
    {
      "cell_type": "code",
      "execution_count": null,
      "metadata": {
        "tags": [
          "177"
        ]
      },
      "outputs": [],
      "source": [
        "some_new_python_source = \"\"\"\n",
        "def foo(y):\n",
        "    return y\n",
        "\n",
        "class qux(blue):\n",
        "    x = 25\n",
        "    def f(x):\n",
        "        return 26\n",
        "\n",
        "def main(argc):\n",
        "    return foo(argc)\n",
        "\n",
        "\"\"\""
      ]
    },
    {
      "cell_type": "code",
      "execution_count": null,
      "metadata": {
        "tags": [
          "178"
        ]
      },
      "outputs": [],
      "source": [
        "changed_elems(some_python_source, some_new_python_source)"
      ]
    },
    {
      "cell_type": "markdown",
      "metadata": {
        "tags": [
          "179"
        ]
      },
      "source": [
        "Note that the list of changed elements includes added as well as deleted elements."
      ]
    },
    {
      "cell_type": "markdown",
      "metadata": {
        "tags": [
          "180"
        ]
      },
      "source": [
        "### Putting it all Together\n",
        "\n",
        "We introduce a class `FineChangeCounter` that, like `ChangeCounter`, counts changes for individual files; however, `FineChangeCounter` adds additional nodes for all elements affected by the change. For a file consisting of multiple elements, this has the same effect as if the file were a directory, and the elements were all contained as individual files in this directory."
      ]
    },
    {
      "cell_type": "code",
      "execution_count": null,
      "metadata": {
        "tags": [
          "181"
        ]
      },
      "outputs": [],
      "source": [
        "class FineChangeCounter(ChangeCounter):\n",
        "    \"\"\"Count the changes for files in the repository and their elements\"\"\"\n",
        "\n",
        "    def update_elems(self, node: Node, m: ModifiedFile) -> None:\n",
        "        old_source = m.content_before if m.content_before else bytes()\n",
        "        new_source = m.content if m.content else bytes()\n",
        "\n",
        "        # Content comes as bytes instead of strings\n",
        "        # Let's convert this in a conservative way\n",
        "        if not isinstance(old_source, str):\n",
        "            old_source = str(old_source, 'latin1')\n",
        "        if not isinstance(new_source, str):\n",
        "            new_source = str(new_source, 'latin1')\n",
        "\n",
        "        changed = changed_elems(old_source, new_source)\n",
        "        for elem in changed:\n",
        "            elem_node = node + (elem,)\n",
        "\n",
        "            self.update_size(elem_node, elem_size(elem, new_source))\n",
        "            self.update_changes(elem_node, m.msg)"
      ]
    },
    {
      "cell_type": "markdown",
      "metadata": {
        "tags": [
          "182"
        ]
      },
      "source": [
        "Retrieving fine-grained changes takes a bit more time, since all files have to be parsed..."
      ]
    },
    {
      "cell_type": "code",
      "execution_count": null,
      "metadata": {
        "tags": [
          "183"
        ]
      },
      "outputs": [],
      "source": [
        "with Timer() as t:\n",
        "    fine_change_counter = debuggingbook_change_counter(FineChangeCounter)\n",
        "\n",
        "t.elapsed_time()"
      ]
    },
    {
      "cell_type": "markdown",
      "metadata": {
        "tags": [
          "184"
        ]
      },
      "source": [
        "... but the result is very much worth it. We can now zoom into individual files and compare the change counts for the individual functions."
      ]
    },
    {
      "cell_type": "code",
      "execution_count": null,
      "metadata": {
        "tags": [
          "185"
        ]
      },
      "outputs": [],
      "source": [
        "fine_change_counter.map()"
      ]
    },
    {
      "cell_type": "markdown",
      "metadata": {
        "tags": [
          "186"
        ]
      },
      "source": [
        "Like before, we can access the most frequently changed elements, This is the most frequently changed item in the book:"
      ]
    },
    {
      "cell_type": "code",
      "execution_count": null,
      "metadata": {
        "tags": [
          "187"
        ]
      },
      "outputs": [],
      "source": [
        "elem_nodes = [node for node in fine_change_counter.changes.keys()\n",
        "              if len(node) == 3 and node[1].endswith('.ipynb')]\n",
        "elem_nodes.sort(key=lambda node: fine_change_counter.changes[node],\n",
        "                reverse=True)\n",
        "[(node, fine_change_counter.changes[node]) for node in elem_nodes[:1]]"
      ]
    },
    {
      "cell_type": "code",
      "execution_count": null,
      "metadata": {
        "tags": [
          "188"
        ]
      },
      "outputs": [],
      "source": [
        "from bookutils import quiz"
      ]
    },
    {
      "cell_type": "code",
      "execution_count": null,
      "metadata": {
        "tags": [
          "189"
        ]
      },
      "outputs": [],
      "source": [
        "quiz(\"Which is the _second_ most changed element?\",\n",
        "     [\n",
        "        f\"`{elem_nodes[i][2]}` in `{elem_nodes[i][1].split('.ipynb')[0]}`\"\n",
        "        for i in [3, 1, 2, 0]\n",
        "        if i < len(elem_nodes)\n",
        "     ], '1975308642 // 987654321')"
      ]
    },
    {
      "cell_type": "markdown",
      "metadata": {
        "tags": [
          "190"
        ]
      },
      "source": [
        "Indeed, here come the top five most frequently changed elements:"
      ]
    },
    {
      "cell_type": "code",
      "execution_count": null,
      "metadata": {
        "tags": [
          "191"
        ]
      },
      "outputs": [],
      "source": [
        "[(node, fine_change_counter.changes[node]) for node in elem_nodes[:5]]"
      ]
    },
    {
      "attachments": {},
      "cell_type": "markdown",
      "metadata": {
        "tags": [
          "192"
        ]
      },
      "source": [
        "Now it is time to apply these tools on your own projects. Which are the most frequently changed (and fixed) elements? Why is that so? What can you do to improve things? All these are consequences of debugging \u2013\u00a0to help have fewer bugs in the future!"
      ]
    },
    {
      "cell_type": "markdown",
      "metadata": {
        "tags": [
          "193"
        ]
      },
      "source": [
        "## Synopsis"
      ]
    },
    {
      "cell_type": "markdown",
      "metadata": {
        "tags": [
          "194"
        ]
      },
      "source": [
        "This chapter provides two classes `ChangeCounter` and `FineChangeCounter` that allow mining and visualizing the distribution of changes in a given `git` repository."
      ]
    },
    {
      "cell_type": "markdown",
      "metadata": {
        "tags": [
          "195"
        ]
      },
      "source": [
        "`ChangeCounter` is initialized as\n",
        "\n",
        "```python\n",
        "change_counter = ChangeCounter(repository)\n",
        "```\n",
        "where `repository` is either \n",
        "\n",
        "* a _directory_ containing a `git` clone (i.e., it contains a `.git` directory)\n",
        "* the URL of a `git` repository.\n",
        "\n",
        "Additional arguments are being passed to the underlying `Repository` class from the [PyDriller](https://pydriller.readthedocs.io/) Python package. A `filter` keyword argument, if given, is a predicate that takes a modification (from PyDriller) and returns True if it should be included."
      ]
    },
    {
      "cell_type": "markdown",
      "metadata": {
        "tags": [
          "196"
        ]
      },
      "source": [
        "In a change counter, all elements in the repository are represented as _nodes_ \u2013 tuples $(f_1, f_2, ..., f_n)$ that denote a _hierarchy_: Each $f_i$ is a directory holding $f_{i+1}$, with $f_n$ being the actual file.\n",
        "\n",
        "A `change_counter` provides a number of attributes. `changes` is a mapping of nodes to the number of changes in that node:"
      ]
    },
    {
      "cell_type": "code",
      "execution_count": null,
      "metadata": {
        "tags": [
          "197"
        ]
      },
      "outputs": [],
      "source": [
        "change_counter.changes.get(('README.md',), None)"
      ]
    },
    {
      "cell_type": "markdown",
      "metadata": {
        "tags": [
          "198"
        ]
      },
      "source": [
        "The `messages` attribute holds all commit messages related to that node:"
      ]
    },
    {
      "cell_type": "code",
      "execution_count": null,
      "metadata": {
        "tags": [
          "199"
        ]
      },
      "outputs": [],
      "source": [
        "change_counter.messages.get(('README.md',), None)"
      ]
    },
    {
      "cell_type": "markdown",
      "metadata": {
        "tags": [
          "200"
        ]
      },
      "source": [
        "The `sizes` attribute holds the (last) size of the respective element:"
      ]
    },
    {
      "cell_type": "code",
      "execution_count": null,
      "metadata": {
        "tags": [
          "201"
        ]
      },
      "outputs": [],
      "source": [
        "change_counter.sizes.get(('README.md',), None)"
      ]
    },
    {
      "cell_type": "markdown",
      "metadata": {
        "tags": [
          "202"
        ]
      },
      "source": [
        "`FineChangeCounter` acts like `ChangeCounter`, but also retrieves statistics for elements _within_ the respective files; it has been tested for C, Python, and Jupyter Notebooks and should provide sufficient results for programming languages with similar syntax."
      ]
    },
    {
      "cell_type": "markdown",
      "metadata": {
        "tags": [
          "203"
        ]
      },
      "source": [
        "The `map()` method of `ChangeCounter` and `FineChangeCounter` produces an interactive tree map that allows exploring the elements of a repository. The redder (darker) a rectangle, the more changes it has seen; the larger a rectangle, the larger its size in bytes."
      ]
    },
    {
      "cell_type": "code",
      "execution_count": null,
      "metadata": {
        "tags": [
          "204"
        ]
      },
      "outputs": [],
      "source": [
        "fine_change_counter.map()"
      ]
    },
    {
      "cell_type": "markdown",
      "metadata": {
        "tags": [
          "205"
        ]
      },
      "source": [
        "The included classes offer several methods that can be overridden in subclasses to customize what to mine and how to visualize it. See the chapter for details."
      ]
    },
    {
      "cell_type": "markdown",
      "metadata": {
        "tags": [
          "206"
        ]
      },
      "source": [
        "Here are all the classes defined in this chapter:"
      ]
    },
    {
      "cell_type": "code",
      "execution_count": null,
      "metadata": {
        "tags": [
          "207"
        ]
      },
      "outputs": [],
      "source": [
        "# ignore\n",
        "from ClassDiagram import display_class_hierarchy"
      ]
    },
    {
      "cell_type": "code",
      "execution_count": null,
      "metadata": {
        "tags": [
          "208"
        ]
      },
      "outputs": [],
      "source": [
        "# ignore\n",
        "display_class_hierarchy([FineChangeCounter, FixCounter],\n",
        "                        public_methods=[\n",
        "                            ChangeCounter.__init__,\n",
        "                            ChangeCounter.map\n",
        "                        ],\n",
        "                        project='debuggingbook')"
      ]
    },
    {
      "cell_type": "markdown",
      "metadata": {
        "button": false,
        "new_sheet": true,
        "run_control": {
          "read_only": false
        },
        "tags": [
          "209"
        ]
      },
      "source": [
        "## Lessons Learned\n",
        "\n",
        "* We can easily _mine_ past changes and map these to individual files and elements\n",
        "* This information can be helpful in guiding the debugging and development process\n",
        "* Counting _fixes_ needs to be customized to the conventions used in the project at hand"
      ]
    },
    {
      "cell_type": "markdown",
      "metadata": {
        "tags": [
          "210"
        ]
      },
      "source": [
        "## Background\n",
        "\n",
        "Before you venture out building your own development analytics, you may want to check out what's already there and available. This [overview at Livable Software](https://livablesoftware.com/tools-mine-analyze-github-git-software-data/) gives a great overview of platforms and tools for mining development data. One of the most ambitious ones is [GrimoireLab](https://chaoss.github.io/grimoirelab/), set to mine data from pretty much _any_ open source repository."
      ]
    },
    {
      "cell_type": "markdown",
      "metadata": {
        "button": false,
        "new_sheet": true,
        "run_control": {
          "read_only": false
        },
        "tags": [
          "211"
        ]
      },
      "source": [
        "## Exercises\n"
      ]
    },
    {
      "cell_type": "markdown",
      "metadata": {
        "button": false,
        "new_sheet": false,
        "run_control": {
          "read_only": false
        },
        "solution": "hidden",
        "solution2": "hidden",
        "solution2_first": true,
        "solution_first": true,
        "tags": [
          "212"
        ]
      },
      "source": [
        "### Exercise 1: Fine-Grained Fixes\n",
        "\n",
        "Construct a class `FineFixCounter` that combines fine-grained counting from `FineChangeCounter` with the fix-counting abilities from `FixCounter`. Visualize the treemap."
      ]
    },
    {
      "cell_type": "markdown",
      "metadata": {
        "button": false,
        "new_sheet": false,
        "run_control": {
          "read_only": false
        },
        "slideshow": {
          "slide_type": "skip"
        },
        "solution": "hidden",
        "solution2": "hidden",
        "tags": [
          "213"
        ]
      },
      "source": [
        "**Solution.** We can use multiple inheritance to combine both. We inherit from `FixCounter` first such that we can see the fix messages."
      ]
    },
    {
      "cell_type": "code",
      "execution_count": null,
      "metadata": {
        "slideshow": {
          "slide_type": "skip"
        },
        "solution2": "hidden",
        "tags": [
          "214"
        ]
      },
      "outputs": [],
      "source": [
        "class FineFixCounter(FixCounter, FineChangeCounter):\n",
        "    pass"
      ]
    },
    {
      "cell_type": "markdown",
      "metadata": {
        "slideshow": {
          "slide_type": "skip"
        },
        "solution2": "hidden",
        "tags": [
          "215"
        ]
      },
      "source": [
        "Try things out for yourself:"
      ]
    },
    {
      "cell_type": "code",
      "execution_count": null,
      "metadata": {
        "slideshow": {
          "slide_type": "skip"
        },
        "solution2": "hidden",
        "tags": [
          "216"
        ]
      },
      "outputs": [],
      "source": [
        "# fine_fix_counter = debuggingbook_change_counter(FineFixCounter, start_date=datetime(1999, 1, 1))\n",
        "# fine_fix_counter.map()"
      ]
    }
  ],
  "metadata": {
    "ipub": {
      "bibliography": "fuzzingbook.bib",
      "toc": true
    },
    "kernelspec": {
      "display_name": "venv",
      "language": "python",
      "name": "python3"
    },
    "language_info": {
      "codemirror_mode": {
        "name": "ipython",
        "version": 3
      },
      "file_extension": ".py",
      "mimetype": "text/x-python",
      "name": "python",
      "nbconvert_exporter": "python",
      "pygments_lexer": "ipython3",
      "version": "3.9.10 (main, Jan 15 2022, 11:48:04) \n[Clang 13.0.0 (clang-1300.0.29.3)]"
    },
    "toc": {
      "base_numbering": 1,
      "nav_menu": {},
      "number_sections": true,
      "sideBar": true,
      "skip_h1_title": true,
      "title_cell": "",
      "title_sidebar": "Contents",
      "toc_cell": false,
      "toc_position": {},
      "toc_section_display": true,
      "toc_window_display": true
    },
    "toc-autonumbering": false,
    "vscode": {
      "interpreter": {
        "hash": "0af4f07dd039d1b4e562c7a7d0340393b1c66f50605ac6af30beb81aa23b7ef5"
      }
    }
  },
  "nbformat": 4,
  "nbformat_minor": 4
}